{
  "nbformat": 4,
  "nbformat_minor": 0,
  "metadata": {
    "colab": {
      "provenance": [],
      "include_colab_link": true
    },
    "kernelspec": {
      "name": "python3",
      "display_name": "Python 3"
    },
    "language_info": {
      "name": "python"
    }
  },
  "cells": [
    {
      "cell_type": "markdown",
      "metadata": {
        "id": "view-in-github",
        "colab_type": "text"
      },
      "source": [
        "<a href=\"https://colab.research.google.com/github/tiarayosianti/Decision-Tree-Random-Forest/blob/main/Decision_Tree_Random_Forest.ipynb\" target=\"_parent\"><img src=\"https://colab.research.google.com/assets/colab-badge.svg\" alt=\"Open In Colab\"/></a>"
      ]
    },
    {
      "cell_type": "code",
      "source": [
        "!pip install shap"
      ],
      "metadata": {
        "colab": {
          "base_uri": "https://localhost:8080/"
        },
        "id": "wg37OPAOn7Po",
        "outputId": "d5816670-b875-45be-abbc-3bd1a64963fc"
      },
      "execution_count": null,
      "outputs": [
        {
          "output_type": "stream",
          "name": "stdout",
          "text": [
            "Collecting shap\n",
            "  Downloading shap-0.40.0-cp37-cp37m-manylinux2010_x86_64.whl (564 kB)\n",
            "\u001b[?25l\r\u001b[K     |▋                               | 10 kB 33.9 MB/s eta 0:00:01\r\u001b[K     |█▏                              | 20 kB 35.2 MB/s eta 0:00:01\r\u001b[K     |█▊                              | 30 kB 40.4 MB/s eta 0:00:01\r\u001b[K     |██▎                             | 40 kB 27.4 MB/s eta 0:00:01\r\u001b[K     |███                             | 51 kB 29.9 MB/s eta 0:00:01\r\u001b[K     |███▌                            | 61 kB 34.0 MB/s eta 0:00:01\r\u001b[K     |████                            | 71 kB 25.1 MB/s eta 0:00:01\r\u001b[K     |████▋                           | 81 kB 26.7 MB/s eta 0:00:01\r\u001b[K     |█████▏                          | 92 kB 29.0 MB/s eta 0:00:01\r\u001b[K     |█████▉                          | 102 kB 26.3 MB/s eta 0:00:01\r\u001b[K     |██████▍                         | 112 kB 26.3 MB/s eta 0:00:01\r\u001b[K     |███████                         | 122 kB 26.3 MB/s eta 0:00:01\r\u001b[K     |███████▌                        | 133 kB 26.3 MB/s eta 0:00:01\r\u001b[K     |████████▏                       | 143 kB 26.3 MB/s eta 0:00:01\r\u001b[K     |████████▊                       | 153 kB 26.3 MB/s eta 0:00:01\r\u001b[K     |█████████▎                      | 163 kB 26.3 MB/s eta 0:00:01\r\u001b[K     |█████████▉                      | 174 kB 26.3 MB/s eta 0:00:01\r\u001b[K     |██████████▍                     | 184 kB 26.3 MB/s eta 0:00:01\r\u001b[K     |███████████                     | 194 kB 26.3 MB/s eta 0:00:01\r\u001b[K     |███████████▋                    | 204 kB 26.3 MB/s eta 0:00:01\r\u001b[K     |████████████▏                   | 215 kB 26.3 MB/s eta 0:00:01\r\u001b[K     |████████████▊                   | 225 kB 26.3 MB/s eta 0:00:01\r\u001b[K     |█████████████▍                  | 235 kB 26.3 MB/s eta 0:00:01\r\u001b[K     |██████████████                  | 245 kB 26.3 MB/s eta 0:00:01\r\u001b[K     |██████████████▌                 | 256 kB 26.3 MB/s eta 0:00:01\r\u001b[K     |███████████████                 | 266 kB 26.3 MB/s eta 0:00:01\r\u001b[K     |███████████████▋                | 276 kB 26.3 MB/s eta 0:00:01\r\u001b[K     |████████████████▎               | 286 kB 26.3 MB/s eta 0:00:01\r\u001b[K     |████████████████▉               | 296 kB 26.3 MB/s eta 0:00:01\r\u001b[K     |█████████████████▍              | 307 kB 26.3 MB/s eta 0:00:01\r\u001b[K     |██████████████████              | 317 kB 26.3 MB/s eta 0:00:01\r\u001b[K     |██████████████████▋             | 327 kB 26.3 MB/s eta 0:00:01\r\u001b[K     |███████████████████▏            | 337 kB 26.3 MB/s eta 0:00:01\r\u001b[K     |███████████████████▊            | 348 kB 26.3 MB/s eta 0:00:01\r\u001b[K     |████████████████████▎           | 358 kB 26.3 MB/s eta 0:00:01\r\u001b[K     |████████████████████▉           | 368 kB 26.3 MB/s eta 0:00:01\r\u001b[K     |█████████████████████▌          | 378 kB 26.3 MB/s eta 0:00:01\r\u001b[K     |██████████████████████          | 389 kB 26.3 MB/s eta 0:00:01\r\u001b[K     |██████████████████████▋         | 399 kB 26.3 MB/s eta 0:00:01\r\u001b[K     |███████████████████████▏        | 409 kB 26.3 MB/s eta 0:00:01\r\u001b[K     |███████████████████████▉        | 419 kB 26.3 MB/s eta 0:00:01\r\u001b[K     |████████████████████████▍       | 430 kB 26.3 MB/s eta 0:00:01\r\u001b[K     |█████████████████████████       | 440 kB 26.3 MB/s eta 0:00:01\r\u001b[K     |█████████████████████████▌      | 450 kB 26.3 MB/s eta 0:00:01\r\u001b[K     |██████████████████████████      | 460 kB 26.3 MB/s eta 0:00:01\r\u001b[K     |██████████████████████████▊     | 471 kB 26.3 MB/s eta 0:00:01\r\u001b[K     |███████████████████████████▎    | 481 kB 26.3 MB/s eta 0:00:01\r\u001b[K     |███████████████████████████▉    | 491 kB 26.3 MB/s eta 0:00:01\r\u001b[K     |████████████████████████████▍   | 501 kB 26.3 MB/s eta 0:00:01\r\u001b[K     |█████████████████████████████   | 512 kB 26.3 MB/s eta 0:00:01\r\u001b[K     |█████████████████████████████▋  | 522 kB 26.3 MB/s eta 0:00:01\r\u001b[K     |██████████████████████████████▏ | 532 kB 26.3 MB/s eta 0:00:01\r\u001b[K     |██████████████████████████████▊ | 542 kB 26.3 MB/s eta 0:00:01\r\u001b[K     |███████████████████████████████▎| 552 kB 26.3 MB/s eta 0:00:01\r\u001b[K     |████████████████████████████████| 563 kB 26.3 MB/s eta 0:00:01\r\u001b[K     |████████████████████████████████| 564 kB 26.3 MB/s \n",
            "\u001b[?25hCollecting slicer==0.0.7\n",
            "  Downloading slicer-0.0.7-py3-none-any.whl (14 kB)\n",
            "Requirement already satisfied: cloudpickle in /usr/local/lib/python3.7/dist-packages (from shap) (1.3.0)\n",
            "Requirement already satisfied: scikit-learn in /usr/local/lib/python3.7/dist-packages (from shap) (1.0.2)\n",
            "Requirement already satisfied: pandas in /usr/local/lib/python3.7/dist-packages (from shap) (1.3.5)\n",
            "Requirement already satisfied: numpy in /usr/local/lib/python3.7/dist-packages (from shap) (1.21.6)\n",
            "Requirement already satisfied: packaging>20.9 in /usr/local/lib/python3.7/dist-packages (from shap) (21.3)\n",
            "Requirement already satisfied: tqdm>4.25.0 in /usr/local/lib/python3.7/dist-packages (from shap) (4.64.0)\n",
            "Requirement already satisfied: numba in /usr/local/lib/python3.7/dist-packages (from shap) (0.51.2)\n",
            "Requirement already satisfied: scipy in /usr/local/lib/python3.7/dist-packages (from shap) (1.4.1)\n",
            "Requirement already satisfied: pyparsing!=3.0.5,>=2.0.2 in /usr/local/lib/python3.7/dist-packages (from packaging>20.9->shap) (3.0.9)\n",
            "Requirement already satisfied: llvmlite<0.35,>=0.34.0.dev0 in /usr/local/lib/python3.7/dist-packages (from numba->shap) (0.34.0)\n",
            "Requirement already satisfied: setuptools in /usr/local/lib/python3.7/dist-packages (from numba->shap) (57.4.0)\n",
            "Requirement already satisfied: python-dateutil>=2.7.3 in /usr/local/lib/python3.7/dist-packages (from pandas->shap) (2.8.2)\n",
            "Requirement already satisfied: pytz>=2017.3 in /usr/local/lib/python3.7/dist-packages (from pandas->shap) (2022.1)\n",
            "Requirement already satisfied: six>=1.5 in /usr/local/lib/python3.7/dist-packages (from python-dateutil>=2.7.3->pandas->shap) (1.15.0)\n",
            "Requirement already satisfied: threadpoolctl>=2.0.0 in /usr/local/lib/python3.7/dist-packages (from scikit-learn->shap) (3.1.0)\n",
            "Requirement already satisfied: joblib>=0.11 in /usr/local/lib/python3.7/dist-packages (from scikit-learn->shap) (1.1.0)\n",
            "Installing collected packages: slicer, shap\n",
            "Successfully installed shap-0.40.0 slicer-0.0.7\n"
          ]
        }
      ]
    },
    {
      "cell_type": "markdown",
      "source": [
        "# Data Importing"
      ],
      "metadata": {
        "id": "z2lscrZCkUaa"
      }
    },
    {
      "cell_type": "code",
      "execution_count": null,
      "metadata": {
        "id": "MEkTes08Rbe8"
      },
      "outputs": [],
      "source": [
        "import numpy as np\n",
        "import pandas as pd\n",
        "import matplotlib.pyplot as plt\n",
        "import seaborn as sns\n",
        "\n",
        "from sklearn.metrics import confusion_matrix, classification_report\n",
        "from sklearn.model_selection import train_test_split\n",
        "from sklearn.model_selection import cross_val_score\n",
        "from sklearn.model_selection import StratifiedKFold\n",
        "\n",
        "import shap"
      ]
    },
    {
      "cell_type": "code",
      "source": [
        "from google.colab import drive\n",
        "drive.mount('/content/drive')"
      ],
      "metadata": {
        "colab": {
          "base_uri": "https://localhost:8080/"
        },
        "id": "ZTYAW4PFBHGl",
        "outputId": "daa77c73-5e35-4a95-f81a-5e8bfb9193f4"
      },
      "execution_count": null,
      "outputs": [
        {
          "output_type": "stream",
          "name": "stdout",
          "text": [
            "Mounted at /content/drive\n"
          ]
        }
      ]
    },
    {
      "cell_type": "code",
      "source": [
        "bank = pd.read_csv(\"/content/drive/MyDrive/bank-additional.csv\")"
      ],
      "metadata": {
        "id": "1_EM6sgrCWVg"
      },
      "execution_count": null,
      "outputs": []
    },
    {
      "cell_type": "code",
      "source": [
        "bank.head()"
      ],
      "metadata": {
        "colab": {
          "base_uri": "https://localhost:8080/",
          "height": 299
        },
        "id": "g4OnNVmTC4IY",
        "outputId": "1fc2f094-ba76-4088-d9df-ef9955bc5c4d"
      },
      "execution_count": null,
      "outputs": [
        {
          "output_type": "execute_result",
          "data": {
            "text/plain": [
              "   age        job  marital    education  default housing loan    contact  \\\n",
              "0   56  housemaid  married     basic.4y       no      no   no  telephone   \n",
              "1   57   services  married  high.school  unknown      no   no  telephone   \n",
              "2   37   services  married  high.school       no     yes   no  telephone   \n",
              "3   40     admin.  married     basic.6y       no      no   no  telephone   \n",
              "4   56   services  married  high.school       no      no  yes  telephone   \n",
              "\n",
              "  month day_of_week  ...  campaign  pdays  previous     poutcome emp.var.rate  \\\n",
              "0   may         mon  ...         1    999         0  nonexistent          1.1   \n",
              "1   may         mon  ...         1    999         0  nonexistent          1.1   \n",
              "2   may         mon  ...         1    999         0  nonexistent          1.1   \n",
              "3   may         mon  ...         1    999         0  nonexistent          1.1   \n",
              "4   may         mon  ...         1    999         0  nonexistent          1.1   \n",
              "\n",
              "   cons.price.idx  cons.conf.idx  euribor3m  nr.employed   y  \n",
              "0          93.994          -36.4      4.857       5191.0  no  \n",
              "1          93.994          -36.4      4.857       5191.0  no  \n",
              "2          93.994          -36.4      4.857       5191.0  no  \n",
              "3          93.994          -36.4      4.857       5191.0  no  \n",
              "4          93.994          -36.4      4.857       5191.0  no  \n",
              "\n",
              "[5 rows x 21 columns]"
            ],
            "text/html": [
              "\n",
              "  <div id=\"df-489ef5d2-1595-4283-b3d0-9d3fc601071d\">\n",
              "    <div class=\"colab-df-container\">\n",
              "      <div>\n",
              "<style scoped>\n",
              "    .dataframe tbody tr th:only-of-type {\n",
              "        vertical-align: middle;\n",
              "    }\n",
              "\n",
              "    .dataframe tbody tr th {\n",
              "        vertical-align: top;\n",
              "    }\n",
              "\n",
              "    .dataframe thead th {\n",
              "        text-align: right;\n",
              "    }\n",
              "</style>\n",
              "<table border=\"1\" class=\"dataframe\">\n",
              "  <thead>\n",
              "    <tr style=\"text-align: right;\">\n",
              "      <th></th>\n",
              "      <th>age</th>\n",
              "      <th>job</th>\n",
              "      <th>marital</th>\n",
              "      <th>education</th>\n",
              "      <th>default</th>\n",
              "      <th>housing</th>\n",
              "      <th>loan</th>\n",
              "      <th>contact</th>\n",
              "      <th>month</th>\n",
              "      <th>day_of_week</th>\n",
              "      <th>...</th>\n",
              "      <th>campaign</th>\n",
              "      <th>pdays</th>\n",
              "      <th>previous</th>\n",
              "      <th>poutcome</th>\n",
              "      <th>emp.var.rate</th>\n",
              "      <th>cons.price.idx</th>\n",
              "      <th>cons.conf.idx</th>\n",
              "      <th>euribor3m</th>\n",
              "      <th>nr.employed</th>\n",
              "      <th>y</th>\n",
              "    </tr>\n",
              "  </thead>\n",
              "  <tbody>\n",
              "    <tr>\n",
              "      <th>0</th>\n",
              "      <td>56</td>\n",
              "      <td>housemaid</td>\n",
              "      <td>married</td>\n",
              "      <td>basic.4y</td>\n",
              "      <td>no</td>\n",
              "      <td>no</td>\n",
              "      <td>no</td>\n",
              "      <td>telephone</td>\n",
              "      <td>may</td>\n",
              "      <td>mon</td>\n",
              "      <td>...</td>\n",
              "      <td>1</td>\n",
              "      <td>999</td>\n",
              "      <td>0</td>\n",
              "      <td>nonexistent</td>\n",
              "      <td>1.1</td>\n",
              "      <td>93.994</td>\n",
              "      <td>-36.4</td>\n",
              "      <td>4.857</td>\n",
              "      <td>5191.0</td>\n",
              "      <td>no</td>\n",
              "    </tr>\n",
              "    <tr>\n",
              "      <th>1</th>\n",
              "      <td>57</td>\n",
              "      <td>services</td>\n",
              "      <td>married</td>\n",
              "      <td>high.school</td>\n",
              "      <td>unknown</td>\n",
              "      <td>no</td>\n",
              "      <td>no</td>\n",
              "      <td>telephone</td>\n",
              "      <td>may</td>\n",
              "      <td>mon</td>\n",
              "      <td>...</td>\n",
              "      <td>1</td>\n",
              "      <td>999</td>\n",
              "      <td>0</td>\n",
              "      <td>nonexistent</td>\n",
              "      <td>1.1</td>\n",
              "      <td>93.994</td>\n",
              "      <td>-36.4</td>\n",
              "      <td>4.857</td>\n",
              "      <td>5191.0</td>\n",
              "      <td>no</td>\n",
              "    </tr>\n",
              "    <tr>\n",
              "      <th>2</th>\n",
              "      <td>37</td>\n",
              "      <td>services</td>\n",
              "      <td>married</td>\n",
              "      <td>high.school</td>\n",
              "      <td>no</td>\n",
              "      <td>yes</td>\n",
              "      <td>no</td>\n",
              "      <td>telephone</td>\n",
              "      <td>may</td>\n",
              "      <td>mon</td>\n",
              "      <td>...</td>\n",
              "      <td>1</td>\n",
              "      <td>999</td>\n",
              "      <td>0</td>\n",
              "      <td>nonexistent</td>\n",
              "      <td>1.1</td>\n",
              "      <td>93.994</td>\n",
              "      <td>-36.4</td>\n",
              "      <td>4.857</td>\n",
              "      <td>5191.0</td>\n",
              "      <td>no</td>\n",
              "    </tr>\n",
              "    <tr>\n",
              "      <th>3</th>\n",
              "      <td>40</td>\n",
              "      <td>admin.</td>\n",
              "      <td>married</td>\n",
              "      <td>basic.6y</td>\n",
              "      <td>no</td>\n",
              "      <td>no</td>\n",
              "      <td>no</td>\n",
              "      <td>telephone</td>\n",
              "      <td>may</td>\n",
              "      <td>mon</td>\n",
              "      <td>...</td>\n",
              "      <td>1</td>\n",
              "      <td>999</td>\n",
              "      <td>0</td>\n",
              "      <td>nonexistent</td>\n",
              "      <td>1.1</td>\n",
              "      <td>93.994</td>\n",
              "      <td>-36.4</td>\n",
              "      <td>4.857</td>\n",
              "      <td>5191.0</td>\n",
              "      <td>no</td>\n",
              "    </tr>\n",
              "    <tr>\n",
              "      <th>4</th>\n",
              "      <td>56</td>\n",
              "      <td>services</td>\n",
              "      <td>married</td>\n",
              "      <td>high.school</td>\n",
              "      <td>no</td>\n",
              "      <td>no</td>\n",
              "      <td>yes</td>\n",
              "      <td>telephone</td>\n",
              "      <td>may</td>\n",
              "      <td>mon</td>\n",
              "      <td>...</td>\n",
              "      <td>1</td>\n",
              "      <td>999</td>\n",
              "      <td>0</td>\n",
              "      <td>nonexistent</td>\n",
              "      <td>1.1</td>\n",
              "      <td>93.994</td>\n",
              "      <td>-36.4</td>\n",
              "      <td>4.857</td>\n",
              "      <td>5191.0</td>\n",
              "      <td>no</td>\n",
              "    </tr>\n",
              "  </tbody>\n",
              "</table>\n",
              "<p>5 rows × 21 columns</p>\n",
              "</div>\n",
              "      <button class=\"colab-df-convert\" onclick=\"convertToInteractive('df-489ef5d2-1595-4283-b3d0-9d3fc601071d')\"\n",
              "              title=\"Convert this dataframe to an interactive table.\"\n",
              "              style=\"display:none;\">\n",
              "        \n",
              "  <svg xmlns=\"http://www.w3.org/2000/svg\" height=\"24px\"viewBox=\"0 0 24 24\"\n",
              "       width=\"24px\">\n",
              "    <path d=\"M0 0h24v24H0V0z\" fill=\"none\"/>\n",
              "    <path d=\"M18.56 5.44l.94 2.06.94-2.06 2.06-.94-2.06-.94-.94-2.06-.94 2.06-2.06.94zm-11 1L8.5 8.5l.94-2.06 2.06-.94-2.06-.94L8.5 2.5l-.94 2.06-2.06.94zm10 10l.94 2.06.94-2.06 2.06-.94-2.06-.94-.94-2.06-.94 2.06-2.06.94z\"/><path d=\"M17.41 7.96l-1.37-1.37c-.4-.4-.92-.59-1.43-.59-.52 0-1.04.2-1.43.59L10.3 9.45l-7.72 7.72c-.78.78-.78 2.05 0 2.83L4 21.41c.39.39.9.59 1.41.59.51 0 1.02-.2 1.41-.59l7.78-7.78 2.81-2.81c.8-.78.8-2.07 0-2.86zM5.41 20L4 18.59l7.72-7.72 1.47 1.35L5.41 20z\"/>\n",
              "  </svg>\n",
              "      </button>\n",
              "      \n",
              "  <style>\n",
              "    .colab-df-container {\n",
              "      display:flex;\n",
              "      flex-wrap:wrap;\n",
              "      gap: 12px;\n",
              "    }\n",
              "\n",
              "    .colab-df-convert {\n",
              "      background-color: #E8F0FE;\n",
              "      border: none;\n",
              "      border-radius: 50%;\n",
              "      cursor: pointer;\n",
              "      display: none;\n",
              "      fill: #1967D2;\n",
              "      height: 32px;\n",
              "      padding: 0 0 0 0;\n",
              "      width: 32px;\n",
              "    }\n",
              "\n",
              "    .colab-df-convert:hover {\n",
              "      background-color: #E2EBFA;\n",
              "      box-shadow: 0px 1px 2px rgba(60, 64, 67, 0.3), 0px 1px 3px 1px rgba(60, 64, 67, 0.15);\n",
              "      fill: #174EA6;\n",
              "    }\n",
              "\n",
              "    [theme=dark] .colab-df-convert {\n",
              "      background-color: #3B4455;\n",
              "      fill: #D2E3FC;\n",
              "    }\n",
              "\n",
              "    [theme=dark] .colab-df-convert:hover {\n",
              "      background-color: #434B5C;\n",
              "      box-shadow: 0px 1px 3px 1px rgba(0, 0, 0, 0.15);\n",
              "      filter: drop-shadow(0px 1px 2px rgba(0, 0, 0, 0.3));\n",
              "      fill: #FFFFFF;\n",
              "    }\n",
              "  </style>\n",
              "\n",
              "      <script>\n",
              "        const buttonEl =\n",
              "          document.querySelector('#df-489ef5d2-1595-4283-b3d0-9d3fc601071d button.colab-df-convert');\n",
              "        buttonEl.style.display =\n",
              "          google.colab.kernel.accessAllowed ? 'block' : 'none';\n",
              "\n",
              "        async function convertToInteractive(key) {\n",
              "          const element = document.querySelector('#df-489ef5d2-1595-4283-b3d0-9d3fc601071d');\n",
              "          const dataTable =\n",
              "            await google.colab.kernel.invokeFunction('convertToInteractive',\n",
              "                                                     [key], {});\n",
              "          if (!dataTable) return;\n",
              "\n",
              "          const docLinkHtml = 'Like what you see? Visit the ' +\n",
              "            '<a target=\"_blank\" href=https://colab.research.google.com/notebooks/data_table.ipynb>data table notebook</a>'\n",
              "            + ' to learn more about interactive tables.';\n",
              "          element.innerHTML = '';\n",
              "          dataTable['output_type'] = 'display_data';\n",
              "          await google.colab.output.renderOutput(dataTable, element);\n",
              "          const docLink = document.createElement('div');\n",
              "          docLink.innerHTML = docLinkHtml;\n",
              "          element.appendChild(docLink);\n",
              "        }\n",
              "      </script>\n",
              "    </div>\n",
              "  </div>\n",
              "  "
            ]
          },
          "metadata": {},
          "execution_count": 23
        }
      ]
    },
    {
      "cell_type": "markdown",
      "source": [
        "# Data Preprocessing and Visualizations"
      ],
      "metadata": {
        "id": "5nmQl0maB-Fl"
      }
    },
    {
      "cell_type": "code",
      "source": [
        "bank.dtypes"
      ],
      "metadata": {
        "colab": {
          "base_uri": "https://localhost:8080/"
        },
        "outputId": "042cd4df-1a98-4255-fecd-fe57222b225f",
        "id": "viGYocu0B-Fl"
      },
      "execution_count": null,
      "outputs": [
        {
          "output_type": "execute_result",
          "data": {
            "text/plain": [
              "age                 int64\n",
              "job                object\n",
              "marital            object\n",
              "education          object\n",
              "default            object\n",
              "housing            object\n",
              "loan               object\n",
              "contact            object\n",
              "month              object\n",
              "day_of_week        object\n",
              "duration            int64\n",
              "campaign            int64\n",
              "pdays               int64\n",
              "previous            int64\n",
              "poutcome           object\n",
              "emp.var.rate      float64\n",
              "cons.price.idx    float64\n",
              "cons.conf.idx     float64\n",
              "euribor3m         float64\n",
              "nr.employed       float64\n",
              "y                  object\n",
              "dtype: object"
            ]
          },
          "metadata": {},
          "execution_count": 6
        }
      ]
    },
    {
      "cell_type": "code",
      "source": [
        "bank.isnull().sum()"
      ],
      "metadata": {
        "colab": {
          "base_uri": "https://localhost:8080/"
        },
        "outputId": "c6c4f544-b9ac-4504-fe9d-e103d5be573a",
        "id": "YPjWNn9nB-Fm"
      },
      "execution_count": null,
      "outputs": [
        {
          "output_type": "execute_result",
          "data": {
            "text/plain": [
              "age               0\n",
              "job               0\n",
              "marital           0\n",
              "education         0\n",
              "default           0\n",
              "housing           0\n",
              "loan              0\n",
              "contact           0\n",
              "month             0\n",
              "day_of_week       0\n",
              "duration          0\n",
              "campaign          0\n",
              "pdays             0\n",
              "previous          0\n",
              "poutcome          0\n",
              "emp.var.rate      0\n",
              "cons.price.idx    0\n",
              "cons.conf.idx     0\n",
              "euribor3m         0\n",
              "nr.employed       0\n",
              "y                 0\n",
              "dtype: int64"
            ]
          },
          "metadata": {},
          "execution_count": 7
        }
      ]
    },
    {
      "cell_type": "code",
      "source": [
        "sns.boxplot(y = 'age', data = bank).set(title = 'Client Age', ylabel = 'Age')"
      ],
      "metadata": {
        "colab": {
          "base_uri": "https://localhost:8080/",
          "height": 285
        },
        "id": "JQdLKfiTT-Yy",
        "outputId": "974f94b3-3884-40be-912d-11be9cd4de59"
      },
      "execution_count": null,
      "outputs": [
        {
          "output_type": "execute_result",
          "data": {
            "text/plain": [
              "[Text(0, 0.5, 'Age'), Text(0.5, 1.0, 'Client Age')]"
            ]
          },
          "metadata": {},
          "execution_count": 107
        },
        {
          "output_type": "display_data",
          "data": {
            "text/plain": [
              "<Figure size 432x288 with 1 Axes>"
            ],
            "image/png": "[encoded data removed]"
          },
          "metadata": {
            "needs_background": "light"
          }
        }
      ]
    },
    {
      "cell_type": "code",
      "source": [
        "sns.boxplot(y = 'duration', data = bank).set(title = 'Last Contact Duration', ylabel = 'Duration')"
      ],
      "metadata": {
        "colab": {
          "base_uri": "https://localhost:8080/",
          "height": 285
        },
        "id": "f_iXpAqZISFU",
        "outputId": "480aa506-0ab0-4096-c327-1727df717e61"
      },
      "execution_count": null,
      "outputs": [
        {
          "output_type": "execute_result",
          "data": {
            "text/plain": [
              "[Text(0, 0.5, 'Duration'), Text(0.5, 1.0, 'Last Contact Duration')]"
            ]
          },
          "metadata": {},
          "execution_count": 108
        },
        {
          "output_type": "display_data",
          "data": {
            "text/plain": [
              "<Figure size 432x288 with 1 Axes>"
            ],
            "image/png": "[encoded data removed]"
          },
          "metadata": {
            "needs_background": "light"
          }
        }
      ]
    },
    {
      "cell_type": "code",
      "source": [
        "sns.boxplot(y = 'campaign', data = bank).set(title = 'Number of Contacts', ylabel = 'Count')"
      ],
      "metadata": {
        "id": "mmEI95BPKRIX",
        "colab": {
          "base_uri": "https://localhost:8080/",
          "height": 285
        },
        "outputId": "3a511b26-5777-474f-d40b-8013542178fc"
      },
      "execution_count": null,
      "outputs": [
        {
          "output_type": "execute_result",
          "data": {
            "text/plain": [
              "[Text(0, 0.5, 'Count'), Text(0.5, 1.0, 'Number of Contacts')]"
            ]
          },
          "metadata": {},
          "execution_count": 109
        },
        {
          "output_type": "display_data",
          "data": {
            "text/plain": [
              "<Figure size 432x288 with 1 Axes>"
            ],
            "image/png": "[encoded data removed]"
          },
          "metadata": {
            "needs_background": "light"
          }
        }
      ]
    },
    {
      "cell_type": "code",
      "source": [
        "sns.boxplot(y = 'pdays', data = bank).set(title = 'Number of Days', ylabel = 'Count')"
      ],
      "metadata": {
        "id": "CP7BpfIQD3SA",
        "colab": {
          "base_uri": "https://localhost:8080/",
          "height": 285
        },
        "outputId": "9fdc361a-7468-4aa5-a960-e938a10dc723"
      },
      "execution_count": null,
      "outputs": [
        {
          "output_type": "execute_result",
          "data": {
            "text/plain": [
              "[Text(0, 0.5, 'Count'), Text(0.5, 1.0, 'Number of Days')]"
            ]
          },
          "metadata": {},
          "execution_count": 110
        },
        {
          "output_type": "display_data",
          "data": {
            "text/plain": [
              "<Figure size 432x288 with 1 Axes>"
            ],
            "image/png": "[encoded data removed]"
          },
          "metadata": {
            "needs_background": "light"
          }
        }
      ]
    },
    {
      "cell_type": "code",
      "source": [
        "bank.pdays.quantile([0.25,0.5,0.75])"
      ],
      "metadata": {
        "colab": {
          "base_uri": "https://localhost:8080/"
        },
        "id": "cqbXqdLIFuYk",
        "outputId": "5671231b-3d43-415c-a166-fb67a2a5b53c"
      },
      "execution_count": null,
      "outputs": [
        {
          "output_type": "execute_result",
          "data": {
            "text/plain": [
              "0.25    999.0\n",
              "0.50    999.0\n",
              "0.75    999.0\n",
              "Name: pdays, dtype: float64"
            ]
          },
          "metadata": {},
          "execution_count": 34
        }
      ]
    },
    {
      "cell_type": "code",
      "source": [
        "sns.boxplot(y = 'previous', data = bank).set(title = 'Previous Contacts', ylabel = 'Count')"
      ],
      "metadata": {
        "id": "xhZ66jhMKZAm",
        "colab": {
          "base_uri": "https://localhost:8080/",
          "height": 285
        },
        "outputId": "d760914b-2141-45d7-f9dc-8e06f8d5fc79"
      },
      "execution_count": null,
      "outputs": [
        {
          "output_type": "execute_result",
          "data": {
            "text/plain": [
              "[Text(0, 0.5, 'Count'), Text(0.5, 1.0, 'Previous Contacts')]"
            ]
          },
          "metadata": {},
          "execution_count": 111
        },
        {
          "output_type": "display_data",
          "data": {
            "text/plain": [
              "<Figure size 432x288 with 1 Axes>"
            ],
            "image/png": "[encoded data removed]"
          },
          "metadata": {
            "needs_background": "light"
          }
        }
      ]
    },
    {
      "cell_type": "code",
      "source": [
        "bank.previous.quantile([0.25,0.5,0.75])"
      ],
      "metadata": {
        "colab": {
          "base_uri": "https://localhost:8080/"
        },
        "id": "lP102eUUHUOO",
        "outputId": "55e3aeaa-bf2a-475e-ee2d-aabdb2cf5083"
      },
      "execution_count": null,
      "outputs": [
        {
          "output_type": "execute_result",
          "data": {
            "text/plain": [
              "0.25    0.0\n",
              "0.50    0.0\n",
              "0.75    0.0\n",
              "Name: previous, dtype: float64"
            ]
          },
          "metadata": {},
          "execution_count": 35
        }
      ]
    },
    {
      "cell_type": "code",
      "source": [
        "sns.boxplot(y = 'emp.var.rate', data = bank).set(title = 'Employment Variation Rate', ylabel = 'Rate')"
      ],
      "metadata": {
        "colab": {
          "base_uri": "https://localhost:8080/",
          "height": 285
        },
        "id": "mGx4yVC03wWx",
        "outputId": "eee29e8f-ca80-4bcb-b3ff-edc90e69f721"
      },
      "execution_count": null,
      "outputs": [
        {
          "output_type": "execute_result",
          "data": {
            "text/plain": [
              "[Text(0, 0.5, 'Rate'), Text(0.5, 1.0, 'Employment Variation Rate')]"
            ]
          },
          "metadata": {},
          "execution_count": 112
        },
        {
          "output_type": "display_data",
          "data": {
            "text/plain": [
              "<Figure size 432x288 with 1 Axes>"
            ],
            "image/png": "[encoded data removed]"
          },
          "metadata": {
            "needs_background": "light"
          }
        }
      ]
    },
    {
      "cell_type": "code",
      "source": [
        "sns.boxplot(y = 'cons.price.idx', data = bank).set(title = 'Consumer Price Index', ylabel = 'Index')"
      ],
      "metadata": {
        "colab": {
          "base_uri": "https://localhost:8080/",
          "height": 285
        },
        "id": "F1BHHkkY4CQX",
        "outputId": "d4f5d83e-a8d1-49e7-ed1f-e79f7b1ff038"
      },
      "execution_count": null,
      "outputs": [
        {
          "output_type": "execute_result",
          "data": {
            "text/plain": [
              "[Text(0, 0.5, 'Index'), Text(0.5, 1.0, 'Consumer Price Index')]"
            ]
          },
          "metadata": {},
          "execution_count": 113
        },
        {
          "output_type": "display_data",
          "data": {
            "text/plain": [
              "<Figure size 432x288 with 1 Axes>"
            ],
            "image/png": "[encoded data removed]"
          },
          "metadata": {
            "needs_background": "light"
          }
        }
      ]
    },
    {
      "cell_type": "code",
      "source": [
        "sns.boxplot(y = 'cons.conf.idx', data = bank).set(title = 'Consumer Confidence Index', ylabel = 'Index')"
      ],
      "metadata": {
        "colab": {
          "base_uri": "https://localhost:8080/",
          "height": 285
        },
        "id": "EuBO3WPg4CIU",
        "outputId": "f0fdd1a2-eccc-455d-f9d1-82942bba292b"
      },
      "execution_count": null,
      "outputs": [
        {
          "output_type": "execute_result",
          "data": {
            "text/plain": [
              "[Text(0, 0.5, 'Index'), Text(0.5, 1.0, 'Consumer Confidence Index')]"
            ]
          },
          "metadata": {},
          "execution_count": 114
        },
        {
          "output_type": "display_data",
          "data": {
            "text/plain": [
              "<Figure size 432x288 with 1 Axes>"
            ],
            "image/png": "[encoded data removed]"
          },
          "metadata": {
            "needs_background": "light"
          }
        }
      ]
    },
    {
      "cell_type": "code",
      "source": [
        "sns.boxplot(y = 'euribor3m', data = bank).set(title = 'Euribor 3 Month Rate', ylabel = 'Rate')"
      ],
      "metadata": {
        "colab": {
          "base_uri": "https://localhost:8080/",
          "height": 285
        },
        "id": "7I9nEVTK4CBi",
        "outputId": "f8c7f90f-9012-4772-9681-ebb86f7125e7"
      },
      "execution_count": null,
      "outputs": [
        {
          "output_type": "execute_result",
          "data": {
            "text/plain": [
              "[Text(0, 0.5, 'Rate'), Text(0.5, 1.0, 'Euribor 3 Month Rate')]"
            ]
          },
          "metadata": {},
          "execution_count": 115
        },
        {
          "output_type": "display_data",
          "data": {
            "text/plain": [
              "<Figure size 432x288 with 1 Axes>"
            ],
            "image/png": "[encoded data removed]"
          },
          "metadata": {
            "needs_background": "light"
          }
        }
      ]
    },
    {
      "cell_type": "code",
      "source": [
        "sns.boxplot(y = 'nr.employed', data = bank).set(title = 'Number of Employees', ylabel = 'Count')"
      ],
      "metadata": {
        "colab": {
          "base_uri": "https://localhost:8080/",
          "height": 285
        },
        "id": "Lynps0UW4B4i",
        "outputId": "fddbd912-b90d-434b-dd78-ee5cb295cf5f"
      },
      "execution_count": null,
      "outputs": [
        {
          "output_type": "execute_result",
          "data": {
            "text/plain": [
              "[Text(0, 0.5, 'Count'), Text(0.5, 1.0, 'Number of Employees')]"
            ]
          },
          "metadata": {},
          "execution_count": 116
        },
        {
          "output_type": "display_data",
          "data": {
            "text/plain": [
              "<Figure size 432x288 with 1 Axes>"
            ],
            "image/png": "[encoded data removed]"
          },
          "metadata": {
            "needs_background": "light"
          }
        }
      ]
    },
    {
      "cell_type": "code",
      "source": [
        "bank['job'].value_counts()"
      ],
      "metadata": {
        "colab": {
          "base_uri": "https://localhost:8080/"
        },
        "outputId": "7f283d52-3eb4-4e93-d558-512b5098e684",
        "id": "TyEDY0dbB-Fn"
      },
      "execution_count": null,
      "outputs": [
        {
          "output_type": "execute_result",
          "data": {
            "text/plain": [
              "admin.           10422\n",
              "blue-collar       9254\n",
              "technician        6743\n",
              "services          3969\n",
              "management        2924\n",
              "retired           1720\n",
              "entrepreneur      1456\n",
              "self-employed     1421\n",
              "housemaid         1060\n",
              "unemployed        1014\n",
              "student            875\n",
              "unknown            330\n",
              "Name: job, dtype: int64"
            ]
          },
          "metadata": {},
          "execution_count": 8
        }
      ]
    },
    {
      "cell_type": "code",
      "source": [
        "fig, ax = plt.subplots()\n",
        "fig.set_size_inches(12, 5)\n",
        "sns.countplot(x = 'job', data = bank)\n",
        "ax.set_xlabel(' ')\n",
        "ax.set_ylabel('count', fontsize = 9)\n",
        "ax.set_title('Job', fontsize = 15)\n",
        "ax.tick_params(labelsize = 8)"
      ],
      "metadata": {
        "colab": {
          "base_uri": "https://localhost:8080/",
          "height": 351
        },
        "id": "azfwutBv4g5I",
        "outputId": "c910e4a4-4b46-45cd-8049-907d15280731"
      },
      "execution_count": null,
      "outputs": [
        {
          "output_type": "display_data",
          "data": {
            "text/plain": [
              "<Figure size 864x360 with 1 Axes>"
            ],
            "image/png": "[encoded data removed]"
          },
          "metadata": {
            "needs_background": "light"
          }
        }
      ]
    },
    {
      "cell_type": "code",
      "source": [
        "bank['marital'].value_counts()"
      ],
      "metadata": {
        "colab": {
          "base_uri": "https://localhost:8080/"
        },
        "outputId": "c9f08a69-6968-41c1-b04b-85dfdb961dea",
        "id": "S9Coiyh-B-Fo"
      },
      "execution_count": null,
      "outputs": [
        {
          "output_type": "execute_result",
          "data": {
            "text/plain": [
              "married     24928\n",
              "single      11568\n",
              "divorced     4612\n",
              "unknown        80\n",
              "Name: marital, dtype: int64"
            ]
          },
          "metadata": {},
          "execution_count": 9
        }
      ]
    },
    {
      "cell_type": "code",
      "source": [
        "fig, ax = plt.subplots()\n",
        "fig.set_size_inches(8, 3)\n",
        "sns.countplot(x = 'marital', data = bank)\n",
        "ax.set_xlabel(' ')\n",
        "ax.set_ylabel('count', fontsize = 9)\n",
        "ax.set_title('Marital Status', fontsize = 12)\n",
        "ax.tick_params(labelsize = 9)"
      ],
      "metadata": {
        "colab": {
          "base_uri": "https://localhost:8080/",
          "height": 240
        },
        "id": "98XE5TWQAOt1",
        "outputId": "ae31ab0d-df31-467a-f6c8-c43575c1bde3"
      },
      "execution_count": null,
      "outputs": [
        {
          "output_type": "display_data",
          "data": {
            "text/plain": [
              "<Figure size 576x216 with 1 Axes>"
            ],
            "image/png": "[encoded data removed]"
          },
          "metadata": {
            "needs_background": "light"
          }
        }
      ]
    },
    {
      "cell_type": "code",
      "source": [
        "bank['education'].value_counts()"
      ],
      "metadata": {
        "colab": {
          "base_uri": "https://localhost:8080/"
        },
        "outputId": "da3a3d18-a6be-4924-b6bf-db334ce1cab7",
        "id": "vOMc4y9aB-Fo"
      },
      "execution_count": null,
      "outputs": [
        {
          "output_type": "execute_result",
          "data": {
            "text/plain": [
              "university.degree      12168\n",
              "high.school             9515\n",
              "basic.9y                6045\n",
              "professional.course     5243\n",
              "basic.4y                4176\n",
              "basic.6y                2292\n",
              "unknown                 1731\n",
              "illiterate                18\n",
              "Name: education, dtype: int64"
            ]
          },
          "metadata": {},
          "execution_count": 10
        }
      ]
    },
    {
      "cell_type": "code",
      "source": [
        "fig, ax = plt.subplots()\n",
        "fig.set_size_inches(9, 4)\n",
        "sns.countplot(x = 'education', data = bank)\n",
        "ax.set_xlabel(' ')\n",
        "ax.set_ylabel('count', fontsize = 9)\n",
        "ax.set_title('Education', fontsize = 13)\n",
        "ax.tick_params(labelsize = 8)"
      ],
      "metadata": {
        "colab": {
          "base_uri": "https://localhost:8080/",
          "height": 294
        },
        "id": "KkEyMckQDIcm",
        "outputId": "6bd1e96a-6ee9-423b-91a1-e283bc829399"
      },
      "execution_count": null,
      "outputs": [
        {
          "output_type": "display_data",
          "data": {
            "text/plain": [
              "<Figure size 648x288 with 1 Axes>"
            ],
            "image/png": "[encoded data removed]"
          },
          "metadata": {
            "needs_background": "light"
          }
        }
      ]
    },
    {
      "cell_type": "code",
      "source": [
        "bank['default'].value_counts()"
      ],
      "metadata": {
        "colab": {
          "base_uri": "https://localhost:8080/"
        },
        "outputId": "0cba7d52-712d-45e8-98fc-6b4d7c8e37bc",
        "id": "jv4qYX8dB-Fp"
      },
      "execution_count": null,
      "outputs": [
        {
          "output_type": "execute_result",
          "data": {
            "text/plain": [
              "no         32588\n",
              "unknown     8597\n",
              "yes            3\n",
              "Name: default, dtype: int64"
            ]
          },
          "metadata": {},
          "execution_count": 11
        }
      ]
    },
    {
      "cell_type": "code",
      "source": [
        "fig, ax = plt.subplots()\n",
        "fig.set_size_inches(4, 5)\n",
        "sns.countplot(x = 'default', data = bank)\n",
        "ax.set_xlabel(' ')\n",
        "ax.set_ylabel('count', fontsize = 10)\n",
        "ax.set_title('Default', fontsize = 12)\n",
        "ax.tick_params(labelsize = 9)"
      ],
      "metadata": {
        "colab": {
          "base_uri": "https://localhost:8080/",
          "height": 349
        },
        "id": "fscSbjkwDkAm",
        "outputId": "a4dac396-db97-436d-f92b-583f10a68e35"
      },
      "execution_count": null,
      "outputs": [
        {
          "output_type": "display_data",
          "data": {
            "text/plain": [
              "<Figure size 288x360 with 1 Axes>"
            ],
            "image/png": "[encoded data removed]"
          },
          "metadata": {
            "needs_background": "light"
          }
        }
      ]
    },
    {
      "cell_type": "code",
      "source": [
        "bank['housing'].value_counts()"
      ],
      "metadata": {
        "colab": {
          "base_uri": "https://localhost:8080/"
        },
        "outputId": "e998d576-c6da-474c-fa10-8057b60a37fd",
        "id": "Gv65XM5SB-Fq"
      },
      "execution_count": null,
      "outputs": [
        {
          "output_type": "execute_result",
          "data": {
            "text/plain": [
              "yes        21576\n",
              "no         18622\n",
              "unknown      990\n",
              "Name: housing, dtype: int64"
            ]
          },
          "metadata": {},
          "execution_count": 12
        }
      ]
    },
    {
      "cell_type": "code",
      "source": [
        "fig, ax = plt.subplots()\n",
        "fig.set_size_inches(4, 5)\n",
        "sns.countplot(x = 'housing', data = bank)\n",
        "ax.set_xlabel(' ')\n",
        "ax.set_ylabel('count', fontsize = 10)\n",
        "ax.set_title('Housing', fontsize = 12)\n",
        "ax.tick_params(labelsize = 9)"
      ],
      "metadata": {
        "colab": {
          "base_uri": "https://localhost:8080/",
          "height": 349
        },
        "id": "JKHs0ZUaEAzQ",
        "outputId": "ff641198-7637-46ae-d6e9-93a46d9fee0e"
      },
      "execution_count": null,
      "outputs": [
        {
          "output_type": "display_data",
          "data": {
            "text/plain": [
              "<Figure size 288x360 with 1 Axes>"
            ],
            "image/png": "[encoded data removed]"
          },
          "metadata": {
            "needs_background": "light"
          }
        }
      ]
    },
    {
      "cell_type": "code",
      "source": [
        "bank['loan'].value_counts()"
      ],
      "metadata": {
        "colab": {
          "base_uri": "https://localhost:8080/"
        },
        "outputId": "4e251fa6-9e5e-4ee1-e7c8-1d344cd416d1",
        "id": "Mlpz9lhYB-Fq"
      },
      "execution_count": null,
      "outputs": [
        {
          "output_type": "execute_result",
          "data": {
            "text/plain": [
              "no         33950\n",
              "yes         6248\n",
              "unknown      990\n",
              "Name: loan, dtype: int64"
            ]
          },
          "metadata": {},
          "execution_count": 13
        }
      ]
    },
    {
      "cell_type": "code",
      "source": [
        "fig, ax = plt.subplots()\n",
        "fig.set_size_inches(4, 5)\n",
        "sns.countplot(x = 'loan', data = bank)\n",
        "ax.set_xlabel(' ')\n",
        "ax.set_ylabel('count', fontsize = 10)\n",
        "ax.set_title('Loan', fontsize = 12)\n",
        "ax.tick_params(labelsize = 9)"
      ],
      "metadata": {
        "colab": {
          "base_uri": "https://localhost:8080/",
          "height": 349
        },
        "id": "v4ZoAWZREQeD",
        "outputId": "03a0965b-75bf-4291-ae9c-fef171970f16"
      },
      "execution_count": null,
      "outputs": [
        {
          "output_type": "display_data",
          "data": {
            "text/plain": [
              "<Figure size 288x360 with 1 Axes>"
            ],
            "image/png": "[encoded data removed]"
          },
          "metadata": {
            "needs_background": "light"
          }
        }
      ]
    },
    {
      "cell_type": "code",
      "source": [
        "bank['contact'].value_counts()"
      ],
      "metadata": {
        "colab": {
          "base_uri": "https://localhost:8080/"
        },
        "outputId": "812430f2-b97f-4eb6-9de2-46201aee69ab",
        "id": "Pdu4TOquB-Fr"
      },
      "execution_count": null,
      "outputs": [
        {
          "output_type": "execute_result",
          "data": {
            "text/plain": [
              "cellular     26144\n",
              "telephone    15044\n",
              "Name: contact, dtype: int64"
            ]
          },
          "metadata": {},
          "execution_count": 14
        }
      ]
    },
    {
      "cell_type": "code",
      "source": [
        "fig, ax = plt.subplots()\n",
        "fig.set_size_inches(4, 5)\n",
        "sns.countplot(x = 'contact', data = bank)\n",
        "ax.set_xlabel(' ')\n",
        "ax.set_ylabel('count', fontsize = 10)\n",
        "ax.set_title('Contact', fontsize = 12)\n",
        "ax.tick_params(labelsize = 10)"
      ],
      "metadata": {
        "colab": {
          "base_uri": "https://localhost:8080/",
          "height": 350
        },
        "id": "1gmO7IRJEVnD",
        "outputId": "a22686c8-dd9a-4517-a881-237a018b6266"
      },
      "execution_count": null,
      "outputs": [
        {
          "output_type": "display_data",
          "data": {
            "text/plain": [
              "<Figure size 288x360 with 1 Axes>"
            ],
            "image/png": "[encoded data removed]"
          },
          "metadata": {
            "needs_background": "light"
          }
        }
      ]
    },
    {
      "cell_type": "code",
      "source": [
        "bank['month'].value_counts()"
      ],
      "metadata": {
        "colab": {
          "base_uri": "https://localhost:8080/"
        },
        "outputId": "48d03bc8-8a0d-4a3c-e706-d7836f2d8888",
        "id": "Gu6TbcKVB-Fs"
      },
      "execution_count": null,
      "outputs": [
        {
          "output_type": "execute_result",
          "data": {
            "text/plain": [
              "may    13769\n",
              "jul     7174\n",
              "aug     6178\n",
              "jun     5318\n",
              "nov     4101\n",
              "apr     2632\n",
              "oct      718\n",
              "sep      570\n",
              "mar      546\n",
              "dec      182\n",
              "Name: month, dtype: int64"
            ]
          },
          "metadata": {},
          "execution_count": 15
        }
      ]
    },
    {
      "cell_type": "code",
      "source": [
        "fig, ax = plt.subplots()\n",
        "fig.set_size_inches(12, 5)\n",
        "sns.countplot(x = 'month', data = bank)\n",
        "ax.set_xlabel(' ')\n",
        "ax.set_ylabel('count', fontsize = 11)\n",
        "ax.set_title('Month', fontsize = 15)\n",
        "ax.tick_params(labelsize = 11)"
      ],
      "metadata": {
        "colab": {
          "base_uri": "https://localhost:8080/",
          "height": 352
        },
        "id": "s4JxZfDEEnp1",
        "outputId": "86720a9f-c428-4a21-8a23-959957d40098"
      },
      "execution_count": null,
      "outputs": [
        {
          "output_type": "display_data",
          "data": {
            "text/plain": [
              "<Figure size 864x360 with 1 Axes>"
            ],
            "image/png": "[encoded data removed]"
          },
          "metadata": {
            "needs_background": "light"
          }
        }
      ]
    },
    {
      "cell_type": "code",
      "source": [
        "bank['day_of_week'].value_counts()"
      ],
      "metadata": {
        "colab": {
          "base_uri": "https://localhost:8080/"
        },
        "outputId": "400466af-1e78-43fd-af20-c7d68a2afd66",
        "id": "Cof2QXDkB-Fu"
      },
      "execution_count": null,
      "outputs": [
        {
          "output_type": "execute_result",
          "data": {
            "text/plain": [
              "thu    8623\n",
              "mon    8514\n",
              "wed    8134\n",
              "tue    8090\n",
              "fri    7827\n",
              "Name: day_of_week, dtype: int64"
            ]
          },
          "metadata": {},
          "execution_count": 16
        }
      ]
    },
    {
      "cell_type": "code",
      "source": [
        "fig, ax = plt.subplots()\n",
        "fig.set_size_inches(8, 4)\n",
        "sns.countplot(x = 'day_of_week', data = bank)\n",
        "ax.set_xlabel(' ')\n",
        "ax.set_ylabel('count', fontsize = 10)\n",
        "ax.set_title('Day of Week', fontsize = 13)\n",
        "ax.tick_params(labelsize = 10)"
      ],
      "metadata": {
        "colab": {
          "base_uri": "https://localhost:8080/",
          "height": 295
        },
        "id": "gSVoNgikEw9b",
        "outputId": "9926523b-22fa-40a3-e99c-ce645dbc4c2b"
      },
      "execution_count": null,
      "outputs": [
        {
          "output_type": "display_data",
          "data": {
            "text/plain": [
              "<Figure size 576x288 with 1 Axes>"
            ],
            "image/png": "[encoded data removed]"
          },
          "metadata": {
            "needs_background": "light"
          }
        }
      ]
    },
    {
      "cell_type": "code",
      "source": [
        "bank['poutcome'].value_counts()"
      ],
      "metadata": {
        "colab": {
          "base_uri": "https://localhost:8080/"
        },
        "id": "tkAmRfpRRclc",
        "outputId": "8ae68c19-76bd-441d-96a5-3c65eb7be45d"
      },
      "execution_count": null,
      "outputs": [
        {
          "output_type": "execute_result",
          "data": {
            "text/plain": [
              "nonexistent    35563\n",
              "failure         4252\n",
              "success         1373\n",
              "Name: poutcome, dtype: int64"
            ]
          },
          "metadata": {},
          "execution_count": 17
        }
      ]
    },
    {
      "cell_type": "code",
      "source": [
        "fig, ax = plt.subplots()\n",
        "fig.set_size_inches(4, 5)\n",
        "sns.countplot(x = 'poutcome', data = bank)\n",
        "ax.set_xlabel(' ')\n",
        "ax.set_ylabel('count', fontsize = 10)\n",
        "ax.set_title('Previous Outcome', fontsize = 12)\n",
        "ax.tick_params(labelsize = 10)"
      ],
      "metadata": {
        "colab": {
          "base_uri": "https://localhost:8080/",
          "height": 350
        },
        "id": "FuAivkZTFBXR",
        "outputId": "5485b07d-4655-4bc3-9769-f005f1a8c867"
      },
      "execution_count": null,
      "outputs": [
        {
          "output_type": "display_data",
          "data": {
            "text/plain": [
              "<Figure size 288x360 with 1 Axes>"
            ],
            "image/png": "[encoded data removed]"
          },
          "metadata": {
            "needs_background": "light"
          }
        }
      ]
    },
    {
      "cell_type": "code",
      "source": [
        "bank['y'].value_counts()"
      ],
      "metadata": {
        "colab": {
          "base_uri": "https://localhost:8080/"
        },
        "id": "i0tELDIMRgLY",
        "outputId": "374d763e-0d8b-49b9-f59b-5aded04e73c5"
      },
      "execution_count": null,
      "outputs": [
        {
          "output_type": "execute_result",
          "data": {
            "text/plain": [
              "no     36548\n",
              "yes     4640\n",
              "Name: y, dtype: int64"
            ]
          },
          "metadata": {},
          "execution_count": 18
        }
      ]
    },
    {
      "cell_type": "code",
      "source": [
        "fig, ax = plt.subplots()\n",
        "fig.set_size_inches(4, 5)\n",
        "sns.countplot(x = 'y', data = bank)\n",
        "ax.set_xlabel(' ')\n",
        "ax.set_ylabel('count', fontsize = 10)\n",
        "ax.set_title('Term Deposit', fontsize = 13)\n",
        "ax.tick_params(labelsize = 10)"
      ],
      "metadata": {
        "colab": {
          "base_uri": "https://localhost:8080/",
          "height": 350
        },
        "id": "QRoO3C-oFwYt",
        "outputId": "a5777f8f-9255-4bf4-cfc7-2acab14d3de0"
      },
      "execution_count": null,
      "outputs": [
        {
          "output_type": "display_data",
          "data": {
            "text/plain": [
              "<Figure size 288x360 with 1 Axes>"
            ],
            "image/png": "[encoded data removed]"
          },
          "metadata": {
            "needs_background": "light"
          }
        }
      ]
    },
    {
      "cell_type": "code",
      "source": [
        "bank = bank.drop(['day_of_week', 'contact', 'month'], axis = 1)"
      ],
      "metadata": {
        "id": "3bHemYUWOcjo"
      },
      "execution_count": null,
      "outputs": []
    },
    {
      "cell_type": "code",
      "source": [
        "bank_dmy = pd.get_dummies(bank)\n",
        "bank_dmy = bank_dmy.drop(['job_admin.', 'marital_married', 'education_university.degree', 'default_no', 'housing_no', 'loan_no', 'poutcome_nonexistent', 'y_no'], axis = 1)\n",
        "bank.dmy = bank_dmy.rename(columns = {'y_yes':'y'}, inplace = True) #yes = 1, no = 0\n",
        "bank_dmy.head()"
      ],
      "metadata": {
        "colab": {
          "base_uri": "https://localhost:8080/",
          "height": 299
        },
        "outputId": "b7b9f3eb-6292-47f0-94e0-0634b2bdbe20",
        "id": "iNvpl96dB-Fw"
      },
      "execution_count": null,
      "outputs": [
        {
          "output_type": "execute_result",
          "data": {
            "text/plain": [
              "   age  duration  campaign  pdays  previous  emp.var.rate  cons.price.idx  \\\n",
              "0   56       261         1    999         0           1.1          93.994   \n",
              "1   57       149         1    999         0           1.1          93.994   \n",
              "2   37       226         1    999         0           1.1          93.994   \n",
              "3   40       151         1    999         0           1.1          93.994   \n",
              "4   56       307         1    999         0           1.1          93.994   \n",
              "\n",
              "   cons.conf.idx  euribor3m  nr.employed  ...  education_unknown  \\\n",
              "0          -36.4      4.857       5191.0  ...                  0   \n",
              "1          -36.4      4.857       5191.0  ...                  0   \n",
              "2          -36.4      4.857       5191.0  ...                  0   \n",
              "3          -36.4      4.857       5191.0  ...                  0   \n",
              "4          -36.4      4.857       5191.0  ...                  0   \n",
              "\n",
              "   default_unknown  default_yes  housing_unknown  housing_yes  loan_unknown  \\\n",
              "0                0            0                0            0             0   \n",
              "1                1            0                0            0             0   \n",
              "2                0            0                0            1             0   \n",
              "3                0            0                0            0             0   \n",
              "4                0            0                0            0             0   \n",
              "\n",
              "   loan_yes  poutcome_failure  poutcome_success  y  \n",
              "0         0                 0                 0  0  \n",
              "1         0                 0                 0  0  \n",
              "2         0                 0                 0  0  \n",
              "3         0                 0                 0  0  \n",
              "4         1                 0                 0  0  \n",
              "\n",
              "[5 rows x 40 columns]"
            ],
            "text/html": [
              "\n",
              "  <div id=\"df-145b7a0b-0dec-4cba-990f-0d6af353b87d\">\n",
              "    <div class=\"colab-df-container\">\n",
              "      <div>\n",
              "<style scoped>\n",
              "    .dataframe tbody tr th:only-of-type {\n",
              "        vertical-align: middle;\n",
              "    }\n",
              "\n",
              "    .dataframe tbody tr th {\n",
              "        vertical-align: top;\n",
              "    }\n",
              "\n",
              "    .dataframe thead th {\n",
              "        text-align: right;\n",
              "    }\n",
              "</style>\n",
              "<table border=\"1\" class=\"dataframe\">\n",
              "  <thead>\n",
              "    <tr style=\"text-align: right;\">\n",
              "      <th></th>\n",
              "      <th>age</th>\n",
              "      <th>duration</th>\n",
              "      <th>campaign</th>\n",
              "      <th>pdays</th>\n",
              "      <th>previous</th>\n",
              "      <th>emp.var.rate</th>\n",
              "      <th>cons.price.idx</th>\n",
              "      <th>cons.conf.idx</th>\n",
              "      <th>euribor3m</th>\n",
              "      <th>nr.employed</th>\n",
              "      <th>...</th>\n",
              "      <th>education_unknown</th>\n",
              "      <th>default_unknown</th>\n",
              "      <th>default_yes</th>\n",
              "      <th>housing_unknown</th>\n",
              "      <th>housing_yes</th>\n",
              "      <th>loan_unknown</th>\n",
              "      <th>loan_yes</th>\n",
              "      <th>poutcome_failure</th>\n",
              "      <th>poutcome_success</th>\n",
              "      <th>y</th>\n",
              "    </tr>\n",
              "  </thead>\n",
              "  <tbody>\n",
              "    <tr>\n",
              "      <th>0</th>\n",
              "      <td>56</td>\n",
              "      <td>261</td>\n",
              "      <td>1</td>\n",
              "      <td>999</td>\n",
              "      <td>0</td>\n",
              "      <td>1.1</td>\n",
              "      <td>93.994</td>\n",
              "      <td>-36.4</td>\n",
              "      <td>4.857</td>\n",
              "      <td>5191.0</td>\n",
              "      <td>...</td>\n",
              "      <td>0</td>\n",
              "      <td>0</td>\n",
              "      <td>0</td>\n",
              "      <td>0</td>\n",
              "      <td>0</td>\n",
              "      <td>0</td>\n",
              "      <td>0</td>\n",
              "      <td>0</td>\n",
              "      <td>0</td>\n",
              "      <td>0</td>\n",
              "    </tr>\n",
              "    <tr>\n",
              "      <th>1</th>\n",
              "      <td>57</td>\n",
              "      <td>149</td>\n",
              "      <td>1</td>\n",
              "      <td>999</td>\n",
              "      <td>0</td>\n",
              "      <td>1.1</td>\n",
              "      <td>93.994</td>\n",
              "      <td>-36.4</td>\n",
              "      <td>4.857</td>\n",
              "      <td>5191.0</td>\n",
              "      <td>...</td>\n",
              "      <td>0</td>\n",
              "      <td>1</td>\n",
              "      <td>0</td>\n",
              "      <td>0</td>\n",
              "      <td>0</td>\n",
              "      <td>0</td>\n",
              "      <td>0</td>\n",
              "      <td>0</td>\n",
              "      <td>0</td>\n",
              "      <td>0</td>\n",
              "    </tr>\n",
              "    <tr>\n",
              "      <th>2</th>\n",
              "      <td>37</td>\n",
              "      <td>226</td>\n",
              "      <td>1</td>\n",
              "      <td>999</td>\n",
              "      <td>0</td>\n",
              "      <td>1.1</td>\n",
              "      <td>93.994</td>\n",
              "      <td>-36.4</td>\n",
              "      <td>4.857</td>\n",
              "      <td>5191.0</td>\n",
              "      <td>...</td>\n",
              "      <td>0</td>\n",
              "      <td>0</td>\n",
              "      <td>0</td>\n",
              "      <td>0</td>\n",
              "      <td>1</td>\n",
              "      <td>0</td>\n",
              "      <td>0</td>\n",
              "      <td>0</td>\n",
              "      <td>0</td>\n",
              "      <td>0</td>\n",
              "    </tr>\n",
              "    <tr>\n",
              "      <th>3</th>\n",
              "      <td>40</td>\n",
              "      <td>151</td>\n",
              "      <td>1</td>\n",
              "      <td>999</td>\n",
              "      <td>0</td>\n",
              "      <td>1.1</td>\n",
              "      <td>93.994</td>\n",
              "      <td>-36.4</td>\n",
              "      <td>4.857</td>\n",
              "      <td>5191.0</td>\n",
              "      <td>...</td>\n",
              "      <td>0</td>\n",
              "      <td>0</td>\n",
              "      <td>0</td>\n",
              "      <td>0</td>\n",
              "      <td>0</td>\n",
              "      <td>0</td>\n",
              "      <td>0</td>\n",
              "      <td>0</td>\n",
              "      <td>0</td>\n",
              "      <td>0</td>\n",
              "    </tr>\n",
              "    <tr>\n",
              "      <th>4</th>\n",
              "      <td>56</td>\n",
              "      <td>307</td>\n",
              "      <td>1</td>\n",
              "      <td>999</td>\n",
              "      <td>0</td>\n",
              "      <td>1.1</td>\n",
              "      <td>93.994</td>\n",
              "      <td>-36.4</td>\n",
              "      <td>4.857</td>\n",
              "      <td>5191.0</td>\n",
              "      <td>...</td>\n",
              "      <td>0</td>\n",
              "      <td>0</td>\n",
              "      <td>0</td>\n",
              "      <td>0</td>\n",
              "      <td>0</td>\n",
              "      <td>0</td>\n",
              "      <td>1</td>\n",
              "      <td>0</td>\n",
              "      <td>0</td>\n",
              "      <td>0</td>\n",
              "    </tr>\n",
              "  </tbody>\n",
              "</table>\n",
              "<p>5 rows × 40 columns</p>\n",
              "</div>\n",
              "      <button class=\"colab-df-convert\" onclick=\"convertToInteractive('df-145b7a0b-0dec-4cba-990f-0d6af353b87d')\"\n",
              "              title=\"Convert this dataframe to an interactive table.\"\n",
              "              style=\"display:none;\">\n",
              "        \n",
              "  <svg xmlns=\"http://www.w3.org/2000/svg\" height=\"24px\"viewBox=\"0 0 24 24\"\n",
              "       width=\"24px\">\n",
              "    <path d=\"M0 0h24v24H0V0z\" fill=\"none\"/>\n",
              "    <path d=\"M18.56 5.44l.94 2.06.94-2.06 2.06-.94-2.06-.94-.94-2.06-.94 2.06-2.06.94zm-11 1L8.5 8.5l.94-2.06 2.06-.94-2.06-.94L8.5 2.5l-.94 2.06-2.06.94zm10 10l.94 2.06.94-2.06 2.06-.94-2.06-.94-.94-2.06-.94 2.06-2.06.94z\"/><path d=\"M17.41 7.96l-1.37-1.37c-.4-.4-.92-.59-1.43-.59-.52 0-1.04.2-1.43.59L10.3 9.45l-7.72 7.72c-.78.78-.78 2.05 0 2.83L4 21.41c.39.39.9.59 1.41.59.51 0 1.02-.2 1.41-.59l7.78-7.78 2.81-2.81c.8-.78.8-2.07 0-2.86zM5.41 20L4 18.59l7.72-7.72 1.47 1.35L5.41 20z\"/>\n",
              "  </svg>\n",
              "      </button>\n",
              "      \n",
              "  <style>\n",
              "    .colab-df-container {\n",
              "      display:flex;\n",
              "      flex-wrap:wrap;\n",
              "      gap: 12px;\n",
              "    }\n",
              "\n",
              "    .colab-df-convert {\n",
              "      background-color: #E8F0FE;\n",
              "      border: none;\n",
              "      border-radius: 50%;\n",
              "      cursor: pointer;\n",
              "      display: none;\n",
              "      fill: #1967D2;\n",
              "      height: 32px;\n",
              "      padding: 0 0 0 0;\n",
              "      width: 32px;\n",
              "    }\n",
              "\n",
              "    .colab-df-convert:hover {\n",
              "      background-color: #E2EBFA;\n",
              "      box-shadow: 0px 1px 2px rgba(60, 64, 67, 0.3), 0px 1px 3px 1px rgba(60, 64, 67, 0.15);\n",
              "      fill: #174EA6;\n",
              "    }\n",
              "\n",
              "    [theme=dark] .colab-df-convert {\n",
              "      background-color: #3B4455;\n",
              "      fill: #D2E3FC;\n",
              "    }\n",
              "\n",
              "    [theme=dark] .colab-df-convert:hover {\n",
              "      background-color: #434B5C;\n",
              "      box-shadow: 0px 1px 3px 1px rgba(0, 0, 0, 0.15);\n",
              "      filter: drop-shadow(0px 1px 2px rgba(0, 0, 0, 0.3));\n",
              "      fill: #FFFFFF;\n",
              "    }\n",
              "  </style>\n",
              "\n",
              "      <script>\n",
              "        const buttonEl =\n",
              "          document.querySelector('#df-145b7a0b-0dec-4cba-990f-0d6af353b87d button.colab-df-convert');\n",
              "        buttonEl.style.display =\n",
              "          google.colab.kernel.accessAllowed ? 'block' : 'none';\n",
              "\n",
              "        async function convertToInteractive(key) {\n",
              "          const element = document.querySelector('#df-145b7a0b-0dec-4cba-990f-0d6af353b87d');\n",
              "          const dataTable =\n",
              "            await google.colab.kernel.invokeFunction('convertToInteractive',\n",
              "                                                     [key], {});\n",
              "          if (!dataTable) return;\n",
              "\n",
              "          const docLinkHtml = 'Like what you see? Visit the ' +\n",
              "            '<a target=\"_blank\" href=https://colab.research.google.com/notebooks/data_table.ipynb>data table notebook</a>'\n",
              "            + ' to learn more about interactive tables.';\n",
              "          element.innerHTML = '';\n",
              "          dataTable['output_type'] = 'display_data';\n",
              "          await google.colab.output.renderOutput(dataTable, element);\n",
              "          const docLink = document.createElement('div');\n",
              "          docLink.innerHTML = docLinkHtml;\n",
              "          element.appendChild(docLink);\n",
              "        }\n",
              "      </script>\n",
              "    </div>\n",
              "  </div>\n",
              "  "
            ]
          },
          "metadata": {},
          "execution_count": 6
        }
      ]
    },
    {
      "cell_type": "code",
      "source": [
        "bank_dmy.to_csv('Data Preprocessed.csv', index = False)"
      ],
      "metadata": {
        "id": "Vx18u5OfLwsj"
      },
      "execution_count": null,
      "outputs": []
    },
    {
      "cell_type": "code",
      "source": [
        "bank_dmy = pd.read_csv('/content/drive/MyDrive/Data Preprocessed.csv')"
      ],
      "metadata": {
        "id": "g7M6Z6ABDFuZ"
      },
      "execution_count": null,
      "outputs": []
    },
    {
      "cell_type": "code",
      "source": [
        "X = bank_dmy.drop(['y'], axis = 1)\n",
        "Y = bank_dmy['y']"
      ],
      "metadata": {
        "id": "mWyQCPYfQ1Gg"
      },
      "execution_count": null,
      "outputs": []
    },
    {
      "cell_type": "code",
      "source": [
        "#Untuk Data Klasifikasi\n",
        "X_trainc, X_testc, Y_trainc, Y_testc = train_test_split(X, Y, test_size = 0.3)"
      ],
      "metadata": {
        "id": "HN1bZeoWUsRR"
      },
      "execution_count": null,
      "outputs": []
    },
    {
      "cell_type": "code",
      "source": [
        "Y_trainc.value_counts().plot(kind = 'bar')"
      ],
      "metadata": {
        "colab": {
          "base_uri": "https://localhost:8080/",
          "height": 279
        },
        "id": "AIvZiD0kkA1B",
        "outputId": "84d29212-4d9b-43ec-ba03-8f1d5b0bddc6"
      },
      "execution_count": null,
      "outputs": [
        {
          "output_type": "execute_result",
          "data": {
            "text/plain": [
              "<matplotlib.axes._subplots.AxesSubplot at 0x7fee48b3b350>"
            ]
          },
          "metadata": {},
          "execution_count": 7
        },
        {
          "output_type": "display_data",
          "data": {
            "text/plain": [
              "<Figure size 432x288 with 1 Axes>"
            ],
            "image/png": "[encoded data removed]"
          },
          "metadata": {
            "needs_background": "light"
          }
        }
      ]
    },
    {
      "cell_type": "code",
      "source": [
        "Y_testc.value_counts().plot(kind = 'bar')"
      ],
      "metadata": {
        "colab": {
          "base_uri": "https://localhost:8080/",
          "height": 279
        },
        "id": "U5GaaVABkbGB",
        "outputId": "27587f0c-eec3-41b1-b92b-c4cd5af6a4a9"
      },
      "execution_count": null,
      "outputs": [
        {
          "output_type": "execute_result",
          "data": {
            "text/plain": [
              "<matplotlib.axes._subplots.AxesSubplot at 0x7fee48a81f10>"
            ]
          },
          "metadata": {},
          "execution_count": 8
        },
        {
          "output_type": "display_data",
          "data": {
            "text/plain": [
              "<Figure size 432x288 with 1 Axes>"
            ],
            "image/png": "[encoded data removed]"
          },
          "metadata": {
            "needs_background": "light"
          }
        }
      ]
    },
    {
      "cell_type": "code",
      "source": [
        "print(X_trainc.shape)\n",
        "print(X_testc.shape)\n",
        "print(Y_trainc.shape)\n",
        "print(Y_testc.shape)"
      ],
      "metadata": {
        "colab": {
          "base_uri": "https://localhost:8080/"
        },
        "id": "pe8X2V9aiEi4",
        "outputId": "5e917401-8ccd-45d9-deae-e8741d913a25"
      },
      "execution_count": null,
      "outputs": [
        {
          "output_type": "stream",
          "name": "stdout",
          "text": [
            "(28831, 39)\n",
            "(12357, 39)\n",
            "(28831,)\n",
            "(12357,)\n"
          ]
        }
      ]
    },
    {
      "cell_type": "code",
      "source": [
        "np.random.seed(123)"
      ],
      "metadata": {
        "id": "6aqF8P5EokiA"
      },
      "execution_count": null,
      "outputs": []
    },
    {
      "cell_type": "markdown",
      "source": [
        "# Modelling"
      ],
      "metadata": {
        "id": "SL_MmdgkkdB7"
      }
    },
    {
      "cell_type": "markdown",
      "source": [
        "## Decision Tree"
      ],
      "metadata": {
        "id": "en85XbUlknF_"
      }
    },
    {
      "cell_type": "code",
      "source": [
        "from sklearn.tree import DecisionTreeClassifier, plot_tree"
      ],
      "metadata": {
        "id": "FJe4eob2kewX"
      },
      "execution_count": null,
      "outputs": []
    },
    {
      "cell_type": "code",
      "source": [
        "clf1 = DecisionTreeClassifier(criterion = 'entropy') #Information Gain\n",
        "clf1.fit(X_trainc, Y_trainc)"
      ],
      "metadata": {
        "colab": {
          "base_uri": "https://localhost:8080/"
        },
        "id": "X0xG-ULYek2Z",
        "outputId": "cd45c594-6af8-48a6-f02c-b6b5b33cfe4d"
      },
      "execution_count": null,
      "outputs": [
        {
          "output_type": "execute_result",
          "data": {
            "text/plain": [
              "DecisionTreeClassifier(criterion='entropy')"
            ]
          },
          "metadata": {},
          "execution_count": 34
        }
      ]
    },
    {
      "cell_type": "code",
      "source": [
        "plot_tree(clf1)"
      ],
      "metadata": {
        "colab": {
          "base_uri": "https://localhost:8080/",
          "height": 1000
        },
        "id": "Tr5xcs4Li7mN",
        "outputId": "c583c70b-9807-48b6-8bc5-5e01d22f2c88"
      },
      "execution_count": null,
      "outputs": [
        {
          "output_type": "execute_result",
          "data": {
            "text/plain": [
              "[Text(0.36397975709630975, 0.9833333333333333, 'X[9] <= 5087.65\\nentropy = 0.51\\nsamples = 28831\\nvalue = [25561, 3270]'),\n",
              " Text(0.12328356571503153, 0.95, 'X[1] <= 158.5\\nentropy = 0.993\\nsamples = 3449\\nvalue = [1892, 1557]'),\n",
              " Text(0.020734223171667236, 0.9166666666666666, 'X[1] <= 80.5\\nentropy = 0.623\\nsamples = 1185\\nvalue = [1001, 184]'),\n",
              " Text(0.002727582679849983, 0.8833333333333333, 'X[1] <= 62.5\\nentropy = 0.183\\nsamples = 324\\nvalue = [315, 9]'),\n",
              " Text(0.002045687009887487, 0.85, 'entropy = 0.0\\nsamples = 179\\nvalue = [179, 0]'),\n",
              " Text(0.0034094783498124785, 0.85, 'X[1] <= 65.5\\nentropy = 0.336\\nsamples = 145\\nvalue = [136, 9]'),\n",
              " Text(0.0013637913399249914, 0.8166666666666667, 'X[3] <= 502.5\\nentropy = 0.837\\nsamples = 15\\nvalue = [11, 4]'),\n",
              " Text(0.0006818956699624957, 0.7833333333333333, 'entropy = 0.0\\nsamples = 3\\nvalue = [0, 3]'),\n",
              " Text(0.002045687009887487, 0.7833333333333333, 'X[16] <= 0.5\\nentropy = 0.414\\nsamples = 12\\nvalue = [11, 1]'),\n",
              " Text(0.0013637913399249914, 0.75, 'entropy = 0.0\\nsamples = 11\\nvalue = [11, 0]'),\n",
              " Text(0.002727582679849983, 0.75, 'entropy = 0.0\\nsamples = 1\\nvalue = [0, 1]'),\n",
              " Text(0.005455165359699966, 0.8166666666666667, 'X[0] <= 36.5\\nentropy = 0.235\\nsamples = 130\\nvalue = [125, 5]'),\n",
              " Text(0.00477326968973747, 0.7833333333333333, 'X[0] <= 27.5\\nentropy = 0.375\\nsamples = 69\\nvalue = [64, 5]'),\n",
              " Text(0.004091374019774974, 0.75, 'entropy = 0.0\\nsamples = 23\\nvalue = [23, 0]'),\n",
              " Text(0.005455165359699966, 0.75, 'X[2] <= 2.5\\nentropy = 0.496\\nsamples = 46\\nvalue = [41, 5]'),\n",
              " Text(0.004091374019774974, 0.7166666666666667, 'X[4] <= 0.5\\nentropy = 0.371\\nsamples = 42\\nvalue = [39, 3]'),\n",
              " Text(0.0034094783498124785, 0.6833333333333333, 'entropy = 0.0\\nsamples = 29\\nvalue = [29, 0]'),\n",
              " Text(0.00477326968973747, 0.6833333333333333, 'X[8] <= 1.261\\nentropy = 0.779\\nsamples = 13\\nvalue = [10, 3]'),\n",
              " Text(0.0034094783498124785, 0.65, 'X[0] <= 35.5\\nentropy = 0.469\\nsamples = 10\\nvalue = [9, 1]'),\n",
              " Text(0.002727582679849983, 0.6166666666666667, 'entropy = 0.0\\nsamples = 9\\nvalue = [9, 0]'),\n",
              " Text(0.004091374019774974, 0.6166666666666667, 'entropy = 0.0\\nsamples = 1\\nvalue = [0, 1]'),\n",
              " Text(0.006137061029662462, 0.65, 'X[0] <= 33.5\\nentropy = 0.918\\nsamples = 3\\nvalue = [1, 2]'),\n",
              " Text(0.005455165359699966, 0.6166666666666667, 'entropy = 0.0\\nsamples = 2\\nvalue = [0, 2]'),\n",
              " Text(0.006818956699624957, 0.6166666666666667, 'entropy = 0.0\\nsamples = 1\\nvalue = [1, 0]'),\n",
              " Text(0.006818956699624957, 0.7166666666666667, 'X[8] <= 1.056\\nentropy = 1.0\\nsamples = 4\\nvalue = [2, 2]'),\n",
              " Text(0.006137061029662462, 0.6833333333333333, 'entropy = 0.0\\nsamples = 2\\nvalue = [0, 2]'),\n",
              " Text(0.007500852369587453, 0.6833333333333333, 'entropy = 0.0\\nsamples = 2\\nvalue = [2, 0]'),\n",
              " Text(0.006137061029662462, 0.7833333333333333, 'entropy = 0.0\\nsamples = 61\\nvalue = [61, 0]'),\n",
              " Text(0.03874086366348449, 0.8833333333333333, 'X[3] <= 7.5\\nentropy = 0.728\\nsamples = 861\\nvalue = [686, 175]'),\n",
              " Text(0.020968291851346743, 0.85, 'X[2] <= 2.5\\nentropy = 0.973\\nsamples = 136\\nvalue = [81, 55]'),\n",
              " Text(0.017388339584043642, 0.8166666666666667, 'X[0] <= 73.5\\nentropy = 0.999\\nsamples = 109\\nvalue = [56, 53]'),\n",
              " Text(0.016706443914081145, 0.7833333333333333, 'X[3] <= 3.5\\nentropy = 0.997\\nsamples = 105\\nvalue = [56, 49]'),\n",
              " Text(0.01261506989430617, 0.75, 'X[8] <= 0.86\\nentropy = 0.968\\nsamples = 43\\nvalue = [17, 26]'),\n",
              " Text(0.010910330719399931, 0.7166666666666667, 'X[0] <= 66.5\\nentropy = 0.857\\nsamples = 32\\nvalue = [9, 23]'),\n",
              " Text(0.010228435049437436, 0.6833333333333333, 'X[4] <= 1.5\\nentropy = 0.736\\nsamples = 29\\nvalue = [6, 23]'),\n",
              " Text(0.008864643709512444, 0.65, 'X[8] <= 0.799\\nentropy = 0.485\\nsamples = 19\\nvalue = [2, 17]'),\n",
              " Text(0.008182748039549948, 0.6166666666666667, 'entropy = 0.0\\nsamples = 15\\nvalue = [0, 15]'),\n",
              " Text(0.00954653937947494, 0.6166666666666667, 'X[0] <= 35.5\\nentropy = 1.0\\nsamples = 4\\nvalue = [2, 2]'),\n",
              " Text(0.008864643709512444, 0.5833333333333334, 'entropy = 0.0\\nsamples = 2\\nvalue = [0, 2]'),\n",
              " Text(0.010228435049437436, 0.5833333333333334, 'entropy = 0.0\\nsamples = 2\\nvalue = [2, 0]'),\n",
              " Text(0.011592226389362428, 0.65, 'X[1] <= 108.5\\nentropy = 0.971\\nsamples = 10\\nvalue = [4, 6]'),\n",
              " Text(0.010910330719399931, 0.6166666666666667, 'entropy = 0.0\\nsamples = 4\\nvalue = [0, 4]'),\n",
              " Text(0.012274122059324924, 0.6166666666666667, 'X[13] <= 0.5\\nentropy = 0.918\\nsamples = 6\\nvalue = [4, 2]'),\n",
              " Text(0.011592226389362428, 0.5833333333333334, 'entropy = 0.0\\nsamples = 4\\nvalue = [4, 0]'),\n",
              " Text(0.012956017729287419, 0.5833333333333334, 'entropy = 0.0\\nsamples = 2\\nvalue = [0, 2]'),\n",
              " Text(0.011592226389362428, 0.6833333333333333, 'entropy = 0.0\\nsamples = 3\\nvalue = [3, 0]'),\n",
              " Text(0.014319809069212411, 0.7166666666666667, 'X[8] <= 1.166\\nentropy = 0.845\\nsamples = 11\\nvalue = [8, 3]'),\n",
              " Text(0.013637913399249914, 0.6833333333333333, 'entropy = 0.0\\nsamples = 5\\nvalue = [5, 0]'),\n",
              " Text(0.015001704739174906, 0.6833333333333333, 'X[4] <= 1.5\\nentropy = 1.0\\nsamples = 6\\nvalue = [3, 3]'),\n",
              " Text(0.014319809069212411, 0.65, 'X[8] <= 1.261\\nentropy = 0.811\\nsamples = 4\\nvalue = [3, 1]'),\n",
              " Text(0.013637913399249914, 0.6166666666666667, 'entropy = 0.0\\nsamples = 1\\nvalue = [0, 1]'),\n",
              " Text(0.015001704739174906, 0.6166666666666667, 'entropy = 0.0\\nsamples = 3\\nvalue = [3, 0]'),\n",
              " Text(0.015683600409137403, 0.65, 'entropy = 0.0\\nsamples = 2\\nvalue = [0, 2]'),\n",
              " Text(0.02079781793385612, 0.75, 'X[1] <= 129.5\\nentropy = 0.951\\nsamples = 62\\nvalue = [39, 23]'),\n",
              " Text(0.01909307875894988, 0.7166666666666667, 'X[5] <= -3.2\\nentropy = 0.734\\nsamples = 34\\nvalue = [27, 7]'),\n",
              " Text(0.017729287419024888, 0.6833333333333333, 'X[1] <= 119.5\\nentropy = 0.961\\nsamples = 13\\nvalue = [8, 5]'),\n",
              " Text(0.017047391749062394, 0.65, 'X[1] <= 103.0\\nentropy = 0.722\\nsamples = 10\\nvalue = [8, 2]'),\n",
              " Text(0.016365496079099897, 0.6166666666666667, 'X[7] <= -28.5\\nentropy = 1.0\\nsamples = 4\\nvalue = [2, 2]'),\n",
              " Text(0.015683600409137403, 0.5833333333333334, 'entropy = 0.0\\nsamples = 2\\nvalue = [2, 0]'),\n",
              " Text(0.017047391749062394, 0.5833333333333334, 'entropy = 0.0\\nsamples = 2\\nvalue = [0, 2]'),\n",
              " Text(0.017729287419024888, 0.6166666666666667, 'entropy = 0.0\\nsamples = 6\\nvalue = [6, 0]'),\n",
              " Text(0.018411183088987385, 0.65, 'entropy = 0.0\\nsamples = 3\\nvalue = [0, 3]'),\n",
              " Text(0.020456870098874872, 0.6833333333333333, 'X[0] <= 31.5\\nentropy = 0.454\\nsamples = 21\\nvalue = [19, 2]'),\n",
              " Text(0.019774974428912375, 0.65, 'X[8] <= 0.66\\nentropy = 0.722\\nsamples = 10\\nvalue = [8, 2]'),\n",
              " Text(0.01909307875894988, 0.6166666666666667, 'entropy = 0.0\\nsamples = 1\\nvalue = [0, 1]'),\n",
              " Text(0.020456870098874872, 0.6166666666666667, 'X[8] <= 1.15\\nentropy = 0.503\\nsamples = 9\\nvalue = [8, 1]'),\n",
              " Text(0.019774974428912375, 0.5833333333333334, 'entropy = 0.0\\nsamples = 8\\nvalue = [8, 0]'),\n",
              " Text(0.02113876576883737, 0.5833333333333334, 'entropy = 0.0\\nsamples = 1\\nvalue = [0, 1]'),\n",
              " Text(0.02113876576883737, 0.65, 'entropy = 0.0\\nsamples = 11\\nvalue = [11, 0]'),\n",
              " Text(0.02250255710876236, 0.7166666666666667, 'X[8] <= 0.716\\nentropy = 0.985\\nsamples = 28\\nvalue = [12, 16]'),\n",
              " Text(0.021820661438799863, 0.6833333333333333, 'entropy = 0.0\\nsamples = 5\\nvalue = [0, 5]'),\n",
              " Text(0.023184452778724857, 0.6833333333333333, 'X[8] <= 0.734\\nentropy = 0.999\\nsamples = 23\\nvalue = [12, 11]'),\n",
              " Text(0.02250255710876236, 0.65, 'entropy = 0.0\\nsamples = 4\\nvalue = [4, 0]'),\n",
              " Text(0.02386634844868735, 0.65, 'X[21] <= 0.5\\nentropy = 0.982\\nsamples = 19\\nvalue = [8, 11]'),\n",
              " Text(0.023184452778724857, 0.6166666666666667, 'X[8] <= 0.896\\nentropy = 1.0\\nsamples = 16\\nvalue = [8, 8]'),\n",
              " Text(0.02250255710876236, 0.5833333333333334, 'X[3] <= 5.0\\nentropy = 0.985\\nsamples = 14\\nvalue = [8, 6]'),\n",
              " Text(0.02113876576883737, 0.55, 'X[16] <= 0.5\\nentropy = 0.65\\nsamples = 6\\nvalue = [5, 1]'),\n",
              " Text(0.020456870098874872, 0.5166666666666667, 'entropy = 0.0\\nsamples = 5\\nvalue = [5, 0]'),\n",
              " Text(0.021820661438799863, 0.5166666666666667, 'entropy = 0.0\\nsamples = 1\\nvalue = [0, 1]'),\n",
              " Text(0.02386634844868735, 0.55, 'X[1] <= 147.5\\nentropy = 0.954\\nsamples = 8\\nvalue = [3, 5]'),\n",
              " Text(0.023184452778724857, 0.5166666666666667, 'X[1] <= 138.5\\nentropy = 0.971\\nsamples = 5\\nvalue = [3, 2]'),\n",
              " Text(0.02250255710876236, 0.48333333333333334, 'entropy = 0.0\\nsamples = 2\\nvalue = [0, 2]'),\n",
              " Text(0.02386634844868735, 0.48333333333333334, 'entropy = 0.0\\nsamples = 3\\nvalue = [3, 0]'),\n",
              " Text(0.024548244118649847, 0.5166666666666667, 'entropy = 0.0\\nsamples = 3\\nvalue = [0, 3]'),\n",
              " Text(0.02386634844868735, 0.5833333333333334, 'entropy = 0.0\\nsamples = 2\\nvalue = [0, 2]'),\n",
              " Text(0.024548244118649847, 0.6166666666666667, 'entropy = 0.0\\nsamples = 3\\nvalue = [0, 3]'),\n",
              " Text(0.018070235254006136, 0.7833333333333333, 'entropy = 0.0\\nsamples = 4\\nvalue = [0, 4]'),\n",
              " Text(0.024548244118649847, 0.8166666666666667, 'X[3] <= 1.0\\nentropy = 0.381\\nsamples = 27\\nvalue = [25, 2]'),\n",
              " Text(0.02386634844868735, 0.7833333333333333, 'entropy = 0.0\\nsamples = 1\\nvalue = [0, 1]'),\n",
              " Text(0.02523013978861234, 0.7833333333333333, 'X[6] <= 92.316\\nentropy = 0.235\\nsamples = 26\\nvalue = [25, 1]'),\n",
              " Text(0.024548244118649847, 0.75, 'X[22] <= 0.5\\nentropy = 0.918\\nsamples = 3\\nvalue = [2, 1]'),\n",
              " Text(0.02386634844868735, 0.7166666666666667, 'entropy = 0.0\\nsamples = 1\\nvalue = [0, 1]'),\n",
              " Text(0.02523013978861234, 0.7166666666666667, 'entropy = 0.0\\nsamples = 2\\nvalue = [2, 0]'),\n",
              " Text(0.025912035458574838, 0.75, 'entropy = 0.0\\nsamples = 23\\nvalue = [23, 0]'),\n",
              " Text(0.05651343547562223, 0.85, 'X[1] <= 124.5\\nentropy = 0.647\\nsamples = 725\\nvalue = [605, 120]'),\n",
              " Text(0.03622570746675759, 0.8166666666666667, 'X[4] <= 1.5\\nentropy = 0.497\\nsamples = 404\\nvalue = [360, 44]'),\n",
              " Text(0.03554381179679509, 0.7833333333333333, 'X[8] <= 0.635\\nentropy = 0.54\\nsamples = 356\\nvalue = [312, 44]'),\n",
              " Text(0.034180020456870096, 0.75, 'X[1] <= 112.0\\nentropy = 0.811\\nsamples = 4\\nvalue = [1, 3]'),\n",
              " Text(0.033498124786907606, 0.7166666666666667, 'entropy = 0.0\\nsamples = 3\\nvalue = [0, 3]'),\n",
              " Text(0.03486191612683259, 0.7166666666666667, 'entropy = 0.0\\nsamples = 1\\nvalue = [1, 0]'),\n",
              " Text(0.036907603136720084, 0.75, 'X[1] <= 121.5\\nentropy = 0.519\\nsamples = 352\\nvalue = [311, 41]'),\n",
              " Text(0.03622570746675759, 0.7166666666666667, 'X[34] <= 0.5\\nentropy = 0.547\\nsamples = 325\\nvalue = [284, 41]'),\n",
              " Text(0.031878622570746674, 0.6833333333333333, 'X[0] <= 32.5\\nentropy = 0.414\\nsamples = 144\\nvalue = [132, 12]'),\n",
              " Text(0.028980565973406067, 0.65, 'X[10] <= 0.5\\nentropy = 0.68\\nsamples = 50\\nvalue = [41, 9]'),\n",
              " Text(0.027616774633481077, 0.6166666666666667, 'X[1] <= 83.5\\nentropy = 0.607\\nsamples = 47\\nvalue = [40, 7]'),\n",
              " Text(0.026934878963518583, 0.5833333333333334, 'entropy = 0.0\\nsamples = 1\\nvalue = [0, 1]'),\n",
              " Text(0.028298670303443574, 0.5833333333333334, 'X[8] <= 0.729\\nentropy = 0.559\\nsamples = 46\\nvalue = [40, 6]'),\n",
              " Text(0.026593931128537335, 0.55, 'X[22] <= 0.5\\nentropy = 0.918\\nsamples = 9\\nvalue = [6, 3]'),\n",
              " Text(0.025912035458574838, 0.5166666666666667, 'entropy = 0.0\\nsamples = 3\\nvalue = [3, 0]'),\n",
              " Text(0.02727582679849983, 0.5166666666666667, 'X[1] <= 105.5\\nentropy = 1.0\\nsamples = 6\\nvalue = [3, 3]'),\n",
              " Text(0.026593931128537335, 0.48333333333333334, 'X[0] <= 30.0\\nentropy = 0.811\\nsamples = 4\\nvalue = [3, 1]'),\n",
              " Text(0.025912035458574838, 0.45, 'entropy = 0.0\\nsamples = 3\\nvalue = [3, 0]'),\n",
              " Text(0.02727582679849983, 0.45, 'entropy = 0.0\\nsamples = 1\\nvalue = [0, 1]'),\n",
              " Text(0.027957722468462325, 0.48333333333333334, 'entropy = 0.0\\nsamples = 2\\nvalue = [0, 2]'),\n",
              " Text(0.030003409478349813, 0.55, 'X[8] <= 0.88\\nentropy = 0.406\\nsamples = 37\\nvalue = [34, 3]'),\n",
              " Text(0.029321513808387316, 0.5166666666666667, 'entropy = 0.0\\nsamples = 16\\nvalue = [16, 0]'),\n",
              " Text(0.03068530514831231, 0.5166666666666667, 'X[8] <= 0.936\\nentropy = 0.592\\nsamples = 21\\nvalue = [18, 3]'),\n",
              " Text(0.029321513808387316, 0.48333333333333334, 'X[17] <= 0.5\\nentropy = 0.918\\nsamples = 3\\nvalue = [1, 2]'),\n",
              " Text(0.028639618138424822, 0.45, 'entropy = 0.0\\nsamples = 2\\nvalue = [0, 2]'),\n",
              " Text(0.030003409478349813, 0.45, 'entropy = 0.0\\nsamples = 1\\nvalue = [1, 0]'),\n",
              " Text(0.0320490964882373, 0.48333333333333334, 'X[1] <= 113.5\\nentropy = 0.31\\nsamples = 18\\nvalue = [17, 1]'),\n",
              " Text(0.03136720081827481, 0.45, 'entropy = 0.0\\nsamples = 13\\nvalue = [13, 0]'),\n",
              " Text(0.032730992158199794, 0.45, 'X[8] <= 1.263\\nentropy = 0.722\\nsamples = 5\\nvalue = [4, 1]'),\n",
              " Text(0.0320490964882373, 0.4166666666666667, 'entropy = 0.0\\nsamples = 4\\nvalue = [4, 0]'),\n",
              " Text(0.03341288782816229, 0.4166666666666667, 'entropy = 0.0\\nsamples = 1\\nvalue = [0, 1]'),\n",
              " Text(0.03034435731333106, 0.6166666666666667, 'X[7] <= -34.2\\nentropy = 0.918\\nsamples = 3\\nvalue = [1, 2]'),\n",
              " Text(0.029662461643368564, 0.5833333333333334, 'entropy = 0.0\\nsamples = 1\\nvalue = [1, 0]'),\n",
              " Text(0.031026252983293555, 0.5833333333333334, 'entropy = 0.0\\nsamples = 2\\nvalue = [0, 2]'),\n",
              " Text(0.034776679168087285, 0.65, 'X[31] <= 0.5\\nentropy = 0.204\\nsamples = 94\\nvalue = [91, 3]'),\n",
              " Text(0.03409478349812479, 0.6166666666666667, 'X[1] <= 105.5\\nentropy = 0.15\\nsamples = 93\\nvalue = [91, 2]'),\n",
              " Text(0.03341288782816229, 0.5833333333333334, 'entropy = 0.0\\nsamples = 53\\nvalue = [53, 0]'),\n",
              " Text(0.034776679168087285, 0.5833333333333334, 'X[6] <= 94.207\\nentropy = 0.286\\nsamples = 40\\nvalue = [38, 2]'),\n",
              " Text(0.03341288782816229, 0.55, 'X[29] <= 0.5\\nentropy = 0.176\\nsamples = 38\\nvalue = [37, 1]'),\n",
              " Text(0.032730992158199794, 0.5166666666666667, 'entropy = 0.0\\nsamples = 35\\nvalue = [35, 0]'),\n",
              " Text(0.03409478349812479, 0.5166666666666667, 'X[37] <= 0.5\\nentropy = 0.918\\nsamples = 3\\nvalue = [2, 1]'),\n",
              " Text(0.03341288782816229, 0.48333333333333334, 'entropy = 0.0\\nsamples = 2\\nvalue = [2, 0]'),\n",
              " Text(0.034776679168087285, 0.48333333333333334, 'entropy = 0.0\\nsamples = 1\\nvalue = [0, 1]'),\n",
              " Text(0.03614047050801227, 0.55, 'X[9] <= 4977.6\\nentropy = 1.0\\nsamples = 2\\nvalue = [1, 1]'),\n",
              " Text(0.035458574838049775, 0.5166666666666667, 'entropy = 0.0\\nsamples = 1\\nvalue = [1, 0]'),\n",
              " Text(0.03682236617797477, 0.5166666666666667, 'entropy = 0.0\\nsamples = 1\\nvalue = [0, 1]'),\n",
              " Text(0.035458574838049775, 0.6166666666666667, 'entropy = 0.0\\nsamples = 1\\nvalue = [0, 1]'),\n",
              " Text(0.0405727923627685, 0.6833333333333333, 'X[6] <= 92.29\\nentropy = 0.635\\nsamples = 181\\nvalue = [152, 29]'),\n",
              " Text(0.03818615751789976, 0.65, 'X[0] <= 57.5\\nentropy = 0.371\\nsamples = 42\\nvalue = [39, 3]'),\n",
              " Text(0.037504261847937266, 0.6166666666666667, 'entropy = 0.0\\nsamples = 32\\nvalue = [32, 0]'),\n",
              " Text(0.03886805318786226, 0.6166666666666667, 'X[29] <= 0.5\\nentropy = 0.881\\nsamples = 10\\nvalue = [7, 3]'),\n",
              " Text(0.03818615751789976, 0.5833333333333334, 'X[1] <= 115.0\\nentropy = 0.544\\nsamples = 8\\nvalue = [7, 1]'),\n",
              " Text(0.037504261847937266, 0.55, 'entropy = 0.0\\nsamples = 7\\nvalue = [7, 0]'),\n",
              " Text(0.03886805318786226, 0.55, 'entropy = 0.0\\nsamples = 1\\nvalue = [0, 1]'),\n",
              " Text(0.03954994885782475, 0.5833333333333334, 'entropy = 0.0\\nsamples = 2\\nvalue = [0, 2]'),\n",
              " Text(0.04295942720763723, 0.65, 'X[1] <= 120.5\\nentropy = 0.695\\nsamples = 139\\nvalue = [113, 26]'),\n",
              " Text(0.04159563586771224, 0.6166666666666667, 'X[18] <= 0.5\\nentropy = 0.672\\nsamples = 136\\nvalue = [112, 24]'),\n",
              " Text(0.040913740197749744, 0.5833333333333334, 'X[2] <= 6.5\\nentropy = 0.722\\nsamples = 120\\nvalue = [96, 24]'),\n",
              " Text(0.04023184452778725, 0.55, 'X[2] <= 3.5\\nentropy = 0.708\\nsamples = 119\\nvalue = [96, 23]'),\n",
              " Text(0.03954994885782475, 0.5166666666666667, 'X[15] <= 0.5\\nentropy = 0.747\\nsamples = 108\\nvalue = [85, 23]'),\n",
              " Text(0.03886805318786226, 0.48333333333333334, 'X[1] <= 115.5\\nentropy = 0.77\\nsamples = 102\\nvalue = [79, 23]'),\n",
              " Text(0.03818615751789976, 0.45, 'X[8] <= 0.732\\nentropy = 0.79\\nsamples = 97\\nvalue = [74, 23]'),\n",
              " Text(0.03481929764745994, 0.4166666666666667, 'X[27] <= 0.5\\nentropy = 0.579\\nsamples = 29\\nvalue = [25, 4]'),\n",
              " Text(0.032773610637572455, 0.38333333333333336, 'X[29] <= 0.5\\nentropy = 0.267\\nsamples = 22\\nvalue = [21, 1]'),\n",
              " Text(0.03209171496760996, 0.35, 'entropy = 0.0\\nsamples = 19\\nvalue = [19, 0]'),\n",
              " Text(0.033455506307534945, 0.35, 'X[0] <= 71.5\\nentropy = 0.918\\nsamples = 3\\nvalue = [2, 1]'),\n",
              " Text(0.032773610637572455, 0.31666666666666665, 'entropy = 0.0\\nsamples = 1\\nvalue = [0, 1]'),\n",
              " Text(0.03413740197749744, 0.31666666666666665, 'entropy = 0.0\\nsamples = 2\\nvalue = [2, 0]'),\n",
              " Text(0.03686498465734742, 0.38333333333333336, 'X[0] <= 36.5\\nentropy = 0.985\\nsamples = 7\\nvalue = [4, 3]'),\n",
              " Text(0.03618308898738493, 0.35, 'X[8] <= 0.717\\nentropy = 0.811\\nsamples = 4\\nvalue = [1, 3]'),\n",
              " Text(0.035501193317422436, 0.31666666666666665, 'entropy = 0.0\\nsamples = 3\\nvalue = [0, 3]'),\n",
              " Text(0.03686498465734742, 0.31666666666666665, 'entropy = 0.0\\nsamples = 1\\nvalue = [1, 0]'),\n",
              " Text(0.03754688032730992, 0.35, 'entropy = 0.0\\nsamples = 3\\nvalue = [3, 0]'),\n",
              " Text(0.04155301738833959, 0.4166666666666667, 'X[1] <= 87.5\\nentropy = 0.855\\nsamples = 68\\nvalue = [49, 19]'),\n",
              " Text(0.03959256733719741, 0.38333333333333336, 'X[0] <= 40.0\\nentropy = 0.918\\nsamples = 6\\nvalue = [2, 4]'),\n",
              " Text(0.038910671667234914, 0.35, 'X[2] <= 1.5\\nentropy = 0.918\\nsamples = 3\\nvalue = [2, 1]'),\n",
              " Text(0.03822877599727242, 0.31666666666666665, 'entropy = 0.0\\nsamples = 1\\nvalue = [0, 1]'),\n",
              " Text(0.03959256733719741, 0.31666666666666665, 'entropy = 0.0\\nsamples = 2\\nvalue = [2, 0]'),\n",
              " Text(0.0402744630071599, 0.35, 'entropy = 0.0\\nsamples = 3\\nvalue = [0, 3]'),\n",
              " Text(0.04351346743948176, 0.38333333333333336, 'X[0] <= 58.5\\nentropy = 0.798\\nsamples = 62\\nvalue = [47, 15]'),\n",
              " Text(0.04283157176951927, 0.35, 'X[27] <= 0.5\\nentropy = 0.86\\nsamples = 53\\nvalue = [38, 15]'),\n",
              " Text(0.0409563586771224, 0.31666666666666665, 'X[1] <= 96.5\\nentropy = 0.926\\nsamples = 41\\nvalue = [27, 14]'),\n",
              " Text(0.03925161950221616, 0.2833333333333333, 'X[0] <= 32.5\\nentropy = 0.439\\nsamples = 11\\nvalue = [10, 1]'),\n",
              " Text(0.03856972383225366, 0.25, 'X[0] <= 29.0\\nentropy = 0.918\\nsamples = 3\\nvalue = [2, 1]'),\n",
              " Text(0.03788782816229117, 0.21666666666666667, 'entropy = 0.0\\nsamples = 2\\nvalue = [2, 0]'),\n",
              " Text(0.03925161950221616, 0.21666666666666667, 'entropy = 0.0\\nsamples = 1\\nvalue = [0, 1]'),\n",
              " Text(0.039933515172178656, 0.25, 'entropy = 0.0\\nsamples = 8\\nvalue = [8, 0]'),\n",
              " Text(0.04266109785202864, 0.2833333333333333, 'X[0] <= 46.5\\nentropy = 0.987\\nsamples = 30\\nvalue = [17, 13]'),\n",
              " Text(0.04129730651210365, 0.25, 'X[0] <= 25.5\\nentropy = 0.918\\nsamples = 24\\nvalue = [16, 8]'),\n",
              " Text(0.04061541084214115, 0.21666666666666667, 'entropy = 0.0\\nsamples = 2\\nvalue = [0, 2]'),\n",
              " Text(0.04197920218206615, 0.21666666666666667, 'X[1] <= 105.5\\nentropy = 0.845\\nsamples = 22\\nvalue = [16, 6]'),\n",
              " Text(0.04061541084214115, 0.18333333333333332, 'X[6] <= 92.716\\nentropy = 0.985\\nsamples = 7\\nvalue = [3, 4]'),\n",
              " Text(0.039933515172178656, 0.15, 'entropy = 0.0\\nsamples = 3\\nvalue = [0, 3]'),\n",
              " Text(0.04129730651210365, 0.15, 'X[37] <= 0.5\\nentropy = 0.811\\nsamples = 4\\nvalue = [3, 1]'),\n",
              " Text(0.04061541084214115, 0.11666666666666667, 'entropy = 0.0\\nsamples = 3\\nvalue = [3, 0]'),\n",
              " Text(0.04197920218206615, 0.11666666666666667, 'entropy = 0.0\\nsamples = 1\\nvalue = [0, 1]'),\n",
              " Text(0.043342993521991134, 0.18333333333333332, 'X[17] <= 0.5\\nentropy = 0.567\\nsamples = 15\\nvalue = [13, 2]'),\n",
              " Text(0.04266109785202864, 0.15, 'entropy = 0.0\\nsamples = 12\\nvalue = [12, 0]'),\n",
              " Text(0.04402488919195363, 0.15, 'X[0] <= 26.5\\nentropy = 0.918\\nsamples = 3\\nvalue = [1, 2]'),\n",
              " Text(0.043342993521991134, 0.11666666666666667, 'entropy = 0.0\\nsamples = 1\\nvalue = [1, 0]'),\n",
              " Text(0.04470678486191613, 0.11666666666666667, 'entropy = 0.0\\nsamples = 2\\nvalue = [0, 2]'),\n",
              " Text(0.04402488919195363, 0.25, 'X[29] <= 0.5\\nentropy = 0.65\\nsamples = 6\\nvalue = [1, 5]'),\n",
              " Text(0.043342993521991134, 0.21666666666666667, 'entropy = 0.0\\nsamples = 5\\nvalue = [0, 5]'),\n",
              " Text(0.04470678486191613, 0.21666666666666667, 'entropy = 0.0\\nsamples = 1\\nvalue = [1, 0]'),\n",
              " Text(0.04470678486191613, 0.31666666666666665, 'X[1] <= 89.5\\nentropy = 0.414\\nsamples = 12\\nvalue = [11, 1]'),\n",
              " Text(0.04402488919195363, 0.2833333333333333, 'entropy = 0.0\\nsamples = 1\\nvalue = [0, 1]'),\n",
              " Text(0.045388680531878625, 0.2833333333333333, 'entropy = 0.0\\nsamples = 11\\nvalue = [11, 0]'),\n",
              " Text(0.044195363109444254, 0.35, 'entropy = 0.0\\nsamples = 9\\nvalue = [9, 0]'),\n",
              " Text(0.03954994885782475, 0.45, 'entropy = 0.0\\nsamples = 5\\nvalue = [5, 0]'),\n",
              " Text(0.04023184452778725, 0.48333333333333334, 'entropy = 0.0\\nsamples = 6\\nvalue = [6, 0]'),\n",
              " Text(0.040913740197749744, 0.5166666666666667, 'entropy = 0.0\\nsamples = 11\\nvalue = [11, 0]'),\n",
              " Text(0.04159563586771224, 0.55, 'entropy = 0.0\\nsamples = 1\\nvalue = [0, 1]'),\n",
              " Text(0.04227753153767474, 0.5833333333333334, 'entropy = 0.0\\nsamples = 16\\nvalue = [16, 0]'),\n",
              " Text(0.04432321854756222, 0.6166666666666667, 'X[9] <= 5013.1\\nentropy = 0.918\\nsamples = 3\\nvalue = [1, 2]'),\n",
              " Text(0.043641322877599725, 0.5833333333333334, 'entropy = 0.0\\nsamples = 1\\nvalue = [1, 0]'),\n",
              " Text(0.04500511421752472, 0.5833333333333334, 'entropy = 0.0\\nsamples = 2\\nvalue = [0, 2]'),\n",
              " Text(0.03758949880668258, 0.7166666666666667, 'entropy = 0.0\\nsamples = 27\\nvalue = [27, 0]'),\n",
              " Text(0.036907603136720084, 0.7833333333333333, 'entropy = 0.0\\nsamples = 48\\nvalue = [48, 0]'),\n",
              " Text(0.07680116348448687, 0.8166666666666667, 'X[6] <= 93.812\\nentropy = 0.79\\nsamples = 321\\nvalue = [245, 76]'),\n",
              " Text(0.07224364984657347, 0.7833333333333333, 'X[21] <= 0.5\\nentropy = 0.848\\nsamples = 255\\nvalue = [185, 70]'),\n",
              " Text(0.0675609444255029, 0.75, 'X[13] <= 0.5\\nentropy = 0.886\\nsamples = 224\\nvalue = [156, 68]'),\n",
              " Text(0.06296880327309921, 0.7166666666666667, 'X[7] <= -28.35\\nentropy = 0.86\\nsamples = 212\\nvalue = [152, 60]'),\n",
              " Text(0.055830207978179336, 0.6833333333333333, 'X[3] <= 13.0\\nentropy = 0.816\\nsamples = 182\\nvalue = [136, 46]'),\n",
              " Text(0.055148312308216846, 0.65, 'entropy = 0.0\\nsamples = 2\\nvalue = [0, 2]'),\n",
              " Text(0.05651210364814183, 0.65, 'X[0] <= 25.5\\nentropy = 0.802\\nsamples = 180\\nvalue = [136, 44]'),\n",
              " Text(0.04828673712921923, 0.6166666666666667, 'X[36] <= 0.5\\nentropy = 0.976\\nsamples = 22\\nvalue = [13, 9]'),\n",
              " Text(0.04760484145925673, 0.5833333333333334, 'X[8] <= 0.88\\nentropy = 0.9\\nsamples = 19\\nvalue = [13, 6]'),\n",
              " Text(0.046922945789294235, 0.55, 'X[7] <= -34.7\\nentropy = 0.985\\nsamples = 14\\nvalue = [8, 6]'),\n",
              " Text(0.046241050119331745, 0.5166666666666667, 'entropy = 0.0\\nsamples = 3\\nvalue = [0, 3]'),\n",
              " Text(0.04760484145925673, 0.5166666666666667, 'X[2] <= 1.5\\nentropy = 0.845\\nsamples = 11\\nvalue = [8, 3]'),\n",
              " Text(0.046922945789294235, 0.48333333333333334, 'X[27] <= 0.5\\nentropy = 0.985\\nsamples = 7\\nvalue = [4, 3]'),\n",
              " Text(0.046241050119331745, 0.45, 'X[17] <= 0.5\\nentropy = 0.971\\nsamples = 5\\nvalue = [2, 3]'),\n",
              " Text(0.04555915444936925, 0.4166666666666667, 'X[1] <= 152.5\\nentropy = 0.918\\nsamples = 3\\nvalue = [2, 1]'),\n",
              " Text(0.04487725877940675, 0.38333333333333336, 'entropy = 0.0\\nsamples = 2\\nvalue = [2, 0]'),\n",
              " Text(0.046241050119331745, 0.38333333333333336, 'entropy = 0.0\\nsamples = 1\\nvalue = [0, 1]'),\n",
              " Text(0.046922945789294235, 0.4166666666666667, 'entropy = 0.0\\nsamples = 2\\nvalue = [0, 2]'),\n",
              " Text(0.04760484145925673, 0.45, 'entropy = 0.0\\nsamples = 2\\nvalue = [2, 0]'),\n",
              " Text(0.04828673712921923, 0.48333333333333334, 'entropy = 0.0\\nsamples = 4\\nvalue = [4, 0]'),\n",
              " Text(0.04828673712921923, 0.55, 'entropy = 0.0\\nsamples = 5\\nvalue = [5, 0]'),\n",
              " Text(0.048968632799181726, 0.5833333333333334, 'entropy = 0.0\\nsamples = 3\\nvalue = [0, 3]'),\n",
              " Text(0.06473747016706444, 0.6166666666666667, 'X[0] <= 78.5\\nentropy = 0.763\\nsamples = 158\\nvalue = [123, 35]'),\n",
              " Text(0.06209512444595977, 0.5833333333333334, 'X[8] <= 1.275\\nentropy = 0.747\\nsamples = 155\\nvalue = [122, 33]'),\n",
              " Text(0.058856120013637915, 0.55, 'X[27] <= 0.5\\nentropy = 0.73\\nsamples = 152\\nvalue = [121, 31]'),\n",
              " Text(0.05442379815888169, 0.5166666666666667, 'X[8] <= 1.261\\nentropy = 0.66\\nsamples = 117\\nvalue = [97, 20]'),\n",
              " Text(0.0537419024889192, 0.48333333333333334, 'X[34] <= 0.5\\nentropy = 0.706\\nsamples = 104\\nvalue = [84, 20]'),\n",
              " Text(0.05033242413910672, 0.45, 'X[8] <= 1.248\\nentropy = 0.433\\nsamples = 45\\nvalue = [41, 4]'),\n",
              " Text(0.04828673712921923, 0.4166666666666667, 'X[30] <= 0.5\\nentropy = 0.176\\nsamples = 38\\nvalue = [37, 1]'),\n",
              " Text(0.04760484145925673, 0.38333333333333336, 'entropy = 0.0\\nsamples = 34\\nvalue = [34, 0]'),\n",
              " Text(0.048968632799181726, 0.38333333333333336, 'X[4] <= 0.5\\nentropy = 0.811\\nsamples = 4\\nvalue = [3, 1]'),\n",
              " Text(0.04828673712921923, 0.35, 'entropy = 0.0\\nsamples = 3\\nvalue = [3, 0]'),\n",
              " Text(0.04965052846914422, 0.35, 'entropy = 0.0\\nsamples = 1\\nvalue = [0, 1]'),\n",
              " Text(0.052378111148994204, 0.4166666666666667, 'X[18] <= 0.5\\nentropy = 0.985\\nsamples = 7\\nvalue = [4, 3]'),\n",
              " Text(0.05169621547903171, 0.38333333333333336, 'X[16] <= 0.5\\nentropy = 0.722\\nsamples = 5\\nvalue = [4, 1]'),\n",
              " Text(0.05101431980906921, 0.35, 'entropy = 0.0\\nsamples = 4\\nvalue = [4, 0]'),\n",
              " Text(0.052378111148994204, 0.35, 'entropy = 0.0\\nsamples = 1\\nvalue = [0, 1]'),\n",
              " Text(0.0530600068189567, 0.38333333333333336, 'entropy = 0.0\\nsamples = 2\\nvalue = [0, 2]'),\n",
              " Text(0.057151380838731676, 0.45, 'X[36] <= 0.5\\nentropy = 0.843\\nsamples = 59\\nvalue = [43, 16]'),\n",
              " Text(0.05646948516876918, 0.4166666666666667, 'X[6] <= 92.838\\nentropy = 0.904\\nsamples = 50\\nvalue = [34, 16]'),\n",
              " Text(0.05442379815888169, 0.38333333333333336, 'X[8] <= 0.715\\nentropy = 0.989\\nsamples = 32\\nvalue = [18, 14]'),\n",
              " Text(0.0537419024889192, 0.35, 'entropy = 0.0\\nsamples = 3\\nvalue = [0, 3]'),\n",
              " Text(0.055105693828844185, 0.35, 'X[8] <= 0.755\\nentropy = 0.958\\nsamples = 29\\nvalue = [18, 11]'),\n",
              " Text(0.05442379815888169, 0.31666666666666665, 'entropy = 0.0\\nsamples = 3\\nvalue = [3, 0]'),\n",
              " Text(0.05578758949880668, 0.31666666666666665, 'X[1] <= 127.5\\nentropy = 0.983\\nsamples = 26\\nvalue = [15, 11]'),\n",
              " Text(0.055105693828844185, 0.2833333333333333, 'entropy = 0.0\\nsamples = 2\\nvalue = [0, 2]'),\n",
              " Text(0.05646948516876918, 0.2833333333333333, 'X[1] <= 138.5\\nentropy = 0.954\\nsamples = 24\\nvalue = [15, 9]'),\n",
              " Text(0.05578758949880668, 0.25, 'entropy = 0.0\\nsamples = 6\\nvalue = [6, 0]'),\n",
              " Text(0.057151380838731676, 0.25, 'X[1] <= 156.5\\nentropy = 1.0\\nsamples = 18\\nvalue = [9, 9]'),\n",
              " Text(0.05646948516876918, 0.21666666666666667, 'X[8] <= 0.882\\nentropy = 0.989\\nsamples = 16\\nvalue = [7, 9]'),\n",
              " Text(0.05578758949880668, 0.18333333333333332, 'X[22] <= 0.5\\nentropy = 1.0\\nsamples = 14\\nvalue = [7, 7]'),\n",
              " Text(0.055105693828844185, 0.15, 'X[14] <= 0.5\\nentropy = 0.98\\nsamples = 12\\nvalue = [7, 5]'),\n",
              " Text(0.05442379815888169, 0.11666666666666667, 'X[0] <= 39.5\\nentropy = 0.881\\nsamples = 10\\nvalue = [7, 3]'),\n",
              " Text(0.0537419024889192, 0.08333333333333333, 'X[8] <= 0.864\\nentropy = 0.971\\nsamples = 5\\nvalue = [2, 3]'),\n",
              " Text(0.0530600068189567, 0.05, 'entropy = 0.0\\nsamples = 2\\nvalue = [0, 2]'),\n",
              " Text(0.05442379815888169, 0.05, 'X[1] <= 152.0\\nentropy = 0.918\\nsamples = 3\\nvalue = [2, 1]'),\n",
              " Text(0.0537419024889192, 0.016666666666666666, 'entropy = 0.0\\nsamples = 2\\nvalue = [2, 0]'),\n",
              " Text(0.055105693828844185, 0.016666666666666666, 'entropy = 0.0\\nsamples = 1\\nvalue = [0, 1]'),\n",
              " Text(0.055105693828844185, 0.08333333333333333, 'entropy = 0.0\\nsamples = 5\\nvalue = [5, 0]'),\n",
              " Text(0.05578758949880668, 0.11666666666666667, 'entropy = 0.0\\nsamples = 2\\nvalue = [0, 2]'),\n",
              " Text(0.05646948516876918, 0.15, 'entropy = 0.0\\nsamples = 2\\nvalue = [0, 2]'),\n",
              " Text(0.057151380838731676, 0.18333333333333332, 'entropy = 0.0\\nsamples = 2\\nvalue = [0, 2]'),\n",
              " Text(0.05783327650869417, 0.21666666666666667, 'entropy = 0.0\\nsamples = 2\\nvalue = [2, 0]'),\n",
              " Text(0.05851517217865666, 0.38333333333333336, 'X[30] <= 0.5\\nentropy = 0.503\\nsamples = 18\\nvalue = [16, 2]'),\n",
              " Text(0.05783327650869417, 0.35, 'X[6] <= 93.559\\nentropy = 0.323\\nsamples = 17\\nvalue = [16, 1]'),\n",
              " Text(0.057151380838731676, 0.31666666666666665, 'entropy = 0.0\\nsamples = 12\\nvalue = [12, 0]'),\n",
              " Text(0.05851517217865666, 0.31666666666666665, 'X[1] <= 142.0\\nentropy = 0.722\\nsamples = 5\\nvalue = [4, 1]'),\n",
              " Text(0.05783327650869417, 0.2833333333333333, 'entropy = 0.0\\nsamples = 1\\nvalue = [0, 1]'),\n",
              " Text(0.05919706784861916, 0.2833333333333333, 'entropy = 0.0\\nsamples = 4\\nvalue = [4, 0]'),\n",
              " Text(0.05919706784861916, 0.35, 'entropy = 0.0\\nsamples = 1\\nvalue = [0, 1]'),\n",
              " Text(0.05783327650869417, 0.4166666666666667, 'entropy = 0.0\\nsamples = 9\\nvalue = [9, 0]'),\n",
              " Text(0.055105693828844185, 0.48333333333333334, 'entropy = 0.0\\nsamples = 13\\nvalue = [13, 0]'),\n",
              " Text(0.06328844186839414, 0.5166666666666667, 'X[5] <= -2.95\\nentropy = 0.898\\nsamples = 35\\nvalue = [24, 11]'),\n",
              " Text(0.06260654619843165, 0.48333333333333334, 'entropy = 0.0\\nsamples = 8\\nvalue = [8, 0]'),\n",
              " Text(0.06397033753835663, 0.48333333333333334, 'X[9] <= 5042.45\\nentropy = 0.975\\nsamples = 27\\nvalue = [16, 11]'),\n",
              " Text(0.06328844186839414, 0.45, 'entropy = 0.0\\nsamples = 2\\nvalue = [0, 2]'),\n",
              " Text(0.06465223320831913, 0.45, 'X[2] <= 1.5\\nentropy = 0.943\\nsamples = 25\\nvalue = [16, 9]'),\n",
              " Text(0.06328844186839414, 0.4166666666666667, 'X[12] <= 0.5\\nentropy = 0.787\\nsamples = 17\\nvalue = [13, 4]'),\n",
              " Text(0.06260654619843165, 0.38333333333333336, 'X[0] <= 40.5\\nentropy = 0.696\\nsamples = 16\\nvalue = [13, 3]'),\n",
              " Text(0.06192465052846914, 0.35, 'X[16] <= 0.5\\nentropy = 0.845\\nsamples = 11\\nvalue = [8, 3]'),\n",
              " Text(0.06124275485850665, 0.31666666666666665, 'X[0] <= 28.5\\nentropy = 0.954\\nsamples = 8\\nvalue = [5, 3]'),\n",
              " Text(0.060560859188544154, 0.2833333333333333, 'entropy = 0.0\\nsamples = 2\\nvalue = [2, 0]'),\n",
              " Text(0.06192465052846914, 0.2833333333333333, 'X[8] <= 0.87\\nentropy = 1.0\\nsamples = 6\\nvalue = [3, 3]'),\n",
              " Text(0.06124275485850665, 0.25, 'entropy = 0.0\\nsamples = 1\\nvalue = [1, 0]'),\n",
              " Text(0.06260654619843165, 0.25, 'X[1] <= 142.5\\nentropy = 0.971\\nsamples = 5\\nvalue = [2, 3]'),\n",
              " Text(0.06192465052846914, 0.21666666666666667, 'X[1] <= 132.5\\nentropy = 0.918\\nsamples = 3\\nvalue = [2, 1]'),\n",
              " Text(0.06124275485850665, 0.18333333333333332, 'entropy = 0.0\\nsamples = 1\\nvalue = [0, 1]'),\n",
              " Text(0.06260654619843165, 0.18333333333333332, 'entropy = 0.0\\nsamples = 2\\nvalue = [2, 0]'),\n",
              " Text(0.06328844186839414, 0.21666666666666667, 'entropy = 0.0\\nsamples = 2\\nvalue = [0, 2]'),\n",
              " Text(0.06260654619843165, 0.31666666666666665, 'entropy = 0.0\\nsamples = 3\\nvalue = [3, 0]'),\n",
              " Text(0.06328844186839414, 0.35, 'entropy = 0.0\\nsamples = 5\\nvalue = [5, 0]'),\n",
              " Text(0.06397033753835663, 0.38333333333333336, 'entropy = 0.0\\nsamples = 1\\nvalue = [0, 1]'),\n",
              " Text(0.06601602454824412, 0.4166666666666667, 'X[4] <= 0.5\\nentropy = 0.954\\nsamples = 8\\nvalue = [3, 5]'),\n",
              " Text(0.06533412887828162, 0.38333333333333336, 'X[6] <= 92.716\\nentropy = 0.65\\nsamples = 6\\nvalue = [1, 5]'),\n",
              " Text(0.06465223320831913, 0.35, 'entropy = 0.0\\nsamples = 4\\nvalue = [0, 4]'),\n",
              " Text(0.06601602454824412, 0.35, 'X[1] <= 147.0\\nentropy = 1.0\\nsamples = 2\\nvalue = [1, 1]'),\n",
              " Text(0.06533412887828162, 0.31666666666666665, 'entropy = 0.0\\nsamples = 1\\nvalue = [1, 0]'),\n",
              " Text(0.06669792021820661, 0.31666666666666665, 'entropy = 0.0\\nsamples = 1\\nvalue = [0, 1]'),\n",
              " Text(0.06669792021820661, 0.38333333333333336, 'entropy = 0.0\\nsamples = 2\\nvalue = [2, 0]'),\n",
              " Text(0.06533412887828162, 0.55, 'X[2] <= 4.5\\nentropy = 0.918\\nsamples = 3\\nvalue = [1, 2]'),\n",
              " Text(0.06465223320831913, 0.5166666666666667, 'entropy = 0.0\\nsamples = 2\\nvalue = [0, 2]'),\n",
              " Text(0.06601602454824412, 0.5166666666666667, 'entropy = 0.0\\nsamples = 1\\nvalue = [1, 0]'),\n",
              " Text(0.0673798158881691, 0.5833333333333334, 'X[1] <= 141.5\\nentropy = 0.918\\nsamples = 3\\nvalue = [1, 2]'),\n",
              " Text(0.06669792021820661, 0.55, 'entropy = 0.0\\nsamples = 1\\nvalue = [1, 0]'),\n",
              " Text(0.06806171155813161, 0.55, 'entropy = 0.0\\nsamples = 2\\nvalue = [0, 2]'),\n",
              " Text(0.07010739856801909, 0.6833333333333333, 'X[0] <= 24.0\\nentropy = 0.997\\nsamples = 30\\nvalue = [16, 14]'),\n",
              " Text(0.0694255028980566, 0.65, 'entropy = 0.0\\nsamples = 2\\nvalue = [0, 2]'),\n",
              " Text(0.0707892942379816, 0.65, 'X[0] <= 30.5\\nentropy = 0.985\\nsamples = 28\\nvalue = [16, 12]'),\n",
              " Text(0.07010739856801909, 0.6166666666666667, 'entropy = 0.0\\nsamples = 3\\nvalue = [3, 0]'),\n",
              " Text(0.07147118990794409, 0.6166666666666667, 'X[24] <= 0.5\\nentropy = 0.999\\nsamples = 25\\nvalue = [13, 12]'),\n",
              " Text(0.0707892942379816, 0.5833333333333334, 'X[8] <= 0.74\\nentropy = 0.988\\nsamples = 23\\nvalue = [13, 10]'),\n",
              " Text(0.07010739856801909, 0.55, 'X[1] <= 156.5\\nentropy = 0.998\\nsamples = 19\\nvalue = [9, 10]'),\n",
              " Text(0.0694255028980566, 0.5166666666666667, 'X[0] <= 35.0\\nentropy = 0.977\\nsamples = 17\\nvalue = [7, 10]'),\n",
              " Text(0.0687436072280941, 0.48333333333333334, 'entropy = 0.0\\nsamples = 4\\nvalue = [0, 4]'),\n",
              " Text(0.07010739856801909, 0.48333333333333334, 'X[18] <= 0.5\\nentropy = 0.996\\nsamples = 13\\nvalue = [7, 6]'),\n",
              " Text(0.0694255028980566, 0.45, 'X[1] <= 137.0\\nentropy = 0.946\\nsamples = 11\\nvalue = [7, 4]'),\n",
              " Text(0.0687436072280941, 0.4166666666666667, 'X[0] <= 44.0\\nentropy = 0.985\\nsamples = 7\\nvalue = [3, 4]'),\n",
              " Text(0.06806171155813161, 0.38333333333333336, 'X[1] <= 133.5\\nentropy = 0.811\\nsamples = 4\\nvalue = [3, 1]'),\n",
              " Text(0.0673798158881691, 0.35, 'entropy = 0.0\\nsamples = 3\\nvalue = [3, 0]'),\n",
              " Text(0.0687436072280941, 0.35, 'entropy = 0.0\\nsamples = 1\\nvalue = [0, 1]'),\n",
              " Text(0.0694255028980566, 0.38333333333333336, 'entropy = 0.0\\nsamples = 3\\nvalue = [0, 3]'),\n",
              " Text(0.07010739856801909, 0.4166666666666667, 'entropy = 0.0\\nsamples = 4\\nvalue = [4, 0]'),\n",
              " Text(0.0707892942379816, 0.45, 'entropy = 0.0\\nsamples = 2\\nvalue = [0, 2]'),\n",
              " Text(0.0707892942379816, 0.5166666666666667, 'entropy = 0.0\\nsamples = 2\\nvalue = [2, 0]'),\n",
              " Text(0.07147118990794409, 0.55, 'entropy = 0.0\\nsamples = 4\\nvalue = [4, 0]'),\n",
              " Text(0.07215308557790658, 0.5833333333333334, 'entropy = 0.0\\nsamples = 2\\nvalue = [0, 2]'),\n",
              " Text(0.07215308557790658, 0.7166666666666667, 'X[1] <= 138.5\\nentropy = 0.918\\nsamples = 12\\nvalue = [4, 8]'),\n",
              " Text(0.07147118990794409, 0.6833333333333333, 'entropy = 0.0\\nsamples = 5\\nvalue = [0, 5]'),\n",
              " Text(0.07283498124786908, 0.6833333333333333, 'X[34] <= 0.5\\nentropy = 0.985\\nsamples = 7\\nvalue = [4, 3]'),\n",
              " Text(0.07215308557790658, 0.65, 'entropy = 0.0\\nsamples = 2\\nvalue = [0, 2]'),\n",
              " Text(0.07351687691783157, 0.65, 'X[8] <= 1.166\\nentropy = 0.722\\nsamples = 5\\nvalue = [4, 1]'),\n",
              " Text(0.07283498124786908, 0.6166666666666667, 'entropy = 0.0\\nsamples = 3\\nvalue = [3, 0]'),\n",
              " Text(0.07419877258779407, 0.6166666666666667, 'X[8] <= 1.264\\nentropy = 1.0\\nsamples = 2\\nvalue = [1, 1]'),\n",
              " Text(0.07351687691783157, 0.5833333333333334, 'entropy = 0.0\\nsamples = 1\\nvalue = [0, 1]'),\n",
              " Text(0.07488066825775656, 0.5833333333333334, 'entropy = 0.0\\nsamples = 1\\nvalue = [1, 0]'),\n",
              " Text(0.07692635526764405, 0.75, 'X[8] <= 0.714\\nentropy = 0.345\\nsamples = 31\\nvalue = [29, 2]'),\n",
              " Text(0.07624445959768156, 0.7166666666666667, 'X[1] <= 137.5\\nentropy = 0.918\\nsamples = 6\\nvalue = [4, 2]'),\n",
              " Text(0.07556256392771905, 0.6833333333333333, 'X[8] <= 0.641\\nentropy = 0.918\\nsamples = 3\\nvalue = [1, 2]'),\n",
              " Text(0.07488066825775656, 0.65, 'entropy = 0.0\\nsamples = 1\\nvalue = [1, 0]'),\n",
              " Text(0.07624445959768156, 0.65, 'entropy = 0.0\\nsamples = 2\\nvalue = [0, 2]'),\n",
              " Text(0.07692635526764405, 0.6833333333333333, 'entropy = 0.0\\nsamples = 3\\nvalue = [3, 0]'),\n",
              " Text(0.07760825093760655, 0.7166666666666667, 'entropy = 0.0\\nsamples = 25\\nvalue = [25, 0]'),\n",
              " Text(0.08135867712240027, 0.7833333333333333, 'X[8] <= 0.885\\nentropy = 0.439\\nsamples = 66\\nvalue = [60, 6]'),\n",
              " Text(0.08067678145243777, 0.75, 'X[0] <= 39.5\\nentropy = 0.629\\nsamples = 38\\nvalue = [32, 6]'),\n",
              " Text(0.07897204227753153, 0.7166666666666667, 'X[38] <= 0.5\\nentropy = 0.25\\nsamples = 24\\nvalue = [23, 1]'),\n",
              " Text(0.07829014660756904, 0.6833333333333333, 'entropy = 0.0\\nsamples = 23\\nvalue = [23, 0]'),\n",
              " Text(0.07965393794749404, 0.6833333333333333, 'entropy = 0.0\\nsamples = 1\\nvalue = [0, 1]'),\n",
              " Text(0.08238152062734401, 0.7166666666666667, 'X[1] <= 140.0\\nentropy = 0.94\\nsamples = 14\\nvalue = [9, 5]'),\n",
              " Text(0.08101772928741903, 0.6833333333333333, 'X[0] <= 42.0\\nentropy = 0.503\\nsamples = 9\\nvalue = [8, 1]'),\n",
              " Text(0.08033583361745653, 0.65, 'entropy = 0.0\\nsamples = 1\\nvalue = [0, 1]'),\n",
              " Text(0.08169962495738152, 0.65, 'entropy = 0.0\\nsamples = 8\\nvalue = [8, 0]'),\n",
              " Text(0.083745311967269, 0.6833333333333333, 'X[29] <= 0.5\\nentropy = 0.722\\nsamples = 5\\nvalue = [1, 4]'),\n",
              " Text(0.08306341629730651, 0.65, 'entropy = 0.0\\nsamples = 4\\nvalue = [0, 4]'),\n",
              " Text(0.08442720763723151, 0.65, 'entropy = 0.0\\nsamples = 1\\nvalue = [1, 0]'),\n",
              " Text(0.08204057279236276, 0.75, 'entropy = 0.0\\nsamples = 28\\nvalue = [28, 0]'),\n",
              " Text(0.22583290825839583, 0.9166666666666666, 'X[38] <= 0.5\\nentropy = 0.967\\nsamples = 2264\\nvalue = [891, 1373]'),\n",
              " Text(0.1485896612896352, 0.8833333333333333, 'X[1] <= 248.5\\nentropy = 0.998\\nsamples = 1663\\nvalue = [790, 873]'),\n",
              " Text(0.10427010526764405, 0.85, 'X[8] <= 0.723\\nentropy = 0.954\\nsamples = 603\\nvalue = [377, 226]'),\n",
              " Text(0.08925375042618479, 0.8166666666666667, 'X[0] <= 24.5\\nentropy = 1.0\\nsamples = 152\\nvalue = [78, 74]'),\n",
              " Text(0.08408625980225025, 0.7833333333333333, 'X[24] <= 0.5\\nentropy = 0.503\\nsamples = 9\\nvalue = [8, 1]'),\n",
              " Text(0.08340436413228776, 0.75, 'entropy = 0.0\\nsamples = 7\\nvalue = [7, 0]'),\n",
              " Text(0.08476815547221275, 0.75, 'X[0] <= 19.5\\nentropy = 1.0\\nsamples = 2\\nvalue = [1, 1]'),\n",
              " Text(0.08408625980225025, 0.7166666666666667, 'entropy = 0.0\\nsamples = 1\\nvalue = [1, 0]'),\n",
              " Text(0.08545005114217524, 0.7166666666666667, 'entropy = 0.0\\nsamples = 1\\nvalue = [0, 1]'),\n",
              " Text(0.09442124105011933, 0.7833333333333333, 'X[2] <= 4.5\\nentropy = 1.0\\nsamples = 143\\nvalue = [70, 73]'),\n",
              " Text(0.0912035458574838, 0.75, 'X[13] <= 0.5\\nentropy = 0.997\\nsamples = 135\\nvalue = [63, 72]'),\n",
              " Text(0.08681384248210024, 0.7166666666666667, 'X[1] <= 162.5\\nentropy = 0.989\\nsamples = 121\\nvalue = [53, 68]'),\n",
              " Text(0.08613194681213775, 0.6833333333333333, 'entropy = 0.0\\nsamples = 5\\nvalue = [0, 5]'),\n",
              " Text(0.08749573815206274, 0.6833333333333333, 'X[17] <= 0.5\\nentropy = 0.995\\nsamples = 116\\nvalue = [53, 63]'),\n",
              " Text(0.08681384248210024, 0.65, 'X[2] <= 1.5\\nentropy = 0.997\\nsamples = 113\\nvalue = [53, 60]'),\n",
              " Text(0.08076201841118309, 0.6166666666666667, 'X[1] <= 166.0\\nentropy = 0.96\\nsamples = 60\\nvalue = [23, 37]'),\n",
              " Text(0.0793982270712581, 0.5833333333333334, 'X[7] <= -28.5\\nentropy = 0.65\\nsamples = 6\\nvalue = [5, 1]'),\n",
              " Text(0.07871633140129561, 0.55, 'entropy = 0.0\\nsamples = 5\\nvalue = [5, 0]'),\n",
              " Text(0.08008012274122059, 0.55, 'entropy = 0.0\\nsamples = 1\\nvalue = [0, 1]'),\n",
              " Text(0.08212580975110809, 0.5833333333333334, 'X[18] <= 0.5\\nentropy = 0.918\\nsamples = 54\\nvalue = [18, 36]'),\n",
              " Text(0.08144391408114558, 0.55, 'X[22] <= 0.5\\nentropy = 0.949\\nsamples = 49\\nvalue = [18, 31]'),\n",
              " Text(0.07769348789635186, 0.5166666666666667, 'X[0] <= 38.5\\nentropy = 0.837\\nsamples = 30\\nvalue = [8, 22]'),\n",
              " Text(0.07701159222638937, 0.48333333333333334, 'entropy = 0.0\\nsamples = 8\\nvalue = [0, 8]'),\n",
              " Text(0.07837538356631435, 0.48333333333333334, 'X[34] <= 0.5\\nentropy = 0.946\\nsamples = 22\\nvalue = [8, 14]'),\n",
              " Text(0.07701159222638937, 0.45, 'X[10] <= 0.5\\nentropy = 0.503\\nsamples = 9\\nvalue = [1, 8]'),\n",
              " Text(0.07632969655642687, 0.4166666666666667, 'entropy = 0.0\\nsamples = 8\\nvalue = [0, 8]'),\n",
              " Text(0.07769348789635186, 0.4166666666666667, 'entropy = 0.0\\nsamples = 1\\nvalue = [1, 0]'),\n",
              " Text(0.07973917490623934, 0.45, 'X[0] <= 49.5\\nentropy = 0.996\\nsamples = 13\\nvalue = [7, 6]'),\n",
              " Text(0.07905727923627685, 0.4166666666666667, 'entropy = 0.0\\nsamples = 2\\nvalue = [0, 2]'),\n",
              " Text(0.08042107057620185, 0.4166666666666667, 'X[8] <= 0.641\\nentropy = 0.946\\nsamples = 11\\nvalue = [7, 4]'),\n",
              " Text(0.07973917490623934, 0.38333333333333336, 'entropy = 0.0\\nsamples = 1\\nvalue = [0, 1]'),\n",
              " Text(0.08110296624616434, 0.38333333333333336, 'X[6] <= 93.812\\nentropy = 0.881\\nsamples = 10\\nvalue = [7, 3]'),\n",
              " Text(0.08042107057620185, 0.35, 'X[8] <= 0.714\\nentropy = 0.764\\nsamples = 9\\nvalue = [7, 2]'),\n",
              " Text(0.07973917490623934, 0.31666666666666665, 'entropy = 0.0\\nsamples = 5\\nvalue = [5, 0]'),\n",
              " Text(0.08110296624616434, 0.31666666666666665, 'X[37] <= 0.5\\nentropy = 1.0\\nsamples = 4\\nvalue = [2, 2]'),\n",
              " Text(0.08042107057620185, 0.2833333333333333, 'X[14] <= 0.5\\nentropy = 0.918\\nsamples = 3\\nvalue = [1, 2]'),\n",
              " Text(0.07973917490623934, 0.25, 'entropy = 0.0\\nsamples = 1\\nvalue = [1, 0]'),\n",
              " Text(0.08110296624616434, 0.25, 'entropy = 0.0\\nsamples = 2\\nvalue = [0, 2]'),\n",
              " Text(0.08178486191612683, 0.2833333333333333, 'entropy = 0.0\\nsamples = 1\\nvalue = [1, 0]'),\n",
              " Text(0.08178486191612683, 0.35, 'entropy = 0.0\\nsamples = 1\\nvalue = [0, 1]'),\n",
              " Text(0.0851943402659393, 0.5166666666666667, 'X[7] <= -37.3\\nentropy = 0.998\\nsamples = 19\\nvalue = [10, 9]'),\n",
              " Text(0.08451244459597682, 0.48333333333333334, 'entropy = 0.0\\nsamples = 4\\nvalue = [4, 0]'),\n",
              " Text(0.08587623593590181, 0.48333333333333334, 'X[27] <= 0.5\\nentropy = 0.971\\nsamples = 15\\nvalue = [6, 9]'),\n",
              " Text(0.0851943402659393, 0.45, 'X[15] <= 0.5\\nentropy = 0.811\\nsamples = 12\\nvalue = [3, 9]'),\n",
              " Text(0.08451244459597682, 0.4166666666666667, 'X[30] <= 0.5\\nentropy = 0.684\\nsamples = 11\\nvalue = [2, 9]'),\n",
              " Text(0.08383054892601433, 0.38333333333333336, 'X[0] <= 43.0\\nentropy = 0.469\\nsamples = 10\\nvalue = [1, 9]'),\n",
              " Text(0.08314865325605182, 0.35, 'entropy = 0.0\\nsamples = 8\\nvalue = [0, 8]'),\n",
              " Text(0.08451244459597682, 0.35, 'X[1] <= 184.0\\nentropy = 1.0\\nsamples = 2\\nvalue = [1, 1]'),\n",
              " Text(0.08383054892601433, 0.31666666666666665, 'entropy = 0.0\\nsamples = 1\\nvalue = [0, 1]'),\n",
              " Text(0.0851943402659393, 0.31666666666666665, 'entropy = 0.0\\nsamples = 1\\nvalue = [1, 0]'),\n",
              " Text(0.0851943402659393, 0.38333333333333336, 'entropy = 0.0\\nsamples = 1\\nvalue = [1, 0]'),\n",
              " Text(0.08587623593590181, 0.4166666666666667, 'entropy = 0.0\\nsamples = 1\\nvalue = [1, 0]'),\n",
              " Text(0.0865581316058643, 0.45, 'entropy = 0.0\\nsamples = 3\\nvalue = [3, 0]'),\n",
              " Text(0.08280770542107058, 0.55, 'entropy = 0.0\\nsamples = 5\\nvalue = [0, 5]'),\n",
              " Text(0.0928656665530174, 0.6166666666666667, 'X[2] <= 2.5\\nentropy = 0.987\\nsamples = 53\\nvalue = [30, 23]'),\n",
              " Text(0.08962666212069553, 0.5833333333333334, 'X[8] <= 0.649\\nentropy = 0.898\\nsamples = 35\\nvalue = [24, 11]'),\n",
              " Text(0.0872400272758268, 0.55, 'X[36] <= 0.5\\nentropy = 0.439\\nsamples = 11\\nvalue = [10, 1]'),\n",
              " Text(0.0865581316058643, 0.5166666666666667, 'entropy = 0.0\\nsamples = 9\\nvalue = [9, 0]'),\n",
              " Text(0.0879219229457893, 0.5166666666666667, 'X[4] <= 2.5\\nentropy = 1.0\\nsamples = 2\\nvalue = [1, 1]'),\n",
              " Text(0.0872400272758268, 0.48333333333333334, 'entropy = 0.0\\nsamples = 1\\nvalue = [1, 0]'),\n",
              " Text(0.08860381861575178, 0.48333333333333334, 'entropy = 0.0\\nsamples = 1\\nvalue = [0, 1]'),\n",
              " Text(0.09201329696556426, 0.55, 'X[1] <= 190.5\\nentropy = 0.98\\nsamples = 24\\nvalue = [14, 10]'),\n",
              " Text(0.09064950562563928, 0.5166666666666667, 'X[1] <= 181.5\\nentropy = 0.779\\nsamples = 13\\nvalue = [10, 3]'),\n",
              " Text(0.08996760995567678, 0.48333333333333334, 'X[34] <= 0.5\\nentropy = 0.954\\nsamples = 8\\nvalue = [5, 3]'),\n",
              " Text(0.08928571428571429, 0.45, 'X[1] <= 164.5\\nentropy = 0.65\\nsamples = 6\\nvalue = [5, 1]'),\n",
              " Text(0.08860381861575178, 0.4166666666666667, 'entropy = 0.0\\nsamples = 1\\nvalue = [0, 1]'),\n",
              " Text(0.08996760995567678, 0.4166666666666667, 'entropy = 0.0\\nsamples = 5\\nvalue = [5, 0]'),\n",
              " Text(0.09064950562563928, 0.45, 'entropy = 0.0\\nsamples = 2\\nvalue = [0, 2]'),\n",
              " Text(0.09133140129560177, 0.48333333333333334, 'entropy = 0.0\\nsamples = 5\\nvalue = [5, 0]'),\n",
              " Text(0.09337708830548926, 0.5166666666666667, 'X[1] <= 231.0\\nentropy = 0.946\\nsamples = 11\\nvalue = [4, 7]'),\n",
              " Text(0.09269519263552677, 0.48333333333333334, 'X[6] <= 92.681\\nentropy = 0.764\\nsamples = 9\\nvalue = [2, 7]'),\n",
              " Text(0.09201329696556426, 0.45, 'entropy = 0.0\\nsamples = 5\\nvalue = [0, 5]'),\n",
              " Text(0.09337708830548926, 0.45, 'X[0] <= 30.5\\nentropy = 1.0\\nsamples = 4\\nvalue = [2, 2]'),\n",
              " Text(0.09269519263552677, 0.4166666666666667, 'entropy = 0.0\\nsamples = 2\\nvalue = [0, 2]'),\n",
              " Text(0.09405898397545176, 0.4166666666666667, 'entropy = 0.0\\nsamples = 2\\nvalue = [2, 0]'),\n",
              " Text(0.09405898397545176, 0.48333333333333334, 'entropy = 0.0\\nsamples = 2\\nvalue = [2, 0]'),\n",
              " Text(0.09610467098533924, 0.5833333333333334, 'X[0] <= 32.5\\nentropy = 0.918\\nsamples = 18\\nvalue = [6, 12]'),\n",
              " Text(0.09542277531537675, 0.55, 'entropy = 0.0\\nsamples = 6\\nvalue = [0, 6]'),\n",
              " Text(0.09678656665530173, 0.55, 'X[0] <= 58.5\\nentropy = 1.0\\nsamples = 12\\nvalue = [6, 6]'),\n",
              " Text(0.09610467098533924, 0.5166666666666667, 'X[34] <= 0.5\\nentropy = 0.918\\nsamples = 9\\nvalue = [6, 3]'),\n",
              " Text(0.09542277531537675, 0.48333333333333334, 'entropy = 0.0\\nsamples = 3\\nvalue = [3, 0]'),\n",
              " Text(0.09678656665530173, 0.48333333333333334, 'X[37] <= 0.5\\nentropy = 1.0\\nsamples = 6\\nvalue = [3, 3]'),\n",
              " Text(0.09610467098533924, 0.45, 'X[0] <= 36.0\\nentropy = 0.811\\nsamples = 4\\nvalue = [3, 1]'),\n",
              " Text(0.09542277531537675, 0.4166666666666667, 'entropy = 0.0\\nsamples = 1\\nvalue = [0, 1]'),\n",
              " Text(0.09678656665530173, 0.4166666666666667, 'entropy = 0.0\\nsamples = 3\\nvalue = [3, 0]'),\n",
              " Text(0.09746846232526424, 0.45, 'entropy = 0.0\\nsamples = 2\\nvalue = [0, 2]'),\n",
              " Text(0.09746846232526424, 0.5166666666666667, 'entropy = 0.0\\nsamples = 3\\nvalue = [0, 3]'),\n",
              " Text(0.08817763382202523, 0.65, 'entropy = 0.0\\nsamples = 3\\nvalue = [0, 3]'),\n",
              " Text(0.09559324923286737, 0.7166666666666667, 'X[0] <= 51.0\\nentropy = 0.863\\nsamples = 14\\nvalue = [10, 4]'),\n",
              " Text(0.09422945789294238, 0.6833333333333333, 'X[4] <= 1.5\\nentropy = 0.469\\nsamples = 10\\nvalue = [9, 1]'),\n",
              " Text(0.09354756222297989, 0.65, 'entropy = 0.0\\nsamples = 8\\nvalue = [8, 0]'),\n",
              " Text(0.09491135356290488, 0.65, 'X[6] <= 93.263\\nentropy = 1.0\\nsamples = 2\\nvalue = [1, 1]'),\n",
              " Text(0.09422945789294238, 0.6166666666666667, 'entropy = 0.0\\nsamples = 1\\nvalue = [0, 1]'),\n",
              " Text(0.09559324923286737, 0.6166666666666667, 'entropy = 0.0\\nsamples = 1\\nvalue = [1, 0]'),\n",
              " Text(0.09695704057279236, 0.6833333333333333, 'X[1] <= 202.5\\nentropy = 0.811\\nsamples = 4\\nvalue = [1, 3]'),\n",
              " Text(0.09627514490282987, 0.65, 'entropy = 0.0\\nsamples = 1\\nvalue = [1, 0]'),\n",
              " Text(0.09763893624275485, 0.65, 'entropy = 0.0\\nsamples = 3\\nvalue = [0, 3]'),\n",
              " Text(0.09763893624275485, 0.75, 'X[22] <= 0.5\\nentropy = 0.544\\nsamples = 8\\nvalue = [7, 1]'),\n",
              " Text(0.09695704057279236, 0.7166666666666667, 'entropy = 0.0\\nsamples = 7\\nvalue = [7, 0]'),\n",
              " Text(0.09832083191271736, 0.7166666666666667, 'entropy = 0.0\\nsamples = 1\\nvalue = [0, 1]'),\n",
              " Text(0.1192864601091033, 0.8166666666666667, 'X[8] <= 1.248\\nentropy = 0.922\\nsamples = 451\\nvalue = [299, 152]'),\n",
              " Text(0.10735062222979884, 0.7833333333333333, 'X[1] <= 172.5\\nentropy = 0.885\\nsamples = 346\\nvalue = [241, 105]'),\n",
              " Text(0.10104841459256733, 0.75, 'X[25] <= 0.5\\nentropy = 0.525\\nsamples = 59\\nvalue = [52, 7]'),\n",
              " Text(0.10036651892260484, 0.7166666666666667, 'X[8] <= 0.871\\nentropy = 0.429\\nsamples = 57\\nvalue = [52, 5]'),\n",
              " Text(0.09968462325264235, 0.6833333333333333, 'X[8] <= 0.851\\nentropy = 0.773\\nsamples = 22\\nvalue = [17, 5]'),\n",
              " Text(0.09900272758267985, 0.65, 'X[8] <= 0.734\\nentropy = 0.61\\nsamples = 20\\nvalue = [17, 3]'),\n",
              " Text(0.09832083191271736, 0.6166666666666667, 'entropy = 0.0\\nsamples = 1\\nvalue = [0, 1]'),\n",
              " Text(0.09968462325264235, 0.6166666666666667, 'X[11] <= 0.5\\nentropy = 0.485\\nsamples = 19\\nvalue = [17, 2]'),\n",
              " Text(0.09900272758267985, 0.5833333333333334, 'X[19] <= 0.5\\nentropy = 0.31\\nsamples = 18\\nvalue = [17, 1]'),\n",
              " Text(0.09832083191271736, 0.55, 'entropy = 0.0\\nsamples = 16\\nvalue = [16, 0]'),\n",
              " Text(0.09968462325264235, 0.55, 'X[6] <= 93.217\\nentropy = 1.0\\nsamples = 2\\nvalue = [1, 1]'),\n",
              " Text(0.09900272758267985, 0.5166666666666667, 'entropy = 0.0\\nsamples = 1\\nvalue = [1, 0]'),\n",
              " Text(0.10036651892260484, 0.5166666666666667, 'entropy = 0.0\\nsamples = 1\\nvalue = [0, 1]'),\n",
              " Text(0.10036651892260484, 0.5833333333333334, 'entropy = 0.0\\nsamples = 1\\nvalue = [0, 1]'),\n",
              " Text(0.10036651892260484, 0.65, 'entropy = 0.0\\nsamples = 2\\nvalue = [0, 2]'),\n",
              " Text(0.10104841459256733, 0.6833333333333333, 'entropy = 0.0\\nsamples = 35\\nvalue = [35, 0]'),\n",
              " Text(0.10173031026252984, 0.7166666666666667, 'entropy = 0.0\\nsamples = 2\\nvalue = [0, 2]'),\n",
              " Text(0.11365282986703035, 0.75, 'X[8] <= 1.152\\nentropy = 0.926\\nsamples = 287\\nvalue = [189, 98]'),\n",
              " Text(0.11297093419706784, 0.7166666666666667, 'X[8] <= 0.769\\nentropy = 0.94\\nsamples = 275\\nvalue = [177, 98]'),\n",
              " Text(0.10411694510739856, 0.6833333333333333, 'X[1] <= 198.5\\nentropy = 0.706\\nsamples = 52\\nvalue = [42, 10]'),\n",
              " Text(0.10173031026252984, 0.65, 'X[26] <= 0.5\\nentropy = 0.25\\nsamples = 24\\nvalue = [23, 1]'),\n",
              " Text(0.10104841459256733, 0.6166666666666667, 'entropy = 0.0\\nsamples = 22\\nvalue = [22, 0]'),\n",
              " Text(0.10241220593249233, 0.6166666666666667, 'X[22] <= 0.5\\nentropy = 1.0\\nsamples = 2\\nvalue = [1, 1]'),\n",
              " Text(0.10173031026252984, 0.5833333333333334, 'entropy = 0.0\\nsamples = 1\\nvalue = [0, 1]'),\n",
              " Text(0.10309410160245483, 0.5833333333333334, 'entropy = 0.0\\nsamples = 1\\nvalue = [1, 0]'),\n",
              " Text(0.10650357995226731, 0.65, 'X[1] <= 217.5\\nentropy = 0.906\\nsamples = 28\\nvalue = [19, 9]'),\n",
              " Text(0.10513978861234231, 0.6166666666666667, 'X[29] <= 0.5\\nentropy = 0.98\\nsamples = 12\\nvalue = [5, 7]'),\n",
              " Text(0.10445789294237981, 0.5833333333333334, 'X[21] <= 0.5\\nentropy = 0.881\\nsamples = 10\\nvalue = [3, 7]'),\n",
              " Text(0.10377599727241732, 0.55, 'X[8] <= 0.726\\nentropy = 0.544\\nsamples = 8\\nvalue = [1, 7]'),\n",
              " Text(0.10309410160245483, 0.5166666666666667, 'entropy = 0.0\\nsamples = 1\\nvalue = [1, 0]'),\n",
              " Text(0.10445789294237981, 0.5166666666666667, 'entropy = 0.0\\nsamples = 7\\nvalue = [0, 7]'),\n",
              " Text(0.10513978861234231, 0.55, 'entropy = 0.0\\nsamples = 2\\nvalue = [2, 0]'),\n",
              " Text(0.1058216842823048, 0.5833333333333334, 'entropy = 0.0\\nsamples = 2\\nvalue = [2, 0]'),\n",
              " Text(0.10786737129219229, 0.6166666666666667, 'X[8] <= 0.741\\nentropy = 0.544\\nsamples = 16\\nvalue = [14, 2]'),\n",
              " Text(0.1071854756222298, 0.5833333333333334, 'entropy = 0.0\\nsamples = 10\\nvalue = [10, 0]'),\n",
              " Text(0.10854926696215479, 0.5833333333333334, 'X[6] <= 93.243\\nentropy = 0.918\\nsamples = 6\\nvalue = [4, 2]'),\n",
              " Text(0.10786737129219229, 0.55, 'X[8] <= 0.761\\nentropy = 0.918\\nsamples = 3\\nvalue = [1, 2]'),\n",
              " Text(0.1071854756222298, 0.5166666666666667, 'entropy = 0.0\\nsamples = 2\\nvalue = [0, 2]'),\n",
              " Text(0.10854926696215479, 0.5166666666666667, 'entropy = 0.0\\nsamples = 1\\nvalue = [1, 0]'),\n",
              " Text(0.10923116263211728, 0.55, 'entropy = 0.0\\nsamples = 3\\nvalue = [3, 0]'),\n",
              " Text(0.12182492328673714, 0.6833333333333333, 'X[15] <= 0.5\\nentropy = 0.968\\nsamples = 223\\nvalue = [135, 88]'),\n",
              " Text(0.12114302761677463, 0.65, 'X[6] <= 94.408\\nentropy = 0.973\\nsamples = 218\\nvalue = [130, 88]'),\n",
              " Text(0.11788271394476645, 0.6166666666666667, 'X[8] <= 1.046\\nentropy = 0.986\\nsamples = 190\\nvalue = [108, 82]'),\n",
              " Text(0.11477156495056257, 0.5833333333333334, 'X[8] <= 0.882\\nentropy = 0.979\\nsamples = 181\\nvalue = [106, 75]'),\n",
              " Text(0.11059495397204228, 0.55, 'X[1] <= 239.5\\nentropy = 0.997\\nsamples = 122\\nvalue = [65, 57]'),\n",
              " Text(0.10991305830207979, 0.5166666666666667, 'X[26] <= 0.5\\nentropy = 1.0\\nsamples = 113\\nvalue = [56, 57]'),\n",
              " Text(0.10854926696215479, 0.48333333333333334, 'X[0] <= 24.5\\nentropy = 0.996\\nsamples = 102\\nvalue = [47, 55]'),\n",
              " Text(0.10786737129219229, 0.45, 'entropy = 0.0\\nsamples = 3\\nvalue = [3, 0]'),\n",
              " Text(0.10923116263211728, 0.45, 'X[0] <= 27.5\\nentropy = 0.991\\nsamples = 99\\nvalue = [44, 55]'),\n",
              " Text(0.10854926696215479, 0.4166666666666667, 'entropy = 0.0\\nsamples = 5\\nvalue = [0, 5]'),\n",
              " Text(0.10991305830207979, 0.4166666666666667, 'X[13] <= 0.5\\nentropy = 0.997\\nsamples = 94\\nvalue = [44, 50]'),\n",
              " Text(0.10633310603477668, 0.38333333333333336, 'X[1] <= 203.5\\nentropy = 0.988\\nsamples = 85\\nvalue = [37, 48]'),\n",
              " Text(0.10121888851005796, 0.35, 'X[8] <= 0.86\\nentropy = 0.989\\nsamples = 41\\nvalue = [23, 18]'),\n",
              " Text(0.09883225366518923, 0.31666666666666665, 'X[34] <= 0.5\\nentropy = 0.672\\nsamples = 17\\nvalue = [14, 3]'),\n",
              " Text(0.09815035799522673, 0.2833333333333333, 'X[1] <= 185.5\\nentropy = 0.985\\nsamples = 7\\nvalue = [4, 3]'),\n",
              " Text(0.09746846232526424, 0.25, 'entropy = 0.0\\nsamples = 2\\nvalue = [2, 0]'),\n",
              " Text(0.09883225366518923, 0.25, 'X[6] <= 93.297\\nentropy = 0.971\\nsamples = 5\\nvalue = [2, 3]'),\n",
              " Text(0.09815035799522673, 0.21666666666666667, 'X[24] <= 0.5\\nentropy = 0.811\\nsamples = 4\\nvalue = [1, 3]'),\n",
              " Text(0.09746846232526424, 0.18333333333333332, 'entropy = 0.0\\nsamples = 3\\nvalue = [0, 3]'),\n",
              " Text(0.09883225366518923, 0.18333333333333332, 'entropy = 0.0\\nsamples = 1\\nvalue = [1, 0]'),\n",
              " Text(0.09951414933515172, 0.21666666666666667, 'entropy = 0.0\\nsamples = 1\\nvalue = [1, 0]'),\n",
              " Text(0.09951414933515172, 0.2833333333333333, 'entropy = 0.0\\nsamples = 10\\nvalue = [10, 0]'),\n",
              " Text(0.10360552335492669, 0.31666666666666665, 'X[34] <= 0.5\\nentropy = 0.954\\nsamples = 24\\nvalue = [9, 15]'),\n",
              " Text(0.10224173201500171, 0.2833333333333333, 'X[1] <= 195.5\\nentropy = 0.98\\nsamples = 12\\nvalue = [7, 5]'),\n",
              " Text(0.1015598363450392, 0.25, 'X[36] <= 0.5\\nentropy = 0.881\\nsamples = 10\\nvalue = [7, 3]'),\n",
              " Text(0.10087794067507672, 0.21666666666666667, 'X[21] <= 0.5\\nentropy = 0.544\\nsamples = 8\\nvalue = [7, 1]'),\n",
              " Text(0.10019604500511421, 0.18333333333333332, 'entropy = 0.0\\nsamples = 7\\nvalue = [7, 0]'),\n",
              " Text(0.1015598363450392, 0.18333333333333332, 'entropy = 0.0\\nsamples = 1\\nvalue = [0, 1]'),\n",
              " Text(0.10224173201500171, 0.21666666666666667, 'entropy = 0.0\\nsamples = 2\\nvalue = [0, 2]'),\n",
              " Text(0.1029236276849642, 0.25, 'entropy = 0.0\\nsamples = 2\\nvalue = [0, 2]'),\n",
              " Text(0.10496931469485168, 0.2833333333333333, 'X[1] <= 191.0\\nentropy = 0.65\\nsamples = 12\\nvalue = [2, 10]'),\n",
              " Text(0.1042874190248892, 0.25, 'entropy = 0.0\\nsamples = 8\\nvalue = [0, 8]'),\n",
              " Text(0.10565121036481419, 0.25, 'X[9] <= 4977.6\\nentropy = 1.0\\nsamples = 4\\nvalue = [2, 2]'),\n",
              " Text(0.10496931469485168, 0.21666666666666667, 'entropy = 0.0\\nsamples = 2\\nvalue = [0, 2]'),\n",
              " Text(0.10633310603477668, 0.21666666666666667, 'entropy = 0.0\\nsamples = 2\\nvalue = [2, 0]'),\n",
              " Text(0.1114473235594954, 0.35, 'X[6] <= 94.207\\nentropy = 0.902\\nsamples = 44\\nvalue = [14, 30]'),\n",
              " Text(0.1107654278895329, 0.31666666666666665, 'X[21] <= 0.5\\nentropy = 0.942\\nsamples = 39\\nvalue = [14, 25]'),\n",
              " Text(0.1100835322195704, 0.2833333333333333, 'X[0] <= 34.5\\nentropy = 0.888\\nsamples = 36\\nvalue = [11, 25]'),\n",
              " Text(0.10837879304466416, 0.25, 'X[1] <= 232.5\\nentropy = 0.997\\nsamples = 15\\nvalue = [7, 8]'),\n",
              " Text(0.10769689737470167, 0.21666666666666667, 'X[8] <= 0.856\\nentropy = 0.918\\nsamples = 12\\nvalue = [4, 8]'),\n",
              " Text(0.10633310603477668, 0.18333333333333332, 'X[2] <= 1.5\\nentropy = 0.811\\nsamples = 4\\nvalue = [3, 1]'),\n",
              " Text(0.10565121036481419, 0.15, 'entropy = 0.0\\nsamples = 1\\nvalue = [0, 1]'),\n",
              " Text(0.10701500170473917, 0.15, 'entropy = 0.0\\nsamples = 3\\nvalue = [3, 0]'),\n",
              " Text(0.10906068871462667, 0.18333333333333332, 'X[4] <= 1.5\\nentropy = 0.544\\nsamples = 8\\nvalue = [1, 7]'),\n",
              " Text(0.10837879304466416, 0.15, 'entropy = 0.0\\nsamples = 7\\nvalue = [0, 7]'),\n",
              " Text(0.10974258438458916, 0.15, 'entropy = 0.0\\nsamples = 1\\nvalue = [1, 0]'),\n",
              " Text(0.10906068871462667, 0.21666666666666667, 'entropy = 0.0\\nsamples = 3\\nvalue = [3, 0]'),\n",
              " Text(0.11178827139447664, 0.25, 'X[0] <= 84.5\\nentropy = 0.702\\nsamples = 21\\nvalue = [4, 17]'),\n",
              " Text(0.11110637572451415, 0.21666666666666667, 'X[8] <= 0.871\\nentropy = 0.61\\nsamples = 20\\nvalue = [3, 17]'),\n",
              " Text(0.11042448005455166, 0.18333333333333332, 'entropy = 0.0\\nsamples = 12\\nvalue = [0, 12]'),\n",
              " Text(0.11178827139447664, 0.18333333333333332, 'X[30] <= 0.5\\nentropy = 0.954\\nsamples = 8\\nvalue = [3, 5]'),\n",
              " Text(0.11110637572451415, 0.15, 'X[8] <= 0.876\\nentropy = 0.65\\nsamples = 6\\nvalue = [1, 5]'),\n",
              " Text(0.11042448005455166, 0.11666666666666667, 'X[34] <= 0.5\\nentropy = 0.918\\nsamples = 3\\nvalue = [1, 2]'),\n",
              " Text(0.10974258438458916, 0.08333333333333333, 'entropy = 0.0\\nsamples = 1\\nvalue = [0, 1]'),\n",
              " Text(0.11110637572451415, 0.08333333333333333, 'X[14] <= 0.5\\nentropy = 1.0\\nsamples = 2\\nvalue = [1, 1]'),\n",
              " Text(0.11042448005455166, 0.05, 'entropy = 0.0\\nsamples = 1\\nvalue = [1, 0]'),\n",
              " Text(0.11178827139447664, 0.05, 'entropy = 0.0\\nsamples = 1\\nvalue = [0, 1]'),\n",
              " Text(0.11178827139447664, 0.11666666666666667, 'entropy = 0.0\\nsamples = 3\\nvalue = [0, 3]'),\n",
              " Text(0.11247016706443914, 0.15, 'entropy = 0.0\\nsamples = 2\\nvalue = [2, 0]'),\n",
              " Text(0.11247016706443914, 0.21666666666666667, 'entropy = 0.0\\nsamples = 1\\nvalue = [1, 0]'),\n",
              " Text(0.1114473235594954, 0.2833333333333333, 'entropy = 0.0\\nsamples = 3\\nvalue = [3, 0]'),\n",
              " Text(0.1121292192294579, 0.31666666666666665, 'entropy = 0.0\\nsamples = 5\\nvalue = [0, 5]'),\n",
              " Text(0.11349301056938288, 0.38333333333333336, 'X[2] <= 2.5\\nentropy = 0.764\\nsamples = 9\\nvalue = [7, 2]'),\n",
              " Text(0.11281111489942039, 0.35, 'entropy = 0.0\\nsamples = 7\\nvalue = [7, 0]'),\n",
              " Text(0.11417490623934538, 0.35, 'entropy = 0.0\\nsamples = 2\\nvalue = [0, 2]'),\n",
              " Text(0.11127684964200478, 0.48333333333333334, 'X[8] <= 0.812\\nentropy = 0.684\\nsamples = 11\\nvalue = [9, 2]'),\n",
              " Text(0.11059495397204228, 0.45, 'entropy = 0.0\\nsamples = 1\\nvalue = [0, 1]'),\n",
              " Text(0.11195874531196727, 0.45, 'X[16] <= 0.5\\nentropy = 0.469\\nsamples = 10\\nvalue = [9, 1]'),\n",
              " Text(0.11127684964200478, 0.4166666666666667, 'entropy = 0.0\\nsamples = 9\\nvalue = [9, 0]'),\n",
              " Text(0.11264064098192976, 0.4166666666666667, 'entropy = 0.0\\nsamples = 1\\nvalue = [0, 1]'),\n",
              " Text(0.11127684964200478, 0.5166666666666667, 'entropy = 0.0\\nsamples = 9\\nvalue = [9, 0]'),\n",
              " Text(0.11894817592908286, 0.55, 'X[1] <= 243.5\\nentropy = 0.887\\nsamples = 59\\nvalue = [41, 18]'),\n",
              " Text(0.11826628025912035, 0.5166666666666667, 'X[0] <= 65.5\\nentropy = 0.838\\nsamples = 56\\nvalue = [41, 15]'),\n",
              " Text(0.11758438458915786, 0.48333333333333334, 'X[0] <= 60.5\\nentropy = 0.896\\nsamples = 48\\nvalue = [33, 15]'),\n",
              " Text(0.11690248891919536, 0.45, 'X[1] <= 180.5\\nentropy = 0.811\\nsamples = 44\\nvalue = [33, 11]'),\n",
              " Text(0.11553869757927038, 0.4166666666666667, 'X[0] <= 37.5\\nentropy = 0.971\\nsamples = 10\\nvalue = [4, 6]'),\n",
              " Text(0.11485680190930787, 0.38333333333333336, 'entropy = 0.0\\nsamples = 4\\nvalue = [0, 4]'),\n",
              " Text(0.11622059324923287, 0.38333333333333336, 'X[3] <= 512.0\\nentropy = 0.918\\nsamples = 6\\nvalue = [4, 2]'),\n",
              " Text(0.11553869757927038, 0.35, 'entropy = 0.0\\nsamples = 2\\nvalue = [0, 2]'),\n",
              " Text(0.11690248891919536, 0.35, 'entropy = 0.0\\nsamples = 4\\nvalue = [4, 0]'),\n",
              " Text(0.11826628025912035, 0.4166666666666667, 'X[1] <= 205.5\\nentropy = 0.602\\nsamples = 34\\nvalue = [29, 5]'),\n",
              " Text(0.11758438458915786, 0.38333333333333336, 'entropy = 0.0\\nsamples = 15\\nvalue = [15, 0]'),\n",
              " Text(0.11894817592908286, 0.38333333333333336, 'X[29] <= 0.5\\nentropy = 0.831\\nsamples = 19\\nvalue = [14, 5]'),\n",
              " Text(0.11826628025912035, 0.35, 'X[37] <= 0.5\\nentropy = 0.672\\nsamples = 17\\nvalue = [14, 3]'),\n",
              " Text(0.11758438458915786, 0.31666666666666665, 'X[8] <= 0.941\\nentropy = 0.918\\nsamples = 9\\nvalue = [6, 3]'),\n",
              " Text(0.11690248891919536, 0.2833333333333333, 'X[27] <= 0.5\\nentropy = 1.0\\nsamples = 6\\nvalue = [3, 3]'),\n",
              " Text(0.11622059324923287, 0.25, 'entropy = 0.0\\nsamples = 3\\nvalue = [0, 3]'),\n",
              " Text(0.11758438458915786, 0.25, 'entropy = 0.0\\nsamples = 3\\nvalue = [3, 0]'),\n",
              " Text(0.11826628025912035, 0.2833333333333333, 'entropy = 0.0\\nsamples = 3\\nvalue = [3, 0]'),\n",
              " Text(0.11894817592908286, 0.31666666666666665, 'entropy = 0.0\\nsamples = 8\\nvalue = [8, 0]'),\n",
              " Text(0.11963007159904535, 0.35, 'entropy = 0.0\\nsamples = 2\\nvalue = [0, 2]'),\n",
              " Text(0.11826628025912035, 0.45, 'entropy = 0.0\\nsamples = 4\\nvalue = [0, 4]'),\n",
              " Text(0.11894817592908286, 0.48333333333333334, 'entropy = 0.0\\nsamples = 8\\nvalue = [8, 0]'),\n",
              " Text(0.11963007159904535, 0.5166666666666667, 'entropy = 0.0\\nsamples = 3\\nvalue = [0, 3]'),\n",
              " Text(0.12099386293897034, 0.5833333333333334, 'X[1] <= 221.0\\nentropy = 0.764\\nsamples = 9\\nvalue = [2, 7]'),\n",
              " Text(0.12031196726900784, 0.55, 'entropy = 0.0\\nsamples = 6\\nvalue = [0, 6]'),\n",
              " Text(0.12167575860893283, 0.55, 'X[8] <= 1.06\\nentropy = 0.918\\nsamples = 3\\nvalue = [2, 1]'),\n",
              " Text(0.12099386293897034, 0.5166666666666667, 'entropy = 0.0\\nsamples = 1\\nvalue = [0, 1]'),\n",
              " Text(0.12235765427889533, 0.5166666666666667, 'entropy = 0.0\\nsamples = 2\\nvalue = [2, 0]'),\n",
              " Text(0.12440334128878282, 0.6166666666666667, 'X[0] <= 25.5\\nentropy = 0.75\\nsamples = 28\\nvalue = [22, 6]'),\n",
              " Text(0.12372144561882031, 0.5833333333333334, 'entropy = 0.0\\nsamples = 2\\nvalue = [0, 2]'),\n",
              " Text(0.12508523695874532, 0.5833333333333334, 'X[13] <= 0.5\\nentropy = 0.619\\nsamples = 26\\nvalue = [22, 4]'),\n",
              " Text(0.12440334128878282, 0.55, 'X[8] <= 0.993\\nentropy = 0.414\\nsamples = 24\\nvalue = [22, 2]'),\n",
              " Text(0.12372144561882031, 0.5166666666666667, 'X[0] <= 56.0\\nentropy = 0.971\\nsamples = 5\\nvalue = [3, 2]'),\n",
              " Text(0.12303954994885782, 0.48333333333333334, 'entropy = 0.0\\nsamples = 3\\nvalue = [3, 0]'),\n",
              " Text(0.12440334128878282, 0.48333333333333334, 'entropy = 0.0\\nsamples = 2\\nvalue = [0, 2]'),\n",
              " Text(0.12508523695874532, 0.5166666666666667, 'entropy = 0.0\\nsamples = 19\\nvalue = [19, 0]'),\n",
              " Text(0.1257671326287078, 0.55, 'entropy = 0.0\\nsamples = 2\\nvalue = [0, 2]'),\n",
              " Text(0.12250681895669963, 0.65, 'entropy = 0.0\\nsamples = 5\\nvalue = [5, 0]'),\n",
              " Text(0.11433472553699284, 0.7166666666666667, 'entropy = 0.0\\nsamples = 12\\nvalue = [12, 0]'),\n",
              " Text(0.13122229798840776, 0.7833333333333333, 'X[1] <= 166.5\\nentropy = 0.992\\nsamples = 105\\nvalue = [58, 47]'),\n",
              " Text(0.12883566314353903, 0.75, 'X[37] <= 0.5\\nentropy = 0.837\\nsamples = 15\\nvalue = [4, 11]'),\n",
              " Text(0.12747187180361405, 0.7166666666666667, 'X[0] <= 54.0\\nentropy = 0.469\\nsamples = 10\\nvalue = [1, 9]'),\n",
              " Text(0.12678997613365156, 0.6833333333333333, 'entropy = 0.0\\nsamples = 7\\nvalue = [0, 7]'),\n",
              " Text(0.12815376747357654, 0.6833333333333333, 'X[1] <= 161.5\\nentropy = 0.918\\nsamples = 3\\nvalue = [1, 2]'),\n",
              " Text(0.12747187180361405, 0.65, 'entropy = 0.0\\nsamples = 1\\nvalue = [1, 0]'),\n",
              " Text(0.12883566314353903, 0.65, 'entropy = 0.0\\nsamples = 2\\nvalue = [0, 2]'),\n",
              " Text(0.13019945448346404, 0.7166666666666667, 'X[18] <= 0.5\\nentropy = 0.971\\nsamples = 5\\nvalue = [3, 2]'),\n",
              " Text(0.12951755881350152, 0.6833333333333333, 'entropy = 0.0\\nsamples = 3\\nvalue = [3, 0]'),\n",
              " Text(0.13088135015342653, 0.6833333333333333, 'entropy = 0.0\\nsamples = 2\\nvalue = [0, 2]'),\n",
              " Text(0.13360893283327652, 0.75, 'X[2] <= 5.5\\nentropy = 0.971\\nsamples = 90\\nvalue = [54, 36]'),\n",
              " Text(0.132927037163314, 0.7166666666666667, 'X[31] <= 0.5\\nentropy = 0.962\\nsamples = 88\\nvalue = [54, 34]'),\n",
              " Text(0.1322451414933515, 0.6833333333333333, 'X[17] <= 0.5\\nentropy = 0.971\\nsamples = 85\\nvalue = [51, 34]'),\n",
              " Text(0.13054040231844527, 0.65, 'X[1] <= 231.0\\nentropy = 0.954\\nsamples = 80\\nvalue = [50, 30]'),\n",
              " Text(0.1291766109785203, 0.6166666666666667, 'X[1] <= 217.5\\nentropy = 0.918\\nsamples = 69\\nvalue = [46, 23]'),\n",
              " Text(0.1284947153085578, 0.5833333333333334, 'X[10] <= 0.5\\nentropy = 0.956\\nsamples = 61\\nvalue = [38, 23]'),\n",
              " Text(0.12781281963859528, 0.55, 'X[0] <= 55.5\\nentropy = 0.939\\nsamples = 59\\nvalue = [38, 21]'),\n",
              " Text(0.1271309239686328, 0.5166666666666667, 'X[36] <= 0.5\\nentropy = 0.959\\nsamples = 55\\nvalue = [34, 21]'),\n",
              " Text(0.1257671326287078, 0.48333333333333334, 'X[8] <= 1.275\\nentropy = 0.984\\nsamples = 47\\nvalue = [27, 20]'),\n",
              " Text(0.12508523695874532, 0.45, 'X[8] <= 1.261\\nentropy = 0.971\\nsamples = 45\\nvalue = [27, 18]'),\n",
              " Text(0.12235765427889533, 0.4166666666666667, 'X[1] <= 172.0\\nentropy = 0.993\\nsamples = 20\\nvalue = [9, 11]'),\n",
              " Text(0.12167575860893283, 0.38333333333333336, 'entropy = 0.0\\nsamples = 4\\nvalue = [4, 0]'),\n",
              " Text(0.12303954994885782, 0.38333333333333336, 'X[0] <= 28.5\\nentropy = 0.896\\nsamples = 16\\nvalue = [5, 11]'),\n",
              " Text(0.12235765427889533, 0.35, 'X[27] <= 0.5\\nentropy = 0.991\\nsamples = 9\\nvalue = [5, 4]'),\n",
              " Text(0.12099386293897034, 0.31666666666666665, 'X[2] <= 1.5\\nentropy = 0.722\\nsamples = 5\\nvalue = [4, 1]'),\n",
              " Text(0.12031196726900784, 0.2833333333333333, 'entropy = 0.0\\nsamples = 3\\nvalue = [3, 0]'),\n",
              " Text(0.12167575860893283, 0.2833333333333333, 'X[0] <= 26.5\\nentropy = 1.0\\nsamples = 2\\nvalue = [1, 1]'),\n",
              " Text(0.12099386293897034, 0.25, 'entropy = 0.0\\nsamples = 1\\nvalue = [1, 0]'),\n",
              " Text(0.12235765427889533, 0.25, 'entropy = 0.0\\nsamples = 1\\nvalue = [0, 1]'),\n",
              " Text(0.12372144561882031, 0.31666666666666665, 'X[34] <= 0.5\\nentropy = 0.811\\nsamples = 4\\nvalue = [1, 3]'),\n",
              " Text(0.12303954994885782, 0.2833333333333333, 'entropy = 0.0\\nsamples = 2\\nvalue = [0, 2]'),\n",
              " Text(0.12440334128878282, 0.2833333333333333, 'X[1] <= 198.5\\nentropy = 1.0\\nsamples = 2\\nvalue = [1, 1]'),\n",
              " Text(0.12372144561882031, 0.25, 'entropy = 0.0\\nsamples = 1\\nvalue = [1, 0]'),\n",
              " Text(0.12508523695874532, 0.25, 'entropy = 0.0\\nsamples = 1\\nvalue = [0, 1]'),\n",
              " Text(0.12372144561882031, 0.35, 'entropy = 0.0\\nsamples = 7\\nvalue = [0, 7]'),\n",
              " Text(0.12781281963859528, 0.4166666666666667, 'X[22] <= 0.5\\nentropy = 0.855\\nsamples = 25\\nvalue = [18, 7]'),\n",
              " Text(0.1271309239686328, 0.38333333333333336, 'X[34] <= 0.5\\nentropy = 0.977\\nsamples = 17\\nvalue = [10, 7]'),\n",
              " Text(0.1257671326287078, 0.35, 'X[2] <= 1.5\\nentropy = 0.764\\nsamples = 9\\nvalue = [7, 2]'),\n",
              " Text(0.12508523695874532, 0.31666666666666665, 'entropy = 0.0\\nsamples = 6\\nvalue = [6, 0]'),\n",
              " Text(0.1264490282986703, 0.31666666666666665, 'X[1] <= 199.5\\nentropy = 0.918\\nsamples = 3\\nvalue = [1, 2]'),\n",
              " Text(0.1257671326287078, 0.2833333333333333, 'entropy = 0.0\\nsamples = 1\\nvalue = [1, 0]'),\n",
              " Text(0.1271309239686328, 0.2833333333333333, 'entropy = 0.0\\nsamples = 2\\nvalue = [0, 2]'),\n",
              " Text(0.1284947153085578, 0.35, 'X[8] <= 1.264\\nentropy = 0.954\\nsamples = 8\\nvalue = [3, 5]'),\n",
              " Text(0.12781281963859528, 0.31666666666666665, 'entropy = 0.0\\nsamples = 3\\nvalue = [0, 3]'),\n",
              " Text(0.1291766109785203, 0.31666666666666665, 'X[26] <= 0.5\\nentropy = 0.971\\nsamples = 5\\nvalue = [3, 2]'),\n",
              " Text(0.1284947153085578, 0.2833333333333333, 'X[1] <= 184.5\\nentropy = 0.918\\nsamples = 3\\nvalue = [1, 2]'),\n",
              " Text(0.12781281963859528, 0.25, 'entropy = 0.0\\nsamples = 1\\nvalue = [1, 0]'),\n",
              " Text(0.1291766109785203, 0.25, 'entropy = 0.0\\nsamples = 2\\nvalue = [0, 2]'),\n",
              " Text(0.12985850664848278, 0.2833333333333333, 'entropy = 0.0\\nsamples = 2\\nvalue = [2, 0]'),\n",
              " Text(0.1284947153085578, 0.38333333333333336, 'entropy = 0.0\\nsamples = 8\\nvalue = [8, 0]'),\n",
              " Text(0.1264490282986703, 0.45, 'entropy = 0.0\\nsamples = 2\\nvalue = [0, 2]'),\n",
              " Text(0.1284947153085578, 0.48333333333333334, 'X[0] <= 51.5\\nentropy = 0.544\\nsamples = 8\\nvalue = [7, 1]'),\n",
              " Text(0.12781281963859528, 0.45, 'entropy = 0.0\\nsamples = 7\\nvalue = [7, 0]'),\n",
              " Text(0.1291766109785203, 0.45, 'entropy = 0.0\\nsamples = 1\\nvalue = [0, 1]'),\n",
              " Text(0.1284947153085578, 0.5166666666666667, 'entropy = 0.0\\nsamples = 4\\nvalue = [4, 0]'),\n",
              " Text(0.1291766109785203, 0.55, 'entropy = 0.0\\nsamples = 2\\nvalue = [0, 2]'),\n",
              " Text(0.12985850664848278, 0.5833333333333334, 'entropy = 0.0\\nsamples = 8\\nvalue = [8, 0]'),\n",
              " Text(0.13190419365837028, 0.6166666666666667, 'X[0] <= 45.5\\nentropy = 0.946\\nsamples = 11\\nvalue = [4, 7]'),\n",
              " Text(0.13122229798840776, 0.5833333333333334, 'X[1] <= 236.0\\nentropy = 0.918\\nsamples = 6\\nvalue = [4, 2]'),\n",
              " Text(0.13054040231844527, 0.55, 'entropy = 0.0\\nsamples = 2\\nvalue = [0, 2]'),\n",
              " Text(0.13190419365837028, 0.55, 'entropy = 0.0\\nsamples = 4\\nvalue = [4, 0]'),\n",
              " Text(0.13258608932833277, 0.5833333333333334, 'entropy = 0.0\\nsamples = 5\\nvalue = [0, 5]'),\n",
              " Text(0.13394988066825775, 0.65, 'X[37] <= 0.5\\nentropy = 0.722\\nsamples = 5\\nvalue = [1, 4]'),\n",
              " Text(0.13326798499829526, 0.6166666666666667, 'entropy = 0.0\\nsamples = 4\\nvalue = [0, 4]'),\n",
              " Text(0.13463177633822027, 0.6166666666666667, 'entropy = 0.0\\nsamples = 1\\nvalue = [1, 0]'),\n",
              " Text(0.13360893283327652, 0.6833333333333333, 'entropy = 0.0\\nsamples = 3\\nvalue = [3, 0]'),\n",
              " Text(0.134290828503239, 0.7166666666666667, 'entropy = 0.0\\nsamples = 2\\nvalue = [0, 2]'),\n",
              " Text(0.19290921731162633, 0.85, 'X[6] <= 92.405\\nentropy = 0.965\\nsamples = 1060\\nvalue = [413, 647]'),\n",
              " Text(0.15033668598704397, 0.8166666666666667, 'X[1] <= 373.5\\nentropy = 0.999\\nsamples = 217\\nvalue = [112, 105]'),\n",
              " Text(0.1392345721104671, 0.7833333333333333, 'X[1] <= 359.0\\nentropy = 0.965\\nsamples = 105\\nvalue = [64, 41]'),\n",
              " Text(0.1385526764405046, 0.75, 'X[8] <= 0.771\\nentropy = 0.988\\nsamples = 94\\nvalue = [53, 41]'),\n",
              " Text(0.1378707807705421, 0.7166666666666667, 'entropy = 0.0\\nsamples = 3\\nvalue = [0, 3]'),\n",
              " Text(0.1392345721104671, 0.7166666666666667, 'X[8] <= 0.78\\nentropy = 0.98\\nsamples = 91\\nvalue = [53, 38]'),\n",
              " Text(0.1385526764405046, 0.6833333333333333, 'entropy = 0.0\\nsamples = 5\\nvalue = [5, 0]'),\n",
              " Text(0.1399164677804296, 0.6833333333333333, 'X[1] <= 352.5\\nentropy = 0.99\\nsamples = 86\\nvalue = [48, 38]'),\n",
              " Text(0.1392345721104671, 0.65, 'X[1] <= 251.5\\nentropy = 0.979\\nsamples = 82\\nvalue = [48, 34]'),\n",
              " Text(0.1385526764405046, 0.6166666666666667, 'entropy = 0.0\\nsamples = 4\\nvalue = [4, 0]'),\n",
              " Text(0.1399164677804296, 0.6166666666666667, 'X[0] <= 39.0\\nentropy = 0.988\\nsamples = 78\\nvalue = [44, 34]'),\n",
              " Text(0.13667746334810774, 0.5833333333333334, 'X[0] <= 35.5\\nentropy = 0.996\\nsamples = 41\\nvalue = [19, 22]'),\n",
              " Text(0.13599556767814525, 0.55, 'X[29] <= 0.5\\nentropy = 0.999\\nsamples = 37\\nvalue = [19, 18]'),\n",
              " Text(0.13531367200818276, 0.5166666666666667, 'X[2] <= 1.5\\nentropy = 0.983\\nsamples = 33\\nvalue = [19, 14]'),\n",
              " Text(0.13394988066825775, 0.48333333333333334, 'X[1] <= 330.0\\nentropy = 0.985\\nsamples = 21\\nvalue = [9, 12]'),\n",
              " Text(0.13326798499829526, 0.45, 'X[1] <= 293.0\\nentropy = 0.989\\nsamples = 16\\nvalue = [9, 7]'),\n",
              " Text(0.13258608932833277, 0.4166666666666667, 'X[1] <= 275.5\\nentropy = 0.996\\nsamples = 13\\nvalue = [6, 7]'),\n",
              " Text(0.13190419365837028, 0.38333333333333336, 'X[1] <= 256.0\\nentropy = 0.918\\nsamples = 9\\nvalue = [6, 3]'),\n",
              " Text(0.13122229798840776, 0.35, 'X[17] <= 0.5\\nentropy = 0.811\\nsamples = 4\\nvalue = [1, 3]'),\n",
              " Text(0.13054040231844527, 0.31666666666666665, 'entropy = 0.0\\nsamples = 2\\nvalue = [0, 2]'),\n",
              " Text(0.13190419365837028, 0.31666666666666665, 'X[36] <= 0.5\\nentropy = 1.0\\nsamples = 2\\nvalue = [1, 1]'),\n",
              " Text(0.13122229798840776, 0.2833333333333333, 'entropy = 0.0\\nsamples = 1\\nvalue = [1, 0]'),\n",
              " Text(0.13258608932833277, 0.2833333333333333, 'entropy = 0.0\\nsamples = 1\\nvalue = [0, 1]'),\n",
              " Text(0.13258608932833277, 0.35, 'entropy = 0.0\\nsamples = 5\\nvalue = [5, 0]'),\n",
              " Text(0.13326798499829526, 0.38333333333333336, 'entropy = 0.0\\nsamples = 4\\nvalue = [0, 4]'),\n",
              " Text(0.13394988066825775, 0.4166666666666667, 'entropy = 0.0\\nsamples = 3\\nvalue = [3, 0]'),\n",
              " Text(0.13463177633822027, 0.45, 'entropy = 0.0\\nsamples = 5\\nvalue = [0, 5]'),\n",
              " Text(0.13667746334810774, 0.48333333333333334, 'X[21] <= 0.5\\nentropy = 0.65\\nsamples = 12\\nvalue = [10, 2]'),\n",
              " Text(0.13599556767814525, 0.45, 'X[34] <= 0.5\\nentropy = 0.439\\nsamples = 11\\nvalue = [10, 1]'),\n",
              " Text(0.13531367200818276, 0.4166666666666667, 'entropy = 0.0\\nsamples = 8\\nvalue = [8, 0]'),\n",
              " Text(0.13667746334810774, 0.4166666666666667, 'X[1] <= 328.0\\nentropy = 0.918\\nsamples = 3\\nvalue = [2, 1]'),\n",
              " Text(0.13599556767814525, 0.38333333333333336, 'entropy = 0.0\\nsamples = 2\\nvalue = [2, 0]'),\n",
              " Text(0.13735935901807023, 0.38333333333333336, 'entropy = 0.0\\nsamples = 1\\nvalue = [0, 1]'),\n",
              " Text(0.13735935901807023, 0.45, 'entropy = 0.0\\nsamples = 1\\nvalue = [0, 1]'),\n",
              " Text(0.13667746334810774, 0.5166666666666667, 'entropy = 0.0\\nsamples = 4\\nvalue = [0, 4]'),\n",
              " Text(0.13735935901807023, 0.55, 'entropy = 0.0\\nsamples = 4\\nvalue = [0, 4]'),\n",
              " Text(0.14315547221275146, 0.5833333333333334, 'X[1] <= 254.5\\nentropy = 0.909\\nsamples = 37\\nvalue = [25, 12]'),\n",
              " Text(0.14247357654278894, 0.55, 'entropy = 0.0\\nsamples = 2\\nvalue = [0, 2]'),\n",
              " Text(0.14383736788271395, 0.55, 'X[2] <= 1.5\\nentropy = 0.863\\nsamples = 35\\nvalue = [25, 10]'),\n",
              " Text(0.14315547221275146, 0.5166666666666667, 'X[1] <= 321.5\\nentropy = 0.94\\nsamples = 28\\nvalue = [18, 10]'),\n",
              " Text(0.14145073303784522, 0.48333333333333334, 'X[0] <= 68.0\\nentropy = 0.845\\nsamples = 22\\nvalue = [16, 6]'),\n",
              " Text(0.1407688373678827, 0.45, 'X[8] <= 0.847\\nentropy = 0.954\\nsamples = 16\\nvalue = [10, 6]'),\n",
              " Text(0.13940504602795772, 0.4166666666666667, 'X[8] <= 0.792\\nentropy = 0.592\\nsamples = 7\\nvalue = [6, 1]'),\n",
              " Text(0.13872315035799523, 0.38333333333333336, 'entropy = 0.0\\nsamples = 1\\nvalue = [0, 1]'),\n",
              " Text(0.14008694169792021, 0.38333333333333336, 'entropy = 0.0\\nsamples = 6\\nvalue = [6, 0]'),\n",
              " Text(0.1421326287078077, 0.4166666666666667, 'X[0] <= 55.5\\nentropy = 0.991\\nsamples = 9\\nvalue = [4, 5]'),\n",
              " Text(0.14145073303784522, 0.38333333333333336, 'X[12] <= 0.5\\nentropy = 0.918\\nsamples = 6\\nvalue = [4, 2]'),\n",
              " Text(0.1407688373678827, 0.35, 'X[11] <= 0.5\\nentropy = 0.722\\nsamples = 5\\nvalue = [4, 1]'),\n",
              " Text(0.14008694169792021, 0.31666666666666665, 'entropy = 0.0\\nsamples = 4\\nvalue = [4, 0]'),\n",
              " Text(0.14145073303784522, 0.31666666666666665, 'entropy = 0.0\\nsamples = 1\\nvalue = [0, 1]'),\n",
              " Text(0.1421326287078077, 0.35, 'entropy = 0.0\\nsamples = 1\\nvalue = [0, 1]'),\n",
              " Text(0.1428145243777702, 0.38333333333333336, 'entropy = 0.0\\nsamples = 3\\nvalue = [0, 3]'),\n",
              " Text(0.1421326287078077, 0.45, 'entropy = 0.0\\nsamples = 6\\nvalue = [6, 0]'),\n",
              " Text(0.1448602113876577, 0.48333333333333334, 'X[8] <= 0.882\\nentropy = 0.918\\nsamples = 6\\nvalue = [2, 4]'),\n",
              " Text(0.14417831571769518, 0.45, 'X[1] <= 348.5\\nentropy = 0.722\\nsamples = 5\\nvalue = [1, 4]'),\n",
              " Text(0.1434964200477327, 0.4166666666666667, 'entropy = 0.0\\nsamples = 4\\nvalue = [0, 4]'),\n",
              " Text(0.1448602113876577, 0.4166666666666667, 'entropy = 0.0\\nsamples = 1\\nvalue = [1, 0]'),\n",
              " Text(0.1455421070576202, 0.45, 'entropy = 0.0\\nsamples = 1\\nvalue = [1, 0]'),\n",
              " Text(0.14451926355267644, 0.5166666666666667, 'entropy = 0.0\\nsamples = 7\\nvalue = [7, 0]'),\n",
              " Text(0.1405983634503921, 0.65, 'entropy = 0.0\\nsamples = 4\\nvalue = [0, 4]'),\n",
              " Text(0.1399164677804296, 0.75, 'entropy = 0.0\\nsamples = 11\\nvalue = [11, 0]'),\n",
              " Text(0.16143879986362086, 0.7833333333333333, 'X[27] <= 0.5\\nentropy = 0.985\\nsamples = 112\\nvalue = [48, 64]'),\n",
              " Text(0.15824241391067168, 0.75, 'X[26] <= 0.5\\nentropy = 1.0\\nsamples = 85\\nvalue = [42, 43]'),\n",
              " Text(0.15525912035458575, 0.7166666666666667, 'X[22] <= 0.5\\nentropy = 0.997\\nsamples = 77\\nvalue = [41, 36]'),\n",
              " Text(0.1513382202523014, 0.6833333333333333, 'X[0] <= 82.0\\nentropy = 0.994\\nsamples = 57\\nvalue = [26, 31]'),\n",
              " Text(0.1506563245823389, 0.65, 'X[8] <= 0.769\\nentropy = 0.984\\nsamples = 54\\nvalue = [23, 31]'),\n",
              " Text(0.14826968973747018, 0.6166666666666667, 'X[0] <= 65.5\\nentropy = 0.65\\nsamples = 6\\nvalue = [5, 1]'),\n",
              " Text(0.14758779406750766, 0.5833333333333334, 'entropy = 0.0\\nsamples = 4\\nvalue = [4, 0]'),\n",
              " Text(0.14895158540743267, 0.5833333333333334, 'X[1] <= 545.5\\nentropy = 1.0\\nsamples = 2\\nvalue = [1, 1]'),\n",
              " Text(0.14826968973747018, 0.55, 'entropy = 0.0\\nsamples = 1\\nvalue = [1, 0]'),\n",
              " Text(0.14963348107739516, 0.55, 'entropy = 0.0\\nsamples = 1\\nvalue = [0, 1]'),\n",
              " Text(0.15304295942720764, 0.6166666666666667, 'X[8] <= 0.884\\nentropy = 0.954\\nsamples = 48\\nvalue = [18, 30]'),\n",
              " Text(0.15167916808728266, 0.5833333333333334, 'X[0] <= 72.0\\nentropy = 0.91\\nsamples = 43\\nvalue = [14, 29]'),\n",
              " Text(0.15099727241732014, 0.55, 'X[0] <= 66.0\\nentropy = 0.942\\nsamples = 39\\nvalue = [14, 25]'),\n",
              " Text(0.14963348107739516, 0.5166666666666667, 'X[1] <= 701.5\\nentropy = 0.898\\nsamples = 35\\nvalue = [11, 24]'),\n",
              " Text(0.14895158540743267, 0.48333333333333334, 'X[1] <= 468.5\\nentropy = 0.948\\nsamples = 30\\nvalue = [11, 19]'),\n",
              " Text(0.14690589839754517, 0.45, 'X[18] <= 0.5\\nentropy = 0.65\\nsamples = 12\\nvalue = [2, 10]'),\n",
              " Text(0.14622400272758268, 0.4166666666666667, 'entropy = 0.0\\nsamples = 7\\nvalue = [0, 7]'),\n",
              " Text(0.14758779406750766, 0.4166666666666667, 'X[1] <= 433.0\\nentropy = 0.971\\nsamples = 5\\nvalue = [2, 3]'),\n",
              " Text(0.14690589839754517, 0.38333333333333336, 'X[8] <= 0.795\\nentropy = 0.918\\nsamples = 3\\nvalue = [2, 1]'),\n",
              " Text(0.14622400272758268, 0.35, 'entropy = 0.0\\nsamples = 1\\nvalue = [0, 1]'),\n",
              " Text(0.14758779406750766, 0.35, 'entropy = 0.0\\nsamples = 2\\nvalue = [2, 0]'),\n",
              " Text(0.14826968973747018, 0.38333333333333336, 'entropy = 0.0\\nsamples = 2\\nvalue = [0, 2]'),\n",
              " Text(0.15099727241732014, 0.45, 'X[11] <= 0.5\\nentropy = 1.0\\nsamples = 18\\nvalue = [9, 9]'),\n",
              " Text(0.15031537674735765, 0.4166666666666667, 'X[1] <= 592.0\\nentropy = 0.989\\nsamples = 16\\nvalue = [9, 7]'),\n",
              " Text(0.14963348107739516, 0.38333333333333336, 'X[0] <= 59.0\\nentropy = 0.996\\nsamples = 13\\nvalue = [6, 7]'),\n",
              " Text(0.14895158540743267, 0.35, 'X[0] <= 54.0\\nentropy = 0.994\\nsamples = 11\\nvalue = [6, 5]'),\n",
              " Text(0.14826968973747018, 0.31666666666666665, 'X[0] <= 48.5\\nentropy = 0.991\\nsamples = 9\\nvalue = [4, 5]'),\n",
              " Text(0.14758779406750766, 0.2833333333333333, 'X[6] <= 92.29\\nentropy = 0.918\\nsamples = 6\\nvalue = [4, 2]'),\n",
              " Text(0.14690589839754517, 0.25, 'entropy = 0.0\\nsamples = 3\\nvalue = [3, 0]'),\n",
              " Text(0.14826968973747018, 0.25, 'X[1] <= 588.0\\nentropy = 0.918\\nsamples = 3\\nvalue = [1, 2]'),\n",
              " Text(0.14758779406750766, 0.21666666666666667, 'entropy = 0.0\\nsamples = 2\\nvalue = [0, 2]'),\n",
              " Text(0.14895158540743267, 0.21666666666666667, 'entropy = 0.0\\nsamples = 1\\nvalue = [1, 0]'),\n",
              " Text(0.14895158540743267, 0.2833333333333333, 'entropy = 0.0\\nsamples = 3\\nvalue = [0, 3]'),\n",
              " Text(0.14963348107739516, 0.31666666666666665, 'entropy = 0.0\\nsamples = 2\\nvalue = [2, 0]'),\n",
              " Text(0.15031537674735765, 0.35, 'entropy = 0.0\\nsamples = 2\\nvalue = [0, 2]'),\n",
              " Text(0.15099727241732014, 0.38333333333333336, 'entropy = 0.0\\nsamples = 3\\nvalue = [3, 0]'),\n",
              " Text(0.15167916808728266, 0.4166666666666667, 'entropy = 0.0\\nsamples = 2\\nvalue = [0, 2]'),\n",
              " Text(0.15031537674735765, 0.48333333333333334, 'entropy = 0.0\\nsamples = 5\\nvalue = [0, 5]'),\n",
              " Text(0.15236106375724515, 0.5166666666666667, 'X[4] <= 1.0\\nentropy = 0.811\\nsamples = 4\\nvalue = [3, 1]'),\n",
              " Text(0.15167916808728266, 0.48333333333333334, 'entropy = 0.0\\nsamples = 3\\nvalue = [3, 0]'),\n",
              " Text(0.15304295942720764, 0.48333333333333334, 'entropy = 0.0\\nsamples = 1\\nvalue = [0, 1]'),\n",
              " Text(0.15236106375724515, 0.55, 'entropy = 0.0\\nsamples = 4\\nvalue = [0, 4]'),\n",
              " Text(0.15440675076713262, 0.5833333333333334, 'X[30] <= 0.5\\nentropy = 0.722\\nsamples = 5\\nvalue = [4, 1]'),\n",
              " Text(0.15372485509717013, 0.55, 'entropy = 0.0\\nsamples = 4\\nvalue = [4, 0]'),\n",
              " Text(0.15508864643709513, 0.55, 'entropy = 0.0\\nsamples = 1\\nvalue = [0, 1]'),\n",
              " Text(0.1520201159222639, 0.65, 'entropy = 0.0\\nsamples = 3\\nvalue = [3, 0]'),\n",
              " Text(0.1591800204568701, 0.6833333333333333, 'X[2] <= 3.5\\nentropy = 0.811\\nsamples = 20\\nvalue = [15, 5]'),\n",
              " Text(0.1584981247869076, 0.65, 'X[18] <= 0.5\\nentropy = 0.65\\nsamples = 18\\nvalue = [15, 3]'),\n",
              " Text(0.1578162291169451, 0.6166666666666667, 'X[1] <= 1226.5\\nentropy = 0.523\\nsamples = 17\\nvalue = [15, 2]'),\n",
              " Text(0.1571343334469826, 0.5833333333333334, 'X[0] <= 21.5\\nentropy = 0.337\\nsamples = 16\\nvalue = [15, 1]'),\n",
              " Text(0.15645243777702011, 0.55, 'X[1] <= 482.0\\nentropy = 1.0\\nsamples = 2\\nvalue = [1, 1]'),\n",
              " Text(0.15577054210705762, 0.5166666666666667, 'entropy = 0.0\\nsamples = 1\\nvalue = [1, 0]'),\n",
              " Text(0.1571343334469826, 0.5166666666666667, 'entropy = 0.0\\nsamples = 1\\nvalue = [0, 1]'),\n",
              " Text(0.1578162291169451, 0.55, 'entropy = 0.0\\nsamples = 14\\nvalue = [14, 0]'),\n",
              " Text(0.1584981247869076, 0.5833333333333334, 'entropy = 0.0\\nsamples = 1\\nvalue = [0, 1]'),\n",
              " Text(0.1591800204568701, 0.6166666666666667, 'entropy = 0.0\\nsamples = 1\\nvalue = [0, 1]'),\n",
              " Text(0.1598619161268326, 0.65, 'entropy = 0.0\\nsamples = 2\\nvalue = [0, 2]'),\n",
              " Text(0.16122570746675757, 0.7166666666666667, 'X[10] <= 0.5\\nentropy = 0.544\\nsamples = 8\\nvalue = [1, 7]'),\n",
              " Text(0.16054381179679508, 0.6833333333333333, 'entropy = 0.0\\nsamples = 6\\nvalue = [0, 6]'),\n",
              " Text(0.1619076031367201, 0.6833333333333333, 'X[1] <= 560.0\\nentropy = 1.0\\nsamples = 2\\nvalue = [1, 1]'),\n",
              " Text(0.16122570746675757, 0.65, 'entropy = 0.0\\nsamples = 1\\nvalue = [0, 1]'),\n",
              " Text(0.16258949880668258, 0.65, 'entropy = 0.0\\nsamples = 1\\nvalue = [1, 0]'),\n",
              " Text(0.16463518581657005, 0.75, 'X[1] <= 480.5\\nentropy = 0.764\\nsamples = 27\\nvalue = [6, 21]'),\n",
              " Text(0.16395329014660756, 0.7166666666666667, 'entropy = 0.0\\nsamples = 13\\nvalue = [0, 13]'),\n",
              " Text(0.16531708148653257, 0.7166666666666667, 'X[1] <= 684.5\\nentropy = 0.985\\nsamples = 14\\nvalue = [6, 8]'),\n",
              " Text(0.16463518581657005, 0.6833333333333333, 'X[36] <= 0.5\\nentropy = 0.918\\nsamples = 9\\nvalue = [6, 3]'),\n",
              " Text(0.16395329014660756, 0.65, 'X[1] <= 548.0\\nentropy = 0.592\\nsamples = 7\\nvalue = [6, 1]'),\n",
              " Text(0.16327139447664507, 0.6166666666666667, 'X[2] <= 1.5\\nentropy = 1.0\\nsamples = 2\\nvalue = [1, 1]'),\n",
              " Text(0.16258949880668258, 0.5833333333333334, 'entropy = 0.0\\nsamples = 1\\nvalue = [0, 1]'),\n",
              " Text(0.16395329014660756, 0.5833333333333334, 'entropy = 0.0\\nsamples = 1\\nvalue = [1, 0]'),\n",
              " Text(0.16463518581657005, 0.6166666666666667, 'entropy = 0.0\\nsamples = 5\\nvalue = [5, 0]'),\n",
              " Text(0.16531708148653257, 0.65, 'entropy = 0.0\\nsamples = 2\\nvalue = [0, 2]'),\n",
              " Text(0.16599897715649506, 0.6833333333333333, 'entropy = 0.0\\nsamples = 5\\nvalue = [0, 5]'),\n",
              " Text(0.23548174863620866, 0.8166666666666667, 'X[31] <= 0.5\\nentropy = 0.94\\nsamples = 843\\nvalue = [301, 542]'),\n",
              " Text(0.21018102199113536, 0.7833333333333333, 'X[1] <= 346.5\\nentropy = 0.946\\nsamples = 825\\nvalue = [300, 525]'),\n",
              " Text(0.1777936413228776, 0.75, 'X[0] <= 34.5\\nentropy = 0.982\\nsamples = 320\\nvalue = [135, 185]'),\n",
              " Text(0.16949369246505286, 0.7166666666666667, 'X[1] <= 343.5\\nentropy = 0.923\\nsamples = 130\\nvalue = [44, 86]'),\n",
              " Text(0.16881179679509034, 0.6833333333333333, 'X[0] <= 21.5\\nentropy = 0.902\\nsamples = 126\\nvalue = [40, 86]'),\n",
              " Text(0.16668087282645755, 0.65, 'X[0] <= 19.0\\nentropy = 0.722\\nsamples = 5\\nvalue = [4, 1]'),\n",
              " Text(0.16599897715649506, 0.6166666666666667, 'entropy = 0.0\\nsamples = 1\\nvalue = [0, 1]'),\n",
              " Text(0.16736276849642004, 0.6166666666666667, 'entropy = 0.0\\nsamples = 4\\nvalue = [4, 0]'),\n",
              " Text(0.17094272076372316, 0.65, 'X[16] <= 0.5\\nentropy = 0.878\\nsamples = 121\\nvalue = [36, 85]'),\n",
              " Text(0.16872655983634505, 0.6166666666666667, 'X[1] <= 307.0\\nentropy = 0.838\\nsamples = 112\\nvalue = [30, 82]'),\n",
              " Text(0.16633992499147632, 0.5833333333333334, 'X[1] <= 290.5\\nentropy = 0.727\\nsamples = 79\\nvalue = [16, 63]'),\n",
              " Text(0.1656580293215138, 0.55, 'X[4] <= 3.5\\nentropy = 0.83\\nsamples = 61\\nvalue = [16, 45]'),\n",
              " Text(0.1649761336515513, 0.5166666666666667, 'X[1] <= 251.5\\nentropy = 0.791\\nsamples = 59\\nvalue = [14, 45]'),\n",
              " Text(0.16429423798158882, 0.48333333333333334, 'entropy = 0.0\\nsamples = 8\\nvalue = [0, 8]'),\n",
              " Text(0.1656580293215138, 0.48333333333333334, 'X[8] <= 1.267\\nentropy = 0.848\\nsamples = 51\\nvalue = [14, 37]'),\n",
              " Text(0.1649761336515513, 0.45, 'X[8] <= 1.248\\nentropy = 0.879\\nsamples = 47\\nvalue = [14, 33]'),\n",
              " Text(0.16327139447664507, 0.4166666666666667, 'X[33] <= 0.5\\nentropy = 0.79\\nsamples = 38\\nvalue = [9, 29]'),\n",
              " Text(0.16258949880668258, 0.38333333333333336, 'X[1] <= 287.0\\nentropy = 0.711\\nsamples = 36\\nvalue = [7, 29]'),\n",
              " Text(0.16122570746675757, 0.35, 'X[1] <= 269.5\\nentropy = 0.614\\nsamples = 33\\nvalue = [5, 28]'),\n",
              " Text(0.16054381179679508, 0.31666666666666665, 'X[1] <= 261.5\\nentropy = 0.773\\nsamples = 22\\nvalue = [5, 17]'),\n",
              " Text(0.1584981247869076, 0.2833333333333333, 'X[17] <= 0.5\\nentropy = 0.414\\nsamples = 12\\nvalue = [1, 11]'),\n",
              " Text(0.1578162291169451, 0.25, 'entropy = 0.0\\nsamples = 9\\nvalue = [0, 9]'),\n",
              " Text(0.1591800204568701, 0.25, 'X[8] <= 0.707\\nentropy = 0.918\\nsamples = 3\\nvalue = [1, 2]'),\n",
              " Text(0.1584981247869076, 0.21666666666666667, 'entropy = 0.0\\nsamples = 1\\nvalue = [1, 0]'),\n",
              " Text(0.1598619161268326, 0.21666666666666667, 'entropy = 0.0\\nsamples = 2\\nvalue = [0, 2]'),\n",
              " Text(0.16258949880668258, 0.2833333333333333, 'X[2] <= 2.5\\nentropy = 0.971\\nsamples = 10\\nvalue = [4, 6]'),\n",
              " Text(0.1619076031367201, 0.25, 'X[7] <= -34.7\\nentropy = 0.811\\nsamples = 8\\nvalue = [2, 6]'),\n",
              " Text(0.16122570746675757, 0.21666666666666667, 'entropy = 0.0\\nsamples = 4\\nvalue = [0, 4]'),\n",
              " Text(0.16258949880668258, 0.21666666666666667, 'X[8] <= 0.672\\nentropy = 1.0\\nsamples = 4\\nvalue = [2, 2]'),\n",
              " Text(0.1619076031367201, 0.18333333333333332, 'entropy = 0.0\\nsamples = 1\\nvalue = [1, 0]'),\n",
              " Text(0.16327139447664507, 0.18333333333333332, 'X[6] <= 92.54\\nentropy = 0.918\\nsamples = 3\\nvalue = [1, 2]'),\n",
              " Text(0.16258949880668258, 0.15, 'entropy = 0.0\\nsamples = 1\\nvalue = [1, 0]'),\n",
              " Text(0.16395329014660756, 0.15, 'entropy = 0.0\\nsamples = 2\\nvalue = [0, 2]'),\n",
              " Text(0.16327139447664507, 0.25, 'entropy = 0.0\\nsamples = 2\\nvalue = [2, 0]'),\n",
              " Text(0.1619076031367201, 0.31666666666666665, 'entropy = 0.0\\nsamples = 11\\nvalue = [0, 11]'),\n",
              " Text(0.16395329014660756, 0.35, 'X[22] <= 0.5\\nentropy = 0.918\\nsamples = 3\\nvalue = [2, 1]'),\n",
              " Text(0.16327139447664507, 0.31666666666666665, 'entropy = 0.0\\nsamples = 1\\nvalue = [0, 1]'),\n",
              " Text(0.16463518581657005, 0.31666666666666665, 'entropy = 0.0\\nsamples = 2\\nvalue = [2, 0]'),\n",
              " Text(0.16395329014660756, 0.38333333333333336, 'entropy = 0.0\\nsamples = 2\\nvalue = [2, 0]'),\n",
              " Text(0.16668087282645755, 0.4166666666666667, 'X[2] <= 2.5\\nentropy = 0.991\\nsamples = 9\\nvalue = [5, 4]'),\n",
              " Text(0.16599897715649506, 0.38333333333333336, 'X[34] <= 0.5\\nentropy = 0.863\\nsamples = 7\\nvalue = [5, 2]'),\n",
              " Text(0.16531708148653257, 0.35, 'entropy = 0.0\\nsamples = 4\\nvalue = [4, 0]'),\n",
              " Text(0.16668087282645755, 0.35, 'X[0] <= 29.5\\nentropy = 0.918\\nsamples = 3\\nvalue = [1, 2]'),\n",
              " Text(0.16599897715649506, 0.31666666666666665, 'entropy = 0.0\\nsamples = 1\\nvalue = [1, 0]'),\n",
              " Text(0.16736276849642004, 0.31666666666666665, 'entropy = 0.0\\nsamples = 2\\nvalue = [0, 2]'),\n",
              " Text(0.16736276849642004, 0.38333333333333336, 'entropy = 0.0\\nsamples = 2\\nvalue = [0, 2]'),\n",
              " Text(0.16633992499147632, 0.45, 'entropy = 0.0\\nsamples = 4\\nvalue = [0, 4]'),\n",
              " Text(0.16633992499147632, 0.5166666666666667, 'entropy = 0.0\\nsamples = 2\\nvalue = [2, 0]'),\n",
              " Text(0.1670218206614388, 0.55, 'entropy = 0.0\\nsamples = 18\\nvalue = [0, 18]'),\n",
              " Text(0.17111319468121378, 0.5833333333333334, 'X[8] <= 1.261\\nentropy = 0.983\\nsamples = 33\\nvalue = [14, 19]'),\n",
              " Text(0.17043129901125129, 0.55, 'X[1] <= 316.5\\nentropy = 0.999\\nsamples = 29\\nvalue = [14, 15]'),\n",
              " Text(0.16906750767132628, 0.5166666666666667, 'X[8] <= 1.139\\nentropy = 0.764\\nsamples = 9\\nvalue = [7, 2]'),\n",
              " Text(0.1683856120013638, 0.48333333333333334, 'X[19] <= 0.5\\nentropy = 0.544\\nsamples = 8\\nvalue = [7, 1]'),\n",
              " Text(0.1677037163314013, 0.45, 'entropy = 0.0\\nsamples = 7\\nvalue = [7, 0]'),\n",
              " Text(0.16906750767132628, 0.45, 'entropy = 0.0\\nsamples = 1\\nvalue = [0, 1]'),\n",
              " Text(0.1697494033412888, 0.48333333333333334, 'entropy = 0.0\\nsamples = 1\\nvalue = [0, 1]'),\n",
              " Text(0.17179509035117627, 0.5166666666666667, 'X[1] <= 323.5\\nentropy = 0.934\\nsamples = 20\\nvalue = [7, 13]'),\n",
              " Text(0.17111319468121378, 0.48333333333333334, 'entropy = 0.0\\nsamples = 6\\nvalue = [0, 6]'),\n",
              " Text(0.17247698602113876, 0.48333333333333334, 'X[1] <= 331.5\\nentropy = 1.0\\nsamples = 14\\nvalue = [7, 7]'),\n",
              " Text(0.17179509035117627, 0.45, 'entropy = 0.0\\nsamples = 3\\nvalue = [3, 0]'),\n",
              " Text(0.17315888169110127, 0.45, 'X[19] <= 0.5\\nentropy = 0.946\\nsamples = 11\\nvalue = [4, 7]'),\n",
              " Text(0.17247698602113876, 0.4166666666666667, 'X[2] <= 1.5\\nentropy = 0.764\\nsamples = 9\\nvalue = [2, 7]'),\n",
              " Text(0.17179509035117627, 0.38333333333333336, 'X[1] <= 338.0\\nentropy = 1.0\\nsamples = 4\\nvalue = [2, 2]'),\n",
              " Text(0.17111319468121378, 0.35, 'entropy = 0.0\\nsamples = 2\\nvalue = [2, 0]'),\n",
              " Text(0.17247698602113876, 0.35, 'entropy = 0.0\\nsamples = 2\\nvalue = [0, 2]'),\n",
              " Text(0.17315888169110127, 0.38333333333333336, 'entropy = 0.0\\nsamples = 5\\nvalue = [0, 5]'),\n",
              " Text(0.17384077736106376, 0.4166666666666667, 'entropy = 0.0\\nsamples = 2\\nvalue = [2, 0]'),\n",
              " Text(0.17179509035117627, 0.55, 'entropy = 0.0\\nsamples = 4\\nvalue = [0, 4]'),\n",
              " Text(0.17315888169110127, 0.6166666666666667, 'X[1] <= 314.0\\nentropy = 0.918\\nsamples = 9\\nvalue = [6, 3]'),\n",
              " Text(0.17247698602113876, 0.5833333333333334, 'entropy = 0.0\\nsamples = 6\\nvalue = [6, 0]'),\n",
              " Text(0.17384077736106376, 0.5833333333333334, 'entropy = 0.0\\nsamples = 3\\nvalue = [0, 3]'),\n",
              " Text(0.17017558813501535, 0.6833333333333333, 'entropy = 0.0\\nsamples = 4\\nvalue = [4, 0]'),\n",
              " Text(0.18609359018070235, 0.7166666666666667, 'X[1] <= 283.5\\nentropy = 0.999\\nsamples = 190\\nvalue = [91, 99]'),\n",
              " Text(0.17997783839072623, 0.6833333333333333, 'X[1] <= 269.5\\nentropy = 0.969\\nsamples = 68\\nvalue = [41, 27]'),\n",
              " Text(0.17725025571087624, 0.65, 'X[37] <= 0.5\\nentropy = 1.0\\nsamples = 46\\nvalue = [23, 23]'),\n",
              " Text(0.17588646437095123, 0.6166666666666667, 'X[1] <= 263.5\\nentropy = 0.918\\nsamples = 30\\nvalue = [10, 20]'),\n",
              " Text(0.17520456870098874, 0.5833333333333334, 'X[8] <= 0.716\\nentropy = 0.988\\nsamples = 23\\nvalue = [10, 13]'),\n",
              " Text(0.17452267303102625, 0.55, 'entropy = 0.0\\nsamples = 5\\nvalue = [0, 5]'),\n",
              " Text(0.17588646437095123, 0.55, 'X[8] <= 1.034\\nentropy = 0.991\\nsamples = 18\\nvalue = [10, 8]'),\n",
              " Text(0.17452267303102625, 0.5166666666666667, 'X[0] <= 67.0\\nentropy = 0.722\\nsamples = 10\\nvalue = [8, 2]'),\n",
              " Text(0.17384077736106376, 0.48333333333333334, 'entropy = 0.0\\nsamples = 7\\nvalue = [7, 0]'),\n",
              " Text(0.17520456870098874, 0.48333333333333334, 'X[5] <= -2.55\\nentropy = 0.918\\nsamples = 3\\nvalue = [1, 2]'),\n",
              " Text(0.17452267303102625, 0.45, 'entropy = 0.0\\nsamples = 2\\nvalue = [0, 2]'),\n",
              " Text(0.17588646437095123, 0.45, 'entropy = 0.0\\nsamples = 1\\nvalue = [1, 0]'),\n",
              " Text(0.17725025571087624, 0.5166666666666667, 'X[1] <= 262.5\\nentropy = 0.811\\nsamples = 8\\nvalue = [2, 6]'),\n",
              " Text(0.17656836004091375, 0.48333333333333334, 'entropy = 0.0\\nsamples = 5\\nvalue = [0, 5]'),\n",
              " Text(0.17793215138083873, 0.48333333333333334, 'X[8] <= 1.256\\nentropy = 0.918\\nsamples = 3\\nvalue = [2, 1]'),\n",
              " Text(0.17725025571087624, 0.45, 'entropy = 0.0\\nsamples = 1\\nvalue = [0, 1]'),\n",
              " Text(0.17861404705080122, 0.45, 'entropy = 0.0\\nsamples = 2\\nvalue = [2, 0]'),\n",
              " Text(0.17656836004091375, 0.5833333333333334, 'entropy = 0.0\\nsamples = 7\\nvalue = [0, 7]'),\n",
              " Text(0.17861404705080122, 0.6166666666666667, 'X[6] <= 94.041\\nentropy = 0.696\\nsamples = 16\\nvalue = [13, 3]'),\n",
              " Text(0.17793215138083873, 0.5833333333333334, 'X[1] <= 249.5\\nentropy = 0.371\\nsamples = 14\\nvalue = [13, 1]'),\n",
              " Text(0.17725025571087624, 0.55, 'entropy = 0.0\\nsamples = 1\\nvalue = [0, 1]'),\n",
              " Text(0.17861404705080122, 0.55, 'entropy = 0.0\\nsamples = 13\\nvalue = [13, 0]'),\n",
              " Text(0.1792959427207637, 0.5833333333333334, 'entropy = 0.0\\nsamples = 2\\nvalue = [0, 2]'),\n",
              " Text(0.1827054210705762, 0.65, 'X[19] <= 0.5\\nentropy = 0.684\\nsamples = 22\\nvalue = [18, 4]'),\n",
              " Text(0.1813416297306512, 0.6166666666666667, 'X[0] <= 41.5\\nentropy = 0.485\\nsamples = 19\\nvalue = [17, 2]'),\n",
              " Text(0.18065973406068872, 0.5833333333333334, 'X[34] <= 0.5\\nentropy = 0.918\\nsamples = 6\\nvalue = [4, 2]'),\n",
              " Text(0.17997783839072623, 0.55, 'X[12] <= 0.5\\nentropy = 0.918\\nsamples = 3\\nvalue = [1, 2]'),\n",
              " Text(0.1792959427207637, 0.5166666666666667, 'entropy = 0.0\\nsamples = 2\\nvalue = [0, 2]'),\n",
              " Text(0.18065973406068872, 0.5166666666666667, 'entropy = 0.0\\nsamples = 1\\nvalue = [1, 0]'),\n",
              " Text(0.1813416297306512, 0.55, 'entropy = 0.0\\nsamples = 3\\nvalue = [3, 0]'),\n",
              " Text(0.1820235254006137, 0.5833333333333334, 'entropy = 0.0\\nsamples = 13\\nvalue = [13, 0]'),\n",
              " Text(0.1840692124105012, 0.6166666666666667, 'X[0] <= 46.0\\nentropy = 0.918\\nsamples = 3\\nvalue = [1, 2]'),\n",
              " Text(0.1833873167405387, 0.5833333333333334, 'entropy = 0.0\\nsamples = 1\\nvalue = [1, 0]'),\n",
              " Text(0.1847511080804637, 0.5833333333333334, 'entropy = 0.0\\nsamples = 2\\nvalue = [0, 2]'),\n",
              " Text(0.1922093419706785, 0.6833333333333333, 'X[2] <= 1.5\\nentropy = 0.976\\nsamples = 122\\nvalue = [50, 72]'),\n",
              " Text(0.1877344016365496, 0.65, 'X[3] <= 510.0\\nentropy = 0.866\\nsamples = 73\\nvalue = [21, 52]'),\n",
              " Text(0.18705250596658712, 0.6166666666666667, 'entropy = 0.0\\nsamples = 8\\nvalue = [0, 8]'),\n",
              " Text(0.1884162973065121, 0.6166666666666667, 'X[8] <= 1.267\\nentropy = 0.908\\nsamples = 65\\nvalue = [21, 44]'),\n",
              " Text(0.1877344016365496, 0.5833333333333334, 'X[4] <= 1.5\\nentropy = 0.883\\nsamples = 63\\nvalue = [19, 44]'),\n",
              " Text(0.18594442550289805, 0.55, 'X[16] <= 0.5\\nentropy = 0.795\\nsamples = 50\\nvalue = [12, 38]'),\n",
              " Text(0.18526252983293556, 0.5166666666666667, 'X[22] <= 0.5\\nentropy = 0.768\\nsamples = 49\\nvalue = [11, 38]'),\n",
              " Text(0.18236447323559496, 0.48333333333333334, 'X[34] <= 0.5\\nentropy = 0.669\\nsamples = 40\\nvalue = [7, 33]'),\n",
              " Text(0.17997783839072623, 0.45, 'X[1] <= 325.5\\nentropy = 0.896\\nsamples = 16\\nvalue = [5, 11]'),\n",
              " Text(0.17861404705080122, 0.4166666666666667, 'X[0] <= 46.5\\nentropy = 0.65\\nsamples = 12\\nvalue = [2, 10]'),\n",
              " Text(0.17793215138083873, 0.38333333333333336, 'entropy = 0.0\\nsamples = 8\\nvalue = [0, 8]'),\n",
              " Text(0.1792959427207637, 0.38333333333333336, 'X[0] <= 55.5\\nentropy = 1.0\\nsamples = 4\\nvalue = [2, 2]'),\n",
              " Text(0.17861404705080122, 0.35, 'entropy = 0.0\\nsamples = 2\\nvalue = [2, 0]'),\n",
              " Text(0.17997783839072623, 0.35, 'entropy = 0.0\\nsamples = 2\\nvalue = [0, 2]'),\n",
              " Text(0.1813416297306512, 0.4166666666666667, 'X[5] <= -3.15\\nentropy = 0.811\\nsamples = 4\\nvalue = [3, 1]'),\n",
              " Text(0.18065973406068872, 0.38333333333333336, 'entropy = 0.0\\nsamples = 1\\nvalue = [0, 1]'),\n",
              " Text(0.1820235254006137, 0.38333333333333336, 'entropy = 0.0\\nsamples = 3\\nvalue = [3, 0]'),\n",
              " Text(0.1847511080804637, 0.45, 'X[6] <= 93.559\\nentropy = 0.414\\nsamples = 24\\nvalue = [2, 22]'),\n",
              " Text(0.1840692124105012, 0.4166666666666667, 'X[8] <= 0.648\\nentropy = 0.684\\nsamples = 11\\nvalue = [2, 9]'),\n",
              " Text(0.1833873167405387, 0.38333333333333336, 'entropy = 0.0\\nsamples = 1\\nvalue = [1, 0]'),\n",
              " Text(0.1847511080804637, 0.38333333333333336, 'X[14] <= 0.5\\nentropy = 0.469\\nsamples = 10\\nvalue = [1, 9]'),\n",
              " Text(0.1840692124105012, 0.35, 'entropy = 0.0\\nsamples = 8\\nvalue = [0, 8]'),\n",
              " Text(0.18543300375042618, 0.35, 'X[8] <= 0.724\\nentropy = 1.0\\nsamples = 2\\nvalue = [1, 1]'),\n",
              " Text(0.1847511080804637, 0.31666666666666665, 'entropy = 0.0\\nsamples = 1\\nvalue = [0, 1]'),\n",
              " Text(0.18611489942038867, 0.31666666666666665, 'entropy = 0.0\\nsamples = 1\\nvalue = [1, 0]'),\n",
              " Text(0.18543300375042618, 0.4166666666666667, 'entropy = 0.0\\nsamples = 13\\nvalue = [0, 13]'),\n",
              " Text(0.18816058643027617, 0.48333333333333334, 'X[8] <= 1.045\\nentropy = 0.991\\nsamples = 9\\nvalue = [4, 5]'),\n",
              " Text(0.18747869076031368, 0.45, 'X[8] <= 0.691\\nentropy = 0.722\\nsamples = 5\\nvalue = [4, 1]'),\n",
              " Text(0.1867967950903512, 0.4166666666666667, 'entropy = 0.0\\nsamples = 1\\nvalue = [0, 1]'),\n",
              " Text(0.18816058643027617, 0.4166666666666667, 'entropy = 0.0\\nsamples = 4\\nvalue = [4, 0]'),\n",
              " Text(0.18884248210023866, 0.45, 'entropy = 0.0\\nsamples = 4\\nvalue = [0, 4]'),\n",
              " Text(0.18662632117286054, 0.5166666666666667, 'entropy = 0.0\\nsamples = 1\\nvalue = [1, 0]'),\n",
              " Text(0.18952437777020115, 0.55, 'X[6] <= 92.54\\nentropy = 0.996\\nsamples = 13\\nvalue = [7, 6]'),\n",
              " Text(0.18884248210023866, 0.5166666666666667, 'entropy = 0.0\\nsamples = 2\\nvalue = [0, 2]'),\n",
              " Text(0.19020627344016366, 0.5166666666666667, 'X[1] <= 300.5\\nentropy = 0.946\\nsamples = 11\\nvalue = [7, 4]'),\n",
              " Text(0.18952437777020115, 0.48333333333333334, 'entropy = 0.0\\nsamples = 1\\nvalue = [0, 1]'),\n",
              " Text(0.19088816911012615, 0.48333333333333334, 'X[13] <= 0.5\\nentropy = 0.881\\nsamples = 10\\nvalue = [7, 3]'),\n",
              " Text(0.19020627344016366, 0.45, 'X[7] <= -40.15\\nentropy = 0.764\\nsamples = 9\\nvalue = [7, 2]'),\n",
              " Text(0.18952437777020115, 0.4166666666666667, 'X[34] <= 0.5\\nentropy = 1.0\\nsamples = 4\\nvalue = [2, 2]'),\n",
              " Text(0.18884248210023866, 0.38333333333333336, 'entropy = 0.0\\nsamples = 2\\nvalue = [2, 0]'),\n",
              " Text(0.19020627344016366, 0.38333333333333336, 'entropy = 0.0\\nsamples = 2\\nvalue = [0, 2]'),\n",
              " Text(0.19088816911012615, 0.4166666666666667, 'entropy = 0.0\\nsamples = 5\\nvalue = [5, 0]'),\n",
              " Text(0.19157006478008864, 0.45, 'entropy = 0.0\\nsamples = 1\\nvalue = [0, 1]'),\n",
              " Text(0.1890981929764746, 0.5833333333333334, 'entropy = 0.0\\nsamples = 2\\nvalue = [2, 0]'),\n",
              " Text(0.19668428230480736, 0.65, 'X[8] <= 0.891\\nentropy = 0.976\\nsamples = 49\\nvalue = [29, 20]'),\n",
              " Text(0.19429764745993863, 0.6166666666666667, 'X[22] <= 0.5\\nentropy = 0.975\\nsamples = 27\\nvalue = [11, 16]'),\n",
              " Text(0.19361575178997614, 0.5833333333333334, 'X[0] <= 45.0\\nentropy = 0.999\\nsamples = 23\\nvalue = [11, 12]'),\n",
              " Text(0.19225196045005113, 0.55, 'X[6] <= 94.037\\nentropy = 0.592\\nsamples = 7\\nvalue = [6, 1]'),\n",
              " Text(0.19157006478008864, 0.5166666666666667, 'entropy = 0.0\\nsamples = 6\\nvalue = [6, 0]'),\n",
              " Text(0.19293385612001362, 0.5166666666666667, 'entropy = 0.0\\nsamples = 1\\nvalue = [0, 1]'),\n",
              " Text(0.19497954312990112, 0.55, 'X[30] <= 0.5\\nentropy = 0.896\\nsamples = 16\\nvalue = [5, 11]'),\n",
              " Text(0.19429764745993863, 0.5166666666666667, 'X[0] <= 60.0\\nentropy = 0.75\\nsamples = 14\\nvalue = [3, 11]'),\n",
              " Text(0.19361575178997614, 0.48333333333333334, 'X[0] <= 54.5\\nentropy = 1.0\\nsamples = 6\\nvalue = [3, 3]'),\n",
              " Text(0.19293385612001362, 0.45, 'entropy = 0.0\\nsamples = 3\\nvalue = [0, 3]'),\n",
              " Text(0.19429764745993863, 0.45, 'entropy = 0.0\\nsamples = 3\\nvalue = [3, 0]'),\n",
              " Text(0.19497954312990112, 0.48333333333333334, 'entropy = 0.0\\nsamples = 8\\nvalue = [0, 8]'),\n",
              " Text(0.1956614387998636, 0.5166666666666667, 'entropy = 0.0\\nsamples = 2\\nvalue = [2, 0]'),\n",
              " Text(0.19497954312990112, 0.5833333333333334, 'entropy = 0.0\\nsamples = 4\\nvalue = [0, 4]'),\n",
              " Text(0.1990709171496761, 0.6166666666666667, 'X[36] <= 0.5\\nentropy = 0.684\\nsamples = 22\\nvalue = [18, 4]'),\n",
              " Text(0.1983890214797136, 0.5833333333333334, 'X[1] <= 341.0\\nentropy = 0.469\\nsamples = 20\\nvalue = [18, 2]'),\n",
              " Text(0.1977071258097511, 0.55, 'X[0] <= 42.5\\nentropy = 0.297\\nsamples = 19\\nvalue = [18, 1]'),\n",
              " Text(0.19702523013978862, 0.5166666666666667, 'X[8] <= 1.123\\nentropy = 0.722\\nsamples = 5\\nvalue = [4, 1]'),\n",
              " Text(0.1963433344698261, 0.48333333333333334, 'entropy = 0.0\\nsamples = 3\\nvalue = [3, 0]'),\n",
              " Text(0.1977071258097511, 0.48333333333333334, 'X[8] <= 1.238\\nentropy = 1.0\\nsamples = 2\\nvalue = [1, 1]'),\n",
              " Text(0.19702523013978862, 0.45, 'entropy = 0.0\\nsamples = 1\\nvalue = [0, 1]'),\n",
              " Text(0.1983890214797136, 0.45, 'entropy = 0.0\\nsamples = 1\\nvalue = [1, 0]'),\n",
              " Text(0.1983890214797136, 0.5166666666666667, 'entropy = 0.0\\nsamples = 14\\nvalue = [14, 0]'),\n",
              " Text(0.1990709171496761, 0.55, 'entropy = 0.0\\nsamples = 1\\nvalue = [0, 1]'),\n",
              " Text(0.1997528128196386, 0.5833333333333334, 'entropy = 0.0\\nsamples = 2\\nvalue = [0, 2]'),\n",
              " Text(0.2425684026593931, 0.75, 'X[4] <= 2.5\\nentropy = 0.912\\nsamples = 505\\nvalue = [165, 340]'),\n",
              " Text(0.22571812137742925, 0.7166666666666667, 'X[6] <= 92.681\\nentropy = 0.9\\nsamples = 488\\nvalue = [154, 334]'),\n",
              " Text(0.20810603477667916, 0.6833333333333333, 'X[1] <= 514.0\\nentropy = 0.977\\nsamples = 134\\nvalue = [55, 79]'),\n",
              " Text(0.20486703034435733, 0.65, 'X[6] <= 92.45\\nentropy = 0.855\\nsamples = 75\\nvalue = [21, 54]'),\n",
              " Text(0.20248039549948857, 0.6166666666666667, 'X[13] <= 0.5\\nentropy = 0.555\\nsamples = 31\\nvalue = [4, 27]'),\n",
              " Text(0.20179849982952608, 0.5833333333333334, 'X[19] <= 0.5\\nentropy = 0.469\\nsamples = 30\\nvalue = [3, 27]'),\n",
              " Text(0.2004347084896011, 0.55, 'X[4] <= 1.5\\nentropy = 0.235\\nsamples = 26\\nvalue = [1, 25]'),\n",
              " ...]"
            ]
          },
          "metadata": {},
          "execution_count": 45
        },
        {
          "output_type": "display_data",
          "data": {
            "text/plain": [
              "<Figure size 432x288 with 1 Axes>"
            ],
            "image/png": "[encoded data removed]"
          },
          "metadata": {
            "needs_background": "light"
          }
        }
      ]
    },
    {
      "cell_type": "code",
      "source": [
        "Y_pred = clf1.predict(X_testc)\n",
        "print(classification_report(Y_testc, Y_pred))"
      ],
      "metadata": {
        "colab": {
          "base_uri": "https://localhost:8080/"
        },
        "id": "W3Be2tsKkC4s",
        "outputId": "a52ae842-24f8-4e7d-cab8-545bf6c61d7d"
      },
      "execution_count": null,
      "outputs": [
        {
          "output_type": "stream",
          "name": "stdout",
          "text": [
            "              precision    recall  f1-score   support\n",
            "\n",
            "           0       0.94      0.94      0.94     10940\n",
            "           1       0.54      0.54      0.54      1417\n",
            "\n",
            "    accuracy                           0.89     12357\n",
            "   macro avg       0.74      0.74      0.74     12357\n",
            "weighted avg       0.89      0.89      0.89     12357\n",
            "\n"
          ]
        }
      ]
    },
    {
      "cell_type": "code",
      "source": [
        "clf2 = DecisionTreeClassifier(criterion = 'gini') #Gini Index\n",
        "clf2.fit(X_trainc, Y_trainc)"
      ],
      "metadata": {
        "colab": {
          "base_uri": "https://localhost:8080/"
        },
        "outputId": "8c3deeb1-3734-49ca-cfcf-550ffa0e242e",
        "id": "WzcMiHtekfWG"
      },
      "execution_count": null,
      "outputs": [
        {
          "output_type": "execute_result",
          "data": {
            "text/plain": [
              "DecisionTreeClassifier()"
            ]
          },
          "metadata": {},
          "execution_count": 36
        }
      ]
    },
    {
      "cell_type": "code",
      "source": [
        "plot_tree(clf2)"
      ],
      "metadata": {
        "colab": {
          "base_uri": "https://localhost:8080/",
          "height": 1000
        },
        "outputId": "56ca371a-4a93-4144-dc94-c51c98476a7a",
        "id": "xInsw_GJkfWG"
      },
      "execution_count": null,
      "outputs": [
        {
          "output_type": "execute_result",
          "data": {
            "text/plain": [
              "[Text(0.4016854267150094, 0.9827586206896551, 'X[9] <= 5087.65\\ngini = 0.201\\nsamples = 28831\\nvalue = [25561, 3270]'),\n",
              " Text(0.14510905592840767, 0.9482758620689655, 'X[1] <= 158.5\\ngini = 0.495\\nsamples = 3449\\nvalue = [1892, 1557]'),\n",
              " Text(0.04133809838977959, 0.9137931034482759, 'X[1] <= 124.5\\ngini = 0.262\\nsamples = 1185\\nvalue = [1001, 184]'),\n",
              " Text(0.01066585966959566, 0.8793103448275862, 'X[3] <= 3.5\\ngini = 0.171\\nsamples = 794\\nvalue = [719, 75]'),\n",
              " Text(0.002926090099190971, 0.8448275862068966, 'X[8] <= 0.734\\ngini = 0.491\\nsamples = 44\\nvalue = [25, 19]'),\n",
              " Text(0.001114700990167989, 0.8103448275862069, 'X[2] <= 3.5\\ngini = 0.198\\nsamples = 9\\nvalue = [1, 8]'),\n",
              " Text(0.0005573504950839945, 0.7758620689655172, 'gini = 0.0\\nsamples = 8\\nvalue = [0, 8]'),\n",
              " Text(0.0016720514852519835, 0.7758620689655172, 'gini = 0.0\\nsamples = 1\\nvalue = [1, 0]'),\n",
              " Text(0.004737479208213953, 0.8103448275862069, 'X[0] <= 31.5\\ngini = 0.431\\nsamples = 35\\nvalue = [24, 11]'),\n",
              " Text(0.0027867524754199725, 0.7758620689655172, 'X[8] <= 0.862\\ngini = 0.473\\nsamples = 13\\nvalue = [5, 8]'),\n",
              " Text(0.002229401980335978, 0.7413793103448276, 'gini = 0.0\\nsamples = 6\\nvalue = [0, 6]'),\n",
              " Text(0.003344102970503967, 0.7413793103448276, 'X[1] <= 102.0\\ngini = 0.408\\nsamples = 7\\nvalue = [5, 2]'),\n",
              " Text(0.0027867524754199725, 0.7068965517241379, 'gini = 0.0\\nsamples = 5\\nvalue = [5, 0]'),\n",
              " Text(0.003901453465587961, 0.7068965517241379, 'gini = 0.0\\nsamples = 2\\nvalue = [0, 2]'),\n",
              " Text(0.006688205941007934, 0.7758620689655172, 'X[27] <= 0.5\\ngini = 0.236\\nsamples = 22\\nvalue = [19, 3]'),\n",
              " Text(0.005573504950839945, 0.7413793103448276, 'X[10] <= 0.5\\ngini = 0.1\\nsamples = 19\\nvalue = [18, 1]'),\n",
              " Text(0.0050161544557559504, 0.7068965517241379, 'gini = 0.0\\nsamples = 17\\nvalue = [17, 0]'),\n",
              " Text(0.006130855445923939, 0.7068965517241379, 'X[5] <= -3.15\\ngini = 0.5\\nsamples = 2\\nvalue = [1, 1]'),\n",
              " Text(0.005573504950839945, 0.6724137931034483, 'gini = 0.0\\nsamples = 1\\nvalue = [1, 0]'),\n",
              " Text(0.006688205941007934, 0.6724137931034483, 'gini = 0.0\\nsamples = 1\\nvalue = [0, 1]'),\n",
              " Text(0.007802906931175922, 0.7413793103448276, 'X[8] <= 0.836\\ngini = 0.444\\nsamples = 3\\nvalue = [1, 2]'),\n",
              " Text(0.007245556436091928, 0.7068965517241379, 'gini = 0.0\\nsamples = 2\\nvalue = [0, 2]'),\n",
              " Text(0.008360257426259917, 0.7068965517241379, 'gini = 0.0\\nsamples = 1\\nvalue = [1, 0]'),\n",
              " Text(0.01840562924000035, 0.8448275862068966, 'X[1] <= 80.5\\ngini = 0.138\\nsamples = 750\\nvalue = [694, 56]'),\n",
              " Text(0.010589659406595895, 0.8103448275862069, 'X[3] <= 4.5\\ngini = 0.044\\nsamples = 311\\nvalue = [304, 7]'),\n",
              " Text(0.009474958416427906, 0.7758620689655172, 'X[7] <= -36.1\\ngini = 0.5\\nsamples = 2\\nvalue = [1, 1]'),\n",
              " Text(0.008917607921343912, 0.7413793103448276, 'gini = 0.0\\nsamples = 1\\nvalue = [0, 1]'),\n",
              " Text(0.010032308911511901, 0.7413793103448276, 'gini = 0.0\\nsamples = 1\\nvalue = [1, 0]'),\n",
              " Text(0.011704360396763884, 0.7758620689655172, 'X[1] <= 62.5\\ngini = 0.038\\nsamples = 309\\nvalue = [303, 6]'),\n",
              " Text(0.01114700990167989, 0.7413793103448276, 'gini = 0.0\\nsamples = 176\\nvalue = [176, 0]'),\n",
              " Text(0.012261710891847879, 0.7413793103448276, 'X[8] <= 0.716\\ngini = 0.086\\nsamples = 133\\nvalue = [127, 6]'),\n",
              " Text(0.010519990594710395, 0.7068965517241379, 'X[1] <= 70.0\\ngini = 0.408\\nsamples = 7\\nvalue = [5, 2]'),\n",
              " Text(0.009962640099626401, 0.6724137931034483, 'gini = 0.0\\nsamples = 2\\nvalue = [0, 2]'),\n",
              " Text(0.01107734108979439, 0.6724137931034483, 'gini = 0.0\\nsamples = 5\\nvalue = [5, 0]'),\n",
              " Text(0.01400343118898536, 0.7068965517241379, 'X[16] <= 0.5\\ngini = 0.061\\nsamples = 126\\nvalue = [122, 4]'),\n",
              " Text(0.012192042079962379, 0.6724137931034483, 'X[8] <= 1.264\\ngini = 0.049\\nsamples = 120\\nvalue = [117, 3]'),\n",
              " Text(0.010241315347168399, 0.6379310344827587, 'X[1] <= 77.5\\ngini = 0.034\\nsamples = 114\\nvalue = [112, 2]'),\n",
              " Text(0.009683964852084405, 0.603448275862069, 'gini = 0.0\\nsamples = 86\\nvalue = [86, 0]'),\n",
              " Text(0.010798665842252394, 0.603448275862069, 'X[2] <= 2.5\\ngini = 0.133\\nsamples = 28\\nvalue = [26, 2]'),\n",
              " Text(0.009683964852084405, 0.5689655172413793, 'X[36] <= 0.5\\ngini = 0.074\\nsamples = 26\\nvalue = [25, 1]'),\n",
              " Text(0.00912661435700041, 0.5344827586206896, 'gini = 0.0\\nsamples = 22\\nvalue = [22, 0]'),\n",
              " Text(0.010241315347168399, 0.5344827586206896, 'X[0] <= 36.5\\ngini = 0.375\\nsamples = 4\\nvalue = [3, 1]'),\n",
              " Text(0.009683964852084405, 0.5, 'gini = 0.0\\nsamples = 1\\nvalue = [0, 1]'),\n",
              " Text(0.010798665842252394, 0.5, 'gini = 0.0\\nsamples = 3\\nvalue = [3, 0]'),\n",
              " Text(0.01191336683242038, 0.5689655172413793, 'X[8] <= 0.843\\ngini = 0.5\\nsamples = 2\\nvalue = [1, 1]'),\n",
              " Text(0.011356016337336388, 0.5344827586206896, 'gini = 0.0\\nsamples = 1\\nvalue = [1, 0]'),\n",
              " Text(0.012470717327504375, 0.5344827586206896, 'gini = 0.0\\nsamples = 1\\nvalue = [0, 1]'),\n",
              " Text(0.014142768812756359, 0.6379310344827587, 'X[1] <= 69.5\\ngini = 0.278\\nsamples = 6\\nvalue = [5, 1]'),\n",
              " Text(0.013585418317672364, 0.603448275862069, 'X[0] <= 26.5\\ngini = 0.5\\nsamples = 2\\nvalue = [1, 1]'),\n",
              " Text(0.01302806782258837, 0.5689655172413793, 'gini = 0.0\\nsamples = 1\\nvalue = [1, 0]'),\n",
              " Text(0.014142768812756359, 0.5689655172413793, 'gini = 0.0\\nsamples = 1\\nvalue = [0, 1]'),\n",
              " Text(0.014700119307840353, 0.603448275862069, 'gini = 0.0\\nsamples = 4\\nvalue = [4, 0]'),\n",
              " Text(0.015814820298008344, 0.6724137931034483, 'X[1] <= 66.0\\ngini = 0.278\\nsamples = 6\\nvalue = [5, 1]'),\n",
              " Text(0.015257469802924348, 0.6379310344827587, 'gini = 0.0\\nsamples = 1\\nvalue = [0, 1]'),\n",
              " Text(0.016372170793092337, 0.6379310344827587, 'gini = 0.0\\nsamples = 5\\nvalue = [5, 0]'),\n",
              " Text(0.0262215990734048, 0.8103448275862069, 'X[8] <= 0.635\\ngini = 0.198\\nsamples = 439\\nvalue = [390, 49]'),\n",
              " Text(0.019106671659598184, 0.7758620689655172, 'X[16] <= 0.5\\ngini = 0.48\\nsamples = 5\\nvalue = [2, 3]'),\n",
              " Text(0.01854932116451419, 0.7413793103448276, 'gini = 0.0\\nsamples = 3\\nvalue = [0, 3]'),\n",
              " Text(0.01966402215468218, 0.7413793103448276, 'gini = 0.0\\nsamples = 2\\nvalue = [2, 0]'),\n",
              " Text(0.033336526487211415, 0.7758620689655172, 'X[34] <= 0.5\\ngini = 0.19\\nsamples = 434\\nvalue = [388, 46]'),\n",
              " Text(0.02077872314485017, 0.7413793103448276, 'X[1] <= 81.5\\ngini = 0.124\\nsamples = 196\\nvalue = [183, 13]'),\n",
              " Text(0.020221372649766173, 0.7068965517241379, 'gini = 0.0\\nsamples = 1\\nvalue = [0, 1]'),\n",
              " Text(0.021336073639934162, 0.7068965517241379, 'X[29] <= 0.5\\ngini = 0.116\\nsamples = 195\\nvalue = [183, 12]'),\n",
              " Text(0.01912408886256956, 0.6724137931034483, 'X[2] <= 5.5\\ngini = 0.087\\nsamples = 176\\nvalue = [168, 8]'),\n",
              " Text(0.017486871783260326, 0.6379310344827587, 'X[0] <= 32.5\\ngini = 0.077\\nsamples = 174\\nvalue = [167, 7]'),\n",
              " Text(0.015884489109893842, 0.603448275862069, 'X[1] <= 84.5\\ngini = 0.165\\nsamples = 66\\nvalue = [60, 6]'),\n",
              " Text(0.015327138614809848, 0.5689655172413793, 'gini = 0.0\\nsamples = 1\\nvalue = [0, 1]'),\n",
              " Text(0.016441839604977835, 0.5689655172413793, 'X[10] <= 0.5\\ngini = 0.142\\nsamples = 65\\nvalue = [60, 5]'),\n",
              " Text(0.014909125743496851, 0.5344827586206896, 'X[18] <= 0.5\\ngini = 0.095\\nsamples = 60\\nvalue = [57, 3]'),\n",
              " Text(0.013515749505786866, 0.5, 'X[8] <= 1.264\\ngini = 0.069\\nsamples = 56\\nvalue = [54, 2]'),\n",
              " Text(0.012401048515618877, 0.46551724137931033, 'X[8] <= 0.725\\ngini = 0.038\\nsamples = 52\\nvalue = [51, 1]'),\n",
              " Text(0.011843698020534883, 0.43103448275862066, 'X[8] <= 0.72\\ngini = 0.153\\nsamples = 12\\nvalue = [11, 1]'),\n",
              " Text(0.011286347525450888, 0.39655172413793105, 'gini = 0.0\\nsamples = 10\\nvalue = [10, 0]'),\n",
              " Text(0.012401048515618877, 0.39655172413793105, 'X[27] <= 0.5\\ngini = 0.5\\nsamples = 2\\nvalue = [1, 1]'),\n",
              " Text(0.011843698020534883, 0.3620689655172414, 'gini = 0.0\\nsamples = 1\\nvalue = [0, 1]'),\n",
              " Text(0.012958399010702872, 0.3620689655172414, 'gini = 0.0\\nsamples = 1\\nvalue = [1, 0]'),\n",
              " Text(0.012958399010702872, 0.43103448275862066, 'gini = 0.0\\nsamples = 40\\nvalue = [40, 0]'),\n",
              " Text(0.014630450495954855, 0.46551724137931033, 'X[8] <= 1.267\\ngini = 0.375\\nsamples = 4\\nvalue = [3, 1]'),\n",
              " Text(0.01407310000087086, 0.43103448275862066, 'gini = 0.0\\nsamples = 1\\nvalue = [0, 1]'),\n",
              " Text(0.01518780099103885, 0.43103448275862066, 'gini = 0.0\\nsamples = 3\\nvalue = [3, 0]'),\n",
              " Text(0.01630250198120684, 0.5, 'X[7] <= -30.75\\ngini = 0.375\\nsamples = 4\\nvalue = [3, 1]'),\n",
              " Text(0.015745151486122842, 0.46551724137931033, 'gini = 0.0\\nsamples = 3\\nvalue = [3, 0]'),\n",
              " Text(0.01685985247629083, 0.46551724137931033, 'gini = 0.0\\nsamples = 1\\nvalue = [0, 1]'),\n",
              " Text(0.01797455346645882, 0.5344827586206896, 'X[8] <= 0.725\\ngini = 0.48\\nsamples = 5\\nvalue = [3, 2]'),\n",
              " Text(0.017417202971374827, 0.5, 'gini = 0.0\\nsamples = 2\\nvalue = [2, 0]'),\n",
              " Text(0.018531903961542816, 0.5, 'X[2] <= 1.5\\ngini = 0.444\\nsamples = 3\\nvalue = [1, 2]'),\n",
              " Text(0.01797455346645882, 0.46551724137931033, 'gini = 0.0\\nsamples = 1\\nvalue = [1, 0]'),\n",
              " Text(0.01908925445662681, 0.46551724137931033, 'gini = 0.0\\nsamples = 2\\nvalue = [0, 2]'),\n",
              " Text(0.01908925445662681, 0.603448275862069, 'X[6] <= 94.207\\ngini = 0.018\\nsamples = 108\\nvalue = [107, 1]'),\n",
              " Text(0.018531903961542816, 0.5689655172413793, 'gini = 0.0\\nsamples = 101\\nvalue = [101, 0]'),\n",
              " Text(0.019646604951710805, 0.5689655172413793, 'X[21] <= 0.5\\ngini = 0.245\\nsamples = 7\\nvalue = [6, 1]'),\n",
              " Text(0.01908925445662681, 0.5344827586206896, 'gini = 0.0\\nsamples = 6\\nvalue = [6, 0]'),\n",
              " Text(0.020203955446794798, 0.5344827586206896, 'gini = 0.0\\nsamples = 1\\nvalue = [0, 1]'),\n",
              " Text(0.020761305941878794, 0.6379310344827587, 'X[6] <= 93.334\\ngini = 0.5\\nsamples = 2\\nvalue = [1, 1]'),\n",
              " Text(0.020203955446794798, 0.603448275862069, 'gini = 0.0\\nsamples = 1\\nvalue = [0, 1]'),\n",
              " Text(0.021318656436962787, 0.603448275862069, 'gini = 0.0\\nsamples = 1\\nvalue = [1, 0]'),\n",
              " Text(0.023548058417298765, 0.6724137931034483, 'X[31] <= 0.5\\ngini = 0.332\\nsamples = 19\\nvalue = [15, 4]'),\n",
              " Text(0.022990707922214772, 0.6379310344827587, 'X[0] <= 23.0\\ngini = 0.278\\nsamples = 18\\nvalue = [15, 3]'),\n",
              " Text(0.022433357427130776, 0.603448275862069, 'gini = 0.0\\nsamples = 1\\nvalue = [0, 1]'),\n",
              " Text(0.023548058417298765, 0.603448275862069, 'X[7] <= -32.2\\ngini = 0.208\\nsamples = 17\\nvalue = [15, 2]'),\n",
              " Text(0.022990707922214772, 0.5689655172413793, 'gini = 0.0\\nsamples = 8\\nvalue = [8, 0]'),\n",
              " Text(0.02410540891238276, 0.5689655172413793, 'X[0] <= 33.0\\ngini = 0.346\\nsamples = 9\\nvalue = [7, 2]'),\n",
              " Text(0.023548058417298765, 0.5344827586206896, 'gini = 0.0\\nsamples = 1\\nvalue = [0, 1]'),\n",
              " Text(0.024662759407466754, 0.5344827586206896, 'X[2] <= 1.5\\ngini = 0.219\\nsamples = 8\\nvalue = [7, 1]'),\n",
              " Text(0.02410540891238276, 0.5, 'gini = 0.0\\nsamples = 7\\nvalue = [7, 0]'),\n",
              " Text(0.02522010990255075, 0.5, 'gini = 0.0\\nsamples = 1\\nvalue = [0, 1]'),\n",
              " Text(0.02410540891238276, 0.6379310344827587, 'gini = 0.0\\nsamples = 1\\nvalue = [0, 1]'),\n",
              " Text(0.04589432982957267, 0.7413793103448276, 'X[8] <= 1.243\\ngini = 0.239\\nsamples = 238\\nvalue = [205, 33]'),\n",
              " Text(0.039815725992562855, 0.7068965517241379, 'X[9] <= 5020.5\\ngini = 0.206\\nsamples = 197\\nvalue = [174, 23]'),\n",
              " Text(0.035740100497261146, 0.6724137931034483, 'X[16] <= 0.5\\ngini = 0.272\\nsamples = 117\\nvalue = [98, 19]'),\n",
              " Text(0.031768978219787684, 0.6379310344827587, 'X[6] <= 93.559\\ngini = 0.249\\nsamples = 110\\nvalue = [94, 16]'),\n",
              " Text(0.02912156336813871, 0.603448275862069, 'X[1] <= 114.5\\ngini = 0.32\\nsamples = 65\\nvalue = [52, 13]'),\n",
              " Text(0.02744951188288673, 0.5689655172413793, 'X[19] <= 0.5\\ngini = 0.256\\nsamples = 53\\nvalue = [45, 8]'),\n",
              " Text(0.026892161387802732, 0.5344827586206896, 'X[8] <= 0.72\\ngini = 0.233\\nsamples = 52\\nvalue = [45, 7]'),\n",
              " Text(0.02633481089271874, 0.5, 'gini = 0.0\\nsamples = 19\\nvalue = [19, 0]'),\n",
              " Text(0.02744951188288673, 0.5, 'X[0] <= 65.5\\ngini = 0.334\\nsamples = 33\\nvalue = [26, 7]'),\n",
              " Text(0.026892161387802732, 0.46551724137931033, 'X[4] <= 0.5\\ngini = 0.271\\nsamples = 31\\nvalue = [26, 5]'),\n",
              " Text(0.02633481089271874, 0.43103448275862066, 'X[22] <= 0.5\\ngini = 0.363\\nsamples = 21\\nvalue = [16, 5]'),\n",
              " Text(0.02522010990255075, 0.39655172413793105, 'X[1] <= 87.0\\ngini = 0.231\\nsamples = 15\\nvalue = [13, 2]'),\n",
              " Text(0.024662759407466754, 0.3620689655172414, 'X[1] <= 81.5\\ngini = 0.5\\nsamples = 4\\nvalue = [2, 2]'),\n",
              " Text(0.02410540891238276, 0.3275862068965517, 'gini = 0.0\\nsamples = 2\\nvalue = [2, 0]'),\n",
              " Text(0.02522010990255075, 0.3275862068965517, 'gini = 0.0\\nsamples = 2\\nvalue = [0, 2]'),\n",
              " Text(0.025777460397634743, 0.3620689655172414, 'gini = 0.0\\nsamples = 11\\nvalue = [11, 0]'),\n",
              " Text(0.02744951188288673, 0.39655172413793105, 'X[1] <= 95.0\\ngini = 0.5\\nsamples = 6\\nvalue = [3, 3]'),\n",
              " Text(0.026892161387802732, 0.3620689655172414, 'gini = 0.0\\nsamples = 2\\nvalue = [2, 0]'),\n",
              " Text(0.02800686237797072, 0.3620689655172414, 'X[1] <= 107.5\\ngini = 0.375\\nsamples = 4\\nvalue = [1, 3]'),\n",
              " Text(0.02744951188288673, 0.3275862068965517, 'gini = 0.0\\nsamples = 3\\nvalue = [0, 3]'),\n",
              " Text(0.028564212873054717, 0.3275862068965517, 'gini = 0.0\\nsamples = 1\\nvalue = [1, 0]'),\n",
              " Text(0.02744951188288673, 0.43103448275862066, 'gini = 0.0\\nsamples = 10\\nvalue = [10, 0]'),\n",
              " Text(0.02800686237797072, 0.46551724137931033, 'gini = 0.0\\nsamples = 2\\nvalue = [0, 2]'),\n",
              " Text(0.02800686237797072, 0.5344827586206896, 'gini = 0.0\\nsamples = 1\\nvalue = [0, 1]'),\n",
              " Text(0.030793614853390695, 0.5689655172413793, 'X[0] <= 36.0\\ngini = 0.486\\nsamples = 12\\nvalue = [7, 5]'),\n",
              " Text(0.0302362643583067, 0.5344827586206896, 'X[36] <= 0.5\\ngini = 0.469\\nsamples = 8\\nvalue = [3, 5]'),\n",
              " Text(0.029678913863222706, 0.5, 'X[27] <= 0.5\\ngini = 0.48\\nsamples = 5\\nvalue = [3, 2]'),\n",
              " Text(0.02912156336813871, 0.46551724137931033, 'gini = 0.0\\nsamples = 3\\nvalue = [3, 0]'),\n",
              " Text(0.0302362643583067, 0.46551724137931033, 'gini = 0.0\\nsamples = 2\\nvalue = [0, 2]'),\n",
              " Text(0.030793614853390695, 0.5, 'gini = 0.0\\nsamples = 3\\nvalue = [0, 3]'),\n",
              " Text(0.03135096534847469, 0.5344827586206896, 'gini = 0.0\\nsamples = 4\\nvalue = [4, 0]'),\n",
              " Text(0.03441639307143666, 0.603448275862069, 'X[1] <= 87.5\\ngini = 0.124\\nsamples = 45\\nvalue = [42, 3]'),\n",
              " Text(0.03302301683372667, 0.5689655172413793, 'X[8] <= 0.743\\ngini = 0.5\\nsamples = 2\\nvalue = [1, 1]'),\n",
              " Text(0.03246566633864268, 0.5344827586206896, 'gini = 0.0\\nsamples = 1\\nvalue = [1, 0]'),\n",
              " Text(0.033580367328810666, 0.5344827586206896, 'gini = 0.0\\nsamples = 1\\nvalue = [0, 1]'),\n",
              " Text(0.035809769309146644, 0.5689655172413793, 'X[13] <= 0.5\\ngini = 0.089\\nsamples = 43\\nvalue = [41, 2]'),\n",
              " Text(0.03469506831897866, 0.5344827586206896, 'X[17] <= 0.5\\ngini = 0.049\\nsamples = 40\\nvalue = [39, 1]'),\n",
              " Text(0.03413771782389466, 0.5, 'gini = 0.0\\nsamples = 36\\nvalue = [36, 0]'),\n",
              " Text(0.03525241881406265, 0.5, 'X[0] <= 29.0\\ngini = 0.375\\nsamples = 4\\nvalue = [3, 1]'),\n",
              " Text(0.03469506831897866, 0.46551724137931033, 'gini = 0.0\\nsamples = 3\\nvalue = [3, 0]'),\n",
              " Text(0.035809769309146644, 0.46551724137931033, 'gini = 0.0\\nsamples = 1\\nvalue = [0, 1]'),\n",
              " Text(0.036924470299314636, 0.5344827586206896, 'X[22] <= 0.5\\ngini = 0.444\\nsamples = 3\\nvalue = [2, 1]'),\n",
              " Text(0.03636711980423064, 0.5, 'gini = 0.0\\nsamples = 1\\nvalue = [0, 1]'),\n",
              " Text(0.03748182079439863, 0.5, 'gini = 0.0\\nsamples = 2\\nvalue = [2, 0]'),\n",
              " Text(0.03971122277473461, 0.6379310344827587, 'X[4] <= 1.5\\ngini = 0.49\\nsamples = 7\\nvalue = [4, 3]'),\n",
              " Text(0.03915387227965061, 0.603448275862069, 'X[22] <= 0.5\\ngini = 0.48\\nsamples = 5\\nvalue = [2, 3]'),\n",
              " Text(0.038596521784566615, 0.5689655172413793, 'X[30] <= 0.5\\ngini = 0.444\\nsamples = 3\\nvalue = [2, 1]'),\n",
              " Text(0.03803917128948262, 0.5344827586206896, 'gini = 0.0\\nsamples = 2\\nvalue = [2, 0]'),\n",
              " Text(0.03915387227965061, 0.5344827586206896, 'gini = 0.0\\nsamples = 1\\nvalue = [0, 1]'),\n",
              " Text(0.03971122277473461, 0.5689655172413793, 'gini = 0.0\\nsamples = 2\\nvalue = [0, 2]'),\n",
              " Text(0.0402685732698186, 0.603448275862069, 'gini = 0.0\\nsamples = 2\\nvalue = [2, 0]'),\n",
              " Text(0.04389135148786456, 0.6724137931034483, 'X[0] <= 57.5\\ngini = 0.095\\nsamples = 80\\nvalue = [76, 4]'),\n",
              " Text(0.041940624755070585, 0.6379310344827587, 'X[2] <= 2.5\\ngini = 0.03\\nsamples = 65\\nvalue = [64, 1]'),\n",
              " Text(0.041383274259986585, 0.603448275862069, 'gini = 0.0\\nsamples = 52\\nvalue = [52, 0]'),\n",
              " Text(0.04249797525015458, 0.603448275862069, 'X[8] <= 1.018\\ngini = 0.142\\nsamples = 13\\nvalue = [12, 1]'),\n",
              " Text(0.041940624755070585, 0.5689655172413793, 'gini = 0.0\\nsamples = 10\\nvalue = [10, 0]'),\n",
              " Text(0.04305532574523857, 0.5689655172413793, 'X[1] <= 93.5\\ngini = 0.444\\nsamples = 3\\nvalue = [2, 1]'),\n",
              " Text(0.04249797525015458, 0.5344827586206896, 'gini = 0.0\\nsamples = 2\\nvalue = [2, 0]'),\n",
              " Text(0.04361267624032256, 0.5344827586206896, 'gini = 0.0\\nsamples = 1\\nvalue = [0, 1]'),\n",
              " Text(0.04584207822065854, 0.6379310344827587, 'X[29] <= 0.5\\ngini = 0.32\\nsamples = 15\\nvalue = [12, 3]'),\n",
              " Text(0.044727377230490556, 0.603448275862069, 'X[1] <= 115.0\\ngini = 0.153\\nsamples = 12\\nvalue = [11, 1]'),\n",
              " Text(0.04417002673540656, 0.5689655172413793, 'gini = 0.0\\nsamples = 11\\nvalue = [11, 0]'),\n",
              " Text(0.04528472772557455, 0.5689655172413793, 'gini = 0.0\\nsamples = 1\\nvalue = [0, 1]'),\n",
              " Text(0.046956779210826534, 0.603448275862069, 'X[8] <= 1.049\\ngini = 0.444\\nsamples = 3\\nvalue = [1, 2]'),\n",
              " Text(0.04639942871574254, 0.5689655172413793, 'gini = 0.0\\nsamples = 2\\nvalue = [0, 2]'),\n",
              " Text(0.04751412970591053, 0.5689655172413793, 'gini = 0.0\\nsamples = 1\\nvalue = [1, 0]'),\n",
              " Text(0.05197293366658248, 0.7068965517241379, 'X[0] <= 54.0\\ngini = 0.369\\nsamples = 41\\nvalue = [31, 10]'),\n",
              " Text(0.05141558317149849, 0.6724137931034483, 'X[1] <= 107.5\\ngini = 0.326\\nsamples = 39\\nvalue = [31, 8]'),\n",
              " Text(0.0508582326764145, 0.6379310344827587, 'X[1] <= 102.5\\ngini = 0.435\\nsamples = 25\\nvalue = [17, 8]'),\n",
              " Text(0.04918618119116251, 0.603448275862069, 'X[1] <= 85.0\\ngini = 0.375\\nsamples = 20\\nvalue = [15, 5]'),\n",
              " Text(0.04862883069607852, 0.5689655172413793, 'gini = 0.0\\nsamples = 1\\nvalue = [0, 1]'),\n",
              " Text(0.049743531686246505, 0.5689655172413793, 'X[2] <= 5.5\\ngini = 0.332\\nsamples = 19\\nvalue = [15, 4]'),\n",
              " Text(0.04918618119116251, 0.5344827586206896, 'X[2] <= 1.5\\ngini = 0.278\\nsamples = 18\\nvalue = [15, 3]'),\n",
              " Text(0.04862883069607852, 0.5, 'gini = 0.0\\nsamples = 8\\nvalue = [8, 0]'),\n",
              " Text(0.049743531686246505, 0.5, 'X[8] <= 1.261\\ngini = 0.42\\nsamples = 10\\nvalue = [7, 3]'),\n",
              " Text(0.04918618119116251, 0.46551724137931033, 'X[0] <= 33.0\\ngini = 0.48\\nsamples = 5\\nvalue = [2, 3]'),\n",
              " Text(0.04862883069607852, 0.43103448275862066, 'gini = 0.0\\nsamples = 3\\nvalue = [0, 3]'),\n",
              " Text(0.049743531686246505, 0.43103448275862066, 'gini = 0.0\\nsamples = 2\\nvalue = [2, 0]'),\n",
              " Text(0.0503008821813305, 0.46551724137931033, 'gini = 0.0\\nsamples = 5\\nvalue = [5, 0]'),\n",
              " Text(0.0503008821813305, 0.5344827586206896, 'gini = 0.0\\nsamples = 1\\nvalue = [0, 1]'),\n",
              " Text(0.052530284161666475, 0.603448275862069, 'X[0] <= 31.0\\ngini = 0.48\\nsamples = 5\\nvalue = [2, 3]'),\n",
              " Text(0.05197293366658248, 0.5689655172413793, 'X[26] <= 0.5\\ngini = 0.444\\nsamples = 3\\nvalue = [2, 1]'),\n",
              " Text(0.05141558317149849, 0.5344827586206896, 'gini = 0.0\\nsamples = 2\\nvalue = [2, 0]'),\n",
              " Text(0.052530284161666475, 0.5344827586206896, 'gini = 0.0\\nsamples = 1\\nvalue = [0, 1]'),\n",
              " Text(0.053087634656750475, 0.5689655172413793, 'gini = 0.0\\nsamples = 2\\nvalue = [0, 2]'),\n",
              " Text(0.05197293366658248, 0.6379310344827587, 'gini = 0.0\\nsamples = 14\\nvalue = [14, 0]'),\n",
              " Text(0.052530284161666475, 0.6724137931034483, 'gini = 0.0\\nsamples = 2\\nvalue = [0, 2]'),\n",
              " Text(0.0720103371099635, 0.8793103448275862, 'X[3] <= 12.5\\ngini = 0.402\\nsamples = 391\\nvalue = [282, 109]'),\n",
              " Text(0.05448101089446046, 0.8448275862068966, 'X[7] <= -39.05\\ngini = 0.499\\nsamples = 76\\nvalue = [40, 36]'),\n",
              " Text(0.05336630990429247, 0.8103448275862069, 'X[1] <= 147.0\\ngini = 0.32\\nsamples = 20\\nvalue = [16, 4]'),\n",
              " Text(0.052808959409208475, 0.7758620689655172, 'X[13] <= 0.5\\ngini = 0.111\\nsamples = 17\\nvalue = [16, 1]'),\n",
              " Text(0.05225160891412448, 0.7413793103448276, 'gini = 0.0\\nsamples = 16\\nvalue = [16, 0]'),\n",
              " Text(0.05336630990429247, 0.7413793103448276, 'gini = 0.0\\nsamples = 1\\nvalue = [0, 1]'),\n",
              " Text(0.05392366039937646, 0.7758620689655172, 'gini = 0.0\\nsamples = 3\\nvalue = [0, 3]'),\n",
              " Text(0.055595711884628446, 0.8103448275862069, 'X[0] <= 24.5\\ngini = 0.49\\nsamples = 56\\nvalue = [24, 32]'),\n",
              " Text(0.05503836138954445, 0.7758620689655172, 'gini = 0.0\\nsamples = 3\\nvalue = [3, 0]'),\n",
              " Text(0.05615306237971244, 0.7758620689655172, 'X[30] <= 0.5\\ngini = 0.478\\nsamples = 53\\nvalue = [21, 32]'),\n",
              " Text(0.055595711884628446, 0.7413793103448276, 'X[8] <= 0.654\\ngini = 0.49\\nsamples = 49\\nvalue = [21, 28]'),\n",
              " Text(0.05420233564691846, 0.7068965517241379, 'X[12] <= 0.5\\ngini = 0.278\\nsamples = 6\\nvalue = [5, 1]'),\n",
              " Text(0.05364498515183447, 0.6724137931034483, 'gini = 0.0\\nsamples = 5\\nvalue = [5, 0]'),\n",
              " Text(0.05475968614200245, 0.6724137931034483, 'gini = 0.0\\nsamples = 1\\nvalue = [0, 1]'),\n",
              " Text(0.05698908812233843, 0.7068965517241379, 'X[8] <= 0.717\\ngini = 0.467\\nsamples = 43\\nvalue = [16, 27]'),\n",
              " Text(0.055874387132170446, 0.6724137931034483, 'X[15] <= 0.5\\ngini = 0.18\\nsamples = 10\\nvalue = [1, 9]'),\n",
              " Text(0.05531703663708645, 0.6379310344827587, 'gini = 0.0\\nsamples = 9\\nvalue = [0, 9]'),\n",
              " Text(0.05643173762725444, 0.6379310344827587, 'gini = 0.0\\nsamples = 1\\nvalue = [1, 0]'),\n",
              " Text(0.058103789112506424, 0.6724137931034483, 'X[13] <= 0.5\\ngini = 0.496\\nsamples = 33\\nvalue = [15, 18]'),\n",
              " Text(0.05754643861742243, 0.6379310344827587, 'X[8] <= 0.72\\ngini = 0.48\\nsamples = 30\\nvalue = [12, 18]'),\n",
              " Text(0.05698908812233843, 0.603448275862069, 'gini = 0.0\\nsamples = 2\\nvalue = [2, 0]'),\n",
              " Text(0.058103789112506424, 0.603448275862069, 'X[8] <= 0.738\\ngini = 0.459\\nsamples = 28\\nvalue = [10, 18]'),\n",
              " Text(0.05754643861742243, 0.5689655172413793, 'gini = 0.0\\nsamples = 3\\nvalue = [0, 3]'),\n",
              " Text(0.058661139607590417, 0.5689655172413793, 'X[8] <= 0.74\\ngini = 0.48\\nsamples = 25\\nvalue = [10, 15]'),\n",
              " Text(0.05754643861742243, 0.5344827586206896, 'X[1] <= 130.5\\ngini = 0.375\\nsamples = 4\\nvalue = [3, 1]'),\n",
              " Text(0.05698908812233843, 0.5, 'gini = 0.0\\nsamples = 1\\nvalue = [0, 1]'),\n",
              " Text(0.058103789112506424, 0.5, 'gini = 0.0\\nsamples = 3\\nvalue = [3, 0]'),\n",
              " Text(0.05977584059775841, 0.5344827586206896, 'X[8] <= 0.86\\ngini = 0.444\\nsamples = 21\\nvalue = [7, 14]'),\n",
              " Text(0.05921849010267441, 0.5, 'gini = 0.0\\nsamples = 6\\nvalue = [0, 6]'),\n",
              " Text(0.0603331910928424, 0.5, 'X[2] <= 1.5\\ngini = 0.498\\nsamples = 15\\nvalue = [7, 8]'),\n",
              " Text(0.05921849010267441, 0.46551724137931033, 'X[26] <= 0.5\\ngini = 0.444\\nsamples = 9\\nvalue = [6, 3]'),\n",
              " Text(0.058661139607590417, 0.43103448275862066, 'X[16] <= 0.5\\ngini = 0.245\\nsamples = 7\\nvalue = [6, 1]'),\n",
              " Text(0.058103789112506424, 0.39655172413793105, 'gini = 0.0\\nsamples = 6\\nvalue = [6, 0]'),\n",
              " Text(0.05921849010267441, 0.39655172413793105, 'gini = 0.0\\nsamples = 1\\nvalue = [0, 1]'),\n",
              " Text(0.05977584059775841, 0.43103448275862066, 'gini = 0.0\\nsamples = 2\\nvalue = [0, 2]'),\n",
              " Text(0.06144789208301039, 0.46551724137931033, 'X[0] <= 58.5\\ngini = 0.278\\nsamples = 6\\nvalue = [1, 5]'),\n",
              " Text(0.060890541587926394, 0.43103448275862066, 'gini = 0.0\\nsamples = 5\\nvalue = [0, 5]'),\n",
              " Text(0.06200524257809439, 0.43103448275862066, 'gini = 0.0\\nsamples = 1\\nvalue = [1, 0]'),\n",
              " Text(0.058661139607590417, 0.6379310344827587, 'gini = 0.0\\nsamples = 3\\nvalue = [3, 0]'),\n",
              " Text(0.05671041287479644, 0.7413793103448276, 'gini = 0.0\\nsamples = 4\\nvalue = [0, 4]'),\n",
              " Text(0.08953966332546656, 0.8448275862068966, 'X[6] <= 93.812\\ngini = 0.356\\nsamples = 315\\nvalue = [242, 73]'),\n",
              " Text(0.08558378110059306, 0.8103448275862069, 'X[21] <= 0.5\\ngini = 0.394\\nsamples = 252\\nvalue = [184, 68]'),\n",
              " Text(0.081852145363976, 0.7758620689655172, 'X[7] <= -28.35\\ngini = 0.419\\nsamples = 221\\nvalue = [155, 66]'),\n",
              " Text(0.07717562636616186, 0.7413793103448276, 'X[13] <= 0.5\\ngini = 0.385\\nsamples = 188\\nvalue = [139, 49]'),\n",
              " Text(0.07060934084595355, 0.7068965517241379, 'X[0] <= 25.5\\ngini = 0.369\\nsamples = 180\\nvalue = [136, 44]'),\n",
              " Text(0.06200524257809439, 0.6724137931034483, 'X[36] <= 0.5\\ngini = 0.483\\nsamples = 22\\nvalue = [13, 9]'),\n",
              " Text(0.06144789208301039, 0.6379310344827587, 'X[9] <= 5020.5\\ngini = 0.432\\nsamples = 19\\nvalue = [13, 6]'),\n",
              " Text(0.0603331910928424, 0.603448275862069, 'X[6] <= 93.559\\ngini = 0.49\\nsamples = 7\\nvalue = [3, 4]'),\n",
              " Text(0.05977584059775841, 0.5689655172413793, 'gini = 0.0\\nsamples = 4\\nvalue = [0, 4]'),\n",
              " Text(0.060890541587926394, 0.5689655172413793, 'gini = 0.0\\nsamples = 3\\nvalue = [3, 0]'),\n",
              " Text(0.06256259307317838, 0.603448275862069, 'X[0] <= 20.5\\ngini = 0.278\\nsamples = 12\\nvalue = [10, 2]'),\n",
              " Text(0.06200524257809439, 0.5689655172413793, 'gini = 0.0\\nsamples = 1\\nvalue = [0, 1]'),\n",
              " Text(0.06311994356826238, 0.5689655172413793, 'X[1] <= 155.5\\ngini = 0.165\\nsamples = 11\\nvalue = [10, 1]'),\n",
              " Text(0.06256259307317838, 0.5344827586206896, 'gini = 0.0\\nsamples = 9\\nvalue = [9, 0]'),\n",
              " Text(0.06367729406334637, 0.5344827586206896, 'X[7] <= -32.2\\ngini = 0.5\\nsamples = 2\\nvalue = [1, 1]'),\n",
              " Text(0.06311994356826238, 0.5, 'gini = 0.0\\nsamples = 1\\nvalue = [1, 0]'),\n",
              " Text(0.06423464455843036, 0.5, 'gini = 0.0\\nsamples = 1\\nvalue = [0, 1]'),\n",
              " Text(0.06256259307317838, 0.6379310344827587, 'gini = 0.0\\nsamples = 3\\nvalue = [0, 3]'),\n",
              " Text(0.07921343911381272, 0.6724137931034483, 'X[8] <= 1.275\\ngini = 0.345\\nsamples = 158\\nvalue = [123, 35]'),\n",
              " Text(0.07691436832159124, 0.6379310344827587, 'X[0] <= 78.5\\ngini = 0.335\\nsamples = 155\\nvalue = [122, 33]'),\n",
              " Text(0.07398827822240027, 0.603448275862069, 'X[27] <= 0.5\\ngini = 0.325\\nsamples = 152\\nvalue = [121, 31]'),\n",
              " Text(0.0698081495092703, 0.5689655172413793, 'X[34] <= 0.5\\ngini = 0.283\\nsamples = 117\\nvalue = [97, 20]'),\n",
              " Text(0.06702139703385034, 0.5344827586206896, 'X[8] <= 1.248\\ngini = 0.153\\nsamples = 48\\nvalue = [44, 4]'),\n",
              " Text(0.06534934554859835, 0.5, 'X[0] <= 65.5\\ngini = 0.051\\nsamples = 38\\nvalue = [37, 1]'),\n",
              " Text(0.06479199505351435, 0.46551724137931033, 'gini = 0.0\\nsamples = 34\\nvalue = [34, 0]'),\n",
              " Text(0.06590669604368235, 0.46551724137931033, 'X[8] <= 0.854\\ngini = 0.375\\nsamples = 4\\nvalue = [3, 1]'),\n",
              " Text(0.06534934554859835, 0.43103448275862066, 'gini = 0.0\\nsamples = 3\\nvalue = [3, 0]'),\n",
              " Text(0.06646404653876634, 0.43103448275862066, 'gini = 0.0\\nsamples = 1\\nvalue = [0, 1]'),\n",
              " Text(0.06869344851910232, 0.5, 'X[18] <= 0.5\\ngini = 0.42\\nsamples = 10\\nvalue = [7, 3]'),\n",
              " Text(0.06813609802401832, 0.46551724137931033, 'X[16] <= 0.5\\ngini = 0.219\\nsamples = 8\\nvalue = [7, 1]'),\n",
              " Text(0.06757874752893434, 0.43103448275862066, 'gini = 0.0\\nsamples = 7\\nvalue = [7, 0]'),\n",
              " Text(0.06869344851910232, 0.43103448275862066, 'gini = 0.0\\nsamples = 1\\nvalue = [0, 1]'),\n",
              " Text(0.0692507990141863, 0.46551724137931033, 'gini = 0.0\\nsamples = 2\\nvalue = [0, 2]'),\n",
              " Text(0.07259490198469028, 0.5344827586206896, 'X[6] <= 92.838\\ngini = 0.356\\nsamples = 69\\nvalue = [53, 16]'),\n",
              " Text(0.07092285049943829, 0.5, 'X[8] <= 0.715\\ngini = 0.465\\nsamples = 38\\nvalue = [24, 14]'),\n",
              " Text(0.0703655000043543, 0.46551724137931033, 'gini = 0.0\\nsamples = 3\\nvalue = [0, 3]'),\n",
              " Text(0.07148020099452229, 0.46551724137931033, 'X[36] <= 0.5\\ngini = 0.431\\nsamples = 35\\nvalue = [24, 11]'),\n",
              " Text(0.07092285049943829, 0.43103448275862066, 'X[8] <= 0.78\\ngini = 0.471\\nsamples = 29\\nvalue = [18, 11]'),\n",
              " Text(0.0698081495092703, 0.39655172413793105, 'X[0] <= 30.5\\ngini = 0.245\\nsamples = 7\\nvalue = [6, 1]'),\n",
              " Text(0.0692507990141863, 0.3620689655172414, 'gini = 0.0\\nsamples = 1\\nvalue = [0, 1]'),\n",
              " Text(0.0703655000043543, 0.3620689655172414, 'gini = 0.0\\nsamples = 6\\nvalue = [6, 0]'),\n",
              " Text(0.07203755148960628, 0.39655172413793105, 'X[8] <= 0.816\\ngini = 0.496\\nsamples = 22\\nvalue = [12, 10]'),\n",
              " Text(0.07148020099452229, 0.3620689655172414, 'gini = 0.0\\nsamples = 2\\nvalue = [0, 2]'),\n",
              " Text(0.07259490198469028, 0.3620689655172414, 'X[24] <= 0.5\\ngini = 0.48\\nsamples = 20\\nvalue = [12, 8]'),\n",
              " Text(0.07203755148960628, 0.3275862068965517, 'X[1] <= 148.5\\ngini = 0.444\\nsamples = 18\\nvalue = [12, 6]'),\n",
              " Text(0.07092285049943829, 0.29310344827586204, 'X[4] <= 1.5\\ngini = 0.298\\nsamples = 11\\nvalue = [9, 2]'),\n",
              " Text(0.0703655000043543, 0.25862068965517243, 'X[2] <= 3.5\\ngini = 0.18\\nsamples = 10\\nvalue = [9, 1]'),\n",
              " Text(0.0698081495092703, 0.22413793103448276, 'gini = 0.0\\nsamples = 9\\nvalue = [9, 0]'),\n",
              " Text(0.07092285049943829, 0.22413793103448276, 'gini = 0.0\\nsamples = 1\\nvalue = [0, 1]'),\n",
              " Text(0.07148020099452229, 0.25862068965517243, 'gini = 0.0\\nsamples = 1\\nvalue = [0, 1]'),\n",
              " Text(0.07315225247977428, 0.29310344827586204, 'X[1] <= 156.5\\ngini = 0.49\\nsamples = 7\\nvalue = [3, 4]'),\n",
              " Text(0.07259490198469028, 0.25862068965517243, 'X[18] <= 0.5\\ngini = 0.32\\nsamples = 5\\nvalue = [1, 4]'),\n",
              " Text(0.07203755148960628, 0.22413793103448276, 'gini = 0.0\\nsamples = 3\\nvalue = [0, 3]'),\n",
              " Text(0.07315225247977428, 0.22413793103448276, 'X[29] <= 0.5\\ngini = 0.5\\nsamples = 2\\nvalue = [1, 1]'),\n",
              " Text(0.07259490198469028, 0.1896551724137931, 'gini = 0.0\\nsamples = 1\\nvalue = [0, 1]'),\n",
              " Text(0.07370960297485826, 0.1896551724137931, 'gini = 0.0\\nsamples = 1\\nvalue = [1, 0]'),\n",
              " Text(0.07370960297485826, 0.25862068965517243, 'gini = 0.0\\nsamples = 2\\nvalue = [2, 0]'),\n",
              " Text(0.07315225247977428, 0.3275862068965517, 'gini = 0.0\\nsamples = 2\\nvalue = [0, 2]'),\n",
              " Text(0.07203755148960628, 0.43103448275862066, 'gini = 0.0\\nsamples = 6\\nvalue = [6, 0]'),\n",
              " Text(0.07426695346994226, 0.5, 'X[30] <= 0.5\\ngini = 0.121\\nsamples = 31\\nvalue = [29, 2]'),\n",
              " Text(0.07370960297485826, 0.46551724137931033, 'X[7] <= -34.7\\ngini = 0.064\\nsamples = 30\\nvalue = [29, 1]'),\n",
              " Text(0.07315225247977428, 0.43103448275862066, 'gini = 0.0\\nsamples = 25\\nvalue = [25, 0]'),\n",
              " Text(0.07426695346994226, 0.43103448275862066, 'X[1] <= 142.0\\ngini = 0.32\\nsamples = 5\\nvalue = [4, 1]'),\n",
              " Text(0.07370960297485826, 0.39655172413793105, 'gini = 0.0\\nsamples = 1\\nvalue = [0, 1]'),\n",
              " Text(0.07482430396502626, 0.39655172413793105, 'gini = 0.0\\nsamples = 4\\nvalue = [4, 0]'),\n",
              " Text(0.07482430396502626, 0.46551724137931033, 'gini = 0.0\\nsamples = 1\\nvalue = [0, 1]'),\n",
              " Text(0.07816840693553022, 0.5689655172413793, 'X[5] <= -2.95\\ngini = 0.431\\nsamples = 35\\nvalue = [24, 11]'),\n",
              " Text(0.07761105644044623, 0.5344827586206896, 'gini = 0.0\\nsamples = 8\\nvalue = [8, 0]'),\n",
              " Text(0.07872575743061422, 0.5344827586206896, 'X[2] <= 1.5\\ngini = 0.483\\nsamples = 27\\nvalue = [16, 11]'),\n",
              " Text(0.07705370594536223, 0.5, 'X[9] <= 5042.45\\ngini = 0.401\\nsamples = 18\\nvalue = [13, 5]'),\n",
              " Text(0.07649635545027823, 0.46551724137931033, 'gini = 0.0\\nsamples = 1\\nvalue = [0, 1]'),\n",
              " Text(0.07761105644044623, 0.46551724137931033, 'X[12] <= 0.5\\ngini = 0.36\\nsamples = 17\\nvalue = [13, 4]'),\n",
              " Text(0.07705370594536223, 0.43103448275862066, 'X[22] <= 0.5\\ngini = 0.305\\nsamples = 16\\nvalue = [13, 3]'),\n",
              " Text(0.07593900495519425, 0.39655172413793105, 'X[0] <= 31.0\\ngini = 0.165\\nsamples = 11\\nvalue = [10, 1]'),\n",
              " Text(0.07538165446011025, 0.3620689655172414, 'gini = 0.0\\nsamples = 1\\nvalue = [0, 1]'),\n",
              " Text(0.07649635545027823, 0.3620689655172414, 'gini = 0.0\\nsamples = 10\\nvalue = [10, 0]'),\n",
              " Text(0.07816840693553022, 0.39655172413793105, 'X[0] <= 28.5\\ngini = 0.48\\nsamples = 5\\nvalue = [3, 2]'),\n",
              " Text(0.07761105644044623, 0.3620689655172414, 'gini = 0.0\\nsamples = 2\\nvalue = [2, 0]'),\n",
              " Text(0.07872575743061422, 0.3620689655172414, 'X[0] <= 34.5\\ngini = 0.444\\nsamples = 3\\nvalue = [1, 2]'),\n",
              " Text(0.07816840693553022, 0.3275862068965517, 'X[34] <= 0.5\\ngini = 0.5\\nsamples = 2\\nvalue = [1, 1]'),\n",
              " Text(0.07761105644044623, 0.29310344827586204, 'gini = 0.0\\nsamples = 1\\nvalue = [0, 1]'),\n",
              " Text(0.07872575743061422, 0.29310344827586204, 'gini = 0.0\\nsamples = 1\\nvalue = [1, 0]'),\n",
              " Text(0.07928310792569822, 0.3275862068965517, 'gini = 0.0\\nsamples = 1\\nvalue = [0, 1]'),\n",
              " Text(0.07816840693553022, 0.43103448275862066, 'gini = 0.0\\nsamples = 1\\nvalue = [0, 1]'),\n",
              " Text(0.0803978089158662, 0.5, 'X[37] <= 0.5\\ngini = 0.444\\nsamples = 9\\nvalue = [3, 6]'),\n",
              " Text(0.0798404584207822, 0.46551724137931033, 'X[8] <= 1.173\\ngini = 0.245\\nsamples = 7\\nvalue = [1, 6]'),\n",
              " Text(0.07928310792569822, 0.43103448275862066, 'gini = 0.0\\nsamples = 5\\nvalue = [0, 5]'),\n",
              " Text(0.0803978089158662, 0.43103448275862066, 'X[1] <= 147.0\\ngini = 0.5\\nsamples = 2\\nvalue = [1, 1]'),\n",
              " Text(0.0798404584207822, 0.39655172413793105, 'gini = 0.0\\nsamples = 1\\nvalue = [1, 0]'),\n",
              " Text(0.08095515941095019, 0.39655172413793105, 'gini = 0.0\\nsamples = 1\\nvalue = [0, 1]'),\n",
              " Text(0.08095515941095019, 0.46551724137931033, 'gini = 0.0\\nsamples = 2\\nvalue = [2, 0]'),\n",
              " Text(0.0798404584207822, 0.603448275862069, 'X[26] <= 0.5\\ngini = 0.444\\nsamples = 3\\nvalue = [1, 2]'),\n",
              " Text(0.07928310792569822, 0.5689655172413793, 'gini = 0.0\\nsamples = 2\\nvalue = [0, 2]'),\n",
              " Text(0.0803978089158662, 0.5689655172413793, 'gini = 0.0\\nsamples = 1\\nvalue = [1, 0]'),\n",
              " Text(0.08151250990603419, 0.6379310344827587, 'X[18] <= 0.5\\ngini = 0.444\\nsamples = 3\\nvalue = [1, 2]'),\n",
              " Text(0.08095515941095019, 0.603448275862069, 'gini = 0.0\\nsamples = 2\\nvalue = [0, 2]'),\n",
              " Text(0.08206986040111819, 0.603448275862069, 'gini = 0.0\\nsamples = 1\\nvalue = [1, 0]'),\n",
              " Text(0.08374191188637017, 0.7068965517241379, 'X[2] <= 4.5\\ngini = 0.469\\nsamples = 8\\nvalue = [3, 5]'),\n",
              " Text(0.08318456139128617, 0.6724137931034483, 'X[1] <= 151.5\\ngini = 0.408\\nsamples = 7\\nvalue = [2, 5]'),\n",
              " Text(0.08262721089620217, 0.6379310344827587, 'gini = 0.0\\nsamples = 4\\nvalue = [0, 4]'),\n",
              " Text(0.08374191188637017, 0.6379310344827587, 'X[7] <= -37.8\\ngini = 0.444\\nsamples = 3\\nvalue = [2, 1]'),\n",
              " Text(0.08318456139128617, 0.603448275862069, 'gini = 0.0\\nsamples = 1\\nvalue = [0, 1]'),\n",
              " Text(0.08429926238145416, 0.603448275862069, 'gini = 0.0\\nsamples = 2\\nvalue = [2, 0]'),\n",
              " Text(0.08429926238145416, 0.6724137931034483, 'gini = 0.0\\nsamples = 1\\nvalue = [1, 0]'),\n",
              " Text(0.08652866436179014, 0.7413793103448276, 'X[1] <= 156.5\\ngini = 0.5\\nsamples = 33\\nvalue = [16, 17]'),\n",
              " Text(0.08597131386670614, 0.7068965517241379, 'X[8] <= 0.723\\ngini = 0.491\\nsamples = 30\\nvalue = [13, 17]'),\n",
              " Text(0.08541396337162215, 0.6724137931034483, 'gini = 0.0\\nsamples = 4\\nvalue = [0, 4]'),\n",
              " Text(0.08652866436179014, 0.6724137931034483, 'X[8] <= 0.726\\ngini = 0.5\\nsamples = 26\\nvalue = [13, 13]'),\n",
              " Text(0.08597131386670614, 0.6379310344827587, 'gini = 0.0\\nsamples = 3\\nvalue = [3, 0]'),\n",
              " Text(0.08708601485687413, 0.6379310344827587, 'X[1] <= 134.0\\ngini = 0.491\\nsamples = 23\\nvalue = [10, 13]'),\n",
              " Text(0.08597131386670614, 0.603448275862069, 'X[0] <= 47.0\\ngini = 0.444\\nsamples = 9\\nvalue = [6, 3]'),\n",
              " Text(0.08541396337162215, 0.5689655172413793, 'gini = 0.0\\nsamples = 5\\nvalue = [5, 0]'),\n",
              " Text(0.08652866436179014, 0.5689655172413793, 'X[8] <= 0.742\\ngini = 0.375\\nsamples = 4\\nvalue = [1, 3]'),\n",
              " Text(0.08597131386670614, 0.5344827586206896, 'gini = 0.0\\nsamples = 3\\nvalue = [0, 3]'),\n",
              " Text(0.08708601485687413, 0.5344827586206896, 'gini = 0.0\\nsamples = 1\\nvalue = [1, 0]'),\n",
              " Text(0.08820071584704213, 0.603448275862069, 'X[1] <= 137.5\\ngini = 0.408\\nsamples = 14\\nvalue = [4, 10]'),\n",
              " Text(0.08764336535195813, 0.5689655172413793, 'gini = 0.0\\nsamples = 5\\nvalue = [0, 5]'),\n",
              " Text(0.08875806634212612, 0.5689655172413793, 'X[1] <= 153.0\\ngini = 0.494\\nsamples = 9\\nvalue = [4, 5]'),\n",
              " Text(0.08820071584704213, 0.5344827586206896, 'X[34] <= 0.5\\ngini = 0.444\\nsamples = 6\\nvalue = [4, 2]'),\n",
              " Text(0.08764336535195813, 0.5, 'gini = 0.0\\nsamples = 3\\nvalue = [3, 0]'),\n",
              " Text(0.08875806634212612, 0.5, 'X[18] <= 0.5\\ngini = 0.444\\nsamples = 3\\nvalue = [1, 2]'),\n",
              " Text(0.08820071584704213, 0.46551724137931033, 'gini = 0.0\\nsamples = 2\\nvalue = [0, 2]'),\n",
              " Text(0.08931541683721012, 0.46551724137931033, 'gini = 0.0\\nsamples = 1\\nvalue = [1, 0]'),\n",
              " Text(0.08931541683721012, 0.5344827586206896, 'gini = 0.0\\nsamples = 3\\nvalue = [0, 3]'),\n",
              " Text(0.08708601485687413, 0.7068965517241379, 'gini = 0.0\\nsamples = 3\\nvalue = [3, 0]'),\n",
              " Text(0.08931541683721012, 0.7758620689655172, 'X[8] <= 0.714\\ngini = 0.121\\nsamples = 31\\nvalue = [29, 2]'),\n",
              " Text(0.08875806634212612, 0.7413793103448276, 'X[1] <= 137.5\\ngini = 0.444\\nsamples = 6\\nvalue = [4, 2]'),\n",
              " Text(0.08820071584704213, 0.7068965517241379, 'X[2] <= 4.0\\ngini = 0.444\\nsamples = 3\\nvalue = [1, 2]'),\n",
              " Text(0.08764336535195813, 0.6724137931034483, 'gini = 0.0\\nsamples = 2\\nvalue = [0, 2]'),\n",
              " Text(0.08875806634212612, 0.6724137931034483, 'gini = 0.0\\nsamples = 1\\nvalue = [1, 0]'),\n",
              " Text(0.08931541683721012, 0.7068965517241379, 'gini = 0.0\\nsamples = 3\\nvalue = [3, 0]'),\n",
              " Text(0.0898727673322941, 0.7413793103448276, 'gini = 0.0\\nsamples = 25\\nvalue = [25, 0]'),\n",
              " Text(0.09349554555034006, 0.8103448275862069, 'X[21] <= 0.5\\ngini = 0.146\\nsamples = 63\\nvalue = [58, 5]'),\n",
              " Text(0.09210216931263009, 0.7758620689655172, 'X[25] <= 0.5\\ngini = 0.097\\nsamples = 59\\nvalue = [56, 3]'),\n",
              " Text(0.0909874683224621, 0.7413793103448276, 'X[18] <= 0.5\\ngini = 0.068\\nsamples = 57\\nvalue = [55, 2]'),\n",
              " Text(0.0904301178273781, 0.7068965517241379, 'gini = 0.0\\nsamples = 44\\nvalue = [44, 0]'),\n",
              " Text(0.09154481881754609, 0.7068965517241379, 'X[0] <= 41.5\\ngini = 0.26\\nsamples = 13\\nvalue = [11, 2]'),\n",
              " Text(0.0909874683224621, 0.6724137931034483, 'gini = 0.0\\nsamples = 10\\nvalue = [10, 0]'),\n",
              " Text(0.09210216931263009, 0.6724137931034483, 'X[0] <= 55.5\\ngini = 0.444\\nsamples = 3\\nvalue = [1, 2]'),\n",
              " Text(0.09154481881754609, 0.6379310344827587, 'gini = 0.0\\nsamples = 2\\nvalue = [0, 2]'),\n",
              " Text(0.09265951980771409, 0.6379310344827587, 'gini = 0.0\\nsamples = 1\\nvalue = [1, 0]'),\n",
              " Text(0.09321687030279807, 0.7413793103448276, 'X[31] <= 0.5\\ngini = 0.5\\nsamples = 2\\nvalue = [1, 1]'),\n",
              " Text(0.09265951980771409, 0.7068965517241379, 'gini = 0.0\\nsamples = 1\\nvalue = [0, 1]'),\n",
              " Text(0.09377422079788207, 0.7068965517241379, 'gini = 0.0\\nsamples = 1\\nvalue = [1, 0]'),\n",
              " Text(0.09488892178805006, 0.7758620689655172, 'X[1] <= 150.0\\ngini = 0.5\\nsamples = 4\\nvalue = [2, 2]'),\n",
              " Text(0.09433157129296606, 0.7413793103448276, 'gini = 0.0\\nsamples = 2\\nvalue = [0, 2]'),\n",
              " Text(0.09544627228313406, 0.7413793103448276, 'gini = 0.0\\nsamples = 2\\nvalue = [2, 0]'),\n",
              " Text(0.24888001346703575, 0.9137931034482759, 'X[38] <= 0.5\\ngini = 0.477\\nsamples = 2264\\nvalue = [891, 1373]'),\n",
              " Text(0.17603639331364462, 0.8793103448275862, 'X[1] <= 248.5\\ngini = 0.499\\nsamples = 1663\\nvalue = [790, 873]'),\n",
              " Text(0.12728600788999295, 0.8448275862068966, 'X[8] <= 0.723\\ngini = 0.469\\nsamples = 603\\nvalue = [377, 226]'),\n",
              " Text(0.10451192642973466, 0.8103448275862069, 'X[2] <= 4.5\\ngini = 0.5\\nsamples = 152\\nvalue = [78, 74]'),\n",
              " Text(0.09985282463489188, 0.7758620689655172, 'X[0] <= 24.5\\ngini = 0.5\\nsamples = 143\\nvalue = [70, 73]'),\n",
              " Text(0.09656097327330204, 0.7413793103448276, 'X[1] <= 230.0\\ngini = 0.219\\nsamples = 8\\nvalue = [7, 1]'),\n",
              " Text(0.09600362277821804, 0.7068965517241379, 'gini = 0.0\\nsamples = 7\\nvalue = [7, 0]'),\n",
              " Text(0.09711832376838604, 0.7068965517241379, 'gini = 0.0\\nsamples = 1\\nvalue = [0, 1]'),\n",
              " Text(0.10314467599648172, 0.7413793103448276, 'X[13] <= 0.5\\ngini = 0.498\\nsamples = 135\\nvalue = [63, 72]'),\n",
              " Text(0.09823302475855403, 0.7068965517241379, 'X[1] <= 162.5\\ngini = 0.492\\nsamples = 121\\nvalue = [53, 68]'),\n",
              " Text(0.09767567426347003, 0.6724137931034483, 'gini = 0.0\\nsamples = 5\\nvalue = [0, 5]'),\n",
              " Text(0.09879037525363801, 0.6724137931034483, 'X[0] <= 35.5\\ngini = 0.496\\nsamples = 116\\nvalue = [53, 63]'),\n",
              " Text(0.09440124010485156, 0.6379310344827587, 'X[22] <= 0.5\\ngini = 0.457\\nsamples = 48\\nvalue = [17, 31]'),\n",
              " Text(0.09272918861959958, 0.603448275862069, 'X[25] <= 0.5\\ngini = 0.245\\nsamples = 14\\nvalue = [2, 12]'),\n",
              " Text(0.09217183812451558, 0.5689655172413793, 'X[2] <= 1.5\\ngini = 0.142\\nsamples = 13\\nvalue = [1, 12]'),\n",
              " Text(0.09161448762943158, 0.5344827586206896, 'gini = 0.0\\nsamples = 10\\nvalue = [0, 10]'),\n",
              " Text(0.09272918861959958, 0.5344827586206896, 'X[7] <= -32.35\\ngini = 0.444\\nsamples = 3\\nvalue = [1, 2]'),\n",
              " Text(0.09217183812451558, 0.5, 'gini = 0.0\\nsamples = 2\\nvalue = [0, 2]'),\n",
              " Text(0.09328653911468357, 0.5, 'gini = 0.0\\nsamples = 1\\nvalue = [1, 0]'),\n",
              " Text(0.09328653911468357, 0.5689655172413793, 'gini = 0.0\\nsamples = 1\\nvalue = [1, 0]'),\n",
              " Text(0.09607329159010354, 0.603448275862069, 'X[8] <= 0.706\\ngini = 0.493\\nsamples = 34\\nvalue = [15, 19]'),\n",
              " Text(0.09440124010485156, 0.5689655172413793, 'X[1] <= 174.0\\ngini = 0.434\\nsamples = 22\\nvalue = [7, 15]'),\n",
              " Text(0.09384388960976757, 0.5344827586206896, 'gini = 0.0\\nsamples = 2\\nvalue = [2, 0]'),\n",
              " Text(0.09495859059993556, 0.5344827586206896, 'X[1] <= 243.5\\ngini = 0.375\\nsamples = 20\\nvalue = [5, 15]'),\n",
              " Text(0.09440124010485156, 0.5, 'X[8] <= 0.653\\ngini = 0.278\\nsamples = 18\\nvalue = [3, 15]'),\n",
              " Text(0.09384388960976757, 0.46551724137931033, 'X[1] <= 223.0\\ngini = 0.42\\nsamples = 10\\nvalue = [3, 7]'),\n",
              " Text(0.09328653911468357, 0.43103448275862066, 'X[0] <= 31.0\\ngini = 0.5\\nsamples = 6\\nvalue = [3, 3]'),\n",
              " Text(0.09272918861959958, 0.39655172413793105, 'X[15] <= 0.5\\ngini = 0.375\\nsamples = 4\\nvalue = [1, 3]'),\n",
              " Text(0.09217183812451558, 0.3620689655172414, 'gini = 0.0\\nsamples = 3\\nvalue = [0, 3]'),\n",
              " Text(0.09328653911468357, 0.3620689655172414, 'gini = 0.0\\nsamples = 1\\nvalue = [1, 0]'),\n",
              " Text(0.09384388960976757, 0.39655172413793105, 'gini = 0.0\\nsamples = 2\\nvalue = [2, 0]'),\n",
              " Text(0.09440124010485156, 0.43103448275862066, 'gini = 0.0\\nsamples = 4\\nvalue = [0, 4]'),\n",
              " Text(0.09495859059993556, 0.46551724137931033, 'gini = 0.0\\nsamples = 8\\nvalue = [0, 8]'),\n",
              " Text(0.09551594109501955, 0.5, 'gini = 0.0\\nsamples = 2\\nvalue = [2, 0]'),\n",
              " Text(0.09774534307535553, 0.5689655172413793, 'X[4] <= 0.5\\ngini = 0.444\\nsamples = 12\\nvalue = [8, 4]'),\n",
              " Text(0.09718799258027154, 0.5344827586206896, 'X[2] <= 2.5\\ngini = 0.198\\nsamples = 9\\nvalue = [8, 1]'),\n",
              " Text(0.09663064208518754, 0.5, 'gini = 0.0\\nsamples = 8\\nvalue = [8, 0]'),\n",
              " Text(0.09774534307535553, 0.5, 'gini = 0.0\\nsamples = 1\\nvalue = [0, 1]'),\n",
              " Text(0.09830269357043953, 0.5344827586206896, 'gini = 0.0\\nsamples = 3\\nvalue = [0, 3]'),\n",
              " Text(0.10317951040242447, 0.6379310344827587, 'X[2] <= 1.5\\ngini = 0.498\\nsamples = 68\\nvalue = [36, 32]'),\n",
              " Text(0.1005320955507755, 0.603448275862069, 'X[1] <= 165.5\\ngini = 0.488\\nsamples = 38\\nvalue = [16, 22]'),\n",
              " Text(0.09997474505569151, 0.5689655172413793, 'gini = 0.0\\nsamples = 3\\nvalue = [3, 0]'),\n",
              " Text(0.1010894460458595, 0.5689655172413793, 'X[30] <= 0.5\\ngini = 0.467\\nsamples = 35\\nvalue = [13, 22]'),\n",
              " Text(0.1005320955507755, 0.5344827586206896, 'X[1] <= 235.5\\ngini = 0.444\\nsamples = 33\\nvalue = [11, 22]'),\n",
              " Text(0.09886004406552351, 0.5, 'X[1] <= 194.0\\ngini = 0.4\\nsamples = 29\\nvalue = [8, 21]'),\n",
              " Text(0.09718799258027154, 0.46551724137931033, 'X[37] <= 0.5\\ngini = 0.49\\nsamples = 14\\nvalue = [6, 8]'),\n",
              " Text(0.09663064208518754, 0.43103448275862066, 'X[0] <= 40.0\\ngini = 0.444\\nsamples = 9\\nvalue = [6, 3]'),\n",
              " Text(0.09607329159010354, 0.39655172413793105, 'gini = 0.0\\nsamples = 2\\nvalue = [0, 2]'),\n",
              " Text(0.09718799258027154, 0.39655172413793105, 'X[1] <= 170.0\\ngini = 0.245\\nsamples = 7\\nvalue = [6, 1]'),\n",
              " Text(0.09663064208518754, 0.3620689655172414, 'gini = 0.0\\nsamples = 1\\nvalue = [0, 1]'),\n",
              " Text(0.09774534307535553, 0.3620689655172414, 'gini = 0.0\\nsamples = 6\\nvalue = [6, 0]'),\n",
              " Text(0.09774534307535553, 0.43103448275862066, 'gini = 0.0\\nsamples = 5\\nvalue = [0, 5]'),\n",
              " Text(0.1005320955507755, 0.46551724137931033, 'X[26] <= 0.5\\ngini = 0.231\\nsamples = 15\\nvalue = [2, 13]'),\n",
              " Text(0.09997474505569151, 0.43103448275862066, 'X[7] <= -34.7\\ngini = 0.133\\nsamples = 14\\nvalue = [1, 13]'),\n",
              " Text(0.09941739456060751, 0.39655172413793105, 'X[8] <= 0.652\\ngini = 0.444\\nsamples = 3\\nvalue = [1, 2]'),\n",
              " Text(0.09886004406552351, 0.3620689655172414, 'gini = 0.0\\nsamples = 1\\nvalue = [1, 0]'),\n",
              " Text(0.09997474505569151, 0.3620689655172414, 'gini = 0.0\\nsamples = 2\\nvalue = [0, 2]'),\n",
              " Text(0.1005320955507755, 0.39655172413793105, 'gini = 0.0\\nsamples = 11\\nvalue = [0, 11]'),\n",
              " Text(0.1010894460458595, 0.43103448275862066, 'gini = 0.0\\nsamples = 1\\nvalue = [1, 0]'),\n",
              " Text(0.10220414703602748, 0.5, 'X[9] <= 5004.55\\ngini = 0.375\\nsamples = 4\\nvalue = [3, 1]'),\n",
              " Text(0.1016467965409435, 0.46551724137931033, 'gini = 0.0\\nsamples = 1\\nvalue = [0, 1]'),\n",
              " Text(0.10276149753111148, 0.46551724137931033, 'gini = 0.0\\nsamples = 3\\nvalue = [3, 0]'),\n",
              " Text(0.1016467965409435, 0.5344827586206896, 'gini = 0.0\\nsamples = 2\\nvalue = [2, 0]'),\n",
              " Text(0.10582692525407345, 0.603448275862069, 'X[8] <= 0.708\\ngini = 0.444\\nsamples = 30\\nvalue = [20, 10]'),\n",
              " Text(0.10443354901636347, 0.5689655172413793, 'X[27] <= 0.5\\ngini = 0.231\\nsamples = 15\\nvalue = [13, 2]'),\n",
              " Text(0.10387619852127947, 0.5344827586206896, 'X[4] <= 2.5\\ngini = 0.133\\nsamples = 14\\nvalue = [13, 1]'),\n",
              " Text(0.10331884802619547, 0.5, 'gini = 0.0\\nsamples = 12\\nvalue = [12, 0]'),\n",
              " Text(0.10443354901636347, 0.5, 'X[8] <= 0.639\\ngini = 0.5\\nsamples = 2\\nvalue = [1, 1]'),\n",
              " Text(0.10387619852127947, 0.46551724137931033, 'gini = 0.0\\nsamples = 1\\nvalue = [1, 0]'),\n",
              " Text(0.10499089951144745, 0.46551724137931033, 'gini = 0.0\\nsamples = 1\\nvalue = [0, 1]'),\n",
              " Text(0.10499089951144745, 0.5344827586206896, 'gini = 0.0\\nsamples = 1\\nvalue = [0, 1]'),\n",
              " Text(0.10722030149178344, 0.5689655172413793, 'X[0] <= 43.0\\ngini = 0.498\\nsamples = 15\\nvalue = [7, 8]'),\n",
              " Text(0.10666295099669944, 0.5344827586206896, 'gini = 0.0\\nsamples = 3\\nvalue = [3, 0]'),\n",
              " Text(0.10777765198686742, 0.5344827586206896, 'X[1] <= 187.0\\ngini = 0.444\\nsamples = 12\\nvalue = [4, 8]'),\n",
              " Text(0.10666295099669944, 0.5, 'X[1] <= 170.5\\ngini = 0.48\\nsamples = 5\\nvalue = [3, 2]'),\n",
              " Text(0.10610560050161545, 0.46551724137931033, 'gini = 0.0\\nsamples = 2\\nvalue = [0, 2]'),\n",
              " Text(0.10722030149178344, 0.46551724137931033, 'gini = 0.0\\nsamples = 3\\nvalue = [3, 0]'),\n",
              " Text(0.10889235297703542, 0.5, 'X[1] <= 237.0\\ngini = 0.245\\nsamples = 7\\nvalue = [1, 6]'),\n",
              " Text(0.10833500248195142, 0.46551724137931033, 'gini = 0.0\\nsamples = 6\\nvalue = [0, 6]'),\n",
              " Text(0.10944970347211941, 0.46551724137931033, 'gini = 0.0\\nsamples = 1\\nvalue = [1, 0]'),\n",
              " Text(0.10805632723440943, 0.7068965517241379, 'X[0] <= 51.0\\ngini = 0.408\\nsamples = 14\\nvalue = [10, 4]'),\n",
              " Text(0.10694162624424143, 0.6724137931034483, 'X[4] <= 1.5\\ngini = 0.18\\nsamples = 10\\nvalue = [9, 1]'),\n",
              " Text(0.10638427574915744, 0.6379310344827587, 'gini = 0.0\\nsamples = 8\\nvalue = [8, 0]'),\n",
              " Text(0.10749897673932543, 0.6379310344827587, 'X[26] <= 0.5\\ngini = 0.5\\nsamples = 2\\nvalue = [1, 1]'),\n",
              " Text(0.10694162624424143, 0.603448275862069, 'gini = 0.0\\nsamples = 1\\nvalue = [0, 1]'),\n",
              " Text(0.10805632723440943, 0.603448275862069, 'gini = 0.0\\nsamples = 1\\nvalue = [1, 0]'),\n",
              " Text(0.10917102822457742, 0.6724137931034483, 'X[1] <= 202.5\\ngini = 0.375\\nsamples = 4\\nvalue = [1, 3]'),\n",
              " Text(0.10861367772949342, 0.6379310344827587, 'gini = 0.0\\nsamples = 1\\nvalue = [1, 0]'),\n",
              " Text(0.10972837871966142, 0.6379310344827587, 'gini = 0.0\\nsamples = 3\\nvalue = [0, 3]'),\n",
              " Text(0.10917102822457742, 0.7758620689655172, 'X[10] <= 0.5\\ngini = 0.198\\nsamples = 9\\nvalue = [8, 1]'),\n",
              " Text(0.10861367772949342, 0.7413793103448276, 'gini = 0.0\\nsamples = 7\\nvalue = [7, 0]'),\n",
              " Text(0.10972837871966142, 0.7413793103448276, 'X[2] <= 5.5\\ngini = 0.5\\nsamples = 2\\nvalue = [1, 1]'),\n",
              " Text(0.10917102822457742, 0.7068965517241379, 'gini = 0.0\\nsamples = 1\\nvalue = [0, 1]'),\n",
              " Text(0.1102857292147454, 0.7068965517241379, 'gini = 0.0\\nsamples = 1\\nvalue = [1, 0]'),\n",
              " Text(0.15006008935025125, 0.8103448275862069, 'X[8] <= 1.248\\ngini = 0.447\\nsamples = 451\\nvalue = [299, 152]'),\n",
              " Text(0.13493542571998363, 0.7758620689655172, 'X[1] <= 200.5\\ngini = 0.423\\nsamples = 346\\nvalue = [241, 105]'),\n",
              " Text(0.12562157643104094, 0.7413793103448276, 'X[0] <= 74.5\\ngini = 0.344\\nsamples = 181\\nvalue = [141, 40]'),\n",
              " Text(0.12064896498271342, 0.7068965517241379, 'X[0] <= 31.5\\ngini = 0.327\\nsamples = 175\\nvalue = [139, 36]'),\n",
              " Text(0.11237579357131039, 0.6724137931034483, 'X[1] <= 172.5\\ngini = 0.449\\nsamples = 47\\nvalue = [31, 16]'),\n",
              " Text(0.1108430797098294, 0.6379310344827587, 'X[8] <= 0.734\\ngini = 0.124\\nsamples = 15\\nvalue = [14, 1]'),\n",
              " Text(0.1102857292147454, 0.603448275862069, 'gini = 0.0\\nsamples = 1\\nvalue = [0, 1]'),\n",
              " Text(0.11140043020491339, 0.603448275862069, 'gini = 0.0\\nsamples = 14\\nvalue = [14, 0]'),\n",
              " Text(0.11390850743279136, 0.6379310344827587, 'X[1] <= 179.5\\ngini = 0.498\\nsamples = 32\\nvalue = [17, 15]'),\n",
              " Text(0.11251513119508139, 0.603448275862069, 'X[0] <= 30.5\\ngini = 0.32\\nsamples = 10\\nvalue = [2, 8]'),\n",
              " Text(0.11195778069999739, 0.5689655172413793, 'X[15] <= 0.5\\ngini = 0.198\\nsamples = 9\\nvalue = [1, 8]'),\n",
              " Text(0.11140043020491339, 0.5344827586206896, 'gini = 0.0\\nsamples = 8\\nvalue = [0, 8]'),\n",
              " Text(0.11251513119508139, 0.5344827586206896, 'gini = 0.0\\nsamples = 1\\nvalue = [1, 0]'),\n",
              " Text(0.11307248169016537, 0.5689655172413793, 'gini = 0.0\\nsamples = 1\\nvalue = [1, 0]'),\n",
              " Text(0.11530188367050136, 0.603448275862069, 'X[22] <= 0.5\\ngini = 0.434\\nsamples = 22\\nvalue = [15, 7]'),\n",
              " Text(0.11418718268033337, 0.5689655172413793, 'X[2] <= 1.5\\ngini = 0.49\\nsamples = 7\\nvalue = [3, 4]'),\n",
              " Text(0.11362983218524937, 0.5344827586206896, 'gini = 0.0\\nsamples = 3\\nvalue = [0, 3]'),\n",
              " Text(0.11474453317541736, 0.5344827586206896, 'X[37] <= 0.5\\ngini = 0.375\\nsamples = 4\\nvalue = [3, 1]'),\n",
              " Text(0.11418718268033337, 0.5, 'gini = 0.0\\nsamples = 3\\nvalue = [3, 0]'),\n",
              " Text(0.11530188367050136, 0.5, 'gini = 0.0\\nsamples = 1\\nvalue = [0, 1]'),\n",
              " Text(0.11641658466066934, 0.5689655172413793, 'X[5] <= -3.15\\ngini = 0.32\\nsamples = 15\\nvalue = [12, 3]'),\n",
              " Text(0.11585923416558534, 0.5344827586206896, 'gini = 0.0\\nsamples = 1\\nvalue = [0, 1]'),\n",
              " Text(0.11697393515575334, 0.5344827586206896, 'X[1] <= 184.5\\ngini = 0.245\\nsamples = 14\\nvalue = [12, 2]'),\n",
              " Text(0.11641658466066934, 0.5, 'X[6] <= 92.716\\ngini = 0.48\\nsamples = 5\\nvalue = [3, 2]'),\n",
              " Text(0.11585923416558534, 0.46551724137931033, 'X[4] <= 1.0\\ngini = 0.444\\nsamples = 3\\nvalue = [1, 2]'),\n",
              " Text(0.11530188367050136, 0.43103448275862066, 'gini = 0.0\\nsamples = 2\\nvalue = [0, 2]'),\n",
              " Text(0.11641658466066934, 0.43103448275862066, 'gini = 0.0\\nsamples = 1\\nvalue = [1, 0]'),\n",
              " Text(0.11697393515575334, 0.46551724137931033, 'gini = 0.0\\nsamples = 2\\nvalue = [2, 0]'),\n",
              " Text(0.11753128565083733, 0.5, 'gini = 0.0\\nsamples = 9\\nvalue = [9, 0]'),\n",
              " Text(0.12892213639411648, 0.6724137931034483, 'X[3] <= 5.0\\ngini = 0.264\\nsamples = 128\\nvalue = [108, 20]'),\n",
              " Text(0.12836478589903247, 0.6379310344827587, 'gini = 0.0\\nsamples = 1\\nvalue = [0, 1]'),\n",
              " Text(0.12947948688920047, 0.6379310344827587, 'X[25] <= 0.5\\ngini = 0.254\\nsamples = 127\\nvalue = [108, 19]'),\n",
              " Text(0.12693657525537974, 0.603448275862069, 'X[11] <= 0.5\\ngini = 0.238\\nsamples = 123\\nvalue = [106, 17]'),\n",
              " Text(0.12352280347299027, 0.5689655172413793, 'X[6] <= 92.29\\ngini = 0.22\\nsamples = 119\\nvalue = [104, 15]'),\n",
              " Text(0.11976068763117331, 0.5344827586206896, 'X[2] <= 3.5\\ngini = 0.353\\nsamples = 35\\nvalue = [27, 8]'),\n",
              " Text(0.11920333713608931, 0.5, 'X[0] <= 35.0\\ngini = 0.298\\nsamples = 33\\nvalue = [27, 6]'),\n",
              " Text(0.11808863614592133, 0.46551724137931033, 'X[0] <= 33.5\\ngini = 0.444\\nsamples = 3\\nvalue = [1, 2]'),\n",
              " Text(0.11753128565083733, 0.43103448275862066, 'X[8] <= 0.88\\ngini = 0.5\\nsamples = 2\\nvalue = [1, 1]'),\n",
              " Text(0.11697393515575334, 0.39655172413793105, 'gini = 0.0\\nsamples = 1\\nvalue = [1, 0]'),\n",
              " Text(0.11808863614592133, 0.39655172413793105, 'gini = 0.0\\nsamples = 1\\nvalue = [0, 1]'),\n",
              " Text(0.11864598664100533, 0.43103448275862066, 'gini = 0.0\\nsamples = 1\\nvalue = [0, 1]'),\n",
              " Text(0.1203180381262573, 0.46551724137931033, 'X[20] <= 0.5\\ngini = 0.231\\nsamples = 30\\nvalue = [26, 4]'),\n",
              " Text(0.11976068763117331, 0.43103448275862066, 'X[1] <= 178.0\\ngini = 0.185\\nsamples = 29\\nvalue = [26, 3]'),\n",
              " Text(0.11920333713608931, 0.39655172413793105, 'gini = 0.0\\nsamples = 16\\nvalue = [16, 0]'),\n",
              " Text(0.1203180381262573, 0.39655172413793105, 'X[1] <= 186.5\\ngini = 0.355\\nsamples = 13\\nvalue = [10, 3]'),\n",
              " Text(0.11976068763117331, 0.3620689655172414, 'X[2] <= 2.5\\ngini = 0.5\\nsamples = 6\\nvalue = [3, 3]'),\n",
              " Text(0.11920333713608931, 0.3275862068965517, 'X[13] <= 0.5\\ngini = 0.375\\nsamples = 4\\nvalue = [1, 3]'),\n",
              " Text(0.11864598664100533, 0.29310344827586204, 'gini = 0.0\\nsamples = 3\\nvalue = [0, 3]'),\n",
              " Text(0.11976068763117331, 0.29310344827586204, 'gini = 0.0\\nsamples = 1\\nvalue = [1, 0]'),\n",
              " Text(0.1203180381262573, 0.3275862068965517, 'gini = 0.0\\nsamples = 2\\nvalue = [2, 0]'),\n",
              " Text(0.1208753886213413, 0.3620689655172414, 'gini = 0.0\\nsamples = 7\\nvalue = [7, 0]'),\n",
              " Text(0.1208753886213413, 0.43103448275862066, 'gini = 0.0\\nsamples = 1\\nvalue = [0, 1]'),\n",
              " Text(0.1203180381262573, 0.5, 'gini = 0.0\\nsamples = 2\\nvalue = [0, 2]'),\n",
              " Text(0.12728491931480723, 0.5344827586206896, 'X[19] <= 0.5\\ngini = 0.153\\nsamples = 84\\nvalue = [77, 7]'),\n",
              " Text(0.12533419258201325, 0.5, 'X[0] <= 59.5\\ngini = 0.119\\nsamples = 79\\nvalue = [74, 5]'),\n",
              " Text(0.12310479060167728, 0.46551724137931033, 'X[21] <= 0.5\\ngini = 0.061\\nsamples = 63\\nvalue = [61, 2]'),\n",
              " Text(0.12199008961150928, 0.43103448275862066, 'X[36] <= 0.5\\ngini = 0.034\\nsamples = 57\\nvalue = [56, 1]'),\n",
              " Text(0.1214327391164253, 0.39655172413793105, 'gini = 0.0\\nsamples = 47\\nvalue = [47, 0]'),\n",
              " Text(0.12254744010659328, 0.39655172413793105, 'X[5] <= -1.4\\ngini = 0.18\\nsamples = 10\\nvalue = [9, 1]'),\n",
              " Text(0.12199008961150928, 0.3620689655172414, 'gini = 0.0\\nsamples = 7\\nvalue = [7, 0]'),\n",
              " Text(0.12310479060167728, 0.3620689655172414, 'X[37] <= 0.5\\ngini = 0.444\\nsamples = 3\\nvalue = [2, 1]'),\n",
              " Text(0.12254744010659328, 0.3275862068965517, 'gini = 0.0\\nsamples = 1\\nvalue = [0, 1]'),\n",
              " Text(0.12366214109676127, 0.3275862068965517, 'gini = 0.0\\nsamples = 2\\nvalue = [2, 0]'),\n",
              " Text(0.12421949159184527, 0.43103448275862066, 'X[8] <= 1.036\\ngini = 0.278\\nsamples = 6\\nvalue = [5, 1]'),\n",
              " Text(0.12366214109676127, 0.39655172413793105, 'gini = 0.0\\nsamples = 5\\nvalue = [5, 0]'),\n",
              " Text(0.12477684208692925, 0.39655172413793105, 'gini = 0.0\\nsamples = 1\\nvalue = [0, 1]'),\n",
              " Text(0.12756359456234923, 0.46551724137931033, 'X[4] <= 1.5\\ngini = 0.305\\nsamples = 16\\nvalue = [13, 3]'),\n",
              " Text(0.12644889357218125, 0.43103448275862066, 'X[1] <= 191.5\\ngini = 0.142\\nsamples = 13\\nvalue = [12, 1]'),\n",
              " Text(0.12589154307709724, 0.39655172413793105, 'gini = 0.0\\nsamples = 12\\nvalue = [12, 0]'),\n",
              " Text(0.12700624406726524, 0.39655172413793105, 'gini = 0.0\\nsamples = 1\\nvalue = [0, 1]'),\n",
              " Text(0.12867829555251722, 0.43103448275862066, 'X[7] <= -39.3\\ngini = 0.444\\nsamples = 3\\nvalue = [1, 2]'),\n",
              " Text(0.12812094505743324, 0.39655172413793105, 'gini = 0.0\\nsamples = 2\\nvalue = [0, 2]'),\n",
              " Text(0.1292356460476012, 0.39655172413793105, 'gini = 0.0\\nsamples = 1\\nvalue = [1, 0]'),\n",
              " Text(0.1292356460476012, 0.5, 'X[8] <= 0.764\\ngini = 0.48\\nsamples = 5\\nvalue = [3, 2]'),\n",
              " Text(0.12867829555251722, 0.46551724137931033, 'gini = 0.0\\nsamples = 2\\nvalue = [0, 2]'),\n",
              " Text(0.12979299654268522, 0.46551724137931033, 'gini = 0.0\\nsamples = 3\\nvalue = [3, 0]'),\n",
              " Text(0.1303503470377692, 0.5689655172413793, 'X[8] <= 0.826\\ngini = 0.5\\nsamples = 4\\nvalue = [2, 2]'),\n",
              " Text(0.12979299654268522, 0.5344827586206896, 'gini = 0.0\\nsamples = 1\\nvalue = [0, 1]'),\n",
              " Text(0.1309076975328532, 0.5344827586206896, 'X[1] <= 175.5\\ngini = 0.444\\nsamples = 3\\nvalue = [2, 1]'),\n",
              " Text(0.1303503470377692, 0.5, 'gini = 0.0\\nsamples = 1\\nvalue = [1, 0]'),\n",
              " Text(0.13146504802793718, 0.5, 'X[0] <= 47.0\\ngini = 0.5\\nsamples = 2\\nvalue = [1, 1]'),\n",
              " Text(0.1309076975328532, 0.46551724137931033, 'gini = 0.0\\nsamples = 1\\nvalue = [0, 1]'),\n",
              " Text(0.1320223985230212, 0.46551724137931033, 'gini = 0.0\\nsamples = 1\\nvalue = [1, 0]'),\n",
              " Text(0.1320223985230212, 0.603448275862069, 'X[1] <= 167.5\\ngini = 0.5\\nsamples = 4\\nvalue = [2, 2]'),\n",
              " Text(0.13146504802793718, 0.5689655172413793, 'gini = 0.0\\nsamples = 2\\nvalue = [0, 2]'),\n",
              " Text(0.13257974901810518, 0.5689655172413793, 'gini = 0.0\\nsamples = 2\\nvalue = [2, 0]'),\n",
              " Text(0.13059418787936844, 0.7068965517241379, 'X[0] <= 82.5\\ngini = 0.444\\nsamples = 6\\nvalue = [2, 4]'),\n",
              " Text(0.13003683738428445, 0.6724137931034483, 'gini = 0.0\\nsamples = 4\\nvalue = [0, 4]'),\n",
              " Text(0.13115153837445245, 0.6724137931034483, 'gini = 0.0\\nsamples = 2\\nvalue = [2, 0]'),\n",
              " Text(0.14424927500892631, 0.7413793103448276, 'X[0] <= 32.5\\ngini = 0.478\\nsamples = 165\\nvalue = [100, 65]'),\n",
              " Text(0.13731722822631914, 0.7068965517241379, 'X[1] <= 221.5\\ngini = 0.365\\nsamples = 50\\nvalue = [38, 12]'),\n",
              " Text(0.13592385198860915, 0.6724137931034483, 'X[8] <= 0.882\\ngini = 0.495\\nsamples = 20\\nvalue = [11, 9]'),\n",
              " Text(0.13480915099844115, 0.6379310344827587, 'X[22] <= 0.5\\ngini = 0.444\\nsamples = 9\\nvalue = [3, 6]'),\n",
              " Text(0.13425180050335717, 0.603448275862069, 'X[7] <= -28.35\\ngini = 0.375\\nsamples = 4\\nvalue = [3, 1]'),\n",
              " Text(0.13369445000827318, 0.5689655172413793, 'gini = 0.0\\nsamples = 3\\nvalue = [3, 0]'),\n",
              " Text(0.13480915099844115, 0.5689655172413793, 'gini = 0.0\\nsamples = 1\\nvalue = [0, 1]'),\n",
              " Text(0.13536650149352517, 0.603448275862069, 'gini = 0.0\\nsamples = 5\\nvalue = [0, 5]'),\n",
              " Text(0.13703855297877715, 0.6379310344827587, 'X[17] <= 0.5\\ngini = 0.397\\nsamples = 11\\nvalue = [8, 3]'),\n",
              " Text(0.13648120248369314, 0.603448275862069, 'X[8] <= 0.894\\ngini = 0.5\\nsamples = 6\\nvalue = [3, 3]'),\n",
              " Text(0.13592385198860915, 0.5689655172413793, 'gini = 0.0\\nsamples = 2\\nvalue = [2, 0]'),\n",
              " Text(0.13703855297877715, 0.5689655172413793, 'X[1] <= 205.0\\ngini = 0.375\\nsamples = 4\\nvalue = [1, 3]'),\n",
              " Text(0.13648120248369314, 0.5344827586206896, 'gini = 0.0\\nsamples = 2\\nvalue = [0, 2]'),\n",
              " Text(0.13759590347386114, 0.5344827586206896, 'X[8] <= 0.974\\ngini = 0.5\\nsamples = 2\\nvalue = [1, 1]'),\n",
              " Text(0.13703855297877715, 0.5, 'gini = 0.0\\nsamples = 1\\nvalue = [0, 1]'),\n",
              " Text(0.13815325396894512, 0.5, 'gini = 0.0\\nsamples = 1\\nvalue = [1, 0]'),\n",
              " Text(0.13759590347386114, 0.603448275862069, 'gini = 0.0\\nsamples = 5\\nvalue = [5, 0]'),\n",
              " Text(0.1387106044640291, 0.6724137931034483, 'X[8] <= 0.891\\ngini = 0.18\\nsamples = 30\\nvalue = [27, 3]'),\n",
              " Text(0.13815325396894512, 0.6379310344827587, 'gini = 0.0\\nsamples = 19\\nvalue = [19, 0]'),\n",
              " Text(0.13926795495911312, 0.6379310344827587, 'X[0] <= 25.5\\ngini = 0.397\\nsamples = 11\\nvalue = [8, 3]'),\n",
              " Text(0.1387106044640291, 0.603448275862069, 'gini = 0.0\\nsamples = 2\\nvalue = [0, 2]'),\n",
              " Text(0.1398253054541971, 0.603448275862069, 'X[8] <= 0.897\\ngini = 0.198\\nsamples = 9\\nvalue = [8, 1]'),\n",
              " Text(0.13926795495911312, 0.5689655172413793, 'gini = 0.0\\nsamples = 1\\nvalue = [0, 1]'),\n",
              " Text(0.1403826559492811, 0.5689655172413793, 'gini = 0.0\\nsamples = 8\\nvalue = [8, 0]'),\n",
              " Text(0.15118132179153349, 0.7068965517241379, 'X[1] <= 234.5\\ngini = 0.497\\nsamples = 115\\nvalue = [62, 53]'),\n",
              " Text(0.14665284901897604, 0.6724137931034483, 'X[8] <= 0.885\\ngini = 0.499\\nsamples = 85\\nvalue = [41, 44]'),\n",
              " Text(0.14344808367224307, 0.6379310344827587, 'X[8] <= 0.74\\ngini = 0.484\\nsamples = 68\\nvalue = [28, 40]'),\n",
              " Text(0.14205470743453308, 0.603448275862069, 'X[0] <= 66.5\\ngini = 0.278\\nsamples = 6\\nvalue = [5, 1]'),\n",
              " Text(0.1414973569394491, 0.5689655172413793, 'gini = 0.0\\nsamples = 5\\nvalue = [5, 0]'),\n",
              " Text(0.1426120579296171, 0.5689655172413793, 'gini = 0.0\\nsamples = 1\\nvalue = [0, 1]'),\n",
              " Text(0.14484145990995306, 0.603448275862069, 'X[13] <= 0.5\\ngini = 0.467\\nsamples = 62\\nvalue = [23, 39]'),\n",
              " Text(0.14372675891978506, 0.5689655172413793, 'X[0] <= 85.0\\ngini = 0.44\\nsamples = 55\\nvalue = [18, 37]'),\n",
              " Text(0.14316940842470108, 0.5344827586206896, 'X[1] <= 203.5\\ngini = 0.422\\nsamples = 53\\nvalue = [16, 37]'),\n",
              " Text(0.14177603218699109, 0.5, 'X[4] <= 0.5\\ngini = 0.444\\nsamples = 6\\nvalue = [4, 2]'),\n",
              " Text(0.1412186816919071, 0.46551724137931033, 'X[22] <= 0.5\\ngini = 0.444\\nsamples = 3\\nvalue = [1, 2]'),\n",
              " Text(0.14066133119682311, 0.43103448275862066, 'gini = 0.0\\nsamples = 2\\nvalue = [0, 2]'),\n",
              " Text(0.14177603218699109, 0.43103448275862066, 'gini = 0.0\\nsamples = 1\\nvalue = [1, 0]'),\n",
              " Text(0.1423333826820751, 0.46551724137931033, 'gini = 0.0\\nsamples = 3\\nvalue = [3, 0]'),\n",
              " Text(0.14456278466241107, 0.5, 'X[21] <= 0.5\\ngini = 0.38\\nsamples = 47\\nvalue = [12, 35]'),\n",
              " Text(0.14344808367224307, 0.46551724137931033, 'X[0] <= 69.5\\ngini = 0.337\\nsamples = 42\\nvalue = [9, 33]'),\n",
              " Text(0.14289073317715908, 0.43103448275862066, 'X[0] <= 63.0\\ngini = 0.397\\nsamples = 33\\nvalue = [9, 24]'),\n",
              " Text(0.1423333826820751, 0.39655172413793105, 'X[4] <= 1.5\\ngini = 0.35\\nsamples = 31\\nvalue = [7, 24]'),\n",
              " Text(0.14177603218699109, 0.3620689655172414, 'X[1] <= 226.0\\ngini = 0.32\\nsamples = 30\\nvalue = [6, 24]'),\n",
              " Text(0.1403826559492811, 0.3275862068965517, 'X[0] <= 45.5\\ngini = 0.227\\nsamples = 23\\nvalue = [3, 20]'),\n",
              " Text(0.13926795495911312, 0.29310344827586204, 'X[2] <= 3.5\\ngini = 0.111\\nsamples = 17\\nvalue = [1, 16]'),\n",
              " Text(0.1387106044640291, 0.25862068965517243, 'gini = 0.0\\nsamples = 16\\nvalue = [0, 16]'),\n",
              " Text(0.1398253054541971, 0.25862068965517243, 'gini = 0.0\\nsamples = 1\\nvalue = [1, 0]'),\n",
              " Text(0.1414973569394491, 0.29310344827586204, 'X[0] <= 57.0\\ngini = 0.444\\nsamples = 6\\nvalue = [2, 4]'),\n",
              " Text(0.1409400064443651, 0.25862068965517243, 'X[36] <= 0.5\\ngini = 0.444\\nsamples = 3\\nvalue = [2, 1]'),\n",
              " Text(0.1403826559492811, 0.22413793103448276, 'gini = 0.0\\nsamples = 2\\nvalue = [2, 0]'),\n",
              " Text(0.1414973569394491, 0.22413793103448276, 'gini = 0.0\\nsamples = 1\\nvalue = [0, 1]'),\n",
              " Text(0.14205470743453308, 0.25862068965517243, 'gini = 0.0\\nsamples = 3\\nvalue = [0, 3]'),\n",
              " Text(0.14316940842470108, 0.3275862068965517, 'X[1] <= 229.0\\ngini = 0.49\\nsamples = 7\\nvalue = [3, 4]'),\n",
              " Text(0.1426120579296171, 0.29310344827586204, 'gini = 0.0\\nsamples = 2\\nvalue = [2, 0]'),\n",
              " Text(0.14372675891978506, 0.29310344827586204, 'X[0] <= 33.5\\ngini = 0.32\\nsamples = 5\\nvalue = [1, 4]'),\n",
              " Text(0.14316940842470108, 0.25862068965517243, 'gini = 0.0\\nsamples = 1\\nvalue = [1, 0]'),\n",
              " Text(0.14428410941486908, 0.25862068965517243, 'gini = 0.0\\nsamples = 4\\nvalue = [0, 4]'),\n",
              " Text(0.14289073317715908, 0.3620689655172414, 'gini = 0.0\\nsamples = 1\\nvalue = [1, 0]'),\n",
              " Text(0.14344808367224307, 0.39655172413793105, 'gini = 0.0\\nsamples = 2\\nvalue = [2, 0]'),\n",
              " Text(0.14400543416732706, 0.43103448275862066, 'gini = 0.0\\nsamples = 9\\nvalue = [0, 9]'),\n",
              " Text(0.14567748565257904, 0.46551724137931033, 'X[1] <= 211.0\\ngini = 0.48\\nsamples = 5\\nvalue = [3, 2]'),\n",
              " Text(0.14512013515749506, 0.43103448275862066, 'gini = 0.0\\nsamples = 2\\nvalue = [0, 2]'),\n",
              " Text(0.14623483614766306, 0.43103448275862066, 'gini = 0.0\\nsamples = 3\\nvalue = [3, 0]'),\n",
              " Text(0.14428410941486908, 0.5344827586206896, 'gini = 0.0\\nsamples = 2\\nvalue = [2, 0]'),\n",
              " Text(0.14595616090012106, 0.5689655172413793, 'X[2] <= 2.5\\ngini = 0.408\\nsamples = 7\\nvalue = [5, 2]'),\n",
              " Text(0.14539881040503705, 0.5344827586206896, 'gini = 0.0\\nsamples = 5\\nvalue = [5, 0]'),\n",
              " Text(0.14651351139520505, 0.5344827586206896, 'gini = 0.0\\nsamples = 2\\nvalue = [0, 2]'),\n",
              " Text(0.14985761436570902, 0.6379310344827587, 'X[37] <= 0.5\\ngini = 0.36\\nsamples = 17\\nvalue = [13, 4]'),\n",
              " Text(0.149300263870625, 0.603448275862069, 'X[0] <= 55.0\\ngini = 0.48\\nsamples = 10\\nvalue = [6, 4]'),\n",
              " Text(0.14818556288045703, 0.5689655172413793, 'X[1] <= 225.5\\ngini = 0.32\\nsamples = 5\\nvalue = [4, 1]'),\n",
              " Text(0.14762821238537302, 0.5344827586206896, 'gini = 0.0\\nsamples = 4\\nvalue = [4, 0]'),\n",
              " Text(0.14874291337554102, 0.5344827586206896, 'gini = 0.0\\nsamples = 1\\nvalue = [0, 1]'),\n",
              " Text(0.150414964860793, 0.5689655172413793, 'X[1] <= 220.0\\ngini = 0.48\\nsamples = 5\\nvalue = [2, 3]'),\n",
              " Text(0.14985761436570902, 0.5344827586206896, 'gini = 0.0\\nsamples = 2\\nvalue = [0, 2]'),\n",
              " Text(0.150972315355877, 0.5344827586206896, 'X[2] <= 1.5\\ngini = 0.444\\nsamples = 3\\nvalue = [2, 1]'),\n",
              " Text(0.150414964860793, 0.5, 'gini = 0.0\\nsamples = 2\\nvalue = [2, 0]'),\n",
              " Text(0.151529665850961, 0.5, 'gini = 0.0\\nsamples = 1\\nvalue = [0, 1]'),\n",
              " Text(0.150414964860793, 0.603448275862069, 'gini = 0.0\\nsamples = 7\\nvalue = [7, 0]'),\n",
              " Text(0.15570979456409095, 0.6724137931034483, 'X[8] <= 0.9\\ngini = 0.42\\nsamples = 30\\nvalue = [21, 9]'),\n",
              " Text(0.15431641832638096, 0.6379310344827587, 'X[0] <= 73.5\\ngini = 0.266\\nsamples = 19\\nvalue = [16, 3]'),\n",
              " Text(0.153201717336213, 0.603448275862069, 'X[1] <= 239.0\\ngini = 0.124\\nsamples = 15\\nvalue = [14, 1]'),\n",
              " Text(0.15264436684112898, 0.5689655172413793, 'X[4] <= 0.5\\ngini = 0.444\\nsamples = 3\\nvalue = [2, 1]'),\n",
              " Text(0.152087016346045, 0.5344827586206896, 'gini = 0.0\\nsamples = 1\\nvalue = [0, 1]'),\n",
              " Text(0.153201717336213, 0.5344827586206896, 'gini = 0.0\\nsamples = 2\\nvalue = [2, 0]'),\n",
              " Text(0.15375906783129697, 0.5689655172413793, 'gini = 0.0\\nsamples = 12\\nvalue = [12, 0]'),\n",
              " Text(0.15543111931654896, 0.603448275862069, 'X[5] <= -2.0\\ngini = 0.5\\nsamples = 4\\nvalue = [2, 2]'),\n",
              " Text(0.15487376882146497, 0.5689655172413793, 'X[4] <= 0.5\\ngini = 0.444\\nsamples = 3\\nvalue = [1, 2]'),\n",
              " Text(0.15431641832638096, 0.5344827586206896, 'gini = 0.0\\nsamples = 1\\nvalue = [1, 0]'),\n",
              " Text(0.15543111931654896, 0.5344827586206896, 'gini = 0.0\\nsamples = 2\\nvalue = [0, 2]'),\n",
              " Text(0.15598846981163295, 0.5689655172413793, 'gini = 0.0\\nsamples = 1\\nvalue = [1, 0]'),\n",
              " Text(0.15710317080180095, 0.6379310344827587, 'X[8] <= 0.946\\ngini = 0.496\\nsamples = 11\\nvalue = [5, 6]'),\n",
              " Text(0.15654582030671693, 0.603448275862069, 'gini = 0.0\\nsamples = 4\\nvalue = [0, 4]'),\n",
              " Text(0.15766052129688493, 0.603448275862069, 'X[13] <= 0.5\\ngini = 0.408\\nsamples = 7\\nvalue = [5, 2]'),\n",
              " Text(0.15710317080180095, 0.5689655172413793, 'X[10] <= 0.5\\ngini = 0.278\\nsamples = 6\\nvalue = [5, 1]'),\n",
              " Text(0.15654582030671693, 0.5344827586206896, 'gini = 0.0\\nsamples = 5\\nvalue = [5, 0]'),\n",
              " Text(0.15766052129688493, 0.5344827586206896, 'gini = 0.0\\nsamples = 1\\nvalue = [0, 1]'),\n",
              " Text(0.15821787179196892, 0.5689655172413793, 'gini = 0.0\\nsamples = 1\\nvalue = [0, 1]'),\n",
              " Text(0.16518475298051885, 0.7758620689655172, 'X[1] <= 166.5\\ngini = 0.495\\nsamples = 105\\nvalue = [58, 47]'),\n",
              " Text(0.16295535100018288, 0.7413793103448276, 'X[4] <= 0.5\\ngini = 0.391\\nsamples = 15\\nvalue = [4, 11]'),\n",
              " Text(0.16184065001001488, 0.7068965517241379, 'X[0] <= 54.0\\ngini = 0.18\\nsamples = 10\\nvalue = [1, 9]'),\n",
              " Text(0.1612832995149309, 0.6724137931034483, 'gini = 0.0\\nsamples = 7\\nvalue = [0, 7]'),\n",
              " Text(0.1623980005050989, 0.6724137931034483, 'X[1] <= 161.5\\ngini = 0.444\\nsamples = 3\\nvalue = [1, 2]'),\n",
              " Text(0.16184065001001488, 0.6379310344827587, 'gini = 0.0\\nsamples = 1\\nvalue = [1, 0]'),\n",
              " Text(0.16295535100018288, 0.6379310344827587, 'gini = 0.0\\nsamples = 2\\nvalue = [0, 2]'),\n",
              " Text(0.16407005199035088, 0.7068965517241379, 'X[18] <= 0.5\\ngini = 0.48\\nsamples = 5\\nvalue = [3, 2]'),\n",
              " Text(0.16351270149526687, 0.6724137931034483, 'gini = 0.0\\nsamples = 3\\nvalue = [3, 0]'),\n",
              " Text(0.16462740248543486, 0.6724137931034483, 'gini = 0.0\\nsamples = 2\\nvalue = [0, 2]'),\n",
              " Text(0.16741415496085485, 0.7413793103448276, 'X[30] <= 0.5\\ngini = 0.48\\nsamples = 90\\nvalue = [54, 36]'),\n",
              " Text(0.16629945397068685, 0.7068965517241379, 'X[0] <= 55.5\\ngini = 0.469\\nsamples = 85\\nvalue = [53, 32]'),\n",
              " Text(0.16574210347560286, 0.6724137931034483, 'X[2] <= 3.5\\ngini = 0.482\\nsamples = 79\\nvalue = [47, 32]'),\n",
              " Text(0.16518475298051885, 0.6379310344827587, 'X[22] <= 0.5\\ngini = 0.472\\nsamples = 76\\nvalue = [47, 29]'),\n",
              " Text(0.1621193252575569, 0.603448275862069, 'X[1] <= 207.5\\ngini = 0.5\\nsamples = 37\\nvalue = [19, 18]'),\n",
              " Text(0.16044727377230492, 0.5689655172413793, 'X[1] <= 179.0\\ngini = 0.465\\nsamples = 19\\nvalue = [7, 12]'),\n",
              " Text(0.15877522228705293, 0.5344827586206896, 'X[0] <= 39.5\\ngini = 0.444\\nsamples = 6\\nvalue = [4, 2]'),\n",
              " Text(0.15821787179196892, 0.5, 'gini = 0.0\\nsamples = 3\\nvalue = [3, 0]'),\n",
              " Text(0.15933257278213692, 0.5, 'X[2] <= 2.5\\ngini = 0.444\\nsamples = 3\\nvalue = [1, 2]'),\n",
              " Text(0.15877522228705293, 0.46551724137931033, 'gini = 0.0\\nsamples = 2\\nvalue = [0, 2]'),\n",
              " Text(0.1598899232772209, 0.46551724137931033, 'gini = 0.0\\nsamples = 1\\nvalue = [1, 0]'),\n",
              " Text(0.1621193252575569, 0.5344827586206896, 'X[19] <= 0.5\\ngini = 0.355\\nsamples = 13\\nvalue = [3, 10]'),\n",
              " Text(0.1615619747624729, 0.5, 'X[29] <= 0.5\\ngini = 0.278\\nsamples = 12\\nvalue = [2, 10]'),\n",
              " Text(0.1610046242673889, 0.46551724137931033, 'X[0] <= 30.5\\ngini = 0.165\\nsamples = 11\\nvalue = [1, 10]'),\n",
              " Text(0.16044727377230492, 0.43103448275862066, 'X[0] <= 29.5\\ngini = 0.444\\nsamples = 3\\nvalue = [1, 2]'),\n",
              " Text(0.1598899232772209, 0.39655172413793105, 'gini = 0.0\\nsamples = 2\\nvalue = [0, 2]'),\n",
              " Text(0.1610046242673889, 0.39655172413793105, 'gini = 0.0\\nsamples = 1\\nvalue = [1, 0]'),\n",
              " Text(0.1615619747624729, 0.43103448275862066, 'gini = 0.0\\nsamples = 8\\nvalue = [0, 8]'),\n",
              " Text(0.1621193252575569, 0.46551724137931033, 'gini = 0.0\\nsamples = 1\\nvalue = [1, 0]'),\n",
              " Text(0.1626766757526409, 0.5, 'gini = 0.0\\nsamples = 1\\nvalue = [1, 0]'),\n",
              " Text(0.16379137674280886, 0.5689655172413793, 'X[2] <= 1.5\\ngini = 0.444\\nsamples = 18\\nvalue = [12, 6]'),\n",
              " Text(0.16323402624772487, 0.5344827586206896, 'gini = 0.0\\nsamples = 9\\nvalue = [9, 0]'),\n",
              " Text(0.16434872723789287, 0.5344827586206896, 'X[8] <= 1.267\\ngini = 0.444\\nsamples = 9\\nvalue = [3, 6]'),\n",
              " Text(0.16379137674280886, 0.5, 'X[0] <= 43.0\\ngini = 0.245\\nsamples = 7\\nvalue = [1, 6]'),\n",
              " Text(0.16323402624772487, 0.46551724137931033, 'X[0] <= 36.5\\ngini = 0.5\\nsamples = 2\\nvalue = [1, 1]'),\n",
              " Text(0.1626766757526409, 0.43103448275862066, 'gini = 0.0\\nsamples = 1\\nvalue = [0, 1]'),\n",
              " Text(0.16379137674280886, 0.43103448275862066, 'gini = 0.0\\nsamples = 1\\nvalue = [1, 0]'),\n",
              " Text(0.16434872723789287, 0.46551724137931033, 'gini = 0.0\\nsamples = 5\\nvalue = [0, 5]'),\n",
              " Text(0.16490607773297686, 0.5, 'gini = 0.0\\nsamples = 2\\nvalue = [2, 0]'),\n",
              " Text(0.16825018070348083, 0.603448275862069, 'X[8] <= 1.261\\ngini = 0.405\\nsamples = 39\\nvalue = [28, 11]'),\n",
              " Text(0.16713547971331283, 0.5689655172413793, 'X[1] <= 221.0\\ngini = 0.483\\nsamples = 22\\nvalue = [13, 9]'),\n",
              " Text(0.16657812921822884, 0.5344827586206896, 'X[36] <= 0.5\\ngini = 0.499\\nsamples = 19\\nvalue = [10, 9]'),\n",
              " Text(0.16602077872314486, 0.5, 'X[1] <= 171.5\\ngini = 0.492\\nsamples = 16\\nvalue = [7, 9]'),\n",
              " Text(0.16546342822806084, 0.46551724137931033, 'gini = 0.0\\nsamples = 2\\nvalue = [2, 0]'),\n",
              " Text(0.16657812921822884, 0.46551724137931033, 'X[29] <= 0.5\\ngini = 0.459\\nsamples = 14\\nvalue = [5, 9]'),\n",
              " Text(0.16546342822806084, 0.43103448275862066, 'X[34] <= 0.5\\ngini = 0.32\\nsamples = 10\\nvalue = [2, 8]'),\n",
              " Text(0.16490607773297686, 0.39655172413793105, 'gini = 0.0\\nsamples = 5\\nvalue = [0, 5]'),\n",
              " Text(0.16602077872314486, 0.39655172413793105, 'X[0] <= 28.0\\ngini = 0.48\\nsamples = 5\\nvalue = [2, 3]'),\n",
              " Text(0.16546342822806084, 0.3620689655172414, 'X[16] <= 0.5\\ngini = 0.444\\nsamples = 3\\nvalue = [2, 1]'),\n",
              " Text(0.16490607773297686, 0.3275862068965517, 'gini = 0.0\\nsamples = 2\\nvalue = [2, 0]'),\n",
              " Text(0.16602077872314486, 0.3275862068965517, 'gini = 0.0\\nsamples = 1\\nvalue = [0, 1]'),\n",
              " Text(0.16657812921822884, 0.3620689655172414, 'gini = 0.0\\nsamples = 2\\nvalue = [0, 2]'),\n",
              " Text(0.16769283020839684, 0.43103448275862066, 'X[1] <= 208.0\\ngini = 0.375\\nsamples = 4\\nvalue = [3, 1]'),\n",
              " Text(0.16713547971331283, 0.39655172413793105, 'gini = 0.0\\nsamples = 3\\nvalue = [3, 0]'),\n",
              " Text(0.16825018070348083, 0.39655172413793105, 'gini = 0.0\\nsamples = 1\\nvalue = [0, 1]'),\n",
              " Text(0.16713547971331283, 0.5, 'gini = 0.0\\nsamples = 3\\nvalue = [3, 0]'),\n",
              " Text(0.16769283020839684, 0.5344827586206896, 'gini = 0.0\\nsamples = 3\\nvalue = [3, 0]'),\n",
              " Text(0.16936488169364883, 0.5689655172413793, 'X[1] <= 231.0\\ngini = 0.208\\nsamples = 17\\nvalue = [15, 2]'),\n",
              " Text(0.16880753119856481, 0.5344827586206896, 'X[0] <= 22.5\\ngini = 0.117\\nsamples = 16\\nvalue = [15, 1]'),\n",
              " Text(0.16825018070348083, 0.5, 'gini = 0.0\\nsamples = 1\\nvalue = [0, 1]'),\n",
              " Text(0.16936488169364883, 0.5, 'gini = 0.0\\nsamples = 15\\nvalue = [15, 0]'),\n",
              " Text(0.1699222321887328, 0.5344827586206896, 'gini = 0.0\\nsamples = 1\\nvalue = [0, 1]'),\n",
              " Text(0.16629945397068685, 0.6379310344827587, 'gini = 0.0\\nsamples = 3\\nvalue = [0, 3]'),\n",
              " Text(0.16685680446577084, 0.6724137931034483, 'gini = 0.0\\nsamples = 6\\nvalue = [6, 0]'),\n",
              " Text(0.16852885595102282, 0.7068965517241379, 'X[21] <= 0.5\\ngini = 0.32\\nsamples = 5\\nvalue = [1, 4]'),\n",
              " Text(0.16797150545593884, 0.6724137931034483, 'gini = 0.0\\nsamples = 4\\nvalue = [0, 4]'),\n",
              " Text(0.1690862064461068, 0.6724137931034483, 'gini = 0.0\\nsamples = 1\\nvalue = [1, 0]'),\n",
              " Text(0.22478677873729633, 0.8448275862068966, 'X[6] <= 92.405\\ngini = 0.476\\nsamples = 1060\\nvalue = [413, 647]'),\n",
              " Text(0.188332215729476, 0.8103448275862069, 'X[1] <= 373.5\\ngini = 0.499\\nsamples = 217\\nvalue = [112, 105]'),\n",
              " Text(0.17957136263487447, 0.7758620689655172, 'X[1] <= 359.0\\ngini = 0.476\\nsamples = 105\\nvalue = [64, 41]'),\n",
              " Text(0.17901401213979048, 0.7413793103448276, 'X[0] <= 51.5\\ngini = 0.492\\nsamples = 94\\nvalue = [53, 41]'),\n",
              " Text(0.17570474357522925, 0.7068965517241379, 'X[1] <= 266.5\\ngini = 0.5\\nsamples = 68\\nvalue = [34, 34]'),\n",
              " Text(0.17270898466415277, 0.6724137931034483, 'X[0] <= 31.5\\ngini = 0.36\\nsamples = 17\\nvalue = [13, 4]'),\n",
              " Text(0.1715942836739848, 0.6379310344827587, 'X[34] <= 0.5\\ngini = 0.48\\nsamples = 5\\nvalue = [2, 3]'),\n",
              " Text(0.1710369331789008, 0.603448275862069, 'X[8] <= 0.879\\ngini = 0.444\\nsamples = 3\\nvalue = [2, 1]'),\n",
              " Text(0.1704795826838168, 0.5689655172413793, 'gini = 0.0\\nsamples = 2\\nvalue = [2, 0]'),\n",
              " Text(0.1715942836739848, 0.5689655172413793, 'gini = 0.0\\nsamples = 1\\nvalue = [0, 1]'),\n",
              " Text(0.17215163416906878, 0.603448275862069, 'gini = 0.0\\nsamples = 2\\nvalue = [0, 2]'),\n",
              " Text(0.17382368565432077, 0.6379310344827587, 'X[0] <= 43.5\\ngini = 0.153\\nsamples = 12\\nvalue = [11, 1]'),\n",
              " Text(0.17326633515923678, 0.603448275862069, 'gini = 0.0\\nsamples = 8\\nvalue = [8, 0]'),\n",
              " Text(0.17438103614940476, 0.603448275862069, 'X[0] <= 44.5\\ngini = 0.375\\nsamples = 4\\nvalue = [3, 1]'),\n",
              " Text(0.17382368565432077, 0.5689655172413793, 'gini = 0.0\\nsamples = 1\\nvalue = [0, 1]'),\n",
              " Text(0.17493838664448877, 0.5689655172413793, 'gini = 0.0\\nsamples = 3\\nvalue = [3, 0]'),\n",
              " Text(0.17870050248630573, 0.6724137931034483, 'X[29] <= 0.5\\ngini = 0.484\\nsamples = 51\\nvalue = [21, 30]'),\n",
              " Text(0.17814315199122174, 0.6379310344827587, 'X[21] <= 0.5\\ngini = 0.496\\nsamples = 46\\nvalue = [21, 25]'),\n",
              " Text(0.17758580149613773, 0.603448275862069, 'X[1] <= 331.5\\ngini = 0.5\\nsamples = 43\\nvalue = [21, 22]'),\n",
              " Text(0.17605308763465674, 0.5689655172413793, 'X[1] <= 294.5\\ngini = 0.483\\nsamples = 27\\nvalue = [16, 11]'),\n",
              " Text(0.17465971139694678, 0.5344827586206896, 'X[8] <= 0.837\\ngini = 0.49\\nsamples = 14\\nvalue = [6, 8]'),\n",
              " Text(0.17354501040677878, 0.5, 'X[0] <= 46.5\\ngini = 0.32\\nsamples = 5\\nvalue = [4, 1]'),\n",
              " Text(0.1729876599116948, 0.46551724137931033, 'gini = 0.0\\nsamples = 4\\nvalue = [4, 0]'),\n",
              " Text(0.17410236090186276, 0.46551724137931033, 'gini = 0.0\\nsamples = 1\\nvalue = [0, 1]'),\n",
              " Text(0.17577441238711475, 0.5, 'X[19] <= 0.5\\ngini = 0.346\\nsamples = 9\\nvalue = [2, 7]'),\n",
              " Text(0.17521706189203076, 0.46551724137931033, 'X[1] <= 275.5\\ngini = 0.219\\nsamples = 8\\nvalue = [1, 7]'),\n",
              " Text(0.17465971139694678, 0.43103448275862066, 'X[8] <= 0.877\\ngini = 0.5\\nsamples = 2\\nvalue = [1, 1]'),\n",
              " Text(0.17410236090186276, 0.39655172413793105, 'gini = 0.0\\nsamples = 1\\nvalue = [1, 0]'),\n",
              " Text(0.17521706189203076, 0.39655172413793105, 'gini = 0.0\\nsamples = 1\\nvalue = [0, 1]'),\n",
              " Text(0.17577441238711475, 0.43103448275862066, 'gini = 0.0\\nsamples = 6\\nvalue = [0, 6]'),\n",
              " Text(0.17633176288219876, 0.46551724137931033, 'gini = 0.0\\nsamples = 1\\nvalue = [1, 0]'),\n",
              " Text(0.17744646387236673, 0.5344827586206896, 'X[0] <= 35.5\\ngini = 0.355\\nsamples = 13\\nvalue = [10, 3]'),\n",
              " Text(0.17688911337728275, 0.5, 'gini = 0.0\\nsamples = 7\\nvalue = [7, 0]'),\n",
              " Text(0.17800381436745072, 0.5, 'X[27] <= 0.5\\ngini = 0.5\\nsamples = 6\\nvalue = [3, 3]'),\n",
              " Text(0.17744646387236673, 0.46551724137931033, 'X[1] <= 319.0\\ngini = 0.375\\nsamples = 4\\nvalue = [1, 3]'),\n",
              " Text(0.17688911337728275, 0.43103448275862066, 'gini = 0.0\\nsamples = 1\\nvalue = [1, 0]'),\n",
              " Text(0.17800381436745072, 0.43103448275862066, 'gini = 0.0\\nsamples = 3\\nvalue = [0, 3]'),\n",
              " Text(0.17856116486253473, 0.46551724137931033, 'gini = 0.0\\nsamples = 2\\nvalue = [2, 0]'),\n",
              " Text(0.17911851535761872, 0.5689655172413793, 'X[8] <= 0.777\\ngini = 0.43\\nsamples = 16\\nvalue = [5, 11]'),\n",
              " Text(0.17856116486253473, 0.5344827586206896, 'gini = 0.0\\nsamples = 2\\nvalue = [2, 0]'),\n",
              " Text(0.1796758658527027, 0.5344827586206896, 'X[2] <= 1.5\\ngini = 0.337\\nsamples = 14\\nvalue = [3, 11]'),\n",
              " Text(0.17911851535761872, 0.5, 'gini = 0.0\\nsamples = 8\\nvalue = [0, 8]'),\n",
              " Text(0.18023321634778672, 0.5, 'X[34] <= 0.5\\ngini = 0.5\\nsamples = 6\\nvalue = [3, 3]'),\n",
              " Text(0.1796758658527027, 0.46551724137931033, 'gini = 0.0\\nsamples = 3\\nvalue = [3, 0]'),\n",
              " Text(0.1807905668428707, 0.46551724137931033, 'gini = 0.0\\nsamples = 3\\nvalue = [0, 3]'),\n",
              " Text(0.17870050248630573, 0.603448275862069, 'gini = 0.0\\nsamples = 3\\nvalue = [0, 3]'),\n",
              " Text(0.17925785298138971, 0.6379310344827587, 'gini = 0.0\\nsamples = 5\\nvalue = [0, 5]'),\n",
              " Text(0.1823232807043517, 0.7068965517241379, 'X[13] <= 0.5\\ngini = 0.393\\nsamples = 26\\nvalue = [19, 7]'),\n",
              " Text(0.1817659302092677, 0.6724137931034483, 'X[1] <= 267.5\\ngini = 0.365\\nsamples = 25\\nvalue = [19, 6]'),\n",
              " Text(0.18037255397155771, 0.6379310344827587, 'X[14] <= 0.5\\ngini = 0.444\\nsamples = 3\\nvalue = [1, 2]'),\n",
              " Text(0.1798152034764737, 0.603448275862069, 'gini = 0.0\\nsamples = 1\\nvalue = [1, 0]'),\n",
              " Text(0.1809299044666417, 0.603448275862069, 'gini = 0.0\\nsamples = 2\\nvalue = [0, 2]'),\n",
              " Text(0.18315930644697767, 0.6379310344827587, 'X[27] <= 0.5\\ngini = 0.298\\nsamples = 22\\nvalue = [18, 4]'),\n",
              " Text(0.1820446054568097, 0.603448275862069, 'X[0] <= 78.0\\ngini = 0.188\\nsamples = 19\\nvalue = [17, 2]'),\n",
              " Text(0.18148725496172569, 0.5689655172413793, 'X[1] <= 344.0\\ngini = 0.105\\nsamples = 18\\nvalue = [17, 1]'),\n",
              " Text(0.1809299044666417, 0.5344827586206896, 'gini = 0.0\\nsamples = 16\\nvalue = [16, 0]'),\n",
              " Text(0.1820446054568097, 0.5344827586206896, 'X[24] <= 0.5\\ngini = 0.5\\nsamples = 2\\nvalue = [1, 1]'),\n",
              " Text(0.18148725496172569, 0.5, 'gini = 0.0\\nsamples = 1\\nvalue = [1, 0]'),\n",
              " Text(0.18260195595189369, 0.5, 'gini = 0.0\\nsamples = 1\\nvalue = [0, 1]'),\n",
              " Text(0.18260195595189369, 0.5689655172413793, 'gini = 0.0\\nsamples = 1\\nvalue = [0, 1]'),\n",
              " Text(0.18427400743714567, 0.603448275862069, 'X[6] <= 92.29\\ngini = 0.444\\nsamples = 3\\nvalue = [1, 2]'),\n",
              " Text(0.18371665694206168, 0.5689655172413793, 'gini = 0.0\\nsamples = 2\\nvalue = [0, 2]'),\n",
              " Text(0.18483135793222966, 0.5689655172413793, 'gini = 0.0\\nsamples = 1\\nvalue = [1, 0]'),\n",
              " Text(0.18288063119943568, 0.6724137931034483, 'gini = 0.0\\nsamples = 1\\nvalue = [0, 1]'),\n",
              " Text(0.18012871312995846, 0.7413793103448276, 'gini = 0.0\\nsamples = 11\\nvalue = [11, 0]'),\n",
              " Text(0.19709306882407754, 0.7758620689655172, 'X[27] <= 0.5\\ngini = 0.49\\nsamples = 112\\nvalue = [48, 64]'),\n",
              " Text(0.19430631634865758, 0.7413793103448276, 'X[26] <= 0.5\\ngini = 0.5\\nsamples = 85\\nvalue = [42, 43]'),\n",
              " Text(0.1915195638732376, 0.7068965517241379, 'X[22] <= 0.5\\ngini = 0.498\\nsamples = 77\\nvalue = [41, 36]'),\n",
              " Text(0.18761811040764964, 0.6724137931034483, 'X[8] <= 0.769\\ngini = 0.496\\nsamples = 57\\nvalue = [26, 31]'),\n",
              " Text(0.18594605892239766, 0.6379310344827587, 'X[0] <= 65.5\\ngini = 0.278\\nsamples = 6\\nvalue = [5, 1]'),\n",
              " Text(0.18538870842731367, 0.603448275862069, 'gini = 0.0\\nsamples = 4\\nvalue = [4, 0]'),\n",
              " Text(0.18650340941748164, 0.603448275862069, 'X[34] <= 0.5\\ngini = 0.5\\nsamples = 2\\nvalue = [1, 1]'),\n",
              " Text(0.18594605892239766, 0.5689655172413793, 'gini = 0.0\\nsamples = 1\\nvalue = [1, 0]'),\n",
              " Text(0.18706075991256563, 0.5689655172413793, 'gini = 0.0\\nsamples = 1\\nvalue = [0, 1]'),\n",
              " Text(0.18929016189290163, 0.6379310344827587, 'X[21] <= 0.5\\ngini = 0.484\\nsamples = 51\\nvalue = [21, 30]'),\n",
              " Text(0.1887328113978176, 0.603448275862069, 'X[0] <= 82.0\\ngini = 0.469\\nsamples = 48\\nvalue = [18, 30]'),\n",
              " Text(0.18817546090273363, 0.5689655172413793, 'X[0] <= 40.5\\ngini = 0.454\\nsamples = 46\\nvalue = [16, 30]'),\n",
              " Text(0.18594605892239766, 0.5344827586206896, 'X[8] <= 0.86\\ngini = 0.498\\nsamples = 15\\nvalue = [8, 7]'),\n",
              " Text(0.18483135793222966, 0.5, 'X[0] <= 29.0\\ngini = 0.245\\nsamples = 7\\nvalue = [1, 6]'),\n",
              " Text(0.18427400743714567, 0.46551724137931033, 'gini = 0.0\\nsamples = 1\\nvalue = [1, 0]'),\n",
              " Text(0.18538870842731367, 0.46551724137931033, 'gini = 0.0\\nsamples = 6\\nvalue = [0, 6]'),\n",
              " Text(0.18706075991256563, 0.5, 'X[2] <= 2.5\\ngini = 0.219\\nsamples = 8\\nvalue = [7, 1]'),\n",
              " Text(0.18650340941748164, 0.46551724137931033, 'gini = 0.0\\nsamples = 7\\nvalue = [7, 0]'),\n",
              " Text(0.18761811040764964, 0.46551724137931033, 'gini = 0.0\\nsamples = 1\\nvalue = [0, 1]'),\n",
              " Text(0.1904048628830696, 0.5344827586206896, 'X[2] <= 2.5\\ngini = 0.383\\nsamples = 31\\nvalue = [8, 23]'),\n",
              " Text(0.18929016189290163, 0.5, 'X[1] <= 2008.5\\ngini = 0.311\\nsamples = 26\\nvalue = [5, 21]'),\n",
              " Text(0.1887328113978176, 0.46551724137931033, 'X[24] <= 0.5\\ngini = 0.269\\nsamples = 25\\nvalue = [4, 21]'),\n",
              " Text(0.18817546090273363, 0.43103448275862066, 'X[1] <= 384.5\\ngini = 0.36\\nsamples = 17\\nvalue = [4, 13]'),\n",
              " Text(0.18761811040764964, 0.39655172413793105, 'gini = 0.0\\nsamples = 1\\nvalue = [1, 0]'),\n",
              " Text(0.1887328113978176, 0.39655172413793105, 'X[8] <= 0.789\\ngini = 0.305\\nsamples = 16\\nvalue = [3, 13]'),\n",
              " Text(0.18817546090273363, 0.3620689655172414, 'gini = 0.0\\nsamples = 1\\nvalue = [1, 0]'),\n",
              " Text(0.18929016189290163, 0.3620689655172414, 'X[1] <= 551.0\\ngini = 0.231\\nsamples = 15\\nvalue = [2, 13]'),\n",
              " Text(0.1887328113978176, 0.3275862068965517, 'X[1] <= 480.5\\ngini = 0.444\\nsamples = 6\\nvalue = [2, 4]'),\n",
              " Text(0.18817546090273363, 0.29310344827586204, 'gini = 0.0\\nsamples = 3\\nvalue = [0, 3]'),\n",
              " Text(0.18929016189290163, 0.29310344827586204, 'X[6] <= 92.29\\ngini = 0.444\\nsamples = 3\\nvalue = [2, 1]'),\n",
              " Text(0.1887328113978176, 0.25862068965517243, 'gini = 0.0\\nsamples = 2\\nvalue = [2, 0]'),\n",
              " Text(0.1898475123879856, 0.25862068965517243, 'gini = 0.0\\nsamples = 1\\nvalue = [0, 1]'),\n",
              " Text(0.1898475123879856, 0.3275862068965517, 'gini = 0.0\\nsamples = 9\\nvalue = [0, 9]'),\n",
              " Text(0.18929016189290163, 0.43103448275862066, 'gini = 0.0\\nsamples = 8\\nvalue = [0, 8]'),\n",
              " Text(0.1898475123879856, 0.46551724137931033, 'gini = 0.0\\nsamples = 1\\nvalue = [1, 0]'),\n",
              " Text(0.1915195638732376, 0.5, 'X[0] <= 46.5\\ngini = 0.48\\nsamples = 5\\nvalue = [3, 2]'),\n",
              " Text(0.1909622133781536, 0.46551724137931033, 'gini = 0.0\\nsamples = 2\\nvalue = [0, 2]'),\n",
              " Text(0.19207691436832158, 0.46551724137931033, 'gini = 0.0\\nsamples = 3\\nvalue = [3, 0]'),\n",
              " Text(0.18929016189290163, 0.5689655172413793, 'gini = 0.0\\nsamples = 2\\nvalue = [2, 0]'),\n",
              " Text(0.1898475123879856, 0.603448275862069, 'gini = 0.0\\nsamples = 3\\nvalue = [3, 0]'),\n",
              " Text(0.19542101733882555, 0.6724137931034483, 'X[2] <= 3.5\\ngini = 0.375\\nsamples = 20\\nvalue = [15, 5]'),\n",
              " Text(0.19486366684374157, 0.6379310344827587, 'X[1] <= 1226.5\\ngini = 0.278\\nsamples = 18\\nvalue = [15, 3]'),\n",
              " Text(0.19430631634865758, 0.603448275862069, 'X[18] <= 0.5\\ngini = 0.208\\nsamples = 17\\nvalue = [15, 2]'),\n",
              " Text(0.19374896585357357, 0.5689655172413793, 'X[0] <= 21.5\\ngini = 0.117\\nsamples = 16\\nvalue = [15, 1]'),\n",
              " Text(0.19319161535848958, 0.5344827586206896, 'X[2] <= 1.5\\ngini = 0.5\\nsamples = 2\\nvalue = [1, 1]'),\n",
              " Text(0.1926342648634056, 0.5, 'gini = 0.0\\nsamples = 1\\nvalue = [0, 1]'),\n",
              " Text(0.19374896585357357, 0.5, 'gini = 0.0\\nsamples = 1\\nvalue = [1, 0]'),\n",
              " Text(0.19430631634865758, 0.5344827586206896, 'gini = 0.0\\nsamples = 14\\nvalue = [14, 0]'),\n",
              " Text(0.19486366684374157, 0.5689655172413793, 'gini = 0.0\\nsamples = 1\\nvalue = [0, 1]'),\n",
              " Text(0.19542101733882555, 0.603448275862069, 'gini = 0.0\\nsamples = 1\\nvalue = [0, 1]'),\n",
              " Text(0.19597836783390954, 0.6379310344827587, 'gini = 0.0\\nsamples = 2\\nvalue = [0, 2]'),\n",
              " Text(0.19709306882407754, 0.7068965517241379, 'X[1] <= 684.0\\ngini = 0.219\\nsamples = 8\\nvalue = [1, 7]'),\n",
              " Text(0.19653571832899355, 0.6724137931034483, 'gini = 0.0\\nsamples = 6\\nvalue = [0, 6]'),\n",
              " Text(0.19765041931916152, 0.6724137931034483, 'X[6] <= 92.29\\ngini = 0.5\\nsamples = 2\\nvalue = [1, 1]'),\n",
              " Text(0.19709306882407754, 0.6379310344827587, 'gini = 0.0\\nsamples = 1\\nvalue = [1, 0]'),\n",
              " Text(0.19820776981424554, 0.6379310344827587, 'gini = 0.0\\nsamples = 1\\nvalue = [0, 1]'),\n",
              " Text(0.19987982129949752, 0.7413793103448276, 'X[1] <= 480.5\\ngini = 0.346\\nsamples = 27\\nvalue = [6, 21]'),\n",
              " Text(0.1993224708044135, 0.7068965517241379, 'gini = 0.0\\nsamples = 13\\nvalue = [0, 13]'),\n",
              " Text(0.2004371717945815, 0.7068965517241379, 'X[1] <= 684.5\\ngini = 0.49\\nsamples = 14\\nvalue = [6, 8]'),\n",
              " Text(0.19987982129949752, 0.6724137931034483, 'X[36] <= 0.5\\ngini = 0.444\\nsamples = 9\\nvalue = [6, 3]'),\n",
              " Text(0.1993224708044135, 0.6379310344827587, 'X[8] <= 0.767\\ngini = 0.245\\nsamples = 7\\nvalue = [6, 1]'),\n",
              " Text(0.19876512030932952, 0.603448275862069, 'X[34] <= 0.5\\ngini = 0.5\\nsamples = 2\\nvalue = [1, 1]'),\n",
              " Text(0.19820776981424554, 0.5689655172413793, 'gini = 0.0\\nsamples = 1\\nvalue = [0, 1]'),\n",
              " Text(0.1993224708044135, 0.5689655172413793, 'gini = 0.0\\nsamples = 1\\nvalue = [1, 0]'),\n",
              " Text(0.19987982129949752, 0.603448275862069, 'gini = 0.0\\nsamples = 5\\nvalue = [5, 0]'),\n",
              " Text(0.2004371717945815, 0.6379310344827587, 'gini = 0.0\\nsamples = 2\\nvalue = [0, 2]'),\n",
              " Text(0.2009945222896655, 0.6724137931034483, 'gini = 0.0\\nsamples = 5\\nvalue = [0, 5]'),\n",
              " Text(0.26124134174511665, 0.8103448275862069, 'X[4] <= 2.5\\ngini = 0.459\\nsamples = 843\\nvalue = [301, 542]'),\n",
              " Text(0.242580067426347, 0.7758620689655172, 'X[1] <= 346.5\\ngini = 0.454\\nsamples = 811\\nvalue = [282, 529]'),\n",
              " Text(0.2177912374051851, 0.7413793103448276, 'X[0] <= 34.5\\ngini = 0.484\\nsamples = 310\\nvalue = [127, 183]'),\n",
              " Text(0.20432120805719808, 0.7068965517241379, 'X[1] <= 343.5\\ngini = 0.439\\nsamples = 126\\nvalue = [41, 85]'),\n",
              " Text(0.2037638575621141, 0.6724137931034483, 'X[0] <= 21.5\\ngini = 0.423\\nsamples = 122\\nvalue = [37, 85]'),\n",
              " Text(0.201760879220406, 0.6379310344827587, 'X[1] <= 268.0\\ngini = 0.32\\nsamples = 5\\nvalue = [4, 1]'),\n",
              " Text(0.201203528725322, 0.603448275862069, 'gini = 0.0\\nsamples = 1\\nvalue = [0, 1]'),\n",
              " Text(0.20231822971549, 0.603448275862069, 'gini = 0.0\\nsamples = 4\\nvalue = [4, 0]'),\n",
              " Text(0.2057668359038222, 0.6379310344827587, 'X[16] <= 0.5\\ngini = 0.405\\nsamples = 117\\nvalue = [33, 84]'),\n",
              " Text(0.203432930705658, 0.603448275862069, 'X[1] <= 307.0\\ngini = 0.382\\nsamples = 109\\nvalue = [28, 81]'),\n",
              " Text(0.2004371717945815, 0.5689655172413793, 'X[1] <= 290.5\\ngini = 0.301\\nsamples = 76\\nvalue = [14, 62]'),\n",
              " Text(0.19987982129949752, 0.5344827586206896, 'X[8] <= 0.641\\ngini = 0.362\\nsamples = 59\\nvalue = [14, 45]'),\n",
              " Text(0.1993224708044135, 0.5, 'gini = 0.0\\nsamples = 1\\nvalue = [1, 0]'),\n",
              " Text(0.2004371717945815, 0.5, 'X[1] <= 288.5\\ngini = 0.348\\nsamples = 58\\nvalue = [13, 45]'),\n",
              " Text(0.19862578268555853, 0.46551724137931033, 'X[33] <= 0.5\\ngini = 0.32\\nsamples = 55\\nvalue = [11, 44]'),\n",
              " Text(0.19667505595276455, 0.43103448275862066, 'X[7] <= -40.55\\ngini = 0.286\\nsamples = 52\\nvalue = [9, 43]'),\n",
              " Text(0.19444565397242858, 0.39655172413793105, 'X[0] <= 29.5\\ngini = 0.444\\nsamples = 18\\nvalue = [6, 12]'),\n",
              " Text(0.19333095298226058, 0.3620689655172414, 'X[37] <= 0.5\\ngini = 0.49\\nsamples = 7\\nvalue = [4, 3]'),\n",
              " Text(0.1927736024871766, 0.3275862068965517, 'X[8] <= 1.265\\ngini = 0.32\\nsamples = 5\\nvalue = [4, 1]'),\n",
              " Text(0.19221625199209258, 0.29310344827586204, 'gini = 0.0\\nsamples = 4\\nvalue = [4, 0]'),\n",
              " Text(0.19333095298226058, 0.29310344827586204, 'gini = 0.0\\nsamples = 1\\nvalue = [0, 1]'),\n",
              " Text(0.19388830347734456, 0.3275862068965517, 'gini = 0.0\\nsamples = 2\\nvalue = [0, 2]'),\n",
              " Text(0.19556035496259655, 0.3620689655172414, 'X[4] <= 1.0\\ngini = 0.298\\nsamples = 11\\nvalue = [2, 9]'),\n",
              " Text(0.19500300446751256, 0.3275862068965517, 'X[26] <= 0.5\\ngini = 0.18\\nsamples = 10\\nvalue = [1, 9]'),\n",
              " Text(0.19444565397242858, 0.29310344827586204, 'gini = 0.0\\nsamples = 9\\nvalue = [0, 9]'),\n",
              " Text(0.19556035496259655, 0.29310344827586204, 'gini = 0.0\\nsamples = 1\\nvalue = [1, 0]'),\n",
              " Text(0.19611770545768056, 0.3275862068965517, 'gini = 0.0\\nsamples = 1\\nvalue = [1, 0]'),\n",
              " Text(0.19890445793310052, 0.39655172413793105, 'X[13] <= 0.5\\ngini = 0.161\\nsamples = 34\\nvalue = [3, 31]'),\n",
              " Text(0.19834710743801653, 0.3620689655172414, 'X[7] <= -28.5\\ngini = 0.114\\nsamples = 33\\nvalue = [2, 31]'),\n",
              " Text(0.19723240644784854, 0.3275862068965517, 'X[5] <= -2.95\\ngini = 0.062\\nsamples = 31\\nvalue = [1, 30]'),\n",
              " Text(0.19667505595276455, 0.29310344827586204, 'X[8] <= 0.707\\ngini = 0.278\\nsamples = 6\\nvalue = [1, 5]'),\n",
              " Text(0.19611770545768056, 0.25862068965517243, 'gini = 0.0\\nsamples = 1\\nvalue = [1, 0]'),\n",
              " Text(0.19723240644784854, 0.25862068965517243, 'gini = 0.0\\nsamples = 5\\nvalue = [0, 5]'),\n",
              " Text(0.19778975694293252, 0.29310344827586204, 'gini = 0.0\\nsamples = 25\\nvalue = [0, 25]'),\n",
              " Text(0.1994618084281845, 0.3275862068965517, 'X[2] <= 1.5\\ngini = 0.5\\nsamples = 2\\nvalue = [1, 1]'),\n",
              " Text(0.19890445793310052, 0.29310344827586204, 'gini = 0.0\\nsamples = 1\\nvalue = [0, 1]'),\n",
              " Text(0.20001915892326852, 0.29310344827586204, 'gini = 0.0\\nsamples = 1\\nvalue = [1, 0]'),\n",
              " Text(0.1994618084281845, 0.3620689655172414, 'gini = 0.0\\nsamples = 1\\nvalue = [1, 0]'),\n",
              " Text(0.2005765094183525, 0.43103448275862066, 'X[18] <= 0.5\\ngini = 0.444\\nsamples = 3\\nvalue = [2, 1]'),\n",
              " Text(0.20001915892326852, 0.39655172413793105, 'gini = 0.0\\nsamples = 1\\nvalue = [0, 1]'),\n",
              " Text(0.2011338599134365, 0.39655172413793105, 'gini = 0.0\\nsamples = 2\\nvalue = [2, 0]'),\n",
              " Text(0.2022485609036045, 0.46551724137931033, 'X[9] <= 5004.55\\ngini = 0.444\\nsamples = 3\\nvalue = [2, 1]'),\n",
              " Text(0.2016912104085205, 0.43103448275862066, 'gini = 0.0\\nsamples = 2\\nvalue = [2, 0]'),\n",
              " Text(0.20280591139868848, 0.43103448275862066, 'gini = 0.0\\nsamples = 1\\nvalue = [0, 1]'),\n",
              " Text(0.2009945222896655, 0.5344827586206896, 'gini = 0.0\\nsamples = 17\\nvalue = [0, 17]'),\n",
              " Text(0.20642868961673444, 0.5689655172413793, 'X[8] <= 1.056\\ngini = 0.489\\nsamples = 33\\nvalue = [14, 19]'),\n",
              " Text(0.20503531337902448, 0.5344827586206896, 'X[1] <= 316.5\\ngini = 0.499\\nsamples = 25\\nvalue = [13, 12]'),\n",
              " Text(0.20392061238885648, 0.5, 'X[19] <= 0.5\\ngini = 0.219\\nsamples = 8\\nvalue = [7, 1]'),\n",
              " Text(0.2033632618937725, 0.46551724137931033, 'gini = 0.0\\nsamples = 7\\nvalue = [7, 0]'),\n",
              " Text(0.20447796288394046, 0.46551724137931033, 'gini = 0.0\\nsamples = 1\\nvalue = [0, 1]'),\n",
              " Text(0.20615001436919245, 0.5, 'X[19] <= 0.5\\ngini = 0.457\\nsamples = 17\\nvalue = [6, 11]'),\n",
              " Text(0.20559266387410846, 0.46551724137931033, 'X[8] <= 0.952\\ngini = 0.391\\nsamples = 15\\nvalue = [4, 11]'),\n",
              " Text(0.20503531337902448, 0.43103448275862066, 'X[6] <= 92.45\\ngini = 0.26\\nsamples = 13\\nvalue = [2, 11]'),\n",
              " Text(0.20447796288394046, 0.39655172413793105, 'gini = 0.0\\nsamples = 1\\nvalue = [1, 0]'),\n",
              " Text(0.20559266387410846, 0.39655172413793105, 'X[0] <= 25.0\\ngini = 0.153\\nsamples = 12\\nvalue = [1, 11]'),\n",
              " Text(0.20503531337902448, 0.3620689655172414, 'gini = 0.0\\nsamples = 1\\nvalue = [1, 0]'),\n",
              " Text(0.20615001436919245, 0.3620689655172414, 'gini = 0.0\\nsamples = 11\\nvalue = [0, 11]'),\n",
              " Text(0.20615001436919245, 0.43103448275862066, 'gini = 0.0\\nsamples = 2\\nvalue = [2, 0]'),\n",
              " Text(0.20670736486427643, 0.46551724137931033, 'gini = 0.0\\nsamples = 2\\nvalue = [2, 0]'),\n",
              " Text(0.20782206585444443, 0.5344827586206896, 'X[1] <= 328.0\\ngini = 0.219\\nsamples = 8\\nvalue = [1, 7]'),\n",
              " Text(0.20726471535936045, 0.5, 'gini = 0.0\\nsamples = 5\\nvalue = [0, 5]'),\n",
              " Text(0.20837941634952842, 0.5, 'X[1] <= 334.0\\ngini = 0.444\\nsamples = 3\\nvalue = [1, 2]'),\n",
              " Text(0.20782206585444443, 0.46551724137931033, 'gini = 0.0\\nsamples = 1\\nvalue = [1, 0]'),\n",
              " Text(0.20893676684461243, 0.46551724137931033, 'gini = 0.0\\nsamples = 2\\nvalue = [0, 2]'),\n",
              " Text(0.20810074110198643, 0.603448275862069, 'X[1] <= 314.0\\ngini = 0.469\\nsamples = 8\\nvalue = [5, 3]'),\n",
              " Text(0.20754339060690244, 0.5689655172413793, 'gini = 0.0\\nsamples = 5\\nvalue = [5, 0]'),\n",
              " Text(0.20865809159707044, 0.5689655172413793, 'gini = 0.0\\nsamples = 3\\nvalue = [0, 3]'),\n",
              " Text(0.2048785585522821, 0.6724137931034483, 'gini = 0.0\\nsamples = 4\\nvalue = [4, 0]'),\n",
              " Text(0.2312612667531721, 0.7068965517241379, 'X[1] <= 338.5\\ngini = 0.498\\nsamples = 184\\nvalue = [86, 98]'),\n",
              " Text(0.22711161814524206, 0.6724137931034483, 'X[33] <= 0.5\\ngini = 0.5\\nsamples = 174\\nvalue = [85, 89]'),\n",
              " Text(0.22655426765015807, 0.6379310344827587, 'X[8] <= 0.904\\ngini = 0.5\\nsamples = 168\\nvalue = [85, 83]'),\n",
              " Text(0.21992702191954994, 0.603448275862069, 'X[1] <= 286.0\\ngini = 0.493\\nsamples = 104\\nvalue = [46, 58]'),\n",
              " Text(0.2139529213003684, 0.5689655172413793, 'X[8] <= 0.715\\ngini = 0.487\\nsamples = 43\\nvalue = [25, 18]'),\n",
              " Text(0.2117235193200324, 0.5344827586206896, 'X[37] <= 0.5\\ngini = 0.484\\nsamples = 17\\nvalue = [7, 10]'),\n",
              " Text(0.21060881832986442, 0.5, 'X[13] <= 0.5\\ngini = 0.198\\nsamples = 9\\nvalue = [1, 8]'),\n",
              " Text(0.2100514678347804, 0.46551724137931033, 'gini = 0.0\\nsamples = 8\\nvalue = [0, 8]'),\n",
              " Text(0.2111661688249484, 0.46551724137931033, 'gini = 0.0\\nsamples = 1\\nvalue = [1, 0]'),\n",
              " Text(0.2128382203102004, 0.5, 'X[8] <= 0.711\\ngini = 0.375\\nsamples = 8\\nvalue = [6, 2]'),\n",
              " Text(0.2122808698151164, 0.46551724137931033, 'X[1] <= 276.0\\ngini = 0.245\\nsamples = 7\\nvalue = [6, 1]'),\n",
              " Text(0.2117235193200324, 0.43103448275862066, 'gini = 0.0\\nsamples = 6\\nvalue = [6, 0]'),\n",
              " Text(0.2128382203102004, 0.43103448275862066, 'gini = 0.0\\nsamples = 1\\nvalue = [0, 1]'),\n",
              " Text(0.21339557080528437, 0.46551724137931033, 'gini = 0.0\\nsamples = 1\\nvalue = [0, 1]'),\n",
              " Text(0.21618232328070436, 0.5344827586206896, 'X[0] <= 49.0\\ngini = 0.426\\nsamples = 26\\nvalue = [18, 8]'),\n",
              " Text(0.21506762229053636, 0.5, 'X[8] <= 0.755\\ngini = 0.494\\nsamples = 9\\nvalue = [4, 5]'),\n",
              " Text(0.21451027179545237, 0.46551724137931033, 'X[8] <= 0.736\\ngini = 0.444\\nsamples = 6\\nvalue = [4, 2]'),\n",
              " Text(0.2139529213003684, 0.43103448275862066, 'X[21] <= 0.5\\ngini = 0.444\\nsamples = 3\\nvalue = [1, 2]'),\n",
              " Text(0.21339557080528437, 0.39655172413793105, 'gini = 0.0\\nsamples = 2\\nvalue = [0, 2]'),\n",
              " Text(0.21451027179545237, 0.39655172413793105, 'gini = 0.0\\nsamples = 1\\nvalue = [1, 0]'),\n",
              " Text(0.21506762229053636, 0.43103448275862066, 'gini = 0.0\\nsamples = 3\\nvalue = [3, 0]'),\n",
              " Text(0.21562497278562034, 0.46551724137931033, 'gini = 0.0\\nsamples = 3\\nvalue = [0, 3]'),\n",
              " Text(0.21729702427087233, 0.5, 'X[0] <= 70.5\\ngini = 0.291\\nsamples = 17\\nvalue = [14, 3]'),\n",
              " Text(0.21673967377578834, 0.46551724137931033, 'gini = 0.0\\nsamples = 12\\nvalue = [12, 0]'),\n",
              " Text(0.21785437476595634, 0.46551724137931033, 'X[6] <= 93.229\\ngini = 0.48\\nsamples = 5\\nvalue = [2, 3]'),\n",
              " Text(0.21729702427087233, 0.43103448275862066, 'gini = 0.0\\nsamples = 3\\nvalue = [0, 3]'),\n",
              " Text(0.21841172526104033, 0.43103448275862066, 'gini = 0.0\\nsamples = 2\\nvalue = [2, 0]'),\n",
              " Text(0.2259011225387315, 0.5689655172413793, 'X[1] <= 336.5\\ngini = 0.451\\nsamples = 61\\nvalue = [21, 40]'),\n",
              " Text(0.22363688615245278, 0.5344827586206896, 'X[2] <= 3.5\\ngini = 0.423\\nsamples = 56\\nvalue = [17, 39]'),\n",
              " Text(0.2218951658553153, 0.5, 'X[29] <= 0.5\\ngini = 0.385\\nsamples = 50\\nvalue = [13, 37]'),\n",
              " Text(0.22008377674629231, 0.46551724137931033, 'X[10] <= 0.5\\ngini = 0.337\\nsamples = 42\\nvalue = [9, 33]'),\n",
              " Text(0.21952642625120833, 0.43103448275862066, 'X[14] <= 0.5\\ngini = 0.314\\nsamples = 41\\nvalue = [8, 33]'),\n",
              " Text(0.21757569951841435, 0.39655172413793105, 'X[27] <= 0.5\\ngini = 0.231\\nsamples = 30\\nvalue = [4, 26]'),\n",
              " Text(0.21646099852824635, 0.3620689655172414, 'X[1] <= 295.0\\ngini = 0.153\\nsamples = 24\\nvalue = [2, 22]'),\n",
              " Text(0.21590364803316237, 0.3275862068965517, 'X[7] <= -38.65\\ngini = 0.408\\nsamples = 7\\nvalue = [2, 5]'),\n",
              " Text(0.21534629753807835, 0.29310344827586204, 'gini = 0.0\\nsamples = 1\\nvalue = [1, 0]'),\n",
              " Text(0.21646099852824635, 0.29310344827586204, 'X[1] <= 293.5\\ngini = 0.278\\nsamples = 6\\nvalue = [1, 5]'),\n",
              " Text(0.21590364803316237, 0.25862068965517243, 'gini = 0.0\\nsamples = 4\\nvalue = [0, 4]'),\n",
              " Text(0.21701834902333034, 0.25862068965517243, 'X[0] <= 50.0\\ngini = 0.5\\nsamples = 2\\nvalue = [1, 1]'),\n",
              " Text(0.21646099852824635, 0.22413793103448276, 'gini = 0.0\\nsamples = 1\\nvalue = [0, 1]'),\n",
              " Text(0.21757569951841435, 0.22413793103448276, 'gini = 0.0\\nsamples = 1\\nvalue = [1, 0]'),\n",
              " Text(0.21701834902333034, 0.3275862068965517, 'gini = 0.0\\nsamples = 17\\nvalue = [0, 17]'),\n",
              " Text(0.21869040050858232, 0.3620689655172414, 'X[1] <= 297.5\\ngini = 0.444\\nsamples = 6\\nvalue = [2, 4]'),\n",
              " Text(0.21813305001349834, 0.3275862068965517, 'gini = 0.0\\nsamples = 4\\nvalue = [0, 4]'),\n",
              " Text(0.2192477510036663, 0.3275862068965517, 'gini = 0.0\\nsamples = 2\\nvalue = [2, 0]'),\n",
              " Text(0.2214771529840023, 0.39655172413793105, 'X[6] <= 94.113\\ngini = 0.463\\nsamples = 11\\nvalue = [4, 7]'),\n",
              " Text(0.2209198024889183, 0.3620689655172414, 'X[1] <= 327.5\\ngini = 0.5\\nsamples = 8\\nvalue = [4, 4]'),\n",
              " Text(0.2203624519938343, 0.3275862068965517, 'X[34] <= 0.5\\ngini = 0.444\\nsamples = 6\\nvalue = [4, 2]'),\n",
              " Text(0.21980510149875032, 0.29310344827586204, 'X[4] <= 0.5\\ngini = 0.444\\nsamples = 3\\nvalue = [1, 2]'),\n",
              " Text(0.2192477510036663, 0.25862068965517243, 'gini = 0.0\\nsamples = 1\\nvalue = [1, 0]'),\n",
              " Text(0.2203624519938343, 0.25862068965517243, 'gini = 0.0\\nsamples = 2\\nvalue = [0, 2]'),\n",
              " Text(0.2209198024889183, 0.29310344827586204, 'gini = 0.0\\nsamples = 3\\nvalue = [3, 0]'),\n",
              " Text(0.2214771529840023, 0.3275862068965517, 'gini = 0.0\\nsamples = 2\\nvalue = [0, 2]'),\n",
              " Text(0.2220345034790863, 0.3620689655172414, 'gini = 0.0\\nsamples = 3\\nvalue = [0, 3]'),\n",
              " Text(0.2206411272413763, 0.43103448275862066, 'gini = 0.0\\nsamples = 1\\nvalue = [1, 0]'),\n",
              " Text(0.22370655496433828, 0.46551724137931033, 'X[8] <= 0.737\\ngini = 0.5\\nsamples = 8\\nvalue = [4, 4]'),\n",
              " Text(0.2231492044692543, 0.43103448275862066, 'X[7] <= -34.7\\ngini = 0.32\\nsamples = 5\\nvalue = [1, 4]'),\n",
              " Text(0.22259185397417028, 0.39655172413793105, 'gini = 0.0\\nsamples = 1\\nvalue = [1, 0]'),\n",
              " Text(0.22370655496433828, 0.39655172413793105, 'gini = 0.0\\nsamples = 4\\nvalue = [0, 4]'),\n",
              " Text(0.22426390545942226, 0.43103448275862066, 'gini = 0.0\\nsamples = 3\\nvalue = [3, 0]'),\n",
              " Text(0.22537860644959026, 0.5, 'X[24] <= 0.5\\ngini = 0.444\\nsamples = 6\\nvalue = [4, 2]'),\n",
              " Text(0.22482125595450628, 0.46551724137931033, 'gini = 0.0\\nsamples = 4\\nvalue = [4, 0]'),\n",
              " Text(0.22593595694467425, 0.46551724137931033, 'gini = 0.0\\nsamples = 2\\nvalue = [0, 2]'),\n",
              " Text(0.22816535892501022, 0.5344827586206896, 'X[8] <= 0.678\\ngini = 0.32\\nsamples = 5\\nvalue = [4, 1]'),\n",
              " Text(0.22760800842992623, 0.5, 'X[4] <= 1.0\\ngini = 0.5\\nsamples = 2\\nvalue = [1, 1]'),\n",
              " Text(0.22705065793484225, 0.46551724137931033, 'gini = 0.0\\nsamples = 1\\nvalue = [0, 1]'),\n",
              " Text(0.22816535892501022, 0.46551724137931033, 'gini = 0.0\\nsamples = 1\\nvalue = [1, 0]'),\n",
              " Text(0.22872270942009423, 0.5, 'gini = 0.0\\nsamples = 3\\nvalue = [3, 0]'),\n",
              " Text(0.23318151338076618, 0.603448275862069, 'X[36] <= 0.5\\ngini = 0.476\\nsamples = 64\\nvalue = [39, 25]'),\n",
              " Text(0.2320668123905982, 0.5689655172413793, 'X[25] <= 0.5\\ngini = 0.448\\nsamples = 56\\nvalue = [37, 19]'),\n",
              " Text(0.2315094618955142, 0.5344827586206896, 'X[15] <= 0.5\\ngini = 0.422\\nsamples = 53\\nvalue = [37, 16]'),\n",
              " Text(0.2309521114004302, 0.5, 'X[1] <= 269.5\\ngini = 0.398\\nsamples = 51\\nvalue = [37, 14]'),\n",
              " ...]"
            ]
          },
          "metadata": {},
          "execution_count": 48
        },
        {
          "output_type": "display_data",
          "data": {
            "text/plain": [
              "<Figure size 432x288 with 1 Axes>"
            ],
            "image/png": "[encoded data removed]"
          },
          "metadata": {
            "needs_background": "light"
          }
        }
      ]
    },
    {
      "cell_type": "code",
      "source": [
        "Y_pred = clf2.predict(X_testc)\n",
        "print(classification_report(Y_testc, Y_pred))"
      ],
      "metadata": {
        "colab": {
          "base_uri": "https://localhost:8080/"
        },
        "outputId": "d8269aa3-57ee-44a4-c33b-31af2b8e2e2b",
        "id": "lZ0QULgrkfWH"
      },
      "execution_count": null,
      "outputs": [
        {
          "output_type": "stream",
          "name": "stdout",
          "text": [
            "              precision    recall  f1-score   support\n",
            "\n",
            "           0       0.94      0.94      0.94     10940\n",
            "           1       0.53      0.52      0.52      1417\n",
            "\n",
            "    accuracy                           0.89     12357\n",
            "   macro avg       0.73      0.73      0.73     12357\n",
            "weighted avg       0.89      0.89      0.89     12357\n",
            "\n"
          ]
        }
      ]
    },
    {
      "cell_type": "code",
      "source": [
        "#Post Pruning\n",
        "clf = DecisionTreeClassifier()\n",
        "path = clf.cost_complexity_pruning_path(X_trainc, Y_trainc)\n",
        "ccp_alphas, impurities = path.ccp_alphas, path.impurities"
      ],
      "metadata": {
        "id": "ueOzyILblmyO"
      },
      "execution_count": null,
      "outputs": []
    },
    {
      "cell_type": "code",
      "source": [
        "fig, ax = plt.subplots()\n",
        "ax.plot(ccp_alphas[:-1], impurities[:-1], marker = \"o\", drawstyle = \"steps-post\")\n",
        "ax.set_xlabel(\"effective alpha\")\n",
        "ax.set_ylabel(\"total impurity of leaves\")\n",
        "ax.set_title(\"Total Impurity vs effective alpha for training set\")"
      ],
      "metadata": {
        "colab": {
          "base_uri": "https://localhost:8080/",
          "height": 312
        },
        "id": "q8rAy8Sqlx40",
        "outputId": "474889d3-927c-4a36-f141-5e5a111adcbd"
      },
      "execution_count": null,
      "outputs": [
        {
          "output_type": "execute_result",
          "data": {
            "text/plain": [
              "Text(0.5, 1.0, 'Total Impurity vs effective alpha for training set')"
            ]
          },
          "metadata": {},
          "execution_count": 39
        },
        {
          "output_type": "display_data",
          "data": {
            "text/plain": [
              "<Figure size 432x288 with 1 Axes>"
            ],
            "image/png": "[encoded data removed]"
          },
          "metadata": {
            "needs_background": "light"
          }
        }
      ]
    },
    {
      "cell_type": "code",
      "source": [
        "clfs = []\n",
        "for ccp_alpha in ccp_alphas:\n",
        "    clf = DecisionTreeClassifier(ccp_alpha = ccp_alpha)\n",
        "    clf.fit(X_trainc, Y_trainc)\n",
        "    clfs.append(clf)\n",
        "print(\n",
        "    \"Number of nodes in the last tree is: {} with ccp_alpha: {}\".format(\n",
        "        clfs[-1].tree_.node_count, ccp_alphas[-1]\n",
        "    )\n",
        ")"
      ],
      "metadata": {
        "colab": {
          "base_uri": "https://localhost:8080/"
        },
        "id": "ihM91oepl_A6",
        "outputId": "fe89b9c0-44e8-4f7d-9097-284f67fbd4d2"
      },
      "execution_count": null,
      "outputs": [
        {
          "output_type": "stream",
          "name": "stdout",
          "text": [
            "Number of nodes in the last tree is: 1 with ccp_alpha: 0.029695839650283717\n"
          ]
        }
      ]
    },
    {
      "cell_type": "code",
      "source": [
        "train_scores = [clf.score(X_trainc, Y_trainc) for clf in clfs]\n",
        "test_scores = [clf.score(X_testc, Y_testc) for clf in clfs]\n",
        "\n",
        "fig, ax = plt.subplots()\n",
        "ax.set_xlabel(\"alpha\")\n",
        "ax.set_ylabel(\"accuracy\")\n",
        "ax.set_title(\"Accuracy vs alpha for training and testing sets\")\n",
        "ax.plot(ccp_alphas, train_scores, marker = \"o\", label = \"train\", drawstyle = \"steps-post\")\n",
        "ax.plot(ccp_alphas, test_scores, marker = \"o\", label = \"test\", drawstyle = \"steps-post\")\n",
        "ax.legend()\n",
        "plt.show()"
      ],
      "metadata": {
        "colab": {
          "base_uri": "https://localhost:8080/",
          "height": 295
        },
        "id": "cqL_WBDJmGr4",
        "outputId": "48a62f32-6a6c-4c70-85b3-5c6a36ce4529"
      },
      "execution_count": null,
      "outputs": [
        {
          "output_type": "display_data",
          "data": {
            "text/plain": [
              "<Figure size 432x288 with 1 Axes>"
            ],
            "image/png": "[encoded data removed]"
          },
          "metadata": {
            "needs_background": "light"
          }
        }
      ]
    },
    {
      "cell_type": "code",
      "source": [
        "clf2_1 = DecisionTreeClassifier(criterion = 'gini', ccp_alpha = 0.0005) #Gini Index\n",
        "clf2_1.fit(X_trainc, Y_trainc)"
      ],
      "metadata": {
        "colab": {
          "base_uri": "https://localhost:8080/"
        },
        "id": "3thIjeZE2msa",
        "outputId": "3583adfa-609a-4e09-af4a-3a0f54475af2"
      },
      "execution_count": null,
      "outputs": [
        {
          "output_type": "execute_result",
          "data": {
            "text/plain": [
              "DecisionTreeClassifier(ccp_alpha=0.0005)"
            ]
          },
          "metadata": {},
          "execution_count": 42
        }
      ]
    },
    {
      "cell_type": "code",
      "source": [
        "Y_pred = clf2_1.predict(X_testc)\n",
        "print(classification_report(Y_testc, Y_pred))"
      ],
      "metadata": {
        "colab": {
          "base_uri": "https://localhost:8080/"
        },
        "id": "Fv6xlJjg2tLt",
        "outputId": "275e67ee-fef4-48b3-f0b5-c94e7ec04d85"
      },
      "execution_count": null,
      "outputs": [
        {
          "output_type": "stream",
          "name": "stdout",
          "text": [
            "              precision    recall  f1-score   support\n",
            "\n",
            "           0       0.95      0.95      0.95     10940\n",
            "           1       0.64      0.64      0.64      1417\n",
            "\n",
            "    accuracy                           0.92     12357\n",
            "   macro avg       0.80      0.79      0.80     12357\n",
            "weighted avg       0.92      0.92      0.92     12357\n",
            "\n"
          ]
        }
      ]
    },
    {
      "cell_type": "code",
      "source": [
        "# get importance\n",
        "importance = clf2.feature_importances_\n",
        "# summarize feature importance\n",
        "for i, v in enumerate(importance):\n",
        "\tprint('Feature: %0d, Score: %.5f' % (i, v))\n",
        "# plot feature importance\n",
        "plt.bar([x for x in range(len(importance))], importance)\n",
        "plt.show()"
      ],
      "metadata": {
        "colab": {
          "base_uri": "https://localhost:8080/",
          "height": 942
        },
        "id": "1YwX59lB9mDd",
        "outputId": "7cea1e11-9522-47e3-adbd-f00e4f84d6c4"
      },
      "execution_count": null,
      "outputs": [
        {
          "output_type": "stream",
          "name": "stdout",
          "text": [
            "Feature: 0, Score: 0.10252\n",
            "Feature: 1, Score: 0.35800\n",
            "Feature: 2, Score: 0.03246\n",
            "Feature: 3, Score: 0.02232\n",
            "Feature: 4, Score: 0.00983\n",
            "Feature: 5, Score: 0.00580\n",
            "Feature: 6, Score: 0.01509\n",
            "Feature: 7, Score: 0.03028\n",
            "Feature: 8, Score: 0.10232\n",
            "Feature: 9, Score: 0.15367\n",
            "Feature: 10, Score: 0.00745\n",
            "Feature: 11, Score: 0.00333\n",
            "Feature: 12, Score: 0.00260\n",
            "Feature: 13, Score: 0.00897\n",
            "Feature: 14, Score: 0.00391\n",
            "Feature: 15, Score: 0.00623\n",
            "Feature: 16, Score: 0.00628\n",
            "Feature: 17, Score: 0.00419\n",
            "Feature: 18, Score: 0.01349\n",
            "Feature: 19, Score: 0.00290\n",
            "Feature: 20, Score: 0.00164\n",
            "Feature: 21, Score: 0.00760\n",
            "Feature: 22, Score: 0.01233\n",
            "Feature: 23, Score: 0.00027\n",
            "Feature: 24, Score: 0.00577\n",
            "Feature: 25, Score: 0.00383\n",
            "Feature: 26, Score: 0.00801\n",
            "Feature: 27, Score: 0.00954\n",
            "Feature: 28, Score: 0.00033\n",
            "Feature: 29, Score: 0.00852\n",
            "Feature: 30, Score: 0.00642\n",
            "Feature: 31, Score: 0.00620\n",
            "Feature: 32, Score: 0.00000\n",
            "Feature: 33, Score: 0.00116\n",
            "Feature: 34, Score: 0.01763\n",
            "Feature: 35, Score: 0.00271\n",
            "Feature: 36, Score: 0.00732\n",
            "Feature: 37, Score: 0.00870\n",
            "Feature: 38, Score: 0.00041\n"
          ]
        },
        {
          "output_type": "display_data",
          "data": {
            "text/plain": [
              "<Figure size 432x288 with 1 Axes>"
            ],
            "image/png": "[encoded data removed]"
          },
          "metadata": {
            "needs_background": "light"
          }
        }
      ]
    },
    {
      "cell_type": "code",
      "source": [
        "#SHAP value - Variable Importance\n",
        "shap_values = shap.TreeExplainer(clf2).shap_values(X_trainc)\n",
        "shap.summary_plot(shap_values, X_trainc, plot_type = \"bar\")"
      ],
      "metadata": {
        "colab": {
          "base_uri": "https://localhost:8080/",
          "height": 581
        },
        "id": "8Gz5GUVK91QV",
        "outputId": "114e06a4-05b0-4cbe-e2a8-93313d47c214"
      },
      "execution_count": null,
      "outputs": [
        {
          "output_type": "display_data",
          "data": {
            "text/plain": [
              "<Figure size 576x684 with 1 Axes>"
            ],
            "image/png": "[encoded data removed]"
          },
          "metadata": {
            "needs_background": "light"
          }
        }
      ]
    },
    {
      "cell_type": "markdown",
      "source": [
        "## Random Forest"
      ],
      "metadata": {
        "id": "lD42DHhVkpa5"
      }
    },
    {
      "cell_type": "code",
      "source": [
        "from sklearn.ensemble import RandomForestClassifier"
      ],
      "metadata": {
        "id": "Ck2eWOtikpOS"
      },
      "execution_count": null,
      "outputs": []
    },
    {
      "cell_type": "code",
      "source": [
        "rf1 = RandomForestClassifier()\n",
        "rf1.fit(X_trainc, Y_trainc)"
      ],
      "metadata": {
        "colab": {
          "base_uri": "https://localhost:8080/"
        },
        "id": "3Ic_ODlIpqKK",
        "outputId": "1d47dde1-8da2-4d1c-a5dd-c691ae3ff6bc"
      },
      "execution_count": null,
      "outputs": [
        {
          "output_type": "execute_result",
          "data": {
            "text/plain": [
              "RandomForestClassifier()"
            ]
          },
          "metadata": {},
          "execution_count": 47
        }
      ]
    },
    {
      "cell_type": "code",
      "source": [
        "Y_pred = rf1.predict(X_testc)\n",
        "print(classification_report(Y_testc, Y_pred))"
      ],
      "metadata": {
        "colab": {
          "base_uri": "https://localhost:8080/"
        },
        "id": "bN31yBj_qPKw",
        "outputId": "15c06d45-c25e-4e80-e968-d179e631a29a"
      },
      "execution_count": null,
      "outputs": [
        {
          "output_type": "stream",
          "name": "stdout",
          "text": [
            "              precision    recall  f1-score   support\n",
            "\n",
            "           0       0.94      0.97      0.95     10940\n",
            "           1       0.67      0.49      0.57      1417\n",
            "\n",
            "    accuracy                           0.91     12357\n",
            "   macro avg       0.81      0.73      0.76     12357\n",
            "weighted avg       0.91      0.91      0.91     12357\n",
            "\n"
          ]
        }
      ]
    },
    {
      "cell_type": "code",
      "source": [
        "#Cross Validation\n",
        "rf1a = RandomForestClassifier()\n",
        "cv = StratifiedKFold(n_splits = 10, shuffle = True, random_state = 1)\n",
        "n_scores = cross_val_score(rf1a, X, Y, scoring = 'f1', cv = cv, n_jobs = -1, error_score = 'raise')"
      ],
      "metadata": {
        "id": "JyYZMr11-TJL"
      },
      "execution_count": null,
      "outputs": []
    },
    {
      "cell_type": "code",
      "source": [
        "n_scores"
      ],
      "metadata": {
        "colab": {
          "base_uri": "https://localhost:8080/"
        },
        "id": "ve_mo9oF-u2F",
        "outputId": "d3c41f8d-2db0-4458-a4b3-1b9621007d28"
      },
      "execution_count": null,
      "outputs": [
        {
          "output_type": "execute_result",
          "data": {
            "text/plain": [
              "array([0.60294118, 0.57462687, 0.53101737, 0.54233129, 0.56869773,\n",
              "       0.54700855, 0.53015075, 0.56      , 0.59020311, 0.54846336])"
            ]
          },
          "metadata": {},
          "execution_count": 50
        }
      ]
    },
    {
      "cell_type": "code",
      "source": [
        "print('F1-score: %.3f (%.3f)' % (np.mean(n_scores), np.std(n_scores)))"
      ],
      "metadata": {
        "colab": {
          "base_uri": "https://localhost:8080/"
        },
        "id": "H-JApKDk-v-9",
        "outputId": "31d40497-c1df-49c1-877f-4e40f0fda280"
      },
      "execution_count": null,
      "outputs": [
        {
          "output_type": "stream",
          "name": "stdout",
          "text": [
            "F1-score: 0.560 (0.023)\n"
          ]
        }
      ]
    }
  ]
}
